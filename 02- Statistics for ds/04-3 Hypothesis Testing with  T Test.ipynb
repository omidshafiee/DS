{
 "cells": [
  {
   "cell_type": "code",
   "execution_count": 1,
   "id": "861aedd0",
   "metadata": {},
   "outputs": [],
   "source": [
    "import numpy as np\n",
    "import pandas as pd\n",
    "\n",
    "import scipy.stats as stats\n",
    "from statsmodels.stats.proportion import proportions_ztest\n",
    "\n",
    "import matplotlib.pyplot as plt\n",
    "import seaborn as sns\n",
    "\n",
    "%matplotlib inline"
   ]
  },
  {
   "cell_type": "markdown",
   "id": "112738fc",
   "metadata": {},
   "source": [
    "### Data Decsription:\n",
    "**MPG stands for miles per gallon and is used to show how far your car can travel for every gallon (or 4.55 litres) of fuel it uses.**\n",
    "<br/>\n",
    "Origin Values:\n",
    "* 1: USA\n",
    "* 2: Europ\n",
    "* 3: Asia\n"
   ]
  },
  {
   "cell_type": "code",
   "execution_count": 2,
   "id": "5b97911e",
   "metadata": {},
   "outputs": [],
   "source": [
    "colnames = ['mpg', 'cylinders', 'displacement', 'horsepower', 'weight',\n",
    "            'acceleration', 'model year', 'origin', 'car name']"
   ]
  },
  {
   "cell_type": "code",
   "execution_count": 3,
   "id": "7a5633cd",
   "metadata": {},
   "outputs": [],
   "source": [
    "df = pd.read_csv('../../Datasets/auto_mpg/auto-mpg.data', names=colnames, delim_whitespace=True,\n",
    "                 skipinitialspace=True)"
   ]
  },
  {
   "cell_type": "code",
   "execution_count": 4,
   "id": "477d2e00",
   "metadata": {},
   "outputs": [
    {
     "data": {
      "text/html": [
       "<div>\n",
       "<style scoped>\n",
       "    .dataframe tbody tr th:only-of-type {\n",
       "        vertical-align: middle;\n",
       "    }\n",
       "\n",
       "    .dataframe tbody tr th {\n",
       "        vertical-align: top;\n",
       "    }\n",
       "\n",
       "    .dataframe thead th {\n",
       "        text-align: right;\n",
       "    }\n",
       "</style>\n",
       "<table border=\"1\" class=\"dataframe\">\n",
       "  <thead>\n",
       "    <tr style=\"text-align: right;\">\n",
       "      <th></th>\n",
       "      <th>mpg</th>\n",
       "      <th>cylinders</th>\n",
       "      <th>displacement</th>\n",
       "      <th>horsepower</th>\n",
       "      <th>weight</th>\n",
       "      <th>acceleration</th>\n",
       "      <th>model year</th>\n",
       "      <th>origin</th>\n",
       "      <th>car name</th>\n",
       "    </tr>\n",
       "  </thead>\n",
       "  <tbody>\n",
       "    <tr>\n",
       "      <th>0</th>\n",
       "      <td>18.0</td>\n",
       "      <td>8</td>\n",
       "      <td>307.0</td>\n",
       "      <td>130.0</td>\n",
       "      <td>3504.0</td>\n",
       "      <td>12.0</td>\n",
       "      <td>70</td>\n",
       "      <td>1</td>\n",
       "      <td>chevrolet chevelle malibu</td>\n",
       "    </tr>\n",
       "    <tr>\n",
       "      <th>1</th>\n",
       "      <td>15.0</td>\n",
       "      <td>8</td>\n",
       "      <td>350.0</td>\n",
       "      <td>165.0</td>\n",
       "      <td>3693.0</td>\n",
       "      <td>11.5</td>\n",
       "      <td>70</td>\n",
       "      <td>1</td>\n",
       "      <td>buick skylark 320</td>\n",
       "    </tr>\n",
       "    <tr>\n",
       "      <th>2</th>\n",
       "      <td>18.0</td>\n",
       "      <td>8</td>\n",
       "      <td>318.0</td>\n",
       "      <td>150.0</td>\n",
       "      <td>3436.0</td>\n",
       "      <td>11.0</td>\n",
       "      <td>70</td>\n",
       "      <td>1</td>\n",
       "      <td>plymouth satellite</td>\n",
       "    </tr>\n",
       "    <tr>\n",
       "      <th>3</th>\n",
       "      <td>16.0</td>\n",
       "      <td>8</td>\n",
       "      <td>304.0</td>\n",
       "      <td>150.0</td>\n",
       "      <td>3433.0</td>\n",
       "      <td>12.0</td>\n",
       "      <td>70</td>\n",
       "      <td>1</td>\n",
       "      <td>amc rebel sst</td>\n",
       "    </tr>\n",
       "    <tr>\n",
       "      <th>4</th>\n",
       "      <td>17.0</td>\n",
       "      <td>8</td>\n",
       "      <td>302.0</td>\n",
       "      <td>140.0</td>\n",
       "      <td>3449.0</td>\n",
       "      <td>10.5</td>\n",
       "      <td>70</td>\n",
       "      <td>1</td>\n",
       "      <td>ford torino</td>\n",
       "    </tr>\n",
       "  </tbody>\n",
       "</table>\n",
       "</div>"
      ],
      "text/plain": [
       "    mpg  cylinders  displacement horsepower  weight  acceleration  model year  \\\n",
       "0  18.0          8         307.0      130.0  3504.0          12.0          70   \n",
       "1  15.0          8         350.0      165.0  3693.0          11.5          70   \n",
       "2  18.0          8         318.0      150.0  3436.0          11.0          70   \n",
       "3  16.0          8         304.0      150.0  3433.0          12.0          70   \n",
       "4  17.0          8         302.0      140.0  3449.0          10.5          70   \n",
       "\n",
       "   origin                   car name  \n",
       "0       1  chevrolet chevelle malibu  \n",
       "1       1          buick skylark 320  \n",
       "2       1         plymouth satellite  \n",
       "3       1              amc rebel sst  \n",
       "4       1                ford torino  "
      ]
     },
     "execution_count": 4,
     "metadata": {},
     "output_type": "execute_result"
    }
   ],
   "source": [
    "df.head()"
   ]
  },
  {
   "cell_type": "code",
   "execution_count": 5,
   "id": "053c7e69",
   "metadata": {},
   "outputs": [
    {
     "data": {
      "text/plain": [
       "1    249\n",
       "3     79\n",
       "2     70\n",
       "Name: origin, dtype: int64"
      ]
     },
     "execution_count": 5,
     "metadata": {},
     "output_type": "execute_result"
    }
   ],
   "source": [
    "df['origin'].value_counts()"
   ]
  },
  {
   "cell_type": "code",
   "execution_count": 6,
   "id": "4b68c2fd",
   "metadata": {},
   "outputs": [
    {
     "name": "stdout",
     "output_type": "stream",
     "text": [
      "American cars mpg mean: 20.083534136546184\n",
      "European cars mpg mean: 27.89142857142857\n",
      "Asian    cars mpg mean: 30.450632911392404\n"
     ]
    }
   ],
   "source": [
    "print('American cars mpg mean:', df.query('origin == 1')['mpg'].mean())\n",
    "print('European cars mpg mean:', df.query('origin == 2')['mpg'].mean())\n",
    "print('Asian    cars mpg mean:', df.query('origin == 3')['mpg'].mean())"
   ]
  },
  {
   "cell_type": "markdown",
   "id": "2d9612a5",
   "metadata": {},
   "source": [
    "----------------------\n",
    "**Its possible to make HT test with probability distribution tests instead of coding. there is a flowchart to choose propriate test based on available data and conditions**"
   ]
  },
  {
   "cell_type": "markdown",
   "id": "4b57e70a",
   "metadata": {},
   "source": [
    "## T Distribution Test\n",
    "#### NOTE:\n",
    "* 1- T distribution test needs normal or semi normal data\n",
    "* 2- It is assumed that the experiments were performed under the same conditions for both groups.\n",
    "\n",
    "### 1) One Samlple t test - A One sample t-test tests the mean of a single group against a known mean.\n",
    "\n",
    "\n",
    "**While a sample and reference (total) mean is available**"
   ]
  },
  {
   "cell_type": "code",
   "execution_count": 7,
   "id": "5927e07f",
   "metadata": {},
   "outputs": [],
   "source": [
    "df_euro = df.query('origin == 2').copy()\n",
    "# or may use: df[df['origin'] == 2]"
   ]
  },
  {
   "cell_type": "code",
   "execution_count": 8,
   "id": "1f6d7c74",
   "metadata": {},
   "outputs": [
    {
     "data": {
      "text/plain": [
       "1    249\n",
       "3     79\n",
       "Name: origin, dtype: int64"
      ]
     },
     "execution_count": 8,
     "metadata": {},
     "output_type": "execute_result"
    }
   ],
   "source": [
    "df_others = df.query('origin==1 | origin==3').copy()\n",
    "df_others['origin'].value_counts()"
   ]
  },
  {
   "cell_type": "code",
   "execution_count": 9,
   "id": "224d6152",
   "metadata": {},
   "outputs": [
    {
     "data": {
      "text/html": [
       "<div>\n",
       "<style scoped>\n",
       "    .dataframe tbody tr th:only-of-type {\n",
       "        vertical-align: middle;\n",
       "    }\n",
       "\n",
       "    .dataframe tbody tr th {\n",
       "        vertical-align: top;\n",
       "    }\n",
       "\n",
       "    .dataframe thead th {\n",
       "        text-align: right;\n",
       "    }\n",
       "</style>\n",
       "<table border=\"1\" class=\"dataframe\">\n",
       "  <thead>\n",
       "    <tr style=\"text-align: right;\">\n",
       "      <th></th>\n",
       "      <th>mpg</th>\n",
       "      <th>cylinders</th>\n",
       "      <th>displacement</th>\n",
       "      <th>horsepower</th>\n",
       "      <th>weight</th>\n",
       "      <th>acceleration</th>\n",
       "      <th>model year</th>\n",
       "      <th>origin</th>\n",
       "      <th>car name</th>\n",
       "    </tr>\n",
       "  </thead>\n",
       "  <tbody>\n",
       "    <tr>\n",
       "      <th>19</th>\n",
       "      <td>26.0</td>\n",
       "      <td>4</td>\n",
       "      <td>97.0</td>\n",
       "      <td>46.00</td>\n",
       "      <td>1835.0</td>\n",
       "      <td>20.5</td>\n",
       "      <td>70</td>\n",
       "      <td>2</td>\n",
       "      <td>volkswagen 1131 deluxe sedan</td>\n",
       "    </tr>\n",
       "    <tr>\n",
       "      <th>20</th>\n",
       "      <td>25.0</td>\n",
       "      <td>4</td>\n",
       "      <td>110.0</td>\n",
       "      <td>87.00</td>\n",
       "      <td>2672.0</td>\n",
       "      <td>17.5</td>\n",
       "      <td>70</td>\n",
       "      <td>2</td>\n",
       "      <td>peugeot 504</td>\n",
       "    </tr>\n",
       "    <tr>\n",
       "      <th>21</th>\n",
       "      <td>24.0</td>\n",
       "      <td>4</td>\n",
       "      <td>107.0</td>\n",
       "      <td>90.00</td>\n",
       "      <td>2430.0</td>\n",
       "      <td>14.5</td>\n",
       "      <td>70</td>\n",
       "      <td>2</td>\n",
       "      <td>audi 100 ls</td>\n",
       "    </tr>\n",
       "    <tr>\n",
       "      <th>22</th>\n",
       "      <td>25.0</td>\n",
       "      <td>4</td>\n",
       "      <td>104.0</td>\n",
       "      <td>95.00</td>\n",
       "      <td>2375.0</td>\n",
       "      <td>17.5</td>\n",
       "      <td>70</td>\n",
       "      <td>2</td>\n",
       "      <td>saab 99e</td>\n",
       "    </tr>\n",
       "    <tr>\n",
       "      <th>23</th>\n",
       "      <td>26.0</td>\n",
       "      <td>4</td>\n",
       "      <td>121.0</td>\n",
       "      <td>113.0</td>\n",
       "      <td>2234.0</td>\n",
       "      <td>12.5</td>\n",
       "      <td>70</td>\n",
       "      <td>2</td>\n",
       "      <td>bmw 2002</td>\n",
       "    </tr>\n",
       "  </tbody>\n",
       "</table>\n",
       "</div>"
      ],
      "text/plain": [
       "     mpg  cylinders  displacement horsepower  weight  acceleration  \\\n",
       "19  26.0          4          97.0      46.00  1835.0          20.5   \n",
       "20  25.0          4         110.0      87.00  2672.0          17.5   \n",
       "21  24.0          4         107.0      90.00  2430.0          14.5   \n",
       "22  25.0          4         104.0      95.00  2375.0          17.5   \n",
       "23  26.0          4         121.0      113.0  2234.0          12.5   \n",
       "\n",
       "    model year  origin                      car name  \n",
       "19          70       2  volkswagen 1131 deluxe sedan  \n",
       "20          70       2                   peugeot 504  \n",
       "21          70       2                   audi 100 ls  \n",
       "22          70       2                      saab 99e  \n",
       "23          70       2                      bmw 2002  "
      ]
     },
     "execution_count": 9,
     "metadata": {},
     "output_type": "execute_result"
    }
   ],
   "source": [
    "df_euro.head()"
   ]
  },
  {
   "cell_type": "code",
   "execution_count": 10,
   "id": "18cd0b16",
   "metadata": {},
   "outputs": [
    {
     "name": "stdout",
     "output_type": "stream",
     "text": [
      "population mpg mean: 22.58\n",
      "European cars mpg mean: 27.89\n",
      "mean diffrentiation: -5.31\n"
     ]
    }
   ],
   "source": [
    "population_mean=df_others['mpg'].mean()\n",
    "euro_mpg_mean = df_euro['mpg'].mean()\n",
    "\n",
    "print(f'population mpg mean: {population_mean:.2f}')\n",
    "print(f'European cars mpg mean: {euro_mpg_mean:.2f}')\n",
    "print(f'mean diffrentiation: {population_mean - euro_mpg_mean:.2f}')\n"
   ]
  },
  {
   "cell_type": "code",
   "execution_count": 11,
   "id": "9416dc7d",
   "metadata": {},
   "outputs": [
    {
     "name": "stdout",
     "output_type": "stream",
     "text": [
      "pvalue: 0.0000000068\n",
      "mean diff is 0.00 % based on chance. or 100.00 % is significant.\n"
     ]
    }
   ],
   "source": [
    "# df =  degree of reedom \n",
    "t_satistic, pvalue = stats.ttest_1samp(a=df_euro['mpg'], popmean=population_mean)\n",
    "print(f'pvalue: {pvalue:.10f}')\n",
    "print(f'mean diff is {pvalue * 100:.2f} % based on chance. or {(1 - pvalue) * 100:.2f} % is significant.')"
   ]
  },
  {
   "cell_type": "markdown",
   "id": "bc9102cf",
   "metadata": {},
   "source": [
    "------------------\n",
    "### 2) Two Samlples (Independent) T test - An Independent Samples t-test compares the means for two groups."
   ]
  },
  {
   "cell_type": "code",
   "execution_count": 12,
   "id": "1b6223fe",
   "metadata": {},
   "outputs": [],
   "source": [
    "df_asia = df.query('origin == 3').copy()"
   ]
  },
  {
   "cell_type": "code",
   "execution_count": 13,
   "id": "1e11de5a",
   "metadata": {},
   "outputs": [
    {
     "name": "stdout",
     "output_type": "stream",
     "text": [
      "Asian mpg mean: 30.45\n",
      "European cars mpg mean: 27.89\n",
      "mean diffrentiation: 2.56\n"
     ]
    }
   ],
   "source": [
    "asia_mpg_mean = df_asia['mpg'].mean()\n",
    "\n",
    "print(f'Asian mpg mean: {asia_mpg_mean:.2f}')\n",
    "print(f'European cars mpg mean: {euro_mpg_mean:.2f}')\n",
    "print(f'mean diffrentiation: {asia_mpg_mean - euro_mpg_mean:.2f}')"
   ]
  },
  {
   "cell_type": "code",
   "execution_count": 14,
   "id": "f4cc4096",
   "metadata": {},
   "outputs": [
    {
     "name": "stdout",
     "output_type": "stream",
     "text": [
      "pvalue: 0.015968231401682974\n",
      "mean diff is 1.60 % based on chance. or 98.40 % is significant.\n"
     ]
    }
   ],
   "source": [
    "t_satistic, pvalue = stats.ttest_ind(a=df_euro['mpg'], b=df_asia['mpg'])\n",
    "print(f'pvalue: {pvalue}')\n",
    "print(f'mean diff is {pvalue * 100:.2f} % based on chance. or {(1 - pvalue) * 100:.2f} % is significant.')"
   ]
  },
  {
   "cell_type": "markdown",
   "id": "a494be5c",
   "metadata": {},
   "source": [
    "------------------\n",
    "### 3) Releative T test\n",
    "#### A Paired sample t-test compares means from the same group at different times (say, one year apart)."
   ]
  },
  {
   "cell_type": "code",
   "execution_count": 15,
   "id": "c9ee6dcd",
   "metadata": {},
   "outputs": [],
   "source": [
    "df_usa = df.query('origin == 1').copy()"
   ]
  },
  {
   "cell_type": "code",
   "execution_count": 16,
   "id": "557622ac",
   "metadata": {},
   "outputs": [
    {
     "data": {
      "text/plain": [
       "71    5\n",
       "73    5\n",
       "75    5\n",
       "76    5\n",
       "70    4\n",
       "72    4\n",
       "74    4\n",
       "78    4\n",
       "82    4\n",
       "77    3\n",
       "79    3\n",
       "81    3\n",
       "80    2\n",
       "Name: model year, dtype: int64"
      ]
     },
     "execution_count": 16,
     "metadata": {},
     "output_type": "execute_result"
    }
   ],
   "source": [
    "# check ford company model years\n",
    "df_usa[(df_usa['car name'].str.contains(\"ford\", na=False))]['model year'].value_counts()"
   ]
  },
  {
   "cell_type": "markdown",
   "id": "7f4e0def",
   "metadata": {},
   "source": [
    "**Now divide ford models to 70th and 80th decade**\n",
    "<br/>\n",
    "**To make a semi-balanced data set, only select model years between 70-71 and 80-82**"
   ]
  },
  {
   "cell_type": "code",
   "execution_count": 17,
   "id": "f302ff53",
   "metadata": {},
   "outputs": [
    {
     "data": {
      "text/html": [
       "<div>\n",
       "<style scoped>\n",
       "    .dataframe tbody tr th:only-of-type {\n",
       "        vertical-align: middle;\n",
       "    }\n",
       "\n",
       "    .dataframe tbody tr th {\n",
       "        vertical-align: top;\n",
       "    }\n",
       "\n",
       "    .dataframe thead th {\n",
       "        text-align: right;\n",
       "    }\n",
       "</style>\n",
       "<table border=\"1\" class=\"dataframe\">\n",
       "  <thead>\n",
       "    <tr style=\"text-align: right;\">\n",
       "      <th></th>\n",
       "      <th>mpg</th>\n",
       "      <th>car name</th>\n",
       "    </tr>\n",
       "  </thead>\n",
       "  <tbody>\n",
       "    <tr>\n",
       "      <th>4</th>\n",
       "      <td>17.0</td>\n",
       "      <td>ford torino</td>\n",
       "    </tr>\n",
       "    <tr>\n",
       "      <th>5</th>\n",
       "      <td>15.0</td>\n",
       "      <td>ford galaxie 500</td>\n",
       "    </tr>\n",
       "    <tr>\n",
       "      <th>17</th>\n",
       "      <td>21.0</td>\n",
       "      <td>ford maverick</td>\n",
       "    </tr>\n",
       "    <tr>\n",
       "      <th>25</th>\n",
       "      <td>10.0</td>\n",
       "      <td>ford f250</td>\n",
       "    </tr>\n",
       "    <tr>\n",
       "      <th>32</th>\n",
       "      <td>25.0</td>\n",
       "      <td>ford pinto</td>\n",
       "    </tr>\n",
       "  </tbody>\n",
       "</table>\n",
       "</div>"
      ],
      "text/plain": [
       "     mpg          car name\n",
       "4   17.0       ford torino\n",
       "5   15.0  ford galaxie 500\n",
       "17  21.0     ford maverick\n",
       "25  10.0         ford f250\n",
       "32  25.0        ford pinto"
      ]
     },
     "execution_count": 17,
     "metadata": {},
     "output_type": "execute_result"
    }
   ],
   "source": [
    "ford_70th = df_usa[(df_usa['car name'].str.contains(\"ford\", na=False))\n",
    "                   & (df_usa['model year'] >= 70 ) & (df_usa['model year'] < 72 )][['mpg', 'car name']]\n",
    "ford_70th.head()"
   ]
  },
  {
   "cell_type": "code",
   "execution_count": 18,
   "id": "e00ebb55",
   "metadata": {},
   "outputs": [
    {
     "data": {
      "text/plain": [
       "9"
      ]
     },
     "execution_count": 18,
     "metadata": {},
     "output_type": "execute_result"
    }
   ],
   "source": [
    "len(ford_70th)"
   ]
  },
  {
   "cell_type": "code",
   "execution_count": 19,
   "id": "57977a41",
   "metadata": {},
   "outputs": [
    {
     "data": {
      "text/html": [
       "<div>\n",
       "<style scoped>\n",
       "    .dataframe tbody tr th:only-of-type {\n",
       "        vertical-align: middle;\n",
       "    }\n",
       "\n",
       "    .dataframe tbody tr th {\n",
       "        vertical-align: top;\n",
       "    }\n",
       "\n",
       "    .dataframe thead th {\n",
       "        text-align: right;\n",
       "    }\n",
       "</style>\n",
       "<table border=\"1\" class=\"dataframe\">\n",
       "  <thead>\n",
       "    <tr style=\"text-align: right;\">\n",
       "      <th></th>\n",
       "      <th>mpg</th>\n",
       "      <th>car name</th>\n",
       "    </tr>\n",
       "  </thead>\n",
       "  <tbody>\n",
       "    <tr>\n",
       "      <th>314</th>\n",
       "      <td>26.4</td>\n",
       "      <td>ford fairmont</td>\n",
       "    </tr>\n",
       "    <tr>\n",
       "      <th>336</th>\n",
       "      <td>23.6</td>\n",
       "      <td>ford mustang cobra</td>\n",
       "    </tr>\n",
       "    <tr>\n",
       "      <th>351</th>\n",
       "      <td>34.4</td>\n",
       "      <td>ford escort 4w</td>\n",
       "    </tr>\n",
       "    <tr>\n",
       "      <th>352</th>\n",
       "      <td>29.9</td>\n",
       "      <td>ford escort 2h</td>\n",
       "    </tr>\n",
       "    <tr>\n",
       "      <th>365</th>\n",
       "      <td>20.2</td>\n",
       "      <td>ford granada gl</td>\n",
       "    </tr>\n",
       "  </tbody>\n",
       "</table>\n",
       "</div>"
      ],
      "text/plain": [
       "      mpg            car name\n",
       "314  26.4       ford fairmont\n",
       "336  23.6  ford mustang cobra\n",
       "351  34.4      ford escort 4w\n",
       "352  29.9      ford escort 2h\n",
       "365  20.2     ford granada gl"
      ]
     },
     "execution_count": 19,
     "metadata": {},
     "output_type": "execute_result"
    }
   ],
   "source": [
    "ford_80th = df_usa[(df_usa['car name'].str.contains(\"ford\", na=False)) & (df_usa['model year'] >= 80 )][['mpg', 'car name']]\n",
    "ford_80th.head()"
   ]
  },
  {
   "cell_type": "code",
   "execution_count": 20,
   "id": "1b40cb88",
   "metadata": {},
   "outputs": [
    {
     "data": {
      "text/plain": [
       "9"
      ]
     },
     "execution_count": 20,
     "metadata": {},
     "output_type": "execute_result"
    }
   ],
   "source": [
    "len(ford_80th)"
   ]
  },
  {
   "cell_type": "code",
   "execution_count": 21,
   "id": "8e3a16fd",
   "metadata": {},
   "outputs": [
    {
     "name": "stdout",
     "output_type": "stream",
     "text": [
      "ford 70th mpg mean: 16.89\n",
      "ford 80th mpg mean: 26.17\n",
      "mean diffrentiation: 9.28\n"
     ]
    }
   ],
   "source": [
    "ford_70th_mean = ford_70th['mpg'].mean()\n",
    "ford_80th_mean = ford_80th['mpg'].mean()\n",
    "\n",
    "print(f'ford 70th mpg mean: {ford_70th_mean:.2f}')\n",
    "print(f'ford 80th mpg mean: {ford_80th_mean:.2f}')\n",
    "print(f'mean diffrentiation: {ford_80th_mean - ford_70th_mean:.2f}')"
   ]
  },
  {
   "cell_type": "code",
   "execution_count": 22,
   "id": "e0365741",
   "metadata": {},
   "outputs": [
    {
     "name": "stdout",
     "output_type": "stream",
     "text": [
      "pvalue: 0.0035055160785659035\n",
      "mean diff is 0.35 % based on chance. or 99.65 % is significant.\n"
     ]
    }
   ],
   "source": [
    "t_satistic, pvalue = stats.ttest_rel(a=ford_70th['mpg'], b=ford_80th['mpg'])\n",
    "print(f'pvalue: {pvalue}')\n",
    "print(f'mean diff is {pvalue * 100:.2f} % based on chance. or {(1 - pvalue) * 100:.2f} % is significant.')"
   ]
  }
 ],
 "metadata": {
  "kernelspec": {
   "display_name": "Python 3 (ipykernel)",
   "language": "python",
   "name": "python3"
  },
  "language_info": {
   "codemirror_mode": {
    "name": "ipython",
    "version": 3
   },
   "file_extension": ".py",
   "mimetype": "text/x-python",
   "name": "python",
   "nbconvert_exporter": "python",
   "pygments_lexer": "ipython3",
   "version": "3.10.9"
  }
 },
 "nbformat": 4,
 "nbformat_minor": 5
}
