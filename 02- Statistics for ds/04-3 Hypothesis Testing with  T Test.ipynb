{
 "cells": [
  {
   "cell_type": "code",
   "execution_count": 1,
   "id": "df49a17b",
   "metadata": {},
   "outputs": [],
   "source": [
    "import numpy as np\n",
    "import pandas as pd\n",
    "\n",
    "import scipy.stats as stats\n",
    "from statsmodels.stats.proportion import proportions_ztest\n",
    "\n",
    "import matplotlib.pyplot as plt\n",
    "import seaborn as sns\n",
    "\n",
    "%matplotlib inline"
   ]
  },
  {
   "cell_type": "markdown",
   "id": "14f621de",
   "metadata": {},
   "source": [
    "### Data Decsription:\n",
    "**MPG stands for miles per gallon and is used to show how far your car can travel for every gallon (or 4.55 litres) of fuel it uses.**\n",
    "<br/>\n",
    "Origin Values:\n",
    "* 1: USA\n",
    "* 2: Europ\n",
    "* 3: Asia\n"
   ]
  },
  {
   "cell_type": "code",
   "execution_count": 2,
   "id": "f95ad669",
   "metadata": {},
   "outputs": [],
   "source": [
    "colnames = ['mpg', 'cylinders', 'displacement', 'horsepower', 'weight',\n",
    "            'acceleration', 'model year', 'origin', 'car name']"
   ]
  },
  {
   "cell_type": "code",
   "execution_count": 3,
   "id": "f27ddf47",
   "metadata": {},
   "outputs": [],
   "source": [
    "df = pd.read_csv('../../Datasets/auto_mpg/auto-mpg.data', names=colnames, delim_whitespace=True,\n",
    "                 skipinitialspace=True)"
   ]
  },
  {
   "cell_type": "code",
   "execution_count": 7,
   "id": "a3131715",
   "metadata": {},
   "outputs": [
    {
     "data": {
      "text/html": [
       "<div>\n",
       "<style scoped>\n",
       "    .dataframe tbody tr th:only-of-type {\n",
       "        vertical-align: middle;\n",
       "    }\n",
       "\n",
       "    .dataframe tbody tr th {\n",
       "        vertical-align: top;\n",
       "    }\n",
       "\n",
       "    .dataframe thead th {\n",
       "        text-align: right;\n",
       "    }\n",
       "</style>\n",
       "<table border=\"1\" class=\"dataframe\">\n",
       "  <thead>\n",
       "    <tr style=\"text-align: right;\">\n",
       "      <th></th>\n",
       "      <th>mpg</th>\n",
       "      <th>cylinders</th>\n",
       "      <th>displacement</th>\n",
       "      <th>horsepower</th>\n",
       "      <th>weight</th>\n",
       "      <th>acceleration</th>\n",
       "      <th>model year</th>\n",
       "      <th>origin</th>\n",
       "      <th>car name</th>\n",
       "    </tr>\n",
       "  </thead>\n",
       "  <tbody>\n",
       "    <tr>\n",
       "      <th>0</th>\n",
       "      <td>18.0</td>\n",
       "      <td>8</td>\n",
       "      <td>307.0</td>\n",
       "      <td>130.0</td>\n",
       "      <td>3504.0</td>\n",
       "      <td>12.0</td>\n",
       "      <td>70</td>\n",
       "      <td>1</td>\n",
       "      <td>chevrolet chevelle malibu</td>\n",
       "    </tr>\n",
       "    <tr>\n",
       "      <th>1</th>\n",
       "      <td>15.0</td>\n",
       "      <td>8</td>\n",
       "      <td>350.0</td>\n",
       "      <td>165.0</td>\n",
       "      <td>3693.0</td>\n",
       "      <td>11.5</td>\n",
       "      <td>70</td>\n",
       "      <td>1</td>\n",
       "      <td>buick skylark 320</td>\n",
       "    </tr>\n",
       "    <tr>\n",
       "      <th>2</th>\n",
       "      <td>18.0</td>\n",
       "      <td>8</td>\n",
       "      <td>318.0</td>\n",
       "      <td>150.0</td>\n",
       "      <td>3436.0</td>\n",
       "      <td>11.0</td>\n",
       "      <td>70</td>\n",
       "      <td>1</td>\n",
       "      <td>plymouth satellite</td>\n",
       "    </tr>\n",
       "    <tr>\n",
       "      <th>3</th>\n",
       "      <td>16.0</td>\n",
       "      <td>8</td>\n",
       "      <td>304.0</td>\n",
       "      <td>150.0</td>\n",
       "      <td>3433.0</td>\n",
       "      <td>12.0</td>\n",
       "      <td>70</td>\n",
       "      <td>1</td>\n",
       "      <td>amc rebel sst</td>\n",
       "    </tr>\n",
       "    <tr>\n",
       "      <th>4</th>\n",
       "      <td>17.0</td>\n",
       "      <td>8</td>\n",
       "      <td>302.0</td>\n",
       "      <td>140.0</td>\n",
       "      <td>3449.0</td>\n",
       "      <td>10.5</td>\n",
       "      <td>70</td>\n",
       "      <td>1</td>\n",
       "      <td>ford torino</td>\n",
       "    </tr>\n",
       "  </tbody>\n",
       "</table>\n",
       "</div>"
      ],
      "text/plain": [
       "    mpg  cylinders  displacement horsepower  weight  acceleration  model year  \\\n",
       "0  18.0          8         307.0      130.0  3504.0          12.0          70   \n",
       "1  15.0          8         350.0      165.0  3693.0          11.5          70   \n",
       "2  18.0          8         318.0      150.0  3436.0          11.0          70   \n",
       "3  16.0          8         304.0      150.0  3433.0          12.0          70   \n",
       "4  17.0          8         302.0      140.0  3449.0          10.5          70   \n",
       "\n",
       "   origin                   car name  \n",
       "0       1  chevrolet chevelle malibu  \n",
       "1       1          buick skylark 320  \n",
       "2       1         plymouth satellite  \n",
       "3       1              amc rebel sst  \n",
       "4       1                ford torino  "
      ]
     },
     "execution_count": 7,
     "metadata": {},
     "output_type": "execute_result"
    }
   ],
   "source": [
    "df.head()"
   ]
  },
  {
   "cell_type": "code",
   "execution_count": 8,
   "id": "2ca8cecc",
   "metadata": {},
   "outputs": [
    {
     "data": {
      "text/plain": [
       "1    249\n",
       "3     79\n",
       "2     70\n",
       "Name: origin, dtype: int64"
      ]
     },
     "execution_count": 8,
     "metadata": {},
     "output_type": "execute_result"
    }
   ],
   "source": [
    "df['origin'].value_counts()"
   ]
  },
  {
   "cell_type": "code",
   "execution_count": 9,
   "id": "8d572c4e",
   "metadata": {},
   "outputs": [
    {
     "name": "stdout",
     "output_type": "stream",
     "text": [
      "American cars mpg mean: 20.083534136546184\n",
      "European cars mpg mean: 27.89142857142857\n",
      "Asian    cars mpg mean: 30.450632911392404\n"
     ]
    }
   ],
   "source": [
    "print('American cars mpg mean:', df.query('origin == 1')['mpg'].mean())\n",
    "print('European cars mpg mean:', df.query('origin == 2')['mpg'].mean())\n",
    "print('Asian    cars mpg mean:', df.query('origin == 3')['mpg'].mean())"
   ]
  },
  {
   "cell_type": "markdown",
   "id": "96a30c11",
   "metadata": {},
   "source": [
    "----------------------\n",
    "**Its possible to make HT test with probability distribution tests instead of coding. there is a flowchart to choose propriate test based on available data and conditions**"
   ]
  },
  {
   "cell_type": "markdown",
   "id": "22d6d2ef",
   "metadata": {},
   "source": [
    "## T Distribution Test\n",
    "\n",
    "### 1) One Samlple t test - A One sample t-test tests the mean of a single group against a known mean.\n",
    "\n",
    "\n",
    "**While a sample and reference (total) mean is available**"
   ]
  },
  {
   "cell_type": "code",
   "execution_count": 97,
   "id": "58db00b9",
   "metadata": {},
   "outputs": [],
   "source": [
    "df_euro = df.query('origin == 2').copy()"
   ]
  },
  {
   "cell_type": "code",
   "execution_count": 98,
   "id": "e0a57573",
   "metadata": {},
   "outputs": [
    {
     "data": {
      "text/plain": [
       "1    249\n",
       "3     79\n",
       "Name: origin, dtype: int64"
      ]
     },
     "execution_count": 98,
     "metadata": {},
     "output_type": "execute_result"
    }
   ],
   "source": [
    "df_others = df.query('origin==1 | origin==3').copy()\n",
    "df_others['origin'].value_counts()"
   ]
  },
  {
   "cell_type": "code",
   "execution_count": 99,
   "id": "f4c0407c",
   "metadata": {},
   "outputs": [
    {
     "data": {
      "text/html": [
       "<div>\n",
       "<style scoped>\n",
       "    .dataframe tbody tr th:only-of-type {\n",
       "        vertical-align: middle;\n",
       "    }\n",
       "\n",
       "    .dataframe tbody tr th {\n",
       "        vertical-align: top;\n",
       "    }\n",
       "\n",
       "    .dataframe thead th {\n",
       "        text-align: right;\n",
       "    }\n",
       "</style>\n",
       "<table border=\"1\" class=\"dataframe\">\n",
       "  <thead>\n",
       "    <tr style=\"text-align: right;\">\n",
       "      <th></th>\n",
       "      <th>mpg</th>\n",
       "      <th>cylinders</th>\n",
       "      <th>displacement</th>\n",
       "      <th>horsepower</th>\n",
       "      <th>weight</th>\n",
       "      <th>acceleration</th>\n",
       "      <th>model year</th>\n",
       "      <th>origin</th>\n",
       "      <th>car name</th>\n",
       "    </tr>\n",
       "  </thead>\n",
       "  <tbody>\n",
       "    <tr>\n",
       "      <th>19</th>\n",
       "      <td>26.0</td>\n",
       "      <td>4</td>\n",
       "      <td>97.0</td>\n",
       "      <td>46.00</td>\n",
       "      <td>1835.0</td>\n",
       "      <td>20.5</td>\n",
       "      <td>70</td>\n",
       "      <td>2</td>\n",
       "      <td>volkswagen 1131 deluxe sedan</td>\n",
       "    </tr>\n",
       "    <tr>\n",
       "      <th>20</th>\n",
       "      <td>25.0</td>\n",
       "      <td>4</td>\n",
       "      <td>110.0</td>\n",
       "      <td>87.00</td>\n",
       "      <td>2672.0</td>\n",
       "      <td>17.5</td>\n",
       "      <td>70</td>\n",
       "      <td>2</td>\n",
       "      <td>peugeot 504</td>\n",
       "    </tr>\n",
       "    <tr>\n",
       "      <th>21</th>\n",
       "      <td>24.0</td>\n",
       "      <td>4</td>\n",
       "      <td>107.0</td>\n",
       "      <td>90.00</td>\n",
       "      <td>2430.0</td>\n",
       "      <td>14.5</td>\n",
       "      <td>70</td>\n",
       "      <td>2</td>\n",
       "      <td>audi 100 ls</td>\n",
       "    </tr>\n",
       "    <tr>\n",
       "      <th>22</th>\n",
       "      <td>25.0</td>\n",
       "      <td>4</td>\n",
       "      <td>104.0</td>\n",
       "      <td>95.00</td>\n",
       "      <td>2375.0</td>\n",
       "      <td>17.5</td>\n",
       "      <td>70</td>\n",
       "      <td>2</td>\n",
       "      <td>saab 99e</td>\n",
       "    </tr>\n",
       "    <tr>\n",
       "      <th>23</th>\n",
       "      <td>26.0</td>\n",
       "      <td>4</td>\n",
       "      <td>121.0</td>\n",
       "      <td>113.0</td>\n",
       "      <td>2234.0</td>\n",
       "      <td>12.5</td>\n",
       "      <td>70</td>\n",
       "      <td>2</td>\n",
       "      <td>bmw 2002</td>\n",
       "    </tr>\n",
       "  </tbody>\n",
       "</table>\n",
       "</div>"
      ],
      "text/plain": [
       "     mpg  cylinders  displacement horsepower  weight  acceleration  \\\n",
       "19  26.0          4          97.0      46.00  1835.0          20.5   \n",
       "20  25.0          4         110.0      87.00  2672.0          17.5   \n",
       "21  24.0          4         107.0      90.00  2430.0          14.5   \n",
       "22  25.0          4         104.0      95.00  2375.0          17.5   \n",
       "23  26.0          4         121.0      113.0  2234.0          12.5   \n",
       "\n",
       "    model year  origin                      car name  \n",
       "19          70       2  volkswagen 1131 deluxe sedan  \n",
       "20          70       2                   peugeot 504  \n",
       "21          70       2                   audi 100 ls  \n",
       "22          70       2                      saab 99e  \n",
       "23          70       2                      bmw 2002  "
      ]
     },
     "execution_count": 99,
     "metadata": {},
     "output_type": "execute_result"
    }
   ],
   "source": [
    "df_euro.head()"
   ]
  },
  {
   "cell_type": "code",
   "execution_count": 100,
   "id": "d3709c47",
   "metadata": {},
   "outputs": [
    {
     "name": "stdout",
     "output_type": "stream",
     "text": [
      "population mean: 22.58\n"
     ]
    }
   ],
   "source": [
    "population_mean=df_others['mpg'].mean()\n",
    "print(f'population mean: {population_mean:.2f}')"
   ]
  },
  {
   "cell_type": "code",
   "execution_count": 101,
   "id": "f95715d7",
   "metadata": {},
   "outputs": [
    {
     "name": "stdout",
     "output_type": "stream",
     "text": [
      "pvalue: 0.0000000068\n"
     ]
    }
   ],
   "source": [
    "# df =  degree of reedom \n",
    "t_satistic, pvalue = stats.ttest_1samp(a=df_euro['mpg'], popmean=population_mean)\n",
    "print(f'pvalue: {pvalue:.10f}')"
   ]
  },
  {
   "cell_type": "markdown",
   "id": "3886bc22",
   "metadata": {},
   "source": [
    "------------------\n",
    "### 2) Two Samlples (Independent) T test - An Independent Samples t-test compares the means for two groups."
   ]
  },
  {
   "cell_type": "code",
   "execution_count": 103,
   "id": "3b55eff6",
   "metadata": {},
   "outputs": [
    {
     "name": "stdout",
     "output_type": "stream",
     "text": [
      "pvalue: 0.0000001598\n"
     ]
    }
   ],
   "source": [
    "t_satistic, pvalue = stats.ttest_ind(a=df_euro['mpg'], b=df_others['mpg'])\n",
    "print(f'pvalue: {pvalue:.10f}')"
   ]
  },
  {
   "cell_type": "markdown",
   "id": "2785e67d",
   "metadata": {},
   "source": [
    "------------------\n",
    "### 3) Releative T test\n",
    "#### A Paired sample t-test compares means from the same group at different times (say, one year apart)."
   ]
  },
  {
   "cell_type": "code",
   "execution_count": null,
   "id": "9258ca08",
   "metadata": {},
   "outputs": [],
   "source": []
  }
 ],
 "metadata": {
  "kernelspec": {
   "display_name": "Python 3 (ipykernel)",
   "language": "python",
   "name": "python3"
  },
  "language_info": {
   "codemirror_mode": {
    "name": "ipython",
    "version": 3
   },
   "file_extension": ".py",
   "mimetype": "text/x-python",
   "name": "python",
   "nbconvert_exporter": "python",
   "pygments_lexer": "ipython3",
   "version": "3.10.9"
  }
 },
 "nbformat": 4,
 "nbformat_minor": 5
}
