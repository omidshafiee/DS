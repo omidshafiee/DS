{
 "cells": [
  {
   "cell_type": "code",
   "execution_count": 1,
   "id": "b620fc91-7840-48f7-8227-280a3ea26fdb",
   "metadata": {},
   "outputs": [],
   "source": [
    "import numpy as np\n",
    "import pandas as pd\n",
    "\n",
    "import scipy.stats as stats\n",
    "from statsmodels.stats.proportion import proportions_ztest\n",
    "import scipy\n",
    "\n",
    "import matplotlib.pyplot as plt\n",
    "import seaborn as sns\n",
    "\n",
    "%matplotlib inline"
   ]
  },
  {
   "cell_type": "code",
   "execution_count": 2,
   "id": "d5bd61f8-a45a-475a-8e10-541cda149783",
   "metadata": {},
   "outputs": [
    {
     "data": {
      "text/plain": [
       "{'divide': 'warn', 'over': 'warn', 'under': 'ignore', 'invalid': 'warn'}"
      ]
     },
     "execution_count": 2,
     "metadata": {},
     "output_type": "execute_result"
    }
   ],
   "source": [
    "np.seterr(divide = 'ignore') "
   ]
  },
  {
   "attachments": {},
   "cell_type": "markdown",
   "id": "f7d1bdae-2a9f-44a6-8cd6-82921dd47c95",
   "metadata": {},
   "source": [
    "-----------\n",
    "# Jensen-shannon divergence\n",
    "The Jensen–Shannon divergence (JSD) is a symmetrized and smoothed version of the Kullback–Leibler divergence $D(P \\parallel Q)$ where p might be biomdal.\n",
    "\n",
    "$$JSD(P \\parallel Q) = \\frac{1}{2} (P \\parallel M) + \\frac{1}{2} (Q \\parallel M)$$\n",
    "\n",
    "Where $M = \\frac{1}{2} (P + Q)$ is a mixture distribution of $P$ and $Q$\n",
    "\n",
    "<br/>\n",
    "$$\\text{Shannon Entropy}:$$\n",
    "\n",
    "$$ \\large H(P) :=  - \\sum_{x\\in P} \\;p(x) \\; log \\; p(x)$$\n",
    "\n",
    "$$Finally:$$\n",
    "$$JSD =  H(M) - \\frac{1}{2} \\; \\left( H(P) + H(Q)\\right)$$"
   ]
  },
  {
   "cell_type": "code",
   "execution_count": 3,
   "id": "121025a3-a866-43c0-9a92-f0a39e62f195",
   "metadata": {},
   "outputs": [],
   "source": [
    "# the np.linalg.norm() function is used to calculate one of the eight different matrix norms or one of the vector norms.\n",
    "\n",
    "def jsd(p, q):\n",
    "    p1 = p / np.linalg.norm(p, ord=1)\n",
    "    q1 = q / np.linalg.norm(q, ord=1)\n",
    "    m = 0.5 * (p1 + q1)\n",
    "    r = 0.5 * (stats.entropy(p1, m) + stats.entropy(q1, m) ) \n",
    "    return r\n",
    "     "
   ]
  },
  {
   "cell_type": "code",
   "execution_count": 4,
   "id": "73485d0a-4ffc-4d41-8cd2-dd99d0902423",
   "metadata": {},
   "outputs": [
    {
     "data": {
      "text/html": [
       "<div>\n",
       "<style scoped>\n",
       "    .dataframe tbody tr th:only-of-type {\n",
       "        vertical-align: middle;\n",
       "    }\n",
       "\n",
       "    .dataframe tbody tr th {\n",
       "        vertical-align: top;\n",
       "    }\n",
       "\n",
       "    .dataframe thead th {\n",
       "        text-align: right;\n",
       "    }\n",
       "</style>\n",
       "<table border=\"1\" class=\"dataframe\">\n",
       "  <thead>\n",
       "    <tr style=\"text-align: right;\">\n",
       "      <th></th>\n",
       "      <th>Gender</th>\n",
       "      <th>Height</th>\n",
       "      <th>Weight</th>\n",
       "    </tr>\n",
       "  </thead>\n",
       "  <tbody>\n",
       "    <tr>\n",
       "      <th>0</th>\n",
       "      <td>Male</td>\n",
       "      <td>73.847017</td>\n",
       "      <td>241.893563</td>\n",
       "    </tr>\n",
       "    <tr>\n",
       "      <th>1</th>\n",
       "      <td>Male</td>\n",
       "      <td>68.781904</td>\n",
       "      <td>162.310473</td>\n",
       "    </tr>\n",
       "    <tr>\n",
       "      <th>2</th>\n",
       "      <td>Male</td>\n",
       "      <td>74.110105</td>\n",
       "      <td>212.740856</td>\n",
       "    </tr>\n",
       "    <tr>\n",
       "      <th>3</th>\n",
       "      <td>Male</td>\n",
       "      <td>71.730978</td>\n",
       "      <td>220.042470</td>\n",
       "    </tr>\n",
       "    <tr>\n",
       "      <th>4</th>\n",
       "      <td>Male</td>\n",
       "      <td>69.881796</td>\n",
       "      <td>206.349801</td>\n",
       "    </tr>\n",
       "  </tbody>\n",
       "</table>\n",
       "</div>"
      ],
      "text/plain": [
       "  Gender     Height      Weight\n",
       "0   Male  73.847017  241.893563\n",
       "1   Male  68.781904  162.310473\n",
       "2   Male  74.110105  212.740856\n",
       "3   Male  71.730978  220.042470\n",
       "4   Male  69.881796  206.349801"
      ]
     },
     "execution_count": 4,
     "metadata": {},
     "output_type": "execute_result"
    }
   ],
   "source": [
    "df = pd.read_csv('../../Datasets/weight-height.csv', delim_whitespace=True)\n",
    "df.head()"
   ]
  },
  {
   "cell_type": "code",
   "execution_count": 5,
   "id": "6cbeb5d3-ef54-434e-b0a7-2911f46e2609",
   "metadata": {},
   "outputs": [],
   "source": [
    "count, boundary = np.histogram(df['Height'], bins=100)"
   ]
  },
  {
   "cell_type": "code",
   "execution_count": 6,
   "id": "2cf219ea-8798-4967-a548-ca4b6e50931e",
   "metadata": {},
   "outputs": [],
   "source": [
    "# Generate Ideal normal distribution to compare with\n",
    "ideal = stats.norm.rvs(size=len(df['Height']), loc=df['Height'].mean(), scale=df['Height'].std())"
   ]
  },
  {
   "cell_type": "code",
   "execution_count": 7,
   "id": "aa45dd16-91e5-4bad-ab3c-db4df0f4b256",
   "metadata": {},
   "outputs": [],
   "source": [
    "icount, iboundary = np.histogram(ideal, bins=100)"
   ]
  },
  {
   "cell_type": "code",
   "execution_count": 8,
   "id": "9eb8111d-3aa8-422a-a25b-a54db35cc197",
   "metadata": {},
   "outputs": [
    {
     "data": {
      "text/plain": [
       "0.0305703219783305"
      ]
     },
     "execution_count": 8,
     "metadata": {},
     "output_type": "execute_result"
    }
   ],
   "source": [
    "jsd(count, icount)"
   ]
  },
  {
   "cell_type": "code",
   "execution_count": 9,
   "id": "5069ea32-f7a8-47a5-8456-803df0262f10",
   "metadata": {},
   "outputs": [
    {
     "data": {
      "text/plain": [
       "[<matplotlib.lines.Line2D at 0x13ad7c47520>]"
      ]
     },
     "execution_count": 9,
     "metadata": {},
     "output_type": "execute_result"
    },
    {
     "data": {
      "image/png": "[encoded data removed]",
      "text/plain": [
       "<Figure size 640x480 with 1 Axes>"
      ]
     },
     "metadata": {},
     "output_type": "display_data"
    }
   ],
   "source": [
    "plt.plot(count, c='b')\n",
    "plt.plot(icount, c='r')"
   ]
  },
  {
   "cell_type": "markdown",
   "id": "95c2a31f-99e6-45da-835e-c3125cf64ede",
   "metadata": {},
   "source": [
    "### Interpretation:\n",
    "JSD results value between **0 (identical distributions)** and **1 (completely different distributions)**, making it inherently more stable and interpretable than KLD"
   ]
  },
  {
   "cell_type": "markdown",
   "id": "d694492c-83d3-4fa6-b456-990521db5537",
   "metadata": {},
   "source": [
    "## JS with python libraries"
   ]
  },
  {
   "cell_type": "markdown",
   "id": "fd4b0fa0-ddd0-4f09-825e-c1b3e4229abe",
   "metadata": {},
   "source": [
    "implements:$$\\sqrt{\\frac{D(p \\parallel m) + D(q \\parallel m)}{2}}$$\n",
    "$m$: is the pointwise mean of $p$ and $q$ <br/>\n",
    "$D$: is the Kullback-Leibler divergence."
   ]
  },
  {
   "cell_type": "code",
   "execution_count": 10,
   "id": "2330589c-1d0f-450f-966c-b4ec2c52fcad",
   "metadata": {},
   "outputs": [
    {
     "data": {
      "text/plain": [
       "0.17484370728833945"
      ]
     },
     "execution_count": 10,
     "metadata": {},
     "output_type": "execute_result"
    }
   ],
   "source": [
    "scipy.spatial.distance.jensenshannon(count, icount, base=None, axis=0)"
   ]
  }
 ],
 "metadata": {
  "kernelspec": {
   "display_name": "Python 3 (ipykernel)",
   "language": "python",
   "name": "python3"
  },
  "language_info": {
   "codemirror_mode": {
    "name": "ipython",
    "version": 3
   },
   "file_extension": ".py",
   "mimetype": "text/x-python",
   "name": "python",
   "nbconvert_exporter": "python",
   "pygments_lexer": "ipython3",
   "version": "3.10.9"
  }
 },
 "nbformat": 4,
 "nbformat_minor": 5
}
