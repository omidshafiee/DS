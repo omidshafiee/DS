{
 "cells": [
  {
   "cell_type": "code",
   "execution_count": 1,
   "id": "cade3b0a",
   "metadata": {},
   "outputs": [],
   "source": [
    "import numpy as np\n",
    "import pandas as pd\n",
    "from scipy import stats\n",
    "\n",
    "import matplotlib.pyplot as plt\n",
    "import seaborn as sns\n",
    "\n",
    "%matplotlib inline"
   ]
  },
  {
   "cell_type": "markdown",
   "id": "2bbd8bc6",
   "metadata": {},
   "source": [
    "-----------------------\n",
    "## 1) Normal Distribution:"
   ]
  },
  {
   "cell_type": "markdown",
   "id": "3a91622b",
   "metadata": {},
   "source": [
    "Express normal distribution"
   ]
  },
  {
   "cell_type": "code",
   "execution_count": 2,
   "id": "4169d720",
   "metadata": {},
   "outputs": [],
   "source": [
    "normal_data = stats.norm.rvs(size=100000, loc=0, scale=1)\n",
    "# rvs = random value sample\n",
    "# loc = mean\n",
    "# scale = standard deviation"
   ]
  },
  {
   "cell_type": "code",
   "execution_count": 3,
   "id": "cb61ea41",
   "metadata": {},
   "outputs": [
    {
     "name": "stdout",
     "output_type": "stream",
     "text": [
      "Mean: -0.008477926110473344\n",
      "Std: 1.00364777854048\n",
      "Skew: 0.0028107198035817985\n",
      "Kurtosis: -0.01763926737431598\n"
     ]
    }
   ],
   "source": [
    "print('Mean:',normal_data.mean())\n",
    "print('Std:', normal_data.std())\n",
    "print('Skew:', stats.skew(normal_data))\n",
    "print('Kurtosis:', stats.kurtosis(normal_data))\n"
   ]
  },
  {
   "cell_type": "code",
   "execution_count": 4,
   "id": "cda95587",
   "metadata": {},
   "outputs": [
    {
     "data": {
      "text/plain": [
       "<Axes: ylabel='Count'>"
      ]
     },
     "execution_count": 4,
     "metadata": {},
     "output_type": "execute_result"
    },
    {
     "data": {
      "image/png": "[encoded data removed]",
      "text/plain": [
       "<Figure size 640x480 with 1 Axes>"
      ]
     },
     "metadata": {},
     "output_type": "display_data"
    }
   ],
   "source": [
    "sns.histplot(normal_data)"
   ]
  },
  {
   "cell_type": "markdown",
   "id": "7e4b3081",
   "metadata": {},
   "source": [
    "-----------------------\n",
    "## 2) Uniform Distribution:"
   ]
  },
  {
   "cell_type": "markdown",
   "id": "7cf8268b",
   "metadata": {},
   "source": [
    "## Population members having <u>equal chances</u> on an event. \n",
    "<ol> \n",
    "    <b>e.g:\n",
    "    <li>Rolling dice</li>\n",
    "    <li>coin tosses</li>\n",
    "    <li>the probability of drawing any card from a deck of cards.</li>\n",
    "    <li>Random sampling because that method depends on equal chances.</li>\n",
    "    <li>Calls made by an operator in simillar period of time</li>\n",
    "    \n",
    "</b>\n",
    "</ol>\n"
   ]
  },
  {
   "cell_type": "code",
   "execution_count": 5,
   "id": "717ac603",
   "metadata": {},
   "outputs": [],
   "source": [
    "uniform_data = stats.uniform.rvs(size=100000, loc=0, scale=1)\n",
    "# rvs = random value sample\n",
    "# loc = mean\n",
    "# scale = standard deviation\n",
    "# scale + loc = max"
   ]
  },
  {
   "cell_type": "code",
   "execution_count": 6,
   "id": "a73b6eea",
   "metadata": {},
   "outputs": [
    {
     "data": {
      "text/plain": [
       "<Axes: ylabel='Count'>"
      ]
     },
     "execution_count": 6,
     "metadata": {},
     "output_type": "execute_result"
    },
    {
     "data": {
      "image/png": "[encoded data removed]",
      "text/plain": [
       "<Figure size 640x480 with 1 Axes>"
      ]
     },
     "metadata": {},
     "output_type": "display_data"
    }
   ],
   "source": [
    "sns.histplot(uniform_data)"
   ]
  },
  {
   "cell_type": "code",
   "execution_count": 7,
   "id": "c7dc3bc1",
   "metadata": {},
   "outputs": [
    {
     "name": "stdout",
     "output_type": "stream",
     "text": [
      "Mean: 0.49781628269999345\n",
      "Std : 0.288221077047785\n",
      "Var : 0.08307138925458522\n",
      "Skew: 0.010766411352794429\n",
      "Kurtosis: -1.1972350570082917\n"
     ]
    }
   ],
   "source": [
    "print('Mean:',uniform_data.mean())\n",
    "print('Std :', uniform_data.std())\n",
    "print('Var :', uniform_data.var())\n",
    "print('Skew:', stats.skew(uniform_data))\n",
    "print('Kurtosis:', stats.kurtosis(uniform_data))"
   ]
  },
  {
   "cell_type": "markdown",
   "id": "dae8282a",
   "metadata": {},
   "source": [
    "-------------------\n",
    "## Bernoulli Distribution"
   ]
  },
  {
   "cell_type": "markdown",
   "id": "2d2b49b9",
   "metadata": {},
   "source": [
    "<p><b>\n",
    "    Bernoulli distribution is a discrete probability distribution, meaning it’s concerned with discrete random variables. A discrete random variable is one that has a finite or countable number of possible values.\n",
    "    </b></p>\n",
    "\n",
    "**Bernoulli distribution is used when we want to model the outcome of a single trial of an event.**"
   ]
  },
  {
   "cell_type": "markdown",
   "id": "8d79c004",
   "metadata": {},
   "source": [
    "#### <i>Difference between uniform and bernoulli distribution</i>\n",
    "\n",
    "A **uniform** distribution on **{0,1}**\n",
    " and a **Bernoulli** distribution with **p=0.5**\n",
    " \n",
    " (or alternatively a **binomial** distribution with **n=1\n",
    " and p=0.5**\n",
    ") are the same distribution. [????]\n",
    "\n",
    " the **Bernoulli** distribution speaks of **only two possible outcomes** (perhaps with different probabilities), whereas the **uniform** distribution allows for **many outcomes, but they all have the same probability.** The case of flipping a fair coin is particularly interesting - it is a Bernoulli event with a uniform distribution."
   ]
  },
  {
   "cell_type": "markdown",
   "id": "e870c7a4",
   "metadata": {},
   "source": [
    "### Examples of Bernoulli distribution\n",
    "The coin toss example is perhaps the easiest way to explain Bernoulli distribution. Let’s say that the outcome of “heads” is a “success,” while an outcome of “tails” is a “failure.” In this instance:\n",
    "\n",
    "The probability of a successful outcome (landing on heads) is written as p\n",
    "The probability of a failure (landing on tails), written as q, is calculated  as 1 **–** p\n",
    "With a standard coin, we know that there’s a 50/50 chance of landing on either heads or tails. So, in this case:\n",
    "\n",
    "p = 0.5\n",
    "q = 1– **0.5\n",
    "So, in our coin toss example, both p and q = 0.5."
   ]
  },
  {
   "cell_type": "markdown",
   "id": "fcb05e9f",
   "metadata": {},
   "source": [
    "**Further examples of Bernoulli distribution**\n",
    "<ol><b>\n",
    "<li>Will you pass or fail a test?</li>\n",
    "<li>Will your favorite sports team win or lose their next match?</li>\n",
    "<li>Will you be accepted or rejected for that job you applied for?</li>\n",
    "<li>Will you roll a six in the opening round of your favorite board game?</li>\n",
    "<li>Will you win or lose the lottery?</li>\n",
    "<li>Will an icu patient survive or die?</li>\n",
    "</b></ol>"
   ]
  },
  {
   "cell_type": "code",
   "execution_count": 8,
   "id": "eb828d1b",
   "metadata": {},
   "outputs": [],
   "source": [
    "# p = win or successe probability\n",
    "bernouli_data = stats.bernoulli.rvs(size=1000, p=0.2)"
   ]
  },
  {
   "cell_type": "code",
   "execution_count": 9,
   "id": "9de3a7cb",
   "metadata": {},
   "outputs": [
    {
     "data": {
      "text/plain": [
       "(array([0, 1], dtype=int64), array([818, 182], dtype=int64))"
      ]
     },
     "execution_count": 9,
     "metadata": {},
     "output_type": "execute_result"
    }
   ],
   "source": [
    "np.unique(bernouli_data, return_counts=True)"
   ]
  },
  {
   "cell_type": "code",
   "execution_count": 10,
   "id": "85a08528",
   "metadata": {},
   "outputs": [
    {
     "data": {
      "text/plain": [
       "<Axes: ylabel='Count'>"
      ]
     },
     "execution_count": 10,
     "metadata": {},
     "output_type": "execute_result"
    },
    {
     "data": {
      "image/png": "[encoded data removed]",
      "text/plain": [
       "<Figure size 640x480 with 1 Axes>"
      ]
     },
     "metadata": {},
     "output_type": "display_data"
    }
   ],
   "source": [
    "sns.histplot(bernouli_data)"
   ]
  },
  {
   "cell_type": "markdown",
   "id": "b2d90455",
   "metadata": {},
   "source": [
    "--------------\n",
    "## Binomial Distribution\n",
    "**A binomial distribution can be thought of as simply the probability of a SUCCESS or FAILURE (two different classifications) outcome in an experiment or survey that is repeated multiple times** \n",
    "### Simply, it repeats of bernoulli distribution multiple (n) times and get the win count on each try\n",
    "\n",
    "\n",
    "### Examples of binomial distribution:\n",
    "<ol><b>\n",
    "<li>Six heads when you toss the coin ten times?</li>\n",
    "<li>12 women in a sample size of 20?</li>\n",
    "<li>Three defective items in a batch of 100?</li>\n",
    "<li>Two flu infections over 20 years?</li>\n",
    "    </b></ol>"
   ]
  },
  {
   "cell_type": "code",
   "execution_count": 11,
   "id": "4cb50e31",
   "metadata": {},
   "outputs": [],
   "source": [
    "# n = number of tries\n",
    "# p = win or successe probability\n",
    "# size = binomial set size (Output shape)\n",
    "binomial_data = stats.binom.rvs(size=10000, n=100, p=0.2)"
   ]
  },
  {
   "cell_type": "code",
   "execution_count": 12,
   "id": "45f2fb32",
   "metadata": {},
   "outputs": [
    {
     "name": "stdout",
     "output_type": "stream",
     "text": [
      "Mean: 19.9738\n"
     ]
    }
   ],
   "source": [
    "print('Mean:',binomial_data.mean())\n",
    "# print('Std :', binomial_data.std())\n",
    "# print('Var :', binomial_data.var())\n",
    "# print('Skew:', stats.skew(binomial_data))\n",
    "# print('Kurtosis:', stats.kurtosis(binomial_data))"
   ]
  },
  {
   "cell_type": "markdown",
   "id": "74597a0b",
   "metadata": {},
   "source": [
    "**The Bionomial mean is approximates around p (success probability)**"
   ]
  },
  {
   "cell_type": "code",
   "execution_count": 13,
   "id": "b1a73e0b",
   "metadata": {
    "scrolled": true
   },
   "outputs": [
    {
     "data": {
      "text/plain": [
       "array([24, 20, 16, ..., 20, 15, 19], dtype=int64)"
      ]
     },
     "execution_count": 13,
     "metadata": {},
     "output_type": "execute_result"
    }
   ],
   "source": [
    "binomial_data\n",
    "# Each number indicates some of bernoulli win tries"
   ]
  },
  {
   "cell_type": "code",
   "execution_count": 14,
   "id": "03c1747f",
   "metadata": {},
   "outputs": [],
   "source": [
    "# The binomial wins, are in normal distribution "
   ]
  },
  {
   "cell_type": "code",
   "execution_count": 15,
   "id": "20aa57df",
   "metadata": {},
   "outputs": [
    {
     "data": {
      "text/plain": [
       "<Axes: ylabel='Count'>"
      ]
     },
     "execution_count": 15,
     "metadata": {},
     "output_type": "execute_result"
    },
    {
     "data": {
      "image/png": "[encoded data removed]",
      "text/plain": [
       "<Figure size 640x480 with 1 Axes>"
      ]
     },
     "metadata": {},
     "output_type": "display_data"
    }
   ],
   "source": [
    "sns.histplot(binomial_data)"
   ]
  },
  {
   "cell_type": "markdown",
   "id": "ab1218ca",
   "metadata": {},
   "source": [
    "--------------\n",
    "## Multinomial Distribution\n",
    "**Multinomial Distribution is a generalization of the binomial distribution for more than two values (more than two different classifications).**\n",
    "\n",
    "### Exapmles of multinomial Distribution\n",
    "<ol><b>\n",
    "<li>Six heads when you toss the coin ten times?</li>\n",
    "</b></ol>"
   ]
  },
  {
   "cell_type": "markdown",
   "id": "7eee5453",
   "metadata": {},
   "source": [
    "**Example:**\n",
    "You roll a dice ten times to see what number you roll. There are 6 possibilities (1, 2, 3, 4, 5, 6), so this is a multinomial experiment. If you rolled the dice ten times to see how many times you roll a three, that would be a binomial experiment (3 = success, 1, 2, 4, 5, 6 = failure).\n",
    "\n"
   ]
  },
  {
   "cell_type": "code",
   "execution_count": 16,
   "id": "fe2afa63",
   "metadata": {},
   "outputs": [],
   "source": [
    "# n = number of experiments\n",
    "# p = successe probability of each class\n",
    "# size = multinomial set size (Output shape)\n",
    "p = 1/6\n",
    "# multinomial_data = stats.multinomial.rvs(size=1000, n=6, p=[p,p,p,p,p,p])\n",
    "multinomial_data = np.random.multinomial(size=1000, n=6, pvals=[p,p,p,p,p,p])\n"
   ]
  },
  {
   "cell_type": "code",
   "execution_count": 17,
   "id": "88b1e785",
   "metadata": {},
   "outputs": [
    {
     "data": {
      "text/plain": [
       "array([[2, 1, 0, 2, 0, 1],\n",
       "       [1, 0, 2, 1, 1, 1],\n",
       "       [1, 1, 0, 1, 1, 2],\n",
       "       ...,\n",
       "       [0, 3, 2, 1, 0, 0],\n",
       "       [1, 3, 0, 1, 0, 1],\n",
       "       [3, 0, 1, 0, 2, 0]])"
      ]
     },
     "execution_count": 17,
     "metadata": {},
     "output_type": "execute_result"
    }
   ],
   "source": [
    "multinomial_data"
   ]
  },
  {
   "cell_type": "code",
   "execution_count": 18,
   "id": "950c4b89",
   "metadata": {},
   "outputs": [],
   "source": [
    "# Sample\n",
    "#Daily insurance incident uccurance in a year:\n",
    "\n",
    "CarAccident = 0.3\n",
    "Mediacl = 0.5\n",
    "Other = 0.1\n",
    "\n",
    "Insurance_data = np.random.multinomial(n=10000, pvals=[CarAccident, Mediacl, Other], size=365)"
   ]
  },
  {
   "cell_type": "code",
   "execution_count": 19,
   "id": "94c43084",
   "metadata": {},
   "outputs": [
    {
     "data": {
      "text/plain": [
       "array([[2943, 5011, 2046],\n",
       "       [2921, 5057, 2022],\n",
       "       [3058, 5001, 1941],\n",
       "       ...,\n",
       "       [2991, 5012, 1997],\n",
       "       [2998, 4942, 2060],\n",
       "       [2990, 5041, 1969]])"
      ]
     },
     "execution_count": 19,
     "metadata": {},
     "output_type": "execute_result"
    }
   ],
   "source": [
    "Insurance_data"
   ]
  },
  {
   "cell_type": "code",
   "execution_count": 20,
   "id": "5d0f079b",
   "metadata": {},
   "outputs": [
    {
     "data": {
      "text/plain": [
       "<Axes: ylabel='Count'>"
      ]
     },
     "execution_count": 20,
     "metadata": {},
     "output_type": "execute_result"
    },
    {
     "data": {
      "image/png": "[encoded data removed]",
      "text/plain": [
       "<Figure size 640x480 with 1 Axes>"
      ]
     },
     "metadata": {},
     "output_type": "display_data"
    }
   ],
   "source": [
    "sns.histplot(Insurance_data)"
   ]
  },
  {
   "cell_type": "markdown",
   "id": "c1454c79",
   "metadata": {},
   "source": [
    "--------------\n",
    "## Poisson Distribution\n",
    "**used to estimate how many times an event is likely to occur within \"X\" periods of time. Poisson distributions are used when the variable of interest is a discrete count variable.**<br>\n",
    "It predicts the number of rare events that will occur in a given\n",
    "period of time. These events are independent or weakly dependent, meaning that\n",
    "the occurrence of the event once does not affect the probability of its next occur‐\n",
    "rence in the same time period. They also occur at a known and constant average\n",
    "rate λ. Thus, \n",
    "we know the average rate, and we want to predict how many of\n",
    "these events will happen during a certain time period\n",
    "\n",
    "### Exapmles of Poisson Distribution\n",
    "<ol><b>\n",
    "<li>how many emails a person receives in a day</li>\n",
    "<li>Whether the product is healthy or defective in a production line.</li>\n",
    "<li>the number of meteorites greater than 1-meter diameter that strike Earth in a year.</li>\n",
    "<li>the number of students achieving a low and high mark in an exam.</li>\n",
    "<li>locations of defects and dislocations in materials.</li>\n",
    "    \n",
    "</b></ol>"
   ]
  },
  {
   "cell_type": "code",
   "execution_count": 21,
   "id": "dafa0659",
   "metadata": {},
   "outputs": [],
   "source": [
    "# lam - rate or known number of occurrences\n",
    "# size - The shape of the returned array\n",
    "\n",
    "Poisson_data = np.random.poisson(lam=2, size=100)"
   ]
  },
  {
   "cell_type": "code",
   "execution_count": 22,
   "id": "ebf093f5",
   "metadata": {},
   "outputs": [
    {
     "data": {
      "text/plain": [
       "array([4, 1, 0, 3, 2, 3, 4, 1, 0, 0, 2, 2, 1, 1, 1, 2, 0, 0, 2, 1, 4, 2,\n",
       "       3, 1, 5, 2, 4, 1, 1, 3, 3, 1, 1, 1, 4, 2, 3, 1, 3, 0, 3, 1, 1, 1,\n",
       "       1, 0, 1, 2, 0, 4, 2, 0, 3, 4, 1, 3, 2, 1, 1, 2, 4, 3, 6, 1, 2, 1,\n",
       "       1, 3, 2, 2, 2, 3, 1, 1, 2, 0, 1, 4, 1, 0, 1, 2, 2, 2, 2, 1, 4, 0,\n",
       "       1, 3, 0, 2, 3, 0, 4, 3, 5, 3, 4, 0])"
      ]
     },
     "execution_count": 22,
     "metadata": {},
     "output_type": "execute_result"
    }
   ],
   "source": [
    "Poisson_data"
   ]
  },
  {
   "cell_type": "code",
   "execution_count": 23,
   "id": "72b1d360",
   "metadata": {},
   "outputs": [
    {
     "data": {
      "text/plain": [
       "<Axes: ylabel='Count'>"
      ]
     },
     "execution_count": 23,
     "metadata": {},
     "output_type": "execute_result"
    },
    {
     "data": {
      "image/png": "[encoded data removed]",
      "text/plain": [
       "<Figure size 640x480 with 1 Axes>"
      ]
     },
     "metadata": {},
     "output_type": "display_data"
    }
   ],
   "source": [
    "sns.histplot(Poisson_data)"
   ]
  },
  {
   "cell_type": "markdown",
   "id": "6a57d5ae",
   "metadata": {},
   "source": [
    "--------------\n",
    "## Exponential Distribution\n",
    "### Exponential distribution is used for describing time till next  specific event occurs e.g. failure/success etc.\n",
    "\n",
    "For example, the amount of time (beginning now) until an earthquake occurs has an exponential distribution. Other examples include the length, in minutes, of long distance business telephone calls, and the amount of time, in months, a car battery lasts.\n",
    "\n",
    "[1]https://courses.lumenlearning.com/introstats1/chapter/the-exponential-distribution/\n",
    "\n",
    "\n",
    "The exponential distribution is one of the widely used continuous distributions. It is often used to model the time elapsed between events.\n",
    "\n",
    "[2] https://www.probabilitycourse.com/chapter4/4_2_2_exponential.php"
   ]
  },
  {
   "cell_type": "code",
   "execution_count": 24,
   "id": "17695ab3",
   "metadata": {},
   "outputs": [],
   "source": [
    "Exponential_data = np.random.exponential(scale=1, size=(1000, ))"
   ]
  },
  {
   "cell_type": "code",
   "execution_count": 25,
   "id": "ff2025dc",
   "metadata": {},
   "outputs": [],
   "source": [
    "Exponential_data;"
   ]
  },
  {
   "cell_type": "code",
   "execution_count": 26,
   "id": "fe286ec9",
   "metadata": {},
   "outputs": [
    {
     "data": {
      "text/plain": [
       "<Axes: ylabel='Count'>"
      ]
     },
     "execution_count": 26,
     "metadata": {},
     "output_type": "execute_result"
    },
    {
     "data": {
      "image/png": "[encoded data removed]",
      "text/plain": [
       "<Figure size 640x480 with 1 Axes>"
      ]
     },
     "metadata": {},
     "output_type": "display_data"
    }
   ],
   "source": [
    "sns.histplot(Exponential_data, kde=True)"
   ]
  },
  {
   "cell_type": "code",
   "execution_count": null,
   "id": "47e1560c",
   "metadata": {},
   "outputs": [],
   "source": []
  }
 ],
 "metadata": {
  "kernelspec": {
   "display_name": "Python 3 (ipykernel)",
   "language": "python",
   "name": "python3"
  },
  "language_info": {
   "codemirror_mode": {
    "name": "ipython",
    "version": 3
   },
   "file_extension": ".py",
   "mimetype": "text/x-python",
   "name": "python",
   "nbconvert_exporter": "python",
   "pygments_lexer": "ipython3",
   "version": "3.10.9"
  }
 },
 "nbformat": 4,
 "nbformat_minor": 5
}
