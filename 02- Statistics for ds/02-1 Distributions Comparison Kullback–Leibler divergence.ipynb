{
 "cells": [
  {
   "cell_type": "code",
   "execution_count": 42,
   "id": "12129472",
   "metadata": {},
   "outputs": [],
   "source": [
    "import numpy as np\n",
    "import pandas as pd\n",
    "\n",
    "import scipy.stats as stats\n",
    "from statsmodels.stats.proportion import proportions_ztest\n",
    "import scipy\n",
    "\n",
    "import matplotlib.pyplot as plt\n",
    "import seaborn as sns\n",
    "\n",
    "%matplotlib inline"
   ]
  },
  {
   "cell_type": "code",
   "execution_count": 43,
   "id": "8f928691",
   "metadata": {},
   "outputs": [
    {
     "data": {
      "text/plain": [
       "{'divide': 'ignore', 'over': 'warn', 'under': 'ignore', 'invalid': 'warn'}"
      ]
     },
     "execution_count": 43,
     "metadata": {},
     "output_type": "execute_result"
    }
   ],
   "source": [
    "np.seterr(divide = 'ignore') "
   ]
  },
  {
   "cell_type": "markdown",
   "id": "c33bd3d6",
   "metadata": {},
   "source": [
    "# Kullback–Leibler divergence\n",
    "<br/>\n",
    "\\begin{equation}\n",
    "\\text{For discrete probability distributions P and Q }: \\\\\n",
    "D_{KL} (P \\left |  \\right | Q) = \\sum{P(x)} \\log\\left( \\frac{P(x)}{Q(x)} \\right )\n",
    "\\end{equation}"
   ]
  },
  {
   "cell_type": "markdown",
   "id": "89449f54",
   "metadata": {},
   "source": [
    "<br/>\n",
    "\\begin{equation}\n",
    "\\text{For distributions P and Q of a continuous random variable} \\\\\n",
    "D_{KL} (P \\left |  \\right | Q) =  \\int_{a}^{b} {p(x)}  \\left(\\frac{p(x)}{q(x)} \\right ) dx\n",
    "\\end{equation}\n",
    "<br/>"
   ]
  },
  {
   "cell_type": "code",
   "execution_count": 44,
   "id": "15483e71",
   "metadata": {},
   "outputs": [],
   "source": [
    "\n",
    "# dataset_1 = stats.randint.rvs(low=0, high=100 , size=100, loc=0)\n",
    "# dataset_2 = stats.randint.rvs(low=0, high=100 , size=100, loc=0)\n",
    "\n",
    "# Generate data distibution instead of data\n",
    "\n",
    "dataset_1 = stats.norm.rvs(size=10, loc=50, scale=10)\n",
    "dataset_2 = stats.norm.rvs(size=10, loc=60, scale=10)\n"
   ]
  },
  {
   "cell_type": "code",
   "execution_count": 45,
   "id": "1387ca33-3f12-40ee-97f1-7df8274c0fe2",
   "metadata": {},
   "outputs": [
    {
     "name": "stdout",
     "output_type": "stream",
     "text": [
      "dataset 1 = [53.29770447 40.8405398  61.41059992 40.50391643 47.13714906 41.10322322\n",
      " 50.25160247 26.90788707 50.27872647 66.77459678] \n",
      "\n",
      "dataset 2 = [69.46818452 52.54666278 47.73812307 61.71911807 73.47660156 60.2096832\n",
      " 53.91938206 65.88671391 42.12242492 53.44654768] \n",
      "\n"
     ]
    }
   ],
   "source": [
    "print(f'dataset 1 = {dataset_1} \\n')\n",
    "print(f'dataset 2 = {dataset_2} \\n')"
   ]
  },
  {
   "cell_type": "code",
   "execution_count": 46,
   "id": "eee6b544-e892-45b3-b3f7-7fcf45464bcc",
   "metadata": {},
   "outputs": [
    {
     "data": {
      "text/plain": [
       "numpy.ndarray"
      ]
     },
     "execution_count": 46,
     "metadata": {},
     "output_type": "execute_result"
    }
   ],
   "source": [
    "type(dataset_1)"
   ]
  },
  {
   "cell_type": "code",
   "execution_count": 47,
   "id": "c0119c0a",
   "metadata": {},
   "outputs": [
    {
     "data": {
      "text/plain": [
       "<Axes: ylabel='Count'>"
      ]
     },
     "execution_count": 47,
     "metadata": {},
     "output_type": "execute_result"
    },
    {
     "data": {
      "image/png": "[encoded data removed]",
      "text/plain": [
       "<Figure size 640x480 with 1 Axes>"
      ]
     },
     "metadata": {},
     "output_type": "display_data"
    }
   ],
   "source": [
    "sns.histplot(dataset_1)\n",
    "sns.histplot(dataset_2)"
   ]
  },
  {
   "cell_type": "code",
   "execution_count": 48,
   "id": "a1e82ba1-1588-4824-a6b6-81596e2af2aa",
   "metadata": {},
   "outputs": [
    {
     "name": "stdout",
     "output_type": "stream",
     "text": [
      "p = [0.11138358 0.08535012 0.12833822 0.08464663 0.09850901 0.08589909\n",
      " 0.10501772 0.05623313 0.1050744  0.1395481 ] \n",
      "\n",
      "q = [0.11966267 0.09051445 0.08223148 0.10631449 0.12656739 0.10371441\n",
      " 0.09287903 0.1134934  0.07255814 0.09206455] \n",
      "\n"
     ]
    }
   ],
   "source": [
    "# Calculate data_1 probabilities as p\n",
    "p = dataset_1 / np.sum(dataset_1)\n",
    "print(f'p = {p} \\n')\n",
    "\n",
    "# Calculate data_2 probabilities as q\n",
    "q = dataset_2 / np.sum(dataset_2)\n",
    "print(f'q = {q} \\n')"
   ]
  },
  {
   "cell_type": "markdown",
   "id": "8332fb2c",
   "metadata": {},
   "source": [
    "\\begin{equation}\n",
    "\\mathrm{kl\\_div}(x, y) =\n",
    "      \\begin{cases}\n",
    "        x \\log(x / y) - x + y & x > 0, y > 0 \\\\\n",
    "        y & x = 0, y \\ge 0 \\\\\n",
    "        \\infty & \\text{otherwise}\n",
    "      \\end{cases}\n",
    "\\end{equation}"
   ]
  },
  {
   "cell_type": "code",
   "execution_count": 49,
   "id": "ce90859d-1774-48c7-b303-cd6e34192af8",
   "metadata": {},
   "outputs": [
    {
     "data": {
      "text/plain": [
       "array([-0.00798585, -0.00501412,  0.05712731, -0.01929235, -0.024689  ,\n",
       "       -0.01618922,  0.01289945, -0.03948907,  0.03890701,  0.05804077])"
      ]
     },
     "execution_count": 49,
     "metadata": {},
     "output_type": "execute_result"
    }
   ],
   "source": [
    "p * np.log(p/ q)"
   ]
  },
  {
   "cell_type": "code",
   "execution_count": 50,
   "id": "c698e424",
   "metadata": {},
   "outputs": [],
   "source": [
    "# Kl Function Test\n",
    "def kl_test(kl_p, kl_q):\n",
    "    kl = np.where(np.logical_and( kl_p > 0, kl_q >= 0 ), kl_p * np.log(kl_p/ kl_q), 0)\n",
    "    return kl"
   ]
  },
  {
   "cell_type": "code",
   "execution_count": 51,
   "id": "d7c6b863",
   "metadata": {},
   "outputs": [
    {
     "data": {
      "text/plain": [
       "array([-0.00798585, -0.00501412,  0.05712731, -0.01929235, -0.024689  ,\n",
       "       -0.01618922,  0.01289945, -0.03948907,  0.03890701,  0.05804077])"
      ]
     },
     "execution_count": 51,
     "metadata": {},
     "output_type": "execute_result"
    }
   ],
   "source": [
    "kl_test(p ,q)"
   ]
  },
  {
   "cell_type": "code",
   "execution_count": 52,
   "id": "519bbd38",
   "metadata": {},
   "outputs": [
    {
     "data": {
      "text/plain": [
       "0.05431493501824671"
      ]
     },
     "execution_count": 52,
     "metadata": {},
     "output_type": "execute_result"
    }
   ],
   "source": [
    "np.sum(kl_test(p, q))"
   ]
  },
  {
   "cell_type": "code",
   "execution_count": 53,
   "id": "3130b40f-d2fe-44e4-91a7-96a2ea9df6fa",
   "metadata": {},
   "outputs": [],
   "source": [
    "# Calculate KL (for discret values)\n",
    "# NOTE: Logarithm 0 and negative numbers is undefined. So here kl is calculated \n",
    "# for both p and q positive values according the formula \n",
    "\n",
    "def kl_divergence(kl_p, kl_q):\n",
    "    #kl = np.sum(np.where(np.logical_and( kl_p > 0, kl_q > 0 ), kl_p * np.log(kl_p/ kl_q), 0))\n",
    "    # test the value and explain the result\n",
    "    kl = np.sum(p * np.log(p / q, where=((p > 0) & (q > 0))))\n",
    "\n",
    "    return kl "
   ]
  },
  {
   "cell_type": "code",
   "execution_count": 54,
   "id": "40ceb912-704f-47ba-ae6d-bc49318bc1cd",
   "metadata": {},
   "outputs": [
    {
     "data": {
      "text/plain": [
       "0.05431493501824671"
      ]
     },
     "execution_count": 54,
     "metadata": {},
     "output_type": "execute_result"
    }
   ],
   "source": [
    "kl_divergence(p, q)"
   ]
  },
  {
   "cell_type": "markdown",
   "id": "572b48b2-51c6-482f-b6f4-80be82e796f2",
   "metadata": {},
   "source": [
    "------------\n",
    "### KL with python libraries:"
   ]
  },
  {
   "cell_type": "code",
   "execution_count": 55,
   "id": "8bfcc488",
   "metadata": {},
   "outputs": [
    {
     "data": {
      "text/plain": [
       "0.05431493501824666"
      ]
     },
     "execution_count": 55,
     "metadata": {},
     "output_type": "execute_result"
    }
   ],
   "source": [
    "kl2 = scipy.special.kl_div(p, q, out=None, where=(p>0) & (q>0))\n",
    "np.sum(kl2)"
   ]
  },
  {
   "cell_type": "code",
   "execution_count": 56,
   "id": "b439531c-489d-4f79-a180-ab7b8bbd383f",
   "metadata": {},
   "outputs": [
    {
     "data": {
      "text/plain": [
       "200"
      ]
     },
     "execution_count": 56,
     "metadata": {},
     "output_type": "execute_result"
    }
   ],
   "source": [
    "x = np.arange(-10, 10, 0.1)\n",
    "len(x)"
   ]
  },
  {
   "cell_type": "code",
   "execution_count": 57,
   "id": "654dbb09-cd7d-46a3-a98f-56cd211e36e2",
   "metadata": {},
   "outputs": [
    {
     "data": {
      "text/plain": [
       "[<matplotlib.lines.Line2D at 0x2333cbc8520>]"
      ]
     },
     "execution_count": 57,
     "metadata": {},
     "output_type": "execute_result"
    },
    {
     "data": {
      "image/png": "[encoded data removed]",
      "text/plain": [
       "<Figure size 640x480 with 1 Axes>"
      ]
     },
     "metadata": {},
     "output_type": "display_data"
    }
   ],
   "source": [
    "p = stats.norm.pdf(x, loc=0, scale=2)\n",
    "q = stats.norm.pdf(x, loc=2, scale=3)\n",
    "\n",
    "plt.plot(x, p, c='blue')\n",
    "plt.plot(x, q, c='red')"
   ]
  },
  {
   "cell_type": "code",
   "execution_count": 58,
   "id": "d85995d1-8596-41fc-9e70-ef58e89e69f2",
   "metadata": {},
   "outputs": [
    {
     "data": {
      "text/plain": [
       "3.499136647472285"
      ]
     },
     "execution_count": 58,
     "metadata": {},
     "output_type": "execute_result"
    }
   ],
   "source": [
    "kl_divergence(p, q)"
   ]
  },
  {
   "cell_type": "code",
   "execution_count": 59,
   "id": "cbfcb09d-dd2c-4807-b147-27821fbce558",
   "metadata": {},
   "outputs": [
    {
     "data": {
      "text/plain": [
       "3.4586162357451027"
      ]
     },
     "execution_count": 59,
     "metadata": {},
     "output_type": "execute_result"
    }
   ],
   "source": [
    "np.sum(scipy.special.kl_div(p, q, out=None, where=(p > 0) & (q > 0)))"
   ]
  },
  {
   "cell_type": "code",
   "execution_count": 60,
   "id": "4ada2b2b-c8cb-49ef-9794-99f20f5e7c11",
   "metadata": {},
   "outputs": [
    {
     "data": {
      "text/plain": [
       "[<matplotlib.lines.Line2D at 0x2333cc518d0>]"
      ]
     },
     "execution_count": 60,
     "metadata": {},
     "output_type": "execute_result"
    },
    {
     "data": {
      "image/png": "[encoded data removed]",
      "text/plain": [
       "<Figure size 640x480 with 1 Axes>"
      ]
     },
     "metadata": {},
     "output_type": "display_data"
    }
   ],
   "source": [
    "p = stats.norm.pdf(x, loc=0, scale=2)\n",
    "q = stats.norm.pdf(x, loc=0.1, scale=1.7)\n",
    "\n",
    "plt.plot(x, p, c='blue')\n",
    "plt.plot(x, q, c='red')"
   ]
  },
  {
   "cell_type": "code",
   "execution_count": 61,
   "id": "60aea4ad-f2cb-4227-9db8-ebc480647f8e",
   "metadata": {},
   "outputs": [
    {
     "data": {
      "text/plain": [
       "0.3124983631251924"
      ]
     },
     "execution_count": 61,
     "metadata": {},
     "output_type": "execute_result"
    }
   ],
   "source": [
    "kl_divergence(p, q)"
   ]
  },
  {
   "cell_type": "code",
   "execution_count": 62,
   "id": "dbd9b6b8-9993-485e-8556-6067cad0b876",
   "metadata": {},
   "outputs": [
    {
     "data": {
      "text/plain": [
       "0.31250408117350226"
      ]
     },
     "execution_count": 62,
     "metadata": {},
     "output_type": "execute_result"
    }
   ],
   "source": [
    "np.sum(scipy.special.kl_div(p, q, out=None, where=(p>0) & (q>0)))"
   ]
  },
  {
   "cell_type": "markdown",
   "id": "4f35784d-5a72-4725-810e-1c9d9594d19e",
   "metadata": {},
   "source": [
    "## Sample: \n",
    "* 1- Determine if males weight has distributed normally"
   ]
  },
  {
   "cell_type": "code",
   "execution_count": 63,
   "id": "42d14b0f-2167-43ee-a4b5-aa98e693a8b5",
   "metadata": {},
   "outputs": [],
   "source": [
    "df = pd.read_csv('../../Datasets/weight-height.csv', delim_whitespace=True)"
   ]
  },
  {
   "cell_type": "code",
   "execution_count": 64,
   "id": "8cce8c78-4acf-4170-b3e9-383c55644a42",
   "metadata": {},
   "outputs": [
    {
     "data": {
      "text/html": [
       "<div>\n",
       "<style scoped>\n",
       "    .dataframe tbody tr th:only-of-type {\n",
       "        vertical-align: middle;\n",
       "    }\n",
       "\n",
       "    .dataframe tbody tr th {\n",
       "        vertical-align: top;\n",
       "    }\n",
       "\n",
       "    .dataframe thead th {\n",
       "        text-align: right;\n",
       "    }\n",
       "</style>\n",
       "<table border=\"1\" class=\"dataframe\">\n",
       "  <thead>\n",
       "    <tr style=\"text-align: right;\">\n",
       "      <th></th>\n",
       "      <th>Gender</th>\n",
       "      <th>Height</th>\n",
       "      <th>Weight</th>\n",
       "    </tr>\n",
       "  </thead>\n",
       "  <tbody>\n",
       "    <tr>\n",
       "      <th>0</th>\n",
       "      <td>Male</td>\n",
       "      <td>73.847017</td>\n",
       "      <td>241.893563</td>\n",
       "    </tr>\n",
       "    <tr>\n",
       "      <th>1</th>\n",
       "      <td>Male</td>\n",
       "      <td>68.781904</td>\n",
       "      <td>162.310473</td>\n",
       "    </tr>\n",
       "    <tr>\n",
       "      <th>2</th>\n",
       "      <td>Male</td>\n",
       "      <td>74.110105</td>\n",
       "      <td>212.740856</td>\n",
       "    </tr>\n",
       "    <tr>\n",
       "      <th>3</th>\n",
       "      <td>Male</td>\n",
       "      <td>71.730978</td>\n",
       "      <td>220.042470</td>\n",
       "    </tr>\n",
       "    <tr>\n",
       "      <th>4</th>\n",
       "      <td>Male</td>\n",
       "      <td>69.881796</td>\n",
       "      <td>206.349801</td>\n",
       "    </tr>\n",
       "  </tbody>\n",
       "</table>\n",
       "</div>"
      ],
      "text/plain": [
       "  Gender     Height      Weight\n",
       "0   Male  73.847017  241.893563\n",
       "1   Male  68.781904  162.310473\n",
       "2   Male  74.110105  212.740856\n",
       "3   Male  71.730978  220.042470\n",
       "4   Male  69.881796  206.349801"
      ]
     },
     "execution_count": 64,
     "metadata": {},
     "output_type": "execute_result"
    }
   ],
   "source": [
    "df.head()"
   ]
  },
  {
   "cell_type": "code",
   "execution_count": 65,
   "id": "0eea082a-dcb5-4590-bfd3-34688ecd0ac8",
   "metadata": {},
   "outputs": [
    {
     "data": {
      "text/html": [
       "<div>\n",
       "<style scoped>\n",
       "    .dataframe tbody tr th:only-of-type {\n",
       "        vertical-align: middle;\n",
       "    }\n",
       "\n",
       "    .dataframe tbody tr th {\n",
       "        vertical-align: top;\n",
       "    }\n",
       "\n",
       "    .dataframe thead th {\n",
       "        text-align: right;\n",
       "    }\n",
       "</style>\n",
       "<table border=\"1\" class=\"dataframe\">\n",
       "  <thead>\n",
       "    <tr style=\"text-align: right;\">\n",
       "      <th></th>\n",
       "      <th>Height</th>\n",
       "      <th>Weight</th>\n",
       "    </tr>\n",
       "  </thead>\n",
       "  <tbody>\n",
       "    <tr>\n",
       "      <th>count</th>\n",
       "      <td>10000.000000</td>\n",
       "      <td>10000.000000</td>\n",
       "    </tr>\n",
       "    <tr>\n",
       "      <th>mean</th>\n",
       "      <td>66.367560</td>\n",
       "      <td>161.440357</td>\n",
       "    </tr>\n",
       "    <tr>\n",
       "      <th>std</th>\n",
       "      <td>3.847528</td>\n",
       "      <td>32.108439</td>\n",
       "    </tr>\n",
       "    <tr>\n",
       "      <th>min</th>\n",
       "      <td>54.263133</td>\n",
       "      <td>64.700127</td>\n",
       "    </tr>\n",
       "    <tr>\n",
       "      <th>25%</th>\n",
       "      <td>63.505620</td>\n",
       "      <td>135.818051</td>\n",
       "    </tr>\n",
       "    <tr>\n",
       "      <th>50%</th>\n",
       "      <td>66.318070</td>\n",
       "      <td>161.212928</td>\n",
       "    </tr>\n",
       "    <tr>\n",
       "      <th>75%</th>\n",
       "      <td>69.174262</td>\n",
       "      <td>187.169525</td>\n",
       "    </tr>\n",
       "    <tr>\n",
       "      <th>max</th>\n",
       "      <td>78.998742</td>\n",
       "      <td>269.989699</td>\n",
       "    </tr>\n",
       "  </tbody>\n",
       "</table>\n",
       "</div>"
      ],
      "text/plain": [
       "             Height        Weight\n",
       "count  10000.000000  10000.000000\n",
       "mean      66.367560    161.440357\n",
       "std        3.847528     32.108439\n",
       "min       54.263133     64.700127\n",
       "25%       63.505620    135.818051\n",
       "50%       66.318070    161.212928\n",
       "75%       69.174262    187.169525\n",
       "max       78.998742    269.989699"
      ]
     },
     "execution_count": 65,
     "metadata": {},
     "output_type": "execute_result"
    }
   ],
   "source": [
    "df.describe()"
   ]
  },
  {
   "cell_type": "code",
   "execution_count": 66,
   "id": "506fc41c-9089-4af8-b87b-ec2b74ac803d",
   "metadata": {},
   "outputs": [
    {
     "data": {
      "text/html": [
       "<div>\n",
       "<style scoped>\n",
       "    .dataframe tbody tr th:only-of-type {\n",
       "        vertical-align: middle;\n",
       "    }\n",
       "\n",
       "    .dataframe tbody tr th {\n",
       "        vertical-align: top;\n",
       "    }\n",
       "\n",
       "    .dataframe thead th {\n",
       "        text-align: right;\n",
       "    }\n",
       "</style>\n",
       "<table border=\"1\" class=\"dataframe\">\n",
       "  <thead>\n",
       "    <tr style=\"text-align: right;\">\n",
       "      <th></th>\n",
       "      <th>Height</th>\n",
       "      <th>Weight</th>\n",
       "    </tr>\n",
       "    <tr>\n",
       "      <th>Gender</th>\n",
       "      <th></th>\n",
       "      <th></th>\n",
       "    </tr>\n",
       "  </thead>\n",
       "  <tbody>\n",
       "    <tr>\n",
       "      <th>Female</th>\n",
       "      <td>63.708774</td>\n",
       "      <td>135.860093</td>\n",
       "    </tr>\n",
       "    <tr>\n",
       "      <th>Male</th>\n",
       "      <td>69.026346</td>\n",
       "      <td>187.020621</td>\n",
       "    </tr>\n",
       "  </tbody>\n",
       "</table>\n",
       "</div>"
      ],
      "text/plain": [
       "           Height      Weight\n",
       "Gender                       \n",
       "Female  63.708774  135.860093\n",
       "Male    69.026346  187.020621"
      ]
     },
     "execution_count": 66,
     "metadata": {},
     "output_type": "execute_result"
    }
   ],
   "source": [
    "df.groupby('Gender').mean()"
   ]
  },
  {
   "cell_type": "code",
   "execution_count": 67,
   "id": "0d7abd51-7773-404b-aa8a-5d0a762a5d77",
   "metadata": {},
   "outputs": [],
   "source": [
    "# df.query('Gender == \"Male\"')['Height']\n",
    "males = df[df['Gender'] == 'Male']['Height']"
   ]
  },
  {
   "cell_type": "code",
   "execution_count": 68,
   "id": "0370124b-bb15-43d4-aeef-a0a9de207a22",
   "metadata": {},
   "outputs": [
    {
     "data": {
      "text/plain": [
       "<Axes: >"
      ]
     },
     "execution_count": 68,
     "metadata": {},
     "output_type": "execute_result"
    },
    {
     "data": {
      "image/png": "[encoded data removed]",
      "text/plain": [
       "<Figure size 640x480 with 1 Axes>"
      ]
     },
     "metadata": {},
     "output_type": "display_data"
    }
   ],
   "source": [
    "males.hist(bins=100)"
   ]
  },
  {
   "cell_type": "code",
   "execution_count": 69,
   "id": "649b3d33-fe91-4117-88dd-b92054fcc5cd",
   "metadata": {},
   "outputs": [
    {
     "data": {
      "text/plain": [
       "count    5000.000000\n",
       "mean       69.026346\n",
       "std         2.863362\n",
       "min        58.406905\n",
       "25%        67.174679\n",
       "50%        69.027709\n",
       "75%        70.988744\n",
       "max        78.998742\n",
       "Name: Height, dtype: float64"
      ]
     },
     "execution_count": 69,
     "metadata": {},
     "output_type": "execute_result"
    }
   ],
   "source": [
    "males.describe()"
   ]
  },
  {
   "cell_type": "code",
   "execution_count": 70,
   "id": "28dc6ee9-3264-4d74-836c-d2ac42ad1d07",
   "metadata": {},
   "outputs": [
    {
     "data": {
      "text/plain": [
       "69.02634590621741"
      ]
     },
     "execution_count": 70,
     "metadata": {},
     "output_type": "execute_result"
    }
   ],
   "source": [
    "males.mean()"
   ]
  },
  {
   "cell_type": "code",
   "execution_count": 71,
   "id": "67f6e019-9c77-4976-98fe-b9f9f2d93f44",
   "metadata": {},
   "outputs": [
    {
     "data": {
      "text/plain": [
       "2.863362228660651"
      ]
     },
     "execution_count": 71,
     "metadata": {},
     "output_type": "execute_result"
    }
   ],
   "source": [
    "males.std()"
   ]
  },
  {
   "cell_type": "code",
   "execution_count": 72,
   "id": "91d521db-008b-4073-b310-90359663fa6f",
   "metadata": {},
   "outputs": [
    {
     "name": "stdout",
     "output_type": "stream",
     "text": [
      "[  1   0   0   0   1   0   0   3   2   3   1   5   5   4   6   5   8   9\n",
      "   9  12  14   9  16  16  19  29  34  27  20  37  47  56  60  63  59  70\n",
      "  77  78  88  89  96 101 125 131 127 129 148 148 150 135 122 168 145 139\n",
      " 151 134 124 112 144  93 133 109  98 115 113 103  83  79  62  61  46  50\n",
      "  40  43  42  34  28  30  16  20  13  11   8  11   5   8   4   7   8   4\n",
      "   3   1   3   0   0   1   0   2   1   1]\n",
      "[58.40690493 58.61282331 58.81874168 59.02466005 59.23057843 59.4364968\n",
      " 59.64241518 59.84833355 60.05425192 60.2601703  60.46608867 60.67200705\n",
      " 60.87792542 61.0838438  61.28976217 61.49568054 61.70159892 61.90751729\n",
      " 62.11343567 62.31935404 62.52527241 62.73119079 62.93710916 63.14302754\n",
      " 63.34894591 63.55486429 63.76078266 63.96670103 64.17261941 64.37853778\n",
      " 64.58445616 64.79037453 64.9962929  65.20221128 65.40812965 65.61404803\n",
      " 65.8199664  66.02588478 66.23180315 66.43772152 66.6436399  66.84955827\n",
      " 67.05547665 67.26139502 67.46731339 67.67323177 67.87915014 68.08506852\n",
      " 68.29098689 68.49690526 68.70282364 68.90874201 69.11466039 69.32057876\n",
      " 69.52649714 69.73241551 69.93833388 70.14425226 70.35017063 70.55608901\n",
      " 70.76200738 70.96792575 71.17384413 71.3797625  71.58568088 71.79159925\n",
      " 71.99751763 72.203436   72.40935437 72.61527275 72.82119112 73.0271095\n",
      " 73.23302787 73.43894624 73.64486462 73.85078299 74.05670137 74.26261974\n",
      " 74.46853812 74.67445649 74.88037486 75.08629324 75.29221161 75.49812999\n",
      " 75.70404836 75.90996673 76.11588511 76.32180348 76.52772186 76.73364023\n",
      " 76.9395586  77.14547698 77.35139535 77.55731373 77.7632321  77.96915048\n",
      " 78.17506885 78.38098722 78.5869056  78.79282397 78.99874235]\n"
     ]
    }
   ],
   "source": [
    "# view historgram values separatly, frequencies and boundries:\n",
    "count, boundry = np.histogram(males, bins=100)\n",
    "print(count)\n",
    "print(boundry)"
   ]
  },
  {
   "cell_type": "code",
   "execution_count": 73,
   "id": "25964451-e750-46b0-83b5-4572344f2094",
   "metadata": {},
   "outputs": [],
   "source": [
    "sorted(list(zip(count, boundry)), reverse=True);"
   ]
  },
  {
   "cell_type": "code",
   "execution_count": 74,
   "id": "47abd4fe-8a29-479f-abdc-998b4999acda",
   "metadata": {},
   "outputs": [],
   "source": [
    "# Generate a normal random value set, to compare with\n",
    "ideal = stats.norm.rvs(size=len(males), loc=males.mean(), scale=males.std())"
   ]
  },
  {
   "cell_type": "code",
   "execution_count": 75,
   "id": "1caffade-8a91-4c86-82f7-42bd9830462f",
   "metadata": {},
   "outputs": [
    {
     "data": {
      "text/plain": [
       "(array([  19.,   87.,  392.,  888., 1370., 1217.,  689.,  277.,   51.,\n",
       "          10.]),\n",
       " array([59.22076008, 61.23387807, 63.24699606, 65.26011404, 67.27323203,\n",
       "        69.28635002, 71.29946801, 73.312586  , 75.32570398, 77.33882197,\n",
       "        79.35193996]),\n",
       " <BarContainer object of 10 artists>)"
      ]
     },
     "execution_count": 75,
     "metadata": {},
     "output_type": "execute_result"
    },
    {
     "data": {
      "image/png": "[encoded data removed]",
      "text/plain": [
       "<Figure size 640x480 with 1 Axes>"
      ]
     },
     "metadata": {},
     "output_type": "display_data"
    }
   ],
   "source": [
    "plt.hist(ideal)"
   ]
  },
  {
   "cell_type": "code",
   "execution_count": 76,
   "id": "91cc6356-0aea-453a-8ead-0f65684727ce",
   "metadata": {},
   "outputs": [
    {
     "name": "stdout",
     "output_type": "stream",
     "text": [
      "[  1   0   1   3   2   1   1   6   1   3   5   3   5   3   8  12  10  14\n",
      "  15  12  25  23  28  28  31  47  53  56  55  46  73  72  71  68  76  96\n",
      "  96 111 101 124 121 124 134 120 139 133 151 138 165 145 151 117 135 128\n",
      " 128 124 125 106 112  91  92  95  94  91  60  60  64  54  40  39  41  34\n",
      "  35  31  31  24  24  26  16  15  10   7   7  11   6   2   4   0   3   1\n",
      "   2   0   0   3   1   0   2   1   0   1]\n",
      "[59.22076008 59.42207188 59.62338368 59.82469548 60.02600728 60.22731907\n",
      " 60.42863087 60.62994267 60.83125447 61.03256627 61.23387807 61.43518987\n",
      " 61.63650167 61.83781346 62.03912526 62.24043706 62.44174886 62.64306066\n",
      " 62.84437246 63.04568426 63.24699606 63.44830786 63.64961965 63.85093145\n",
      " 64.05224325 64.25355505 64.45486685 64.65617865 64.85749045 65.05880225\n",
      " 65.26011404 65.46142584 65.66273764 65.86404944 66.06536124 66.26667304\n",
      " 66.46798484 66.66929664 66.87060843 67.07192023 67.27323203 67.47454383\n",
      " 67.67585563 67.87716743 68.07847923 68.27979103 68.48110283 68.68241462\n",
      " 68.88372642 69.08503822 69.28635002 69.48766182 69.68897362 69.89028542\n",
      " 70.09159722 70.29290901 70.49422081 70.69553261 70.89684441 71.09815621\n",
      " 71.29946801 71.50077981 71.70209161 71.9034034  72.1047152  72.306027\n",
      " 72.5073388  72.7086506  72.9099624  73.1112742  73.312586   73.5138978\n",
      " 73.71520959 73.91652139 74.11783319 74.31914499 74.52045679 74.72176859\n",
      " 74.92308039 75.12439219 75.32570398 75.52701578 75.72832758 75.92963938\n",
      " 76.13095118 76.33226298 76.53357478 76.73488658 76.93619838 77.13751017\n",
      " 77.33882197 77.54013377 77.74144557 77.94275737 78.14406917 78.34538097\n",
      " 78.54669277 78.74800456 78.94931636 79.15062816 79.35193996]\n"
     ]
    }
   ],
   "source": [
    "# view historgram values separatly, frequencies and boundries:\n",
    "icount, iboundry = np.histogram(ideal, bins=100)\n",
    "print(icount)\n",
    "print(iboundry)"
   ]
  },
  {
   "cell_type": "code",
   "execution_count": 77,
   "id": "689fd539-f7e7-4571-af82-aebf7a513988",
   "metadata": {},
   "outputs": [],
   "source": [
    "p = (count/ np.sum(count))\n",
    "q = (icount/ np.sum(icount))           "
   ]
  },
  {
   "cell_type": "code",
   "execution_count": 78,
   "id": "1a1eb5a4-5fb1-4c5e-a14c-2c78c9dbc087",
   "metadata": {},
   "outputs": [
    {
     "name": "stderr",
     "output_type": "stream",
     "text": [
      "C:\\Users\\104974068\\AppData\\Local\\Temp\\ipykernel_8328\\3197093547.py:8: RuntimeWarning: invalid value encountered in divide\n",
      "  kl = np.sum(p * np.log(p / q, where=((p > 0) & (q > 0))))\n"
     ]
    },
    {
     "data": {
      "text/plain": [
       "0.24038733637922136"
      ]
     },
     "execution_count": 78,
     "metadata": {},
     "output_type": "execute_result"
    }
   ],
   "source": [
    "kl_divergence(p, q)"
   ]
  },
  {
   "cell_type": "code",
   "execution_count": 79,
   "id": "b1fd5bd0-e3d7-450e-bc99-fafc02ce60e1",
   "metadata": {},
   "outputs": [
    {
     "data": {
      "text/plain": [
       "0.2405873363792214"
      ]
     },
     "execution_count": 79,
     "metadata": {},
     "output_type": "execute_result"
    }
   ],
   "source": [
    "# np.sum(scipy.special.kl_div(p_males, q_males, out=None, where=(p_males>0) & (q_males>0)))\n",
    "np.sum(scipy.special.kl_div(p, q, out=None, where=(p > 0) & (q > 0)))\n"
   ]
  },
  {
   "cell_type": "code",
   "execution_count": 80,
   "id": "9b6cf01e-a5a9-4b0f-95ff-3f87e3c08186",
   "metadata": {},
   "outputs": [
    {
     "data": {
      "text/plain": [
       "[<matplotlib.lines.Line2D at 0x2333e151390>]"
      ]
     },
     "execution_count": 80,
     "metadata": {},
     "output_type": "execute_result"
    },
    {
     "data": {
      "image/png": "[encoded data removed]",
      "text/plain": [
       "<Figure size 640x480 with 1 Axes>"
      ]
     },
     "metadata": {},
     "output_type": "display_data"
    }
   ],
   "source": [
    "plt.plot(count, c='b')\n",
    "plt.plot(icount, c='r')"
   ]
  },
  {
   "cell_type": "markdown",
   "id": "b5fd8287-0c94-4b52-b988-4170919f9ecf",
   "metadata": {},
   "source": [
    "### Interpration\n",
    "greater kl value = more difference \n",
    "* pos:\n",
    "* 0:\n",
    "* neg:\n",
    "\n",
    "\n",
    "_____________________"
   ]
  },
  {
   "cell_type": "markdown",
   "id": "ce86f43d-c12a-4cdd-b264-b39d63883182",
   "metadata": {},
   "source": [
    "-----\n",
    "## Jenson and Shanon"
   ]
  },
  {
   "cell_type": "code",
   "execution_count": null,
   "id": "2bb3ecd7-9ea9-412f-9bd6-52ac575aa5c7",
   "metadata": {},
   "outputs": [],
   "source": []
  }
 ],
 "metadata": {
  "kernelspec": {
   "display_name": "Python 3 (ipykernel)",
   "language": "python",
   "name": "python3"
  },
  "language_info": {
   "codemirror_mode": {
    "name": "ipython",
    "version": 3
   },
   "file_extension": ".py",
   "mimetype": "text/x-python",
   "name": "python",
   "nbconvert_exporter": "python",
   "pygments_lexer": "ipython3",
   "version": "3.10.9"
  }
 },
 "nbformat": 4,
 "nbformat_minor": 5
}
