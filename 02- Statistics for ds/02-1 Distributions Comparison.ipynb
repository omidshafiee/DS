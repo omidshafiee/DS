{
 "cells": [
  {
   "cell_type": "code",
<<<<<<< HEAD
   "execution_count": 10,
=======
   "execution_count": 52,
>>>>>>> cab18372443d0ae9bea355b18b0ab92900e3a145
   "id": "12129472",
   "metadata": {},
   "outputs": [],
   "source": [
    "import numpy as np\n",
    "import pandas as pd\n",
    "\n",
    "import scipy.stats as stats\n",
    "from statsmodels.stats.proportion import proportions_ztest\n",
    "\n",
    "import matplotlib.pyplot as plt\n",
    "import seaborn as sns\n",
    "\n",
    "%matplotlib inline"
   ]
  },
  {
   "cell_type": "code",
   "execution_count": 53,
   "id": "8f928691",
   "metadata": {},
   "outputs": [
    {
     "data": {
      "text/plain": [
       "{'divide': 'ignore', 'over': 'warn', 'under': 'ignore', 'invalid': 'warn'}"
      ]
     },
     "execution_count": 53,
     "metadata": {},
     "output_type": "execute_result"
    }
   ],
   "source": [
    "np.seterr(divide = 'ignore') "
   ]
  },
  {
   "cell_type": "markdown",
   "id": "c33bd3d6",
   "metadata": {},
   "source": [
    "# Kullback–Leibler divergence\n",
    "<br/>\n",
    "\\begin{equation}\n",
    "\\text{For discrete probability distributions P and Q }: \\\\\n",
    "D_{KL} (P \\left |  \\right | Q) = \\sum{P(x)} \\log\\left( \\frac{P(x)}{Q(x)} \\right )\n",
    "\\end{equation}"
   ]
  },
  {
   "cell_type": "markdown",
   "id": "89449f54",
   "metadata": {},
   "source": [
    "<br/>\n",
    "\\begin{equation}\n",
    "\\text{For distributions P and Q of a continuous random variable} \\\\\n",
    "D_{KL} (P \\left |  \\right | Q) =  \\int_{a}^{b} {p(x)}  \\left(\\frac{p(x)}{q(x)} \\right ) dx\n",
    "\\end{equation}\n",
    "<br/>"
   ]
  },
  {
   "cell_type": "code",
   "execution_count": 54,
   "id": "15483e71",
   "metadata": {},
   "outputs": [],
   "source": [
    "# dataset_1 = stats.randint.rvs(low=0, high=100 , size=100, loc=0)\n",
    "# dataset_2 = stats.randint.rvs(low=0, high=100 , size=100, loc=0)\n",
    "\n",
    "dataset_1 = stats.norm.rvs(size=100, loc=50, scale=5)\n",
    "dataset_2 = stats.norm.rvs(size=100, loc=60, scale=5)\n"
   ]
  },
  {
   "cell_type": "code",
   "execution_count": 55,
   "id": "eee6b544-e892-45b3-b3f7-7fcf45464bcc",
   "metadata": {},
   "outputs": [
    {
     "data": {
      "text/plain": [
       "numpy.ndarray"
      ]
     },
     "execution_count": 55,
     "metadata": {},
     "output_type": "execute_result"
    }
   ],
   "source": [
    "type(dataset_1)"
   ]
  },
  {
   "cell_type": "code",
   "execution_count": 56,
   "id": "c0119c0a",
   "metadata": {},
   "outputs": [
    {
     "data": {
      "text/plain": [
       "<Axes: ylabel='Count'>"
      ]
     },
     "execution_count": 56,
     "metadata": {},
     "output_type": "execute_result"
    },
    {
     "data": {
      "image/png": "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\n",
      "text/plain": [
       "<Figure size 640x480 with 1 Axes>"
      ]
     },
     "metadata": {},
     "output_type": "display_data"
    }
   ],
   "source": [
    "sns.histplot(dataset_1)\n",
    "sns.histplot(dataset_2)"
   ]
  },
  {
   "cell_type": "code",
   "execution_count": 57,
   "id": "a1e82ba1-1588-4824-a6b6-81596e2af2aa",
   "metadata": {},
   "outputs": [],
   "source": [
    "# Calculate data_1 probabilities as p\n",
    "p = dataset_1 / np.sum(dataset_1)\n",
    "\n",
    "# Calculate data_2 probabilities as q\n",
    "q = dataset_2 / np.sum(dataset_2)"
   ]
  },
  {
   "cell_type": "markdown",
   "id": "8332fb2c",
   "metadata": {},
   "source": [
    "\\begin{equation}\n",
    "\\mathrm{kl\\_div}(x, y) =\n",
    "      \\begin{cases}\n",
    "        x \\log(x / y) - x + y & x > 0, y > 0 \\\\\n",
    "        y & x = 0, y \\ge 0 \\\\\n",
    "        \\infty & \\text{otherwise}\n",
    "      \\end{cases}\n",
    "\\end{equation}"
   ]
  },
  {
   "cell_type": "code",
<<<<<<< HEAD
   "execution_count": 11,
   "id": "15483e71",
=======
   "execution_count": 58,
   "id": "3130b40f-d2fe-44e4-91a7-96a2ea9df6fa",
>>>>>>> cab18372443d0ae9bea355b18b0ab92900e3a145
   "metadata": {},
   "outputs": [],
   "source": [
    "# Calculate KL (for discret values)\n",
    "# NOTE: Logarithm 0 and negative numbers is undefined. So here kl is calculated \n",
    "# for both p and q positive values according the formula \n",
    "\n",
<<<<<<< HEAD
    "dataset_1 = stats.norm.rvs(size=100, loc=0, scale=1)\n",
    "dataset_2 = stats.norm.rvs(size=100, loc=0, scale=1)\n"
   ]
  },
  {
   "cell_type": "code",
   "execution_count": 27,
   "id": "c0119c0a",
   "metadata": {},
   "outputs": [
    {
     "data": {
      "text/plain": [
       "<AxesSubplot:ylabel='Count'>"
      ]
     },
     "execution_count": 27,
     "metadata": {},
     "output_type": "execute_result"
    },
    {
     "data": {
      "image/png": "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\n",
      "text/plain": [
       "<Figure size 432x288 with 1 Axes>"
      ]
     },
     "metadata": {
      "needs_background": "light"
     },
     "output_type": "display_data"
    }
   ],
   "source": [
    "sns.histplot(dataset_1,color='pink')\n",
    "sns.histplot(dataset_2, color='orange')\n"
   ]
  },
  {
   "cell_type": "code",
   "execution_count": 13,
   "id": "8f928691",
   "metadata": {},
   "outputs": [
    {
     "data": {
      "text/plain": [
       "{'divide': 'ignore', 'over': 'warn', 'under': 'ignore', 'invalid': 'warn'}"
      ]
     },
     "execution_count": 13,
     "metadata": {},
     "output_type": "execute_result"
    }
   ],
   "source": [
    "np.seterr(divide = 'ignore') "
   ]
  },
  {
   "cell_type": "code",
   "execution_count": 22,
   "id": "f1c1c5e4",
   "metadata": {},
   "outputs": [
    {
     "name": "stderr",
     "output_type": "stream",
     "text": [
      "C:\\Users\\Mehdi\\AppData\\Local\\Temp/ipykernel_5536/1305334940.py:12: RuntimeWarning: invalid value encountered in log\n",
      "  kl = np.sum(np.where(p != 0, p * np.log(p / q), 0))\n"
     ]
    },
    {
     "data": {
      "text/plain": [
       "nan"
      ]
     },
     "execution_count": 22,
     "metadata": {},
     "output_type": "execute_result"
    }
   ],
   "source": [
    "# Calculate data_1 probabilities as p\n",
    "p = abs(dataset_1 / np.sum(dataset_1))\n",
=======
    "def kl_divergence(p, q):\n",
    "    kl = np.sum(np.where(np.logical_and( p != 0, q != 0 ), p * np.log(p, q), 0))\n",
    "    # test the value and explain the result\n",
    "    # kl = np.sum(p * np.log(p / q, where=((p > 0) & (q > 0))))\n",
>>>>>>> cab18372443d0ae9bea355b18b0ab92900e3a145
    "\n",
    "    return kl "
   ]
  },
  {
   "cell_type": "code",
<<<<<<< HEAD
   "execution_count": 21,
   "id": "b00c2259",
=======
   "execution_count": 59,
   "id": "40ceb912-704f-47ba-ae6d-bc49318bc1cd",
>>>>>>> cab18372443d0ae9bea355b18b0ab92900e3a145
   "metadata": {},
   "outputs": [
    {
     "data": {
      "text/plain": [
       "-4.600317182115851"
      ]
     },
<<<<<<< HEAD
     "execution_count": 21,
=======
     "execution_count": 59,
>>>>>>> cab18372443d0ae9bea355b18b0ab92900e3a145
     "metadata": {},
     "output_type": "execute_result"
    }
   ],
   "source": [
    "kl_divergence(p, q)"
   ]
  },
  {
<<<<<<< HEAD
   "cell_type": "code",
   "execution_count": 16,
   "id": "8501cb4f",
   "metadata": {},
   "outputs": [
    {
     "data": {
      "text/plain": [
       "array([-3.05795538, -4.30242921, -2.46459132, -8.45023567, -2.05031973,\n",
       "       -2.07622691, -2.43042141, -2.75701582, -4.12550552, -3.19503217,\n",
       "       -2.67296562, -1.94744868, -4.22838989, -3.2026168 , -2.58483098,\n",
       "       -2.25965125, -4.57453535, -2.19831559, -3.60405237, -2.27912911,\n",
       "       -2.24742912, -4.27965688, -3.74655447, -3.00406407, -3.89317344,\n",
       "       -2.28336477, -2.17794302, -2.86224504, -3.49164084, -4.21560936,\n",
       "       -2.15767135, -2.72674967, -2.78687589, -3.41309524, -2.65577068,\n",
       "       -2.48274392, -3.12468536, -5.94177982, -3.09196292, -4.25489747,\n",
       "       -3.25734729, -4.05471812, -3.2728136 , -4.38989453, -2.17359181,\n",
       "       -2.27731068, -3.20604561, -7.31321028, -2.77745371, -6.02246105,\n",
       "       -4.02998784, -2.26193972, -1.98357058, -2.78664964, -2.73311174,\n",
       "       -3.85322192, -1.71720409, -2.73126049, -3.27906858, -4.17011767,\n",
       "       -2.8379531 , -2.41778506, -2.80723866, -2.77000612, -5.01940258,\n",
       "       -4.97519727, -2.70680925, -2.89885217, -3.89214235, -2.71910657,\n",
       "       -3.11733061, -4.8647612 , -2.79896464, -3.06408506, -3.16525759,\n",
       "       -3.33853085, -2.46378643, -1.87524436, -4.71128063, -4.64025995,\n",
       "       -3.29598142, -2.98814739, -1.91747967, -2.73391683, -2.60797257,\n",
       "       -3.0807235 , -1.95034477, -5.90081928, -3.9750515 , -3.08704065,\n",
       "       -2.70127779, -3.63892506, -2.9508796 , -5.6795672 , -2.86643106,\n",
       "       -2.58972211, -4.78996913, -2.05001752, -3.5982131 , -2.61313062])"
      ]
     },
     "execution_count": 16,
     "metadata": {},
     "output_type": "execute_result"
    }
   ],
=======
   "cell_type": "markdown",
   "id": "572b48b2-51c6-482f-b6f4-80be82e796f2",
   "metadata": {},
>>>>>>> cab18372443d0ae9bea355b18b0ab92900e3a145
   "source": [
    "------------\n",
    "### KL with python libraries:"
   ]
  },
  {
   "cell_type": "code",
<<<<<<< HEAD
   "execution_count": 8,
   "id": "0fcea250",
   "metadata": {},
   "outputs": [
    {
     "data": {
      "text/plain": [
       "array([1.38629436, 2.48490665,       -inf, 2.77258872, 5.07517382,\n",
       "       5.768321  ])"
      ]
     },
     "execution_count": 8,
     "metadata": {},
     "output_type": "execute_result"
    }
   ],
   "source": [
    "a = np.array([4, 12, 0, 16, 160, 320])\n",
    "np.log(a)"
   ]
  },
  {
   "cell_type": "code",
   "execution_count": 9,
=======
   "execution_count": 60,
>>>>>>> cab18372443d0ae9bea355b18b0ab92900e3a145
   "id": "8bfcc488",
   "metadata": {},
   "outputs": [
    {
     "data": {
      "text/plain": [
       "-4.600317182115851"
      ]
     },
<<<<<<< HEAD
     "execution_count": 9,
=======
     "execution_count": 60,
>>>>>>> cab18372443d0ae9bea355b18b0ab92900e3a145
     "metadata": {},
     "output_type": "execute_result"
    }
   ],
   "source": [
    "import scipy\n",
    "kl2 = scipy.special.kl_div(p, q, out=None, where=(p>0) & (q>0))\n",
    "np.sum(kl2)"
   ]
  },
  {
   "cell_type": "markdown",
   "id": "b5fd8287-0c94-4b52-b988-4170919f9ecf",
   "metadata": {},
   "source": [
    "### Interpration\n",
    "* pos:\n",
    "* 0:\n",
    "* neg:\n",
    "\n",
    "\n",
    "_____________________"
   ]
  },
  {
   "cell_type": "markdown",
   "id": "ce86f43d-c12a-4cdd-b264-b39d63883182",
   "metadata": {},
   "source": [
    "-----\n",
    "## Jenson and Shanon"
   ]
  },
  {
   "cell_type": "code",
   "execution_count": null,
   "id": "2bb3ecd7-9ea9-412f-9bd6-52ac575aa5c7",
   "metadata": {},
   "outputs": [],
   "source": []
  }
 ],
 "metadata": {
  "kernelspec": {
   "display_name": "Python 3 (ipykernel)",
   "language": "python",
   "name": "python3"
  },
  "language_info": {
   "codemirror_mode": {
    "name": "ipython",
    "version": 3
   },
   "file_extension": ".py",
   "mimetype": "text/x-python",
   "name": "python",
   "nbconvert_exporter": "python",
   "pygments_lexer": "ipython3",
   "version": "3.9.7"
  }
 },
 "nbformat": 4,
 "nbformat_minor": 5
}
