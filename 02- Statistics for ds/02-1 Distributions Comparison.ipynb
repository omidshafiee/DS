{
 "cells": [
  {
   "cell_type": "code",
   "execution_count": 52,
   "id": "12129472",
   "metadata": {},
   "outputs": [],
   "source": [
    "import numpy as np\n",
    "import pandas as pd\n",
    "\n",
    "import scipy.stats as stats\n",
    "from statsmodels.stats.proportion import proportions_ztest\n",
    "\n",
    "import matplotlib.pyplot as plt\n",
    "import seaborn as sns\n",
    "\n",
    "%matplotlib inline"
   ]
  },
  {
   "cell_type": "code",
   "execution_count": 53,
   "id": "8f928691",
   "metadata": {},
   "outputs": [
    {
     "data": {
      "text/plain": [
       "{'divide': 'ignore', 'over': 'warn', 'under': 'ignore', 'invalid': 'warn'}"
      ]
     },
     "execution_count": 53,
     "metadata": {},
     "output_type": "execute_result"
    }
   ],
   "source": [
    "np.seterr(divide = 'ignore') "
   ]
  },
  {
   "cell_type": "markdown",
   "id": "c33bd3d6",
   "metadata": {},
   "source": [
    "# Kullback–Leibler divergence\n",
    "<br/>\n",
    "\\begin{equation}\n",
    "\\text{For discrete probability distributions P and Q }: \\\\\n",
    "D_{KL} (P \\left |  \\right | Q) = \\sum{P(x)} \\log\\left( \\frac{P(x)}{Q(x)} \\right )\n",
    "\\end{equation}"
   ]
  },
  {
   "cell_type": "markdown",
   "id": "89449f54",
   "metadata": {},
   "source": [
    "<br/>\n",
    "\\begin{equation}\n",
    "\\text{For distributions P and Q of a continuous random variable} \\\\\n",
    "D_{KL} (P \\left |  \\right | Q) =  \\int_{a}^{b} {p(x)}  \\left(\\frac{p(x)}{q(x)} \\right ) dx\n",
    "\\end{equation}\n",
    "<br/>"
   ]
  },
  {
   "cell_type": "code",
   "execution_count": 54,
   "id": "15483e71",
   "metadata": {},
   "outputs": [],
   "source": [
    "# dataset_1 = stats.randint.rvs(low=0, high=100 , size=100, loc=0)\n",
    "# dataset_2 = stats.randint.rvs(low=0, high=100 , size=100, loc=0)\n",
    "\n",
    "dataset_1 = stats.norm.rvs(size=100, loc=50, scale=5)\n",
    "dataset_2 = stats.norm.rvs(size=100, loc=60, scale=5)\n"
   ]
  },
  {
   "cell_type": "code",
   "execution_count": 55,
   "id": "eee6b544-e892-45b3-b3f7-7fcf45464bcc",
   "metadata": {},
   "outputs": [
    {
     "data": {
      "text/plain": [
       "numpy.ndarray"
      ]
     },
     "execution_count": 55,
     "metadata": {},
     "output_type": "execute_result"
    }
   ],
   "source": [
    "type(dataset_1)"
   ]
  },
  {
   "cell_type": "code",
   "execution_count": 56,
   "id": "c0119c0a",
   "metadata": {},
   "outputs": [
    {
     "data": {
      "text/plain": [
       "<Axes: ylabel='Count'>"
      ]
     },
     "execution_count": 56,
     "metadata": {},
     "output_type": "execute_result"
    },
    {
     "data": {
      "image/png": "[encoded data removed]",
      "text/plain": [
       "<Figure size 640x480 with 1 Axes>"
      ]
     },
     "metadata": {},
     "output_type": "display_data"
    }
   ],
   "source": [
    "sns.histplot(dataset_1)\n",
    "sns.histplot(dataset_2)"
   ]
  },
  {
   "cell_type": "code",
   "execution_count": 57,
   "id": "a1e82ba1-1588-4824-a6b6-81596e2af2aa",
   "metadata": {},
   "outputs": [],
   "source": [
    "# Calculate data_1 probabilities as p\n",
    "p = dataset_1 / np.sum(dataset_1)\n",
    "\n",
    "# Calculate data_2 probabilities as q\n",
    "q = dataset_2 / np.sum(dataset_2)"
   ]
  },
  {
   "cell_type": "markdown",
   "id": "8332fb2c",
   "metadata": {},
   "source": [
    "\\begin{equation}\n",
    "\\mathrm{kl\\_div}(x, y) =\n",
    "      \\begin{cases}\n",
    "        x \\log(x / y) - x + y & x > 0, y > 0 \\\\\n",
    "        y & x = 0, y \\ge 0 \\\\\n",
    "        \\infty & \\text{otherwise}\n",
    "      \\end{cases}\n",
    "\\end{equation}"
   ]
  },
  {
   "cell_type": "code",
   "execution_count": 58,
   "id": "3130b40f-d2fe-44e4-91a7-96a2ea9df6fa",
   "metadata": {},
   "outputs": [],
   "source": [
    "# Calculate KL (for discret values)\n",
    "# NOTE: Logarithm 0 and negative numbers is undefined. So here kl is calculated \n",
    "# for both p and q positive values according the formula \n",
    "\n",
    "def kl_divergence(p, q):\n",
    "    kl = np.sum(np.where(np.logical_and( p != 0, q != 0 ), p * np.log(p, q), 0))\n",
    "    # test the value and explain the result\n",
    "    # kl = np.sum(p * np.log(p / q, where=((p > 0) & (q > 0))))\n",
    "\n",
    "    return kl "
   ]
  },
  {
   "cell_type": "code",
   "execution_count": 59,
   "id": "40ceb912-704f-47ba-ae6d-bc49318bc1cd",
   "metadata": {},
   "outputs": [
    {
     "data": {
      "text/plain": [
       "-4.600317182115851"
      ]
     },
     "execution_count": 59,
     "metadata": {},
     "output_type": "execute_result"
    }
   ],
   "source": [
    "kl_divergence(p, q)"
   ]
  },
  {
   "cell_type": "markdown",
   "id": "572b48b2-51c6-482f-b6f4-80be82e796f2",
   "metadata": {},
   "source": [
    "------------\n",
    "### KL with python libraries:"
   ]
  },
  {
   "cell_type": "code",
   "execution_count": 60,
   "id": "8bfcc488",
   "metadata": {},
   "outputs": [
    {
     "data": {
      "text/plain": [
       "-4.600317182115851"
      ]
     },
     "execution_count": 60,
     "metadata": {},
     "output_type": "execute_result"
    }
   ],
   "source": [
    "import scipy\n",
    "kl2 = scipy.special.kl_div(p, q, out=None, where=(p>0) & (q>0))\n",
    "np.sum(kl2)"
   ]
  },
  {
   "cell_type": "markdown",
   "id": "b5fd8287-0c94-4b52-b988-4170919f9ecf",
   "metadata": {},
   "source": [
    "### Interpration\n",
    "* pos:\n",
    "* 0:\n",
    "* neg:\n",
    "\n",
    "\n",
    "_____________________"
   ]
  },
  {
   "cell_type": "markdown",
   "id": "ce86f43d-c12a-4cdd-b264-b39d63883182",
   "metadata": {},
   "source": [
    "-----\n",
    "## Jenson and Shanon"
   ]
  },
  {
   "cell_type": "code",
   "execution_count": null,
   "id": "2bb3ecd7-9ea9-412f-9bd6-52ac575aa5c7",
   "metadata": {},
   "outputs": [],
   "source": []
  }
 ],
 "metadata": {
  "kernelspec": {
   "display_name": "Python 3 (ipykernel)",
   "language": "python",
   "name": "python3"
  },
  "language_info": {
   "codemirror_mode": {
    "name": "ipython",
    "version": 3
   },
   "file_extension": ".py",
   "mimetype": "text/x-python",
   "name": "python",
   "nbconvert_exporter": "python",
   "pygments_lexer": "ipython3",
   "version": "3.10.9"
  }
 },
 "nbformat": 4,
 "nbformat_minor": 5
}
