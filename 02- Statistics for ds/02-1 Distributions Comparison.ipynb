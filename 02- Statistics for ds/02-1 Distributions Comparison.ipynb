{
 "cells": [
  {
   "cell_type": "code",
   "execution_count": 10,
   "id": "12129472",
   "metadata": {},
   "outputs": [],
   "source": [
    "import numpy as np\n",
    "import pandas as pd\n",
    "\n",
    "import scipy.stats as stats\n",
    "from statsmodels.stats.proportion import proportions_ztest\n",
    "\n",
    "import matplotlib.pyplot as plt\n",
    "import seaborn as sns\n",
    "\n",
    "%matplotlib inline"
   ]
  },
  {
   "cell_type": "markdown",
   "id": "c33bd3d6",
   "metadata": {},
   "source": [
    "# Kullback–Leibler divergence\n",
    "<br/>\n",
    "\\begin{equation}\n",
    "\\text{For discrete probability distributions P and Q }: \\\\\n",
    "D_{KL} (P \\left |  \\right | Q) = \\sum{P(x)} \\log\\left( \\frac{P(x)}{Q(x)} \\right )\n",
    "\\end{equation}"
   ]
  },
  {
   "cell_type": "markdown",
   "id": "89449f54",
   "metadata": {},
   "source": [
    "<br/>\n",
    "\\begin{equation}\n",
    "\\text{For distributions P and Q of a continuous random variable} \\\\\n",
    "D_{KL} (P \\left |  \\right | Q) =  \\int_{a}^{b} {p(x)}  \\left(\\frac{p(x)}{q(x)} \\right ) dx\n",
    "\\end{equation}\n",
    "<br/>"
   ]
  },
  {
   "cell_type": "markdown",
   "id": "8332fb2c",
   "metadata": {},
   "source": [
    "\\begin{equation}\n",
    "\\mathrm{kl\\_div}(x, y) =\n",
    "      \\begin{cases}\n",
    "        x \\log(x / y) - x + y & x > 0, y > 0 \\\\\n",
    "        y & x = 0, y \\ge 0 \\\\\n",
    "        \\infty & \\text{otherwise}\n",
    "      \\end{cases}\n",
    "\\end{equation}"
   ]
  },
  {
   "cell_type": "code",
   "execution_count": 11,
   "id": "15483e71",
   "metadata": {},
   "outputs": [],
   "source": [
    "# dataset_1 = stats.randint.rvs(low=0, high=100 , size=100, loc=0)\n",
    "# dataset_2 = stats.randint.rvs(low=0, high=100 , size=100, loc=0)\n",
    "\n",
    "dataset_1 = stats.norm.rvs(size=100, loc=0, scale=1)\n",
    "dataset_2 = stats.norm.rvs(size=100, loc=0, scale=1)\n"
   ]
  },
  {
   "cell_type": "code",
   "execution_count": 27,
   "id": "c0119c0a",
   "metadata": {},
   "outputs": [
    {
     "data": {
      "text/plain": [
       "<AxesSubplot:ylabel='Count'>"
      ]
     },
     "execution_count": 27,
     "metadata": {},
     "output_type": "execute_result"
    },
    {
     "data": {
      "image/png": "[encoded data removed]",
      "text/plain": [
       "<Figure size 432x288 with 1 Axes>"
      ]
     },
     "metadata": {
      "needs_background": "light"
     },
     "output_type": "display_data"
    }
   ],
   "source": [
    "sns.histplot(dataset_1,color='pink')\n",
    "sns.histplot(dataset_2, color='orange')\n"
   ]
  },
  {
   "cell_type": "code",
   "execution_count": 13,
   "id": "8f928691",
   "metadata": {},
   "outputs": [
    {
     "data": {
      "text/plain": [
       "{'divide': 'ignore', 'over': 'warn', 'under': 'ignore', 'invalid': 'warn'}"
      ]
     },
     "execution_count": 13,
     "metadata": {},
     "output_type": "execute_result"
    }
   ],
   "source": [
    "np.seterr(divide = 'ignore') "
   ]
  },
  {
   "cell_type": "code",
   "execution_count": 22,
   "id": "f1c1c5e4",
   "metadata": {},
   "outputs": [
    {
     "name": "stderr",
     "output_type": "stream",
     "text": [
      "C:\\Users\\Mehdi\\AppData\\Local\\Temp/ipykernel_5536/1305334940.py:12: RuntimeWarning: invalid value encountered in log\n",
      "  kl = np.sum(np.where(p != 0, p * np.log(p / q), 0))\n"
     ]
    },
    {
     "data": {
      "text/plain": [
       "nan"
      ]
     },
     "execution_count": 22,
     "metadata": {},
     "output_type": "execute_result"
    }
   ],
   "source": [
    "# Calculate data_1 probabilities as p\n",
    "p = abs(dataset_1 / np.sum(dataset_1))\n",
    "\n",
    "# Calculate data_2 probabilities as q\n",
    "q = abs(dataset_2 / np.sum(dataset_2))\n",
    "\n",
    "# Calculate KL\n",
    "# kl = np.sum(p * np.log(p / q))\n",
    "# kl = np.sum(p * np.log((p / q), out=kl))\n",
    "# def kl_divergence(p, q):\n",
    "# return \n",
    "kl = np.sum(np.where(p != 0, p * np.log(p / q), 0))\n",
    "\n",
    "kl"
   ]
  },
  {
   "cell_type": "code",
   "execution_count": 21,
   "id": "b00c2259",
   "metadata": {},
   "outputs": [
    {
     "data": {
      "text/plain": [
       "100"
      ]
     },
     "execution_count": 21,
     "metadata": {},
     "output_type": "execute_result"
    }
   ],
   "source": [
    "len(np.log(p, out=p, where=p>0))"
   ]
  },
  {
   "cell_type": "code",
   "execution_count": 16,
   "id": "8501cb4f",
   "metadata": {},
   "outputs": [
    {
     "data": {
      "text/plain": [
       "array([-3.05795538, -4.30242921, -2.46459132, -8.45023567, -2.05031973,\n",
       "       -2.07622691, -2.43042141, -2.75701582, -4.12550552, -3.19503217,\n",
       "       -2.67296562, -1.94744868, -4.22838989, -3.2026168 , -2.58483098,\n",
       "       -2.25965125, -4.57453535, -2.19831559, -3.60405237, -2.27912911,\n",
       "       -2.24742912, -4.27965688, -3.74655447, -3.00406407, -3.89317344,\n",
       "       -2.28336477, -2.17794302, -2.86224504, -3.49164084, -4.21560936,\n",
       "       -2.15767135, -2.72674967, -2.78687589, -3.41309524, -2.65577068,\n",
       "       -2.48274392, -3.12468536, -5.94177982, -3.09196292, -4.25489747,\n",
       "       -3.25734729, -4.05471812, -3.2728136 , -4.38989453, -2.17359181,\n",
       "       -2.27731068, -3.20604561, -7.31321028, -2.77745371, -6.02246105,\n",
       "       -4.02998784, -2.26193972, -1.98357058, -2.78664964, -2.73311174,\n",
       "       -3.85322192, -1.71720409, -2.73126049, -3.27906858, -4.17011767,\n",
       "       -2.8379531 , -2.41778506, -2.80723866, -2.77000612, -5.01940258,\n",
       "       -4.97519727, -2.70680925, -2.89885217, -3.89214235, -2.71910657,\n",
       "       -3.11733061, -4.8647612 , -2.79896464, -3.06408506, -3.16525759,\n",
       "       -3.33853085, -2.46378643, -1.87524436, -4.71128063, -4.64025995,\n",
       "       -3.29598142, -2.98814739, -1.91747967, -2.73391683, -2.60797257,\n",
       "       -3.0807235 , -1.95034477, -5.90081928, -3.9750515 , -3.08704065,\n",
       "       -2.70127779, -3.63892506, -2.9508796 , -5.6795672 , -2.86643106,\n",
       "       -2.58972211, -4.78996913, -2.05001752, -3.5982131 , -2.61313062])"
      ]
     },
     "execution_count": 16,
     "metadata": {},
     "output_type": "execute_result"
    }
   ],
   "source": [
    "p"
   ]
  },
  {
   "cell_type": "code",
   "execution_count": 8,
   "id": "0fcea250",
   "metadata": {},
   "outputs": [
    {
     "data": {
      "text/plain": [
       "array([1.38629436, 2.48490665,       -inf, 2.77258872, 5.07517382,\n",
       "       5.768321  ])"
      ]
     },
     "execution_count": 8,
     "metadata": {},
     "output_type": "execute_result"
    }
   ],
   "source": [
    "a = np.array([4, 12, 0, 16, 160, 320])\n",
    "np.log(a)"
   ]
  },
  {
   "cell_type": "code",
   "execution_count": 9,
   "id": "8bfcc488",
   "metadata": {},
   "outputs": [
    {
     "data": {
      "text/plain": [
       "array([inf, inf, inf, inf, inf, inf, inf, inf, inf, inf, inf, inf, inf,\n",
       "       inf, inf, inf, inf, inf, inf, inf, inf, inf, inf, inf, inf, inf,\n",
       "       inf, inf, inf, inf, inf, inf, inf, inf, inf, inf, inf, inf, inf,\n",
       "       inf, inf, inf, inf, inf, inf, inf, inf, inf, inf, inf, inf, inf,\n",
       "       inf, inf, inf, inf, inf, inf, inf, inf, inf, inf, inf, inf, inf,\n",
       "       inf, inf, inf, inf, inf, inf, inf, inf, inf, inf, inf, inf, inf,\n",
       "       inf, inf, inf, inf, inf, inf, inf, inf, inf, inf, inf, inf, inf,\n",
       "       inf, inf, inf, inf, inf, inf, inf, inf, inf])"
      ]
     },
     "execution_count": 9,
     "metadata": {},
     "output_type": "execute_result"
    }
   ],
   "source": [
    "import scipy\n",
    "\n",
    "scipy.special.kl_div(p, q, out=None)"
   ]
  },
  {
   "cell_type": "code",
   "execution_count": null,
   "id": "2476fc08",
   "metadata": {},
   "outputs": [],
   "source": []
  },
  {
   "cell_type": "code",
   "execution_count": null,
   "id": "b16fe6de",
   "metadata": {},
   "outputs": [],
   "source": []
  }
 ],
 "metadata": {
  "kernelspec": {
   "display_name": "Python 3 (ipykernel)",
   "language": "python",
   "name": "python3"
  },
  "language_info": {
   "codemirror_mode": {
    "name": "ipython",
    "version": 3
   },
   "file_extension": ".py",
   "mimetype": "text/x-python",
   "name": "python",
   "nbconvert_exporter": "python",
   "pygments_lexer": "ipython3",
   "version": "3.9.7"
  }
 },
 "nbformat": 4,
 "nbformat_minor": 5
}
