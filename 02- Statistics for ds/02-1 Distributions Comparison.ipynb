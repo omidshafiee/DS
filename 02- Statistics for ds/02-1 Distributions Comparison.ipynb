{
 "cells": [
  {
   "cell_type": "code",
   "execution_count": 1,
   "id": "12129472",
   "metadata": {},
   "outputs": [],
   "source": [
    "import numpy as np\n",
    "import pandas as pd\n",
    "\n",
    "import scipy.stats as stats\n",
    "from statsmodels.stats.proportion import proportions_ztest\n",
    "\n",
    "import matplotlib.pyplot as plt\n",
    "import seaborn as sns\n",
    "\n",
    "%matplotlib inline"
   ]
  },
  {
   "cell_type": "markdown",
   "id": "c33bd3d6",
   "metadata": {},
   "source": [
    "# Kullback–Leibler divergence\n",
    "<br/>\n",
    "\\begin{equation}\n",
    "\\text{For discrete probability distributions P and Q }: \\\\\n",
    "D_{KL} (P \\left |  \\right | Q) = \\sum{P(x)} \\log\\left( \\frac{P(x)}{Q(x)} \\right )\n",
    "\\end{equation}"
   ]
  },
  {
   "cell_type": "markdown",
   "id": "89449f54",
   "metadata": {},
   "source": [
    "<br/>\n",
    "\\begin{equation}\n",
    "\\text{For distributions P and Q of a continuous random variable} \\\\\n",
    "D_{KL} (P \\left |  \\right | Q) =  \\int_{a}^{b} {p(x)}  \\left(\\frac{p(x)}{q(x)} \\right ) dx\n",
    "\\end{equation}\n",
    "<br/>"
   ]
  },
  {
   "cell_type": "markdown",
   "id": "8332fb2c",
   "metadata": {},
   "source": [
    "\\begin{equation}\n",
    "\\mathrm{kl\\_div}(x, y) =\n",
    "      \\begin{cases}\n",
    "        x \\log(x / y) - x + y & x > 0, y > 0 \\\\\n",
    "        y & x = 0, y \\ge 0 \\\\\n",
    "        \\infty & \\text{otherwise}\n",
    "      \\end{cases}\n",
    "\\end{equation}"
   ]
  },
  {
   "cell_type": "code",
   "execution_count": 93,
   "id": "15483e71",
   "metadata": {},
   "outputs": [],
   "source": [
    "# dataset_1 = stats.randint.rvs(low=0, high=100 , size=100, loc=0)\n",
    "# dataset_2 = stats.randint.rvs(low=0, high=100 , size=100, loc=0)\n",
    "\n",
    "dataset_1 = stats.norm.rvs(size=100, loc=0, scale=1)\n",
    "dataset_2 = stats.norm.rvs(size=100, loc=0, scale=1)\n"
   ]
  },
  {
   "cell_type": "code",
   "execution_count": 94,
   "id": "c0119c0a",
   "metadata": {},
   "outputs": [
    {
     "data": {
      "text/plain": [
       "<Axes: ylabel='Count'>"
      ]
     },
     "execution_count": 94,
     "metadata": {},
     "output_type": "execute_result"
    },
    {
     "data": {
      "image/png": "[encoded data removed]",
      "text/plain": [
       "<Figure size 640x480 with 1 Axes>"
      ]
     },
     "metadata": {},
     "output_type": "display_data"
    }
   ],
   "source": [
    "sns.histplot(dataset_1)\n",
    "sns.histplot(dataset_2)\n"
   ]
  },
  {
   "cell_type": "code",
   "execution_count": 95,
   "id": "8f928691",
   "metadata": {},
   "outputs": [
    {
     "data": {
      "text/plain": [
       "{'divide': 'ignore', 'over': 'warn', 'under': 'ignore', 'invalid': 'warn'}"
      ]
     },
     "execution_count": 95,
     "metadata": {},
     "output_type": "execute_result"
    }
   ],
   "source": [
    "np.seterr(divide = 'ignore') "
   ]
  },
  {
   "cell_type": "code",
   "execution_count": 100,
   "id": "f1c1c5e4",
   "metadata": {},
   "outputs": [
    {
     "data": {
      "text/plain": [
       "-0.4212462247126292"
      ]
     },
     "execution_count": 100,
     "metadata": {},
     "output_type": "execute_result"
    }
   ],
   "source": [
    "# Calculate data_1 probabilities as p\n",
    "p = abs(dataset_1 / np.sum(dataset_1))\n",
    "\n",
    "# Calculate data_2 probabilities as q\n",
    "q = abs(dataset_2 / np.sum(dataset_2))\n",
    "\n",
    "# Calculate KL\n",
    "# kl = np.sum(p * np.log(p / q))\n",
    "# kl = np.sum(p * np.log((p / q), out=kl))\n",
    "# def kl_divergence(p, q):\n",
    "# return \n",
    "kl = np.sum(np.where(p != 0, p * np.log(p / q), 0))\n",
    "\n",
    "kl"
   ]
  },
  {
   "cell_type": "code",
   "execution_count": 101,
   "id": "b00c2259",
   "metadata": {},
   "outputs": [
    {
     "data": {
      "text/plain": [
       "100"
      ]
     },
     "execution_count": 101,
     "metadata": {},
     "output_type": "execute_result"
    }
   ],
   "source": [
    "len(np.log(p, out=p, where=p>0))"
   ]
  },
  {
   "cell_type": "code",
   "execution_count": 102,
   "id": "8501cb4f",
   "metadata": {},
   "outputs": [
    {
     "data": {
      "text/plain": [
       "array([-2.50228541, -4.99783393, -2.5839934 , -2.24613071, -2.95680984,\n",
       "       -3.24098513, -5.22448422, -8.33384223, -4.65379871, -2.91576994,\n",
       "       -5.78687442, -3.60712644, -4.69610778, -3.94290975, -2.43580408,\n",
       "       -2.59144843, -5.93461277, -3.51038507, -3.24492866, -2.82658662,\n",
       "       -2.72717012, -4.43692837, -3.27490727, -2.92445066, -2.97390208,\n",
       "       -3.00592241, -3.37759972, -3.53441256, -2.85939787, -3.33002266,\n",
       "       -4.51274175, -3.63153228, -3.70640657, -3.76601851, -4.34223709,\n",
       "       -4.07790543, -2.30061167, -3.01916005, -2.97624238, -2.34738897,\n",
       "       -5.91190105, -3.6683344 , -4.78265764, -3.75967505, -2.36765738,\n",
       "       -5.41563829, -2.8084639 , -2.46486675, -2.89861055, -5.02534228,\n",
       "       -3.67263994, -3.5245779 , -2.82280473, -2.97885532, -3.70988149,\n",
       "       -1.57705507, -3.24048421, -3.92745451, -4.53348571, -2.06714177,\n",
       "       -3.4330101 , -3.61463081, -7.67681678, -4.57582485, -2.29980908,\n",
       "       -3.16030964, -3.9673619 , -3.17330586, -3.08577116, -3.25080457,\n",
       "       -3.05220814, -2.92149176, -2.72654047, -2.77978691, -3.58325725,\n",
       "       -3.4578918 , -4.34177591, -4.06743213, -3.63422297, -2.71022569,\n",
       "       -5.24613528, -4.30561572, -2.80467477, -2.47847262, -3.7331883 ,\n",
       "       -2.86550637, -3.17425605, -4.48897962, -2.97139625, -4.3918883 ,\n",
       "       -3.92888449, -3.0273058 , -3.53074311, -5.14558481, -5.07282948,\n",
       "       -4.13518097, -3.54739452, -2.9966555 , -2.67451772, -2.16247053])"
      ]
     },
     "execution_count": 102,
     "metadata": {},
     "output_type": "execute_result"
    }
   ],
   "source": [
    "p"
   ]
  },
  {
   "cell_type": "code",
   "execution_count": 103,
   "id": "0fcea250",
   "metadata": {},
   "outputs": [
    {
     "data": {
      "text/plain": [
       "array([1.38629436, 2.48490665,       -inf, 2.77258872, 5.07517382,\n",
       "       5.768321  ])"
      ]
     },
     "execution_count": 103,
     "metadata": {},
     "output_type": "execute_result"
    }
   ],
   "source": [
    "a = np.array([4, 12, 0, 16, 160, 320])\n",
    "np.log(a)"
   ]
  },
  {
   "cell_type": "code",
   "execution_count": 105,
   "id": "8bfcc488",
   "metadata": {},
   "outputs": [
    {
     "data": {
      "text/plain": [
       "array([inf, inf, inf, inf, inf, inf, inf, inf, inf, inf, inf, inf, inf,\n",
       "       inf, inf, inf, inf, inf, inf, inf, inf, inf, inf, inf, inf, inf,\n",
       "       inf, inf, inf, inf, inf, inf, inf, inf, inf, inf, inf, inf, inf,\n",
       "       inf, inf, inf, inf, inf, inf, inf, inf, inf, inf, inf, inf, inf,\n",
       "       inf, inf, inf, inf, inf, inf, inf, inf, inf, inf, inf, inf, inf,\n",
       "       inf, inf, inf, inf, inf, inf, inf, inf, inf, inf, inf, inf, inf,\n",
       "       inf, inf, inf, inf, inf, inf, inf, inf, inf, inf, inf, inf, inf,\n",
       "       inf, inf, inf, inf, inf, inf, inf, inf, inf])"
      ]
     },
     "execution_count": 105,
     "metadata": {},
     "output_type": "execute_result"
    }
   ],
   "source": [
    "import scipy\n",
    "\n",
    "scipy.special.kl_div(p, q, out=None)"
   ]
  },
  {
   "cell_type": "code",
   "execution_count": null,
   "id": "2476fc08",
   "metadata": {},
   "outputs": [],
   "source": []
  },
  {
   "cell_type": "code",
   "execution_count": null,
   "id": "b16fe6de",
   "metadata": {},
   "outputs": [],
   "source": []
  }
 ],
 "metadata": {
  "kernelspec": {
   "display_name": "Python 3 (ipykernel)",
   "language": "python",
   "name": "python3"
  },
  "language_info": {
   "codemirror_mode": {
    "name": "ipython",
    "version": 3
   },
   "file_extension": ".py",
   "mimetype": "text/x-python",
   "name": "python",
   "nbconvert_exporter": "python",
   "pygments_lexer": "ipython3",
   "version": "3.10.9"
  }
 },
 "nbformat": 4,
 "nbformat_minor": 5
}
