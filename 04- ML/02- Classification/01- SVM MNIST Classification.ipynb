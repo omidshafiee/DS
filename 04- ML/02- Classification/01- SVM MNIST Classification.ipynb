{
 "cells": [
  {
   "cell_type": "code",
   "execution_count": 1,
   "id": "0b0e9df2-265e-4dcc-bc9c-09234abaff77",
   "metadata": {},
   "outputs": [],
   "source": [
    "import numpy as np\n",
    "import pandas as pd\n",
    "import matplotlib.pyplot as plt\n",
    "import seaborn as sns\n",
    "\n",
    "from sklearn import datasets\n"
   ]
  },
  {
   "cell_type": "markdown",
   "id": "c0bd7b53-03cb-4b94-a9c3-58e6af9ced22",
   "metadata": {},
   "source": [
    "## 1- Load and prepare Data"
   ]
  },
  {
   "cell_type": "code",
   "execution_count": 2,
   "id": "7e28a59d-acf3-4dc0-a320-e5ad39d4fa8b",
   "metadata": {},
   "outputs": [],
   "source": [
    "raw_data = datasets.load_digits()"
   ]
  },
  {
   "cell_type": "code",
   "execution_count": 3,
   "id": "d7c3bd13-c9b1-4eb3-b5fc-4c1507e258bd",
   "metadata": {},
   "outputs": [
    {
     "data": {
      "text/plain": [
       "1797"
      ]
     },
     "execution_count": 3,
     "metadata": {},
     "output_type": "execute_result"
    }
   ],
   "source": [
    "len(raw_data.images)"
   ]
  },
  {
   "cell_type": "code",
   "execution_count": 4,
   "id": "e90aa4e1-dc23-4d24-a08c-b308705af2e4",
   "metadata": {},
   "outputs": [
    {
     "data": {
      "text/plain": [
       "array([[[ 0.,  0.,  5., 13.,  9.,  1.,  0.,  0.],\n",
       "        [ 0.,  0., 13., 15., 10., 15.,  5.,  0.],\n",
       "        [ 0.,  3., 15.,  2.,  0., 11.,  8.,  0.],\n",
       "        [ 0.,  4., 12.,  0.,  0.,  8.,  8.,  0.],\n",
       "        [ 0.,  5.,  8.,  0.,  0.,  9.,  8.,  0.],\n",
       "        [ 0.,  4., 11.,  0.,  1., 12.,  7.,  0.],\n",
       "        [ 0.,  2., 14.,  5., 10., 12.,  0.,  0.],\n",
       "        [ 0.,  0.,  6., 13., 10.,  0.,  0.,  0.]]])"
      ]
     },
     "execution_count": 4,
     "metadata": {},
     "output_type": "execute_result"
    }
   ],
   "source": [
    "raw_data.images[:1]"
   ]
  },
  {
   "cell_type": "code",
   "execution_count": 5,
   "id": "6884f138-12f2-4a12-98be-27c81800e6db",
   "metadata": {},
   "outputs": [
    {
     "data": {
      "text/plain": [
       "(8, 8)"
      ]
     },
     "execution_count": 5,
     "metadata": {},
     "output_type": "execute_result"
    }
   ],
   "source": [
    "raw_data.images[1].shape"
   ]
  },
  {
   "cell_type": "code",
   "execution_count": 6,
   "id": "1fbc5570-0140-4dfb-ad1f-68f08719942d",
   "metadata": {},
   "outputs": [
    {
     "data": {
      "text/plain": [
       "1"
      ]
     },
     "execution_count": 6,
     "metadata": {},
     "output_type": "execute_result"
    },
    {
     "data": {
      "image/png": "[encoded data removed]",
      "text/plain": [
       "<Figure size 640x480 with 1 Axes>"
      ]
     },
     "metadata": {},
     "output_type": "display_data"
    }
   ],
   "source": [
    "plt.imshow(raw_data.images[1], cmap='gray_r')\n",
    "raw_data.target[1]"
   ]
  },
  {
   "cell_type": "code",
   "execution_count": 7,
   "id": "410c4b8e-7eac-492b-9d2b-c5c3e248e1a0",
   "metadata": {},
   "outputs": [],
   "source": [
    "data = list(zip(raw_data.images, raw_data.target))"
   ]
  },
  {
   "cell_type": "code",
   "execution_count": 8,
   "id": "054b94cb-0c36-4dda-8020-c9df17ad0d92",
   "metadata": {},
   "outputs": [
    {
     "data": {
      "text/plain": [
       "9"
      ]
     },
     "execution_count": 8,
     "metadata": {},
     "output_type": "execute_result"
    }
   ],
   "source": [
    "data[285][1]"
   ]
  },
  {
   "cell_type": "code",
   "execution_count": 9,
   "id": "7c3c3bf9-e2df-4641-88ed-9c34c02a8d64",
   "metadata": {},
   "outputs": [
    {
     "data": {
      "image/png": "[encoded data removed]",
      "text/plain": [
       "<Figure size 640x480 with 10 Axes>"
      ]
     },
     "metadata": {},
     "output_type": "display_data"
    }
   ],
   "source": [
    "for i, (image, label) in enumerate(data[:10]):\n",
    "    plt.subplot(2, 5, i+1)\n",
    "    plt.imshow(image, cmap=plt.cm.gray_r)\n",
    "    plt.title(label)\n",
    "\n",
    "    ax = plt.gca()\n",
    "    ax.get_xaxis().set_visible(False)\n",
    "    ax.get_yaxis().set_visible(False)\n",
    "\n",
    "    \n",
    "plt.tight_layout()\n"
   ]
  },
  {
   "cell_type": "code",
   "execution_count": 10,
   "id": "affdb804-b1d1-4dc3-bf0e-b4da2d2f32ff",
   "metadata": {},
   "outputs": [
    {
     "data": {
      "text/plain": [
       "(1797, 8, 8)"
      ]
     },
     "execution_count": 10,
     "metadata": {},
     "output_type": "execute_result"
    }
   ],
   "source": [
    "raw_data.images.shape"
   ]
  },
  {
   "cell_type": "code",
   "execution_count": 11,
   "id": "0128d2b8-4d1b-4b78-bf44-f878e0080651",
   "metadata": {},
   "outputs": [],
   "source": [
    "# Flatten Image:\n",
    "X = raw_data.images.reshape(len(raw_data.images), -1)"
   ]
  },
  {
   "cell_type": "code",
   "execution_count": 12,
   "id": "576543f0-6e75-49c1-86e6-236681bccfe1",
   "metadata": {},
   "outputs": [
    {
     "data": {
      "text/plain": [
       "(1797, 64)"
      ]
     },
     "execution_count": 12,
     "metadata": {},
     "output_type": "execute_result"
    }
   ],
   "source": [
    "X.shape"
   ]
  },
  {
   "cell_type": "code",
   "execution_count": 13,
   "id": "12d37792-fd07-4981-9386-4875920a6b59",
   "metadata": {},
   "outputs": [],
   "source": [
    "y = raw_data.target"
   ]
  },
  {
   "cell_type": "code",
   "execution_count": 14,
   "id": "5aab3315-c3fe-479b-b920-58657b3e03c2",
   "metadata": {},
   "outputs": [
    {
     "data": {
      "text/plain": [
       "(1797,)"
      ]
     },
     "execution_count": 14,
     "metadata": {},
     "output_type": "execute_result"
    }
   ],
   "source": [
    "y.shape"
   ]
  },
  {
   "cell_type": "code",
   "execution_count": 15,
   "id": "64a75644-114f-4441-85a6-06d424994a69",
   "metadata": {},
   "outputs": [],
   "source": [
    "data = list(zip(X, raw_data.target))"
   ]
  },
  {
   "cell_type": "code",
   "execution_count": 16,
   "id": "ddedb23f-332e-4006-878f-9e4ec4b3fb6e",
   "metadata": {},
   "outputs": [
    {
     "data": {
      "text/plain": [
       "(array([ 0.,  0.,  5., 13.,  9.,  1.,  0.,  0.,  0.,  0., 13., 15., 10.,\n",
       "        15.,  5.,  0.,  0.,  3., 15.,  2.,  0., 11.,  8.,  0.,  0.,  4.,\n",
       "        12.,  0.,  0.,  8.,  8.,  0.,  0.,  5.,  8.,  0.,  0.,  9.,  8.,\n",
       "         0.,  0.,  4., 11.,  0.,  1., 12.,  7.,  0.,  0.,  2., 14.,  5.,\n",
       "        10., 12.,  0.,  0.,  0.,  0.,  6., 13., 10.,  0.,  0.,  0.]),\n",
       " 0)"
      ]
     },
     "execution_count": 16,
     "metadata": {},
     "output_type": "execute_result"
    }
   ],
   "source": [
    "data[0]"
   ]
  },
  {
   "cell_type": "code",
   "execution_count": 17,
   "id": "54d245a5-f43c-415b-bf5b-75c1119f7352",
   "metadata": {},
   "outputs": [],
   "source": [
    "from sklearn.preprocessing import MinMaxScaler"
   ]
  },
  {
   "cell_type": "code",
   "execution_count": 18,
   "id": "b6a99681-123f-4fb0-95d1-4496c1ad1834",
   "metadata": {},
   "outputs": [],
   "source": [
    "scaler = MinMaxScaler()\n",
    "X_scaled = scaler.fit_transform(X)"
   ]
  },
  {
   "cell_type": "code",
   "execution_count": 19,
   "id": "66609ee8-3a92-4b41-b6a0-e8dd9c8737b3",
   "metadata": {},
   "outputs": [
    {
     "data": {
      "text/plain": [
       "16.0"
      ]
     },
     "execution_count": 19,
     "metadata": {},
     "output_type": "execute_result"
    }
   ],
   "source": [
    "X.max()"
   ]
  },
  {
   "cell_type": "code",
   "execution_count": 20,
   "id": "c04aca71-416a-45c9-a0bb-c1945cf1b544",
   "metadata": {},
   "outputs": [
    {
     "data": {
      "text/plain": [
       "1.0"
      ]
     },
     "execution_count": 20,
     "metadata": {},
     "output_type": "execute_result"
    }
   ],
   "source": [
    "X_scaled.max()"
   ]
  },
  {
   "cell_type": "markdown",
   "id": "9ae3d683-a888-4d99-b091-eeabe69c5005",
   "metadata": {},
   "source": [
    "## 2- SVC Classifier\n",
    "\n",
    "* Support Vectors: Support vectors are the data points closest to the hyperplane. These data points will be used to define the dividing line.\n",
    "  \n",
    "* Hyperplane: It is a decision plane or space that is divided between a collection of objects with various class designations.\n",
    "  \n",
    "* Margin: The distance between two lines on the closet data points of various classes can be used to define margin. The perpendicular distance between the line and the support vectors can be used to calculate it. A large margin is considered good, whereas a small margin is considered bad.\n",
    "\n",
    "### SVM Application\n",
    "\n",
    "* Protein Structure Prediction\n",
    "* Intrusion Detection\n",
    "* Handwriting Recognition\n",
    "* Detecting Steganography in digital images\n",
    "* Breast Cancer Diagnosis\n",
    "* Almost all the applications where ANN is used\n",
    "\n",
    "### Pros\n",
    "\n",
    "* SVM classifiers perform well in high-dimensional space and have excellent accuracy. \n",
    "\n",
    "* SVM classifiers require less memory because they only use a portion of the training data.\n",
    "\n",
    "* SVM performs reasonably well when there is a large gap between classes.\n",
    "\n",
    "* High-dimensional spaces are better suited for SVM.\n",
    "\n",
    "* When the number of dimensions exceeds the number of samples, SVM is useful.\n",
    "\n",
    "* SVM uses memory effectively.\n",
    "\n",
    "### CONS:\n",
    "\n",
    "* SVM requires a long training period; as a result, it is not practical for large datasets.\n",
    "\n",
    "* The inability of SVM classifiers to handle overlapping classes is another drawback.\n",
    "\n",
    "* Large data sets (High Dimension) are not a good fit for the SVM algorithm.\n",
    "\n",
    "* When the data set contains more noise, such as overlapping target classes, SVM does not perform as well.\n",
    "\n",
    "* The SVM will perform poorly when the number of features for each data point is greater than the number of training data samples.\n",
    "\n",
    "<br/>\n",
    "\n",
    "* [1] https://roboticsbiz.com/pros-and-cons-of-support-vector-machine-svm/\n",
    "* [2] https://statinfer.com/204-6-8-svm-advantages-disadvantages-applications/\n"
   ]
  },
  {
   "cell_type": "code",
   "execution_count": 21,
   "id": "06313d3f-04e7-4ac7-834c-ac9a3a91e7d8",
   "metadata": {},
   "outputs": [
    {
     "data": {
      "text/plain": [
       "sklearn.svm._classes.SVC"
      ]
     },
     "execution_count": 21,
     "metadata": {},
     "output_type": "execute_result"
    }
   ],
   "source": [
    "from sklearn.svm import SVC\n",
    "SVC"
   ]
  },
  {
   "cell_type": "code",
   "execution_count": 22,
   "id": "e16a5d97-6cb6-478e-8821-87e13998edeb",
   "metadata": {},
   "outputs": [],
   "source": [
    "svc_classifier = SVC(random_state=101, C=10.5)"
   ]
  },
  {
   "cell_type": "code",
   "execution_count": 23,
   "id": "86da54a0-8590-4175-97b0-f04669124056",
   "metadata": {},
   "outputs": [
    {
     "data": {
      "text/html": [
       "<style>#sk-container-id-1 {color: black;background-color: white;}#sk-container-id-1 pre{padding: 0;}#sk-container-id-1 div.sk-toggleable {background-color: white;}#sk-container-id-1 label.sk-toggleable__label {cursor: pointer;display: block;width: 100%;margin-bottom: 0;padding: 0.3em;box-sizing: border-box;text-align: center;}#sk-container-id-1 label.sk-toggleable__label-arrow:before {content: \"▸\";float: left;margin-right: 0.25em;color: #696969;}#sk-container-id-1 label.sk-toggleable__label-arrow:hover:before {color: black;}#sk-container-id-1 div.sk-estimator:hover label.sk-toggleable__label-arrow:before {color: black;}#sk-container-id-1 div.sk-toggleable__content {max-height: 0;max-width: 0;overflow: hidden;text-align: left;background-color: #f0f8ff;}#sk-container-id-1 div.sk-toggleable__content pre {margin: 0.2em;color: black;border-radius: 0.25em;background-color: #f0f8ff;}#sk-container-id-1 input.sk-toggleable__control:checked~div.sk-toggleable__content {max-height: 200px;max-width: 100%;overflow: auto;}#sk-container-id-1 input.sk-toggleable__control:checked~label.sk-toggleable__label-arrow:before {content: \"▾\";}#sk-container-id-1 div.sk-estimator input.sk-toggleable__control:checked~label.sk-toggleable__label {background-color: #d4ebff;}#sk-container-id-1 div.sk-label input.sk-toggleable__control:checked~label.sk-toggleable__label {background-color: #d4ebff;}#sk-container-id-1 input.sk-hidden--visually {border: 0;clip: rect(1px 1px 1px 1px);clip: rect(1px, 1px, 1px, 1px);height: 1px;margin: -1px;overflow: hidden;padding: 0;position: absolute;width: 1px;}#sk-container-id-1 div.sk-estimator {font-family: monospace;background-color: #f0f8ff;border: 1px dotted black;border-radius: 0.25em;box-sizing: border-box;margin-bottom: 0.5em;}#sk-container-id-1 div.sk-estimator:hover {background-color: #d4ebff;}#sk-container-id-1 div.sk-parallel-item::after {content: \"\";width: 100%;border-bottom: 1px solid gray;flex-grow: 1;}#sk-container-id-1 div.sk-label:hover label.sk-toggleable__label {background-color: #d4ebff;}#sk-container-id-1 div.sk-serial::before {content: \"\";position: absolute;border-left: 1px solid gray;box-sizing: border-box;top: 0;bottom: 0;left: 50%;z-index: 0;}#sk-container-id-1 div.sk-serial {display: flex;flex-direction: column;align-items: center;background-color: white;padding-right: 0.2em;padding-left: 0.2em;position: relative;}#sk-container-id-1 div.sk-item {position: relative;z-index: 1;}#sk-container-id-1 div.sk-parallel {display: flex;align-items: stretch;justify-content: center;background-color: white;position: relative;}#sk-container-id-1 div.sk-item::before, #sk-container-id-1 div.sk-parallel-item::before {content: \"\";position: absolute;border-left: 1px solid gray;box-sizing: border-box;top: 0;bottom: 0;left: 50%;z-index: -1;}#sk-container-id-1 div.sk-parallel-item {display: flex;flex-direction: column;z-index: 1;position: relative;background-color: white;}#sk-container-id-1 div.sk-parallel-item:first-child::after {align-self: flex-end;width: 50%;}#sk-container-id-1 div.sk-parallel-item:last-child::after {align-self: flex-start;width: 50%;}#sk-container-id-1 div.sk-parallel-item:only-child::after {width: 0;}#sk-container-id-1 div.sk-dashed-wrapped {border: 1px dashed gray;margin: 0 0.4em 0.5em 0.4em;box-sizing: border-box;padding-bottom: 0.4em;background-color: white;}#sk-container-id-1 div.sk-label label {font-family: monospace;font-weight: bold;display: inline-block;line-height: 1.2em;}#sk-container-id-1 div.sk-label-container {text-align: center;}#sk-container-id-1 div.sk-container {/* jupyter's `normalize.less` sets `[hidden] { display: none; }` but bootstrap.min.css set `[hidden] { display: none !important; }` so we also need the `!important` here to be able to override the default hidden behavior on the sphinx rendered scikit-learn.org. See: https://github.com/scikit-learn/scikit-learn/issues/21755 */display: inline-block !important;position: relative;}#sk-container-id-1 div.sk-text-repr-fallback {display: none;}</style><div id=\"sk-container-id-1\" class=\"sk-top-container\"><div class=\"sk-text-repr-fallback\"><pre>SVC(C=10.5, random_state=101)</pre><b>In a Jupyter environment, please rerun this cell to show the HTML representation or trust the notebook. <br />On GitHub, the HTML representation is unable to render, please try loading this page with nbviewer.org.</b></div><div class=\"sk-container\" hidden><div class=\"sk-item\"><div class=\"sk-estimator sk-toggleable\"><input class=\"sk-toggleable__control sk-hidden--visually\" id=\"sk-estimator-id-1\" type=\"checkbox\" checked><label for=\"sk-estimator-id-1\" class=\"sk-toggleable__label sk-toggleable__label-arrow\">SVC</label><div class=\"sk-toggleable__content\"><pre>SVC(C=10.5, random_state=101)</pre></div></div></div></div></div>"
      ],
      "text/plain": [
       "SVC(C=10.5, random_state=101)"
      ]
     },
     "execution_count": 23,
     "metadata": {},
     "output_type": "execute_result"
    }
   ],
   "source": [
    "svc_classifier.fit(X[:1000], y[:1000])"
   ]
  },
  {
   "cell_type": "code",
   "execution_count": 24,
   "id": "e232f927-07d3-4d94-bbad-d314ed2cb34a",
   "metadata": {},
   "outputs": [
    {
     "data": {
      "text/plain": [
       "(64,)"
      ]
     },
     "execution_count": 24,
     "metadata": {},
     "output_type": "execute_result"
    }
   ],
   "source": [
    "X[1100].shape"
   ]
  },
  {
   "cell_type": "code",
   "execution_count": 25,
   "id": "624e2250-de15-494c-a60f-591c2a4be482",
   "metadata": {},
   "outputs": [
    {
     "data": {
      "text/plain": [
       "array([9])"
      ]
     },
     "execution_count": 25,
     "metadata": {},
     "output_type": "execute_result"
    }
   ],
   "source": [
    "svc_classifier.predict(X[1100].reshape(1,-1))"
   ]
  },
  {
   "cell_type": "code",
   "execution_count": 26,
   "id": "7f4bdd6b-8be2-43bd-8c2c-1b06e8cbfd6f",
   "metadata": {},
   "outputs": [
    {
     "data": {
      "text/plain": [
       "9"
      ]
     },
     "execution_count": 26,
     "metadata": {},
     "output_type": "execute_result"
    }
   ],
   "source": [
    "raw_data.target[1100]"
   ]
  },
  {
   "cell_type": "code",
   "execution_count": 27,
   "id": "d967f6de-f97d-4aec-bf23-2b1385ce8eab",
   "metadata": {},
   "outputs": [
    {
     "data": {
      "text/plain": [
       "array([9, 5, 2, 8, 2, 0, 0, 1, 7, 6])"
      ]
     },
     "execution_count": 27,
     "metadata": {},
     "output_type": "execute_result"
    }
   ],
   "source": [
    "svc_classifier.predict(X[1100:1110])"
   ]
  },
  {
   "cell_type": "code",
   "execution_count": 28,
   "id": "5e6a3072-d11f-4474-8827-06dbb638e08b",
   "metadata": {},
   "outputs": [
    {
     "data": {
      "text/plain": [
       "array([9, 5, 2, 8, 2, 0, 0, 1, 7, 6])"
      ]
     },
     "execution_count": 28,
     "metadata": {},
     "output_type": "execute_result"
    }
   ],
   "source": [
    "raw_data.target[1100:1110]"
   ]
  },
  {
   "cell_type": "markdown",
   "id": "9df4881b-09f6-4071-8ac4-97c866bfe98f",
   "metadata": {},
   "source": [
    "## 3- Evaluation (For Classification problems):"
   ]
  },
  {
   "cell_type": "code",
   "execution_count": 29,
   "id": "2e61baec-3521-4b80-a348-e3e71ab01340",
   "metadata": {},
   "outputs": [],
   "source": [
    "# Predicted Labels\n",
    "pred = svc_classifier.predict(X[1000:])"
   ]
  },
  {
   "cell_type": "code",
   "execution_count": 30,
   "id": "9df38e5f-cb2d-4c86-afde-065b1a360ac7",
   "metadata": {},
   "outputs": [],
   "source": [
    "# Expectec labels\n",
    "test_labels = y[1000:]"
   ]
  },
  {
   "cell_type": "code",
   "execution_count": 31,
   "id": "de119bd4-b534-42ee-86c4-a61cc691c626",
   "metadata": {},
   "outputs": [],
   "source": [
    "from sklearn.metrics import confusion_matrix, classification_report"
   ]
  },
  {
   "cell_type": "code",
   "execution_count": 32,
   "id": "66973662-9a20-4b16-a958-3271eb049793",
   "metadata": {
    "scrolled": true
   },
   "outputs": [
    {
     "name": "stdout",
     "output_type": "stream",
     "text": [
      "              precision    recall  f1-score   support\n",
      "\n",
      "           0       0.99      0.99      0.99        79\n",
      "           1       0.96      0.99      0.97        78\n",
      "           2       0.97      1.00      0.99        75\n",
      "           3       0.87      0.96      0.91        72\n",
      "           4       0.95      0.99      0.97        80\n",
      "           5       0.99      0.93      0.96        87\n",
      "           6       0.99      0.99      0.99        80\n",
      "           7       0.99      0.96      0.98        82\n",
      "           8       0.97      0.91      0.94        81\n",
      "           9       0.96      0.94      0.95        83\n",
      "\n",
      "    accuracy                           0.96       797\n",
      "   macro avg       0.96      0.97      0.96       797\n",
      "weighted avg       0.97      0.96      0.96       797\n",
      "\n"
     ]
    }
   ],
   "source": [
    "print(classification_report(pred, test_labels))"
   ]
  },
  {
   "cell_type": "code",
   "execution_count": 33,
   "id": "f68dc999-a8a9-43d1-bf17-13f9f3e6867b",
   "metadata": {
    "scrolled": true
   },
   "outputs": [
    {
     "name": "stdout",
     "output_type": "stream",
     "text": [
      "[[78  0  1  0  0  0  0  0  0  0]\n",
      " [ 0 77  0  0  0  0  1  0  0  0]\n",
      " [ 0  0 75  0  0  0  0  0  0  0]\n",
      " [ 0  0  1 69  0  0  0  0  1  1]\n",
      " [ 1  0  0  0 79  0  0  0  0  0]\n",
      " [ 0  0  0  3  0 81  0  1  1  1]\n",
      " [ 0  0  0  0  0  1 79  0  0  0]\n",
      " [ 0  0  0  2  0  0  0 79  0  1]\n",
      " [ 0  2  0  5  0  0  0  0 74  0]\n",
      " [ 0  1  0  0  4  0  0  0  0 78]]\n"
     ]
    }
   ],
   "source": [
    "print(confusion_matrix(pred, test_labels))"
   ]
  },
  {
   "cell_type": "code",
   "execution_count": 37,
   "id": "3e3430bf-cf62-4735-b6e0-19648bcd68ad",
   "metadata": {},
   "outputs": [
    {
     "data": {
      "image/png": "[encoded data removed]",
      "text/plain": [
       "<Figure size 640x480 with 2 Axes>"
      ]
     },
     "metadata": {},
     "output_type": "display_data"
    }
   ],
   "source": [
    "ax = sns.heatmap(confusion_matrix(pred, test_labels), square=True, fmt='d' ,annot=True, cmap='crest', vmax=100)\n",
    "ax.xaxis.tick_top()\n",
    "plt.tight_layout()"
   ]
  },
  {
   "cell_type": "code",
   "execution_count": null,
   "id": "e5b191f8-640f-4d46-a65a-da61e2ce30cd",
   "metadata": {},
   "outputs": [],
   "source": []
  }
 ],
 "metadata": {
  "kernelspec": {
   "display_name": "Python 3 (ipykernel)",
   "language": "python",
   "name": "python3"
  },
  "language_info": {
   "codemirror_mode": {
    "name": "ipython",
    "version": 3
   },
   "file_extension": ".py",
   "mimetype": "text/x-python",
   "name": "python",
   "nbconvert_exporter": "python",
   "pygments_lexer": "ipython3",
   "version": "3.10.9"
  }
 },
 "nbformat": 4,
 "nbformat_minor": 5
}
