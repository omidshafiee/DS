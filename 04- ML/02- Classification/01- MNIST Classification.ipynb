{
 "cells": [
  {
   "cell_type": "code",
   "execution_count": 1,
   "id": "0b0e9df2-265e-4dcc-bc9c-09234abaff77",
   "metadata": {},
   "outputs": [],
   "source": [
    "import numpy as np\n",
    "import pandas as pd\n",
    "import matplotlib.pyplot as plt\n",
    "\n",
    "from sklearn import datasets\n"
   ]
  },
  {
   "cell_type": "code",
   "execution_count": 4,
   "id": "7e28a59d-acf3-4dc0-a320-e5ad39d4fa8b",
   "metadata": {},
   "outputs": [],
   "source": [
    "data = datasets.load_digits()"
   ]
  },
  {
   "cell_type": "code",
   "execution_count": 11,
   "id": "e90aa4e1-dc23-4d24-a08c-b308705af2e4",
   "metadata": {},
   "outputs": [
    {
     "data": {
      "text/plain": [
       "array([[[ 0.,  0.,  5., 13.,  9.,  1.,  0.,  0.],\n",
       "        [ 0.,  0., 13., 15., 10., 15.,  5.,  0.],\n",
       "        [ 0.,  3., 15.,  2.,  0., 11.,  8.,  0.],\n",
       "        [ 0.,  4., 12.,  0.,  0.,  8.,  8.,  0.],\n",
       "        [ 0.,  5.,  8.,  0.,  0.,  9.,  8.,  0.],\n",
       "        [ 0.,  4., 11.,  0.,  1., 12.,  7.,  0.],\n",
       "        [ 0.,  2., 14.,  5., 10., 12.,  0.,  0.],\n",
       "        [ 0.,  0.,  6., 13., 10.,  0.,  0.,  0.]],\n",
       "\n",
       "       [[ 0.,  0.,  0., 12., 13.,  5.,  0.,  0.],\n",
       "        [ 0.,  0.,  0., 11., 16.,  9.,  0.,  0.],\n",
       "        [ 0.,  0.,  3., 15., 16.,  6.,  0.,  0.],\n",
       "        [ 0.,  7., 15., 16., 16.,  2.,  0.,  0.],\n",
       "        [ 0.,  0.,  1., 16., 16.,  3.,  0.,  0.],\n",
       "        [ 0.,  0.,  1., 16., 16.,  6.,  0.,  0.],\n",
       "        [ 0.,  0.,  1., 16., 16.,  6.,  0.,  0.],\n",
       "        [ 0.,  0.,  0., 11., 16., 10.,  0.,  0.]],\n",
       "\n",
       "       [[ 0.,  0.,  0.,  4., 15., 12.,  0.,  0.],\n",
       "        [ 0.,  0.,  3., 16., 15., 14.,  0.,  0.],\n",
       "        [ 0.,  0.,  8., 13.,  8., 16.,  0.,  0.],\n",
       "        [ 0.,  0.,  1.,  6., 15., 11.,  0.,  0.],\n",
       "        [ 0.,  1.,  8., 13., 15.,  1.,  0.,  0.],\n",
       "        [ 0.,  9., 16., 16.,  5.,  0.,  0.,  0.],\n",
       "        [ 0.,  3., 13., 16., 16., 11.,  5.,  0.],\n",
       "        [ 0.,  0.,  0.,  3., 11., 16.,  9.,  0.]],\n",
       "\n",
       "       [[ 0.,  0.,  7., 15., 13.,  1.,  0.,  0.],\n",
       "        [ 0.,  8., 13.,  6., 15.,  4.,  0.,  0.],\n",
       "        [ 0.,  2.,  1., 13., 13.,  0.,  0.,  0.],\n",
       "        [ 0.,  0.,  2., 15., 11.,  1.,  0.,  0.],\n",
       "        [ 0.,  0.,  0.,  1., 12., 12.,  1.,  0.],\n",
       "        [ 0.,  0.,  0.,  0.,  1., 10.,  8.,  0.],\n",
       "        [ 0.,  0.,  8.,  4.,  5., 14.,  9.,  0.],\n",
       "        [ 0.,  0.,  7., 13., 13.,  9.,  0.,  0.]]])"
      ]
     },
     "execution_count": 11,
     "metadata": {},
     "output_type": "execute_result"
    }
   ],
   "source": [
    "data.images[:4]"
   ]
  },
  {
   "cell_type": "code",
   "execution_count": 12,
   "id": "6884f138-12f2-4a12-98be-27c81800e6db",
   "metadata": {},
   "outputs": [
    {
     "data": {
      "text/plain": [
       "(8, 8)"
      ]
     },
     "execution_count": 12,
     "metadata": {},
     "output_type": "execute_result"
    }
   ],
   "source": [
    "data.images[0].shape"
   ]
  },
  {
   "cell_type": "code",
   "execution_count": null,
   "id": "1fbc5570-0140-4dfb-ad1f-68f08719942d",
   "metadata": {},
   "outputs": [],
   "source": []
  }
 ],
 "metadata": {
  "kernelspec": {
   "display_name": "Python 3 (ipykernel)",
   "language": "python",
   "name": "python3"
  },
  "language_info": {
   "codemirror_mode": {
    "name": "ipython",
    "version": 3
   },
   "file_extension": ".py",
   "mimetype": "text/x-python",
   "name": "python",
   "nbconvert_exporter": "python",
   "pygments_lexer": "ipython3",
   "version": "3.11.7"
  }
 },
 "nbformat": 4,
 "nbformat_minor": 5
}
