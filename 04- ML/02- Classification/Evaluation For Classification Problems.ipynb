{
 "cells": [
  {
   "cell_type": "markdown",
   "id": "432ed1e4-b6b4-49d7-a8f9-8ca3cc53d9e7",
   "metadata": {},
   "source": [
    "---------------\n",
    "## 4- Evaluation Metrics:"
   ]
  },
  {
   "cell_type": "markdown",
   "id": "a72bbdc3-5949-4098-8dfb-9f3268d7118a",
   "metadata": {},
   "source": [
    "--------------\n",
    "### 4-1 Acuuracy (for each class):\n",
    "<br/>\n",
    "$$ Accuracy = \\frac{TP + TN}{N} $$\n",
    "\n",
    "**Cones:** <br/>\n",
    "* 1- It cannot understand the difference between errors and is only a function of correct model outputs.\n",
    "* 2- It is not applicable for <u>Imbalanced</u> data."
   ]
  },
  {
   "cell_type": "markdown",
   "id": "543892a3-9714-4c62-ba20-6194ae9f15f8",
   "metadata": {},
   "source": [
    "---------------\n",
    "### 4-2 Precision (relaiablity):\n",
    "**Indicates the Trust level of relaiablity of model (for each class)**\n",
    "<br/>\n",
    "**in other word: How much is targets can be detect by model**\n",
    "<br/>\n",
    "\n",
    "$$ Precision = \\frac{TP}{TP + FP} $$"
   ]
  },
  {
   "cell_type": "markdown",
   "id": "861a2178-a4a3-4657-84f3-4cce5ef1b62b",
   "metadata": {},
   "source": [
    "---------\n",
    "### 4-3 Recall (Coverage): \n",
    "\n",
    "**Indicates the recognition coverage of model (for each class)** \n",
    "<br/>\n",
    "**in other word: How precise is the detected targets**\n",
    "<br/>\n",
    "\n",
    "$$ Recall = \\frac{TP}{TP + FN} $$\n"
   ]
  },
  {
   "cell_type": "markdown",
   "id": "316c137f-b526-4696-9b78-a2f79516f812",
   "metadata": {},
   "source": [
    "---------\n",
    "### 4-4 F1 Measure: \n",
    "\n",
    "**a balance between precision and recall (for each class), calculated by weighted mean**\n",
    "<br/>\n",
    "\n",
    "$$ F1 = 2 \\times \\frac{P * R}{P + R} $$"
   ]
  },
  {
   "cell_type": "markdown",
   "id": "7c7e008d-a6df-4d96-a0f9-70dd6873564c",
   "metadata": {},
   "source": [
    "---------------------\n",
    "## 5- Other Evaluation Measures"
   ]
  },
  {
   "cell_type": "markdown",
   "id": "b1dbaaf5-7741-43f8-ac2d-930ee46a2e2a",
   "metadata": {},
   "source": [
    "### 5-1 ROC"
   ]
  },
  {
   "cell_type": "code",
   "execution_count": null,
   "id": "e5b191f8-640f-4d46-a65a-da61e2ce30cd",
   "metadata": {},
   "outputs": [],
   "source": []
  }
 ],
 "metadata": {
  "kernelspec": {
   "display_name": "Python 3 (ipykernel)",
   "language": "python",
   "name": "python3"
  },
  "language_info": {
   "codemirror_mode": {
    "name": "ipython",
    "version": 3
   },
   "file_extension": ".py",
   "mimetype": "text/x-python",
   "name": "python",
   "nbconvert_exporter": "python",
   "pygments_lexer": "ipython3",
   "version": "3.11.7"
  }
 },
 "nbformat": 4,
 "nbformat_minor": 5
}
