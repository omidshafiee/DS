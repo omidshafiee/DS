{
 "cells": [
  {
   "cell_type": "code",
   "execution_count": 92,
   "id": "937c6b00",
   "metadata": {},
   "outputs": [],
   "source": [
    "import numpy as np\n",
    "import pandas as pd\n",
    "import matplotlib.pyplot as plt\n",
    "import seaborn as sns\n",
    "\n",
    "from sklearn.model_selection import train_test_split\n",
    "from sklearn.preprocessing import LabelEncoder\n",
    "from sklearn.svm import OneClassSVM\n",
    "\n",
    "\n",
    "import warnings\n",
    "warnings.filterwarnings('always') \n",
    "\n",
    "pd.options.display.float_format = '{:.2f}'.format"
   ]
  },
  {
   "cell_type": "markdown",
   "id": "da2465c6",
   "metadata": {},
   "source": [
    "## Retrieve columns name"
   ]
  },
  {
   "cell_type": "code",
   "execution_count": 2,
   "id": "8cac09f5",
   "metadata": {},
   "outputs": [],
   "source": [
    "names = pd.read_csv('D:/Datasets/KDDCup99/kddcup.names')"
   ]
  },
  {
   "cell_type": "code",
   "execution_count": 3,
   "id": "9c7efa29",
   "metadata": {},
   "outputs": [],
   "source": [
    "col_names = [name.split(':')[0] for name in names['back']]\n",
    "col_names.append('label')"
   ]
  },
  {
   "cell_type": "markdown",
   "id": "87996fd0",
   "metadata": {},
   "source": [
    "## Read data into a dataframe"
   ]
  },
  {
   "cell_type": "code",
   "execution_count": 4,
   "id": "c3384f73",
   "metadata": {},
   "outputs": [],
   "source": [
    "%%time\n",
    "df_load = pd.read_csv(\"D:/Datasets/KDDCup99/kddcup.data.corrected\", names=col_names)"
   ]
  },
  {
   "cell_type": "code",
   "execution_count": 5,
   "id": "e37888a6",
   "metadata": {},
   "outputs": [
    {
     "data": {
      "text/html": [
       "<div>\n",
       "<style scoped>\n",
       "    .dataframe tbody tr th:only-of-type {\n",
       "        vertical-align: middle;\n",
       "    }\n",
       "\n",
       "    .dataframe tbody tr th {\n",
       "        vertical-align: top;\n",
       "    }\n",
       "\n",
       "    .dataframe thead th {\n",
       "        text-align: right;\n",
       "    }\n",
       "</style>\n",
       "<table border=\"1\" class=\"dataframe\">\n",
       "  <thead>\n",
       "    <tr style=\"text-align: right;\">\n",
       "      <th></th>\n",
       "      <th>duration</th>\n",
       "      <th>protocol_type</th>\n",
       "      <th>service</th>\n",
       "      <th>flag</th>\n",
       "      <th>src_bytes</th>\n",
       "      <th>dst_bytes</th>\n",
       "      <th>land</th>\n",
       "      <th>wrong_fragment</th>\n",
       "      <th>urgent</th>\n",
       "      <th>hot</th>\n",
       "      <th>...</th>\n",
       "      <th>dst_host_srv_count</th>\n",
       "      <th>dst_host_same_srv_rate</th>\n",
       "      <th>dst_host_diff_srv_rate</th>\n",
       "      <th>dst_host_same_src_port_rate</th>\n",
       "      <th>dst_host_srv_diff_host_rate</th>\n",
       "      <th>dst_host_serror_rate</th>\n",
       "      <th>dst_host_srv_serror_rate</th>\n",
       "      <th>dst_host_rerror_rate</th>\n",
       "      <th>dst_host_srv_rerror_rate</th>\n",
       "      <th>label</th>\n",
       "    </tr>\n",
       "  </thead>\n",
       "  <tbody>\n",
       "    <tr>\n",
       "      <th>0</th>\n",
       "      <td>0</td>\n",
       "      <td>tcp</td>\n",
       "      <td>http</td>\n",
       "      <td>SF</td>\n",
       "      <td>215</td>\n",
       "      <td>45076</td>\n",
       "      <td>0</td>\n",
       "      <td>0</td>\n",
       "      <td>0</td>\n",
       "      <td>0</td>\n",
       "      <td>...</td>\n",
       "      <td>0</td>\n",
       "      <td>0.00</td>\n",
       "      <td>0.00</td>\n",
       "      <td>0.00</td>\n",
       "      <td>0.00</td>\n",
       "      <td>0.00</td>\n",
       "      <td>0.00</td>\n",
       "      <td>0.00</td>\n",
       "      <td>0.00</td>\n",
       "      <td>normal.</td>\n",
       "    </tr>\n",
       "    <tr>\n",
       "      <th>1</th>\n",
       "      <td>0</td>\n",
       "      <td>tcp</td>\n",
       "      <td>http</td>\n",
       "      <td>SF</td>\n",
       "      <td>162</td>\n",
       "      <td>4528</td>\n",
       "      <td>0</td>\n",
       "      <td>0</td>\n",
       "      <td>0</td>\n",
       "      <td>0</td>\n",
       "      <td>...</td>\n",
       "      <td>1</td>\n",
       "      <td>1.00</td>\n",
       "      <td>0.00</td>\n",
       "      <td>1.00</td>\n",
       "      <td>0.00</td>\n",
       "      <td>0.00</td>\n",
       "      <td>0.00</td>\n",
       "      <td>0.00</td>\n",
       "      <td>0.00</td>\n",
       "      <td>normal.</td>\n",
       "    </tr>\n",
       "    <tr>\n",
       "      <th>2</th>\n",
       "      <td>0</td>\n",
       "      <td>tcp</td>\n",
       "      <td>http</td>\n",
       "      <td>SF</td>\n",
       "      <td>236</td>\n",
       "      <td>1228</td>\n",
       "      <td>0</td>\n",
       "      <td>0</td>\n",
       "      <td>0</td>\n",
       "      <td>0</td>\n",
       "      <td>...</td>\n",
       "      <td>2</td>\n",
       "      <td>1.00</td>\n",
       "      <td>0.00</td>\n",
       "      <td>0.50</td>\n",
       "      <td>0.00</td>\n",
       "      <td>0.00</td>\n",
       "      <td>0.00</td>\n",
       "      <td>0.00</td>\n",
       "      <td>0.00</td>\n",
       "      <td>normal.</td>\n",
       "    </tr>\n",
       "    <tr>\n",
       "      <th>3</th>\n",
       "      <td>0</td>\n",
       "      <td>tcp</td>\n",
       "      <td>http</td>\n",
       "      <td>SF</td>\n",
       "      <td>233</td>\n",
       "      <td>2032</td>\n",
       "      <td>0</td>\n",
       "      <td>0</td>\n",
       "      <td>0</td>\n",
       "      <td>0</td>\n",
       "      <td>...</td>\n",
       "      <td>3</td>\n",
       "      <td>1.00</td>\n",
       "      <td>0.00</td>\n",
       "      <td>0.33</td>\n",
       "      <td>0.00</td>\n",
       "      <td>0.00</td>\n",
       "      <td>0.00</td>\n",
       "      <td>0.00</td>\n",
       "      <td>0.00</td>\n",
       "      <td>normal.</td>\n",
       "    </tr>\n",
       "    <tr>\n",
       "      <th>4</th>\n",
       "      <td>0</td>\n",
       "      <td>tcp</td>\n",
       "      <td>http</td>\n",
       "      <td>SF</td>\n",
       "      <td>239</td>\n",
       "      <td>486</td>\n",
       "      <td>0</td>\n",
       "      <td>0</td>\n",
       "      <td>0</td>\n",
       "      <td>0</td>\n",
       "      <td>...</td>\n",
       "      <td>4</td>\n",
       "      <td>1.00</td>\n",
       "      <td>0.00</td>\n",
       "      <td>0.25</td>\n",
       "      <td>0.00</td>\n",
       "      <td>0.00</td>\n",
       "      <td>0.00</td>\n",
       "      <td>0.00</td>\n",
       "      <td>0.00</td>\n",
       "      <td>normal.</td>\n",
       "    </tr>\n",
       "  </tbody>\n",
       "</table>\n",
       "<p>5 rows × 42 columns</p>\n",
       "</div>"
      ],
      "text/plain": [
       "   duration protocol_type service flag  src_bytes  dst_bytes  land  \\\n",
       "0         0           tcp    http   SF        215      45076     0   \n",
       "1         0           tcp    http   SF        162       4528     0   \n",
       "2         0           tcp    http   SF        236       1228     0   \n",
       "3         0           tcp    http   SF        233       2032     0   \n",
       "4         0           tcp    http   SF        239        486     0   \n",
       "\n",
       "   wrong_fragment  urgent  hot  ...  dst_host_srv_count  \\\n",
       "0               0       0    0  ...                   0   \n",
       "1               0       0    0  ...                   1   \n",
       "2               0       0    0  ...                   2   \n",
       "3               0       0    0  ...                   3   \n",
       "4               0       0    0  ...                   4   \n",
       "\n",
       "   dst_host_same_srv_rate  dst_host_diff_srv_rate  \\\n",
       "0                    0.00                    0.00   \n",
       "1                    1.00                    0.00   \n",
       "2                    1.00                    0.00   \n",
       "3                    1.00                    0.00   \n",
       "4                    1.00                    0.00   \n",
       "\n",
       "   dst_host_same_src_port_rate  dst_host_srv_diff_host_rate  \\\n",
       "0                         0.00                         0.00   \n",
       "1                         1.00                         0.00   \n",
       "2                         0.50                         0.00   \n",
       "3                         0.33                         0.00   \n",
       "4                         0.25                         0.00   \n",
       "\n",
       "   dst_host_serror_rate  dst_host_srv_serror_rate  dst_host_rerror_rate  \\\n",
       "0                  0.00                      0.00                  0.00   \n",
       "1                  0.00                      0.00                  0.00   \n",
       "2                  0.00                      0.00                  0.00   \n",
       "3                  0.00                      0.00                  0.00   \n",
       "4                  0.00                      0.00                  0.00   \n",
       "\n",
       "   dst_host_srv_rerror_rate    label  \n",
       "0                      0.00  normal.  \n",
       "1                      0.00  normal.  \n",
       "2                      0.00  normal.  \n",
       "3                      0.00  normal.  \n",
       "4                      0.00  normal.  \n",
       "\n",
       "[5 rows x 42 columns]"
      ]
     },
     "execution_count": 5,
     "metadata": {},
     "output_type": "execute_result"
    }
   ],
   "source": [
    "df_load.head()"
   ]
  },
  {
   "cell_type": "code",
   "execution_count": 6,
   "id": "8eb4d9bf",
   "metadata": {},
   "outputs": [],
   "source": [
    "# df_load.info()"
   ]
  },
  {
   "cell_type": "code",
   "execution_count": 7,
   "id": "cec0bd88",
   "metadata": {},
   "outputs": [
    {
     "data": {
      "text/html": [
       "<div>\n",
       "<style scoped>\n",
       "    .dataframe tbody tr th:only-of-type {\n",
       "        vertical-align: middle;\n",
       "    }\n",
       "\n",
       "    .dataframe tbody tr th {\n",
       "        vertical-align: top;\n",
       "    }\n",
       "\n",
       "    .dataframe thead th {\n",
       "        text-align: right;\n",
       "    }\n",
       "</style>\n",
       "<table border=\"1\" class=\"dataframe\">\n",
       "  <thead>\n",
       "    <tr style=\"text-align: right;\">\n",
       "      <th></th>\n",
       "      <th>duration</th>\n",
       "      <th>src_bytes</th>\n",
       "      <th>dst_bytes</th>\n",
       "      <th>land</th>\n",
       "      <th>wrong_fragment</th>\n",
       "      <th>urgent</th>\n",
       "      <th>hot</th>\n",
       "      <th>num_failed_logins</th>\n",
       "      <th>logged_in</th>\n",
       "      <th>num_compromised</th>\n",
       "      <th>...</th>\n",
       "      <th>dst_host_count</th>\n",
       "      <th>dst_host_srv_count</th>\n",
       "      <th>dst_host_same_srv_rate</th>\n",
       "      <th>dst_host_diff_srv_rate</th>\n",
       "      <th>dst_host_same_src_port_rate</th>\n",
       "      <th>dst_host_srv_diff_host_rate</th>\n",
       "      <th>dst_host_serror_rate</th>\n",
       "      <th>dst_host_srv_serror_rate</th>\n",
       "      <th>dst_host_rerror_rate</th>\n",
       "      <th>dst_host_srv_rerror_rate</th>\n",
       "    </tr>\n",
       "  </thead>\n",
       "  <tbody>\n",
       "    <tr>\n",
       "      <th>count</th>\n",
       "      <td>4898431.00</td>\n",
       "      <td>4898431.00</td>\n",
       "      <td>4898431.00</td>\n",
       "      <td>4898431.00</td>\n",
       "      <td>4898431.00</td>\n",
       "      <td>4898431.00</td>\n",
       "      <td>4898431.00</td>\n",
       "      <td>4898431.00</td>\n",
       "      <td>4898431.00</td>\n",
       "      <td>4898431.00</td>\n",
       "      <td>...</td>\n",
       "      <td>4898431.00</td>\n",
       "      <td>4898431.00</td>\n",
       "      <td>4898431.00</td>\n",
       "      <td>4898431.00</td>\n",
       "      <td>4898431.00</td>\n",
       "      <td>4898431.00</td>\n",
       "      <td>4898431.00</td>\n",
       "      <td>4898431.00</td>\n",
       "      <td>4898431.00</td>\n",
       "      <td>4898431.00</td>\n",
       "    </tr>\n",
       "    <tr>\n",
       "      <th>mean</th>\n",
       "      <td>48.34</td>\n",
       "      <td>1834.62</td>\n",
       "      <td>1093.62</td>\n",
       "      <td>0.00</td>\n",
       "      <td>0.00</td>\n",
       "      <td>0.00</td>\n",
       "      <td>0.01</td>\n",
       "      <td>0.00</td>\n",
       "      <td>0.14</td>\n",
       "      <td>0.01</td>\n",
       "      <td>...</td>\n",
       "      <td>232.98</td>\n",
       "      <td>189.21</td>\n",
       "      <td>0.75</td>\n",
       "      <td>0.03</td>\n",
       "      <td>0.61</td>\n",
       "      <td>0.01</td>\n",
       "      <td>0.18</td>\n",
       "      <td>0.18</td>\n",
       "      <td>0.06</td>\n",
       "      <td>0.06</td>\n",
       "    </tr>\n",
       "    <tr>\n",
       "      <th>std</th>\n",
       "      <td>723.33</td>\n",
       "      <td>941431.07</td>\n",
       "      <td>645012.33</td>\n",
       "      <td>0.00</td>\n",
       "      <td>0.04</td>\n",
       "      <td>0.01</td>\n",
       "      <td>0.47</td>\n",
       "      <td>0.01</td>\n",
       "      <td>0.35</td>\n",
       "      <td>3.86</td>\n",
       "      <td>...</td>\n",
       "      <td>64.02</td>\n",
       "      <td>105.91</td>\n",
       "      <td>0.41</td>\n",
       "      <td>0.11</td>\n",
       "      <td>0.48</td>\n",
       "      <td>0.04</td>\n",
       "      <td>0.38</td>\n",
       "      <td>0.38</td>\n",
       "      <td>0.23</td>\n",
       "      <td>0.23</td>\n",
       "    </tr>\n",
       "    <tr>\n",
       "      <th>min</th>\n",
       "      <td>0.00</td>\n",
       "      <td>0.00</td>\n",
       "      <td>0.00</td>\n",
       "      <td>0.00</td>\n",
       "      <td>0.00</td>\n",
       "      <td>0.00</td>\n",
       "      <td>0.00</td>\n",
       "      <td>0.00</td>\n",
       "      <td>0.00</td>\n",
       "      <td>0.00</td>\n",
       "      <td>...</td>\n",
       "      <td>0.00</td>\n",
       "      <td>0.00</td>\n",
       "      <td>0.00</td>\n",
       "      <td>0.00</td>\n",
       "      <td>0.00</td>\n",
       "      <td>0.00</td>\n",
       "      <td>0.00</td>\n",
       "      <td>0.00</td>\n",
       "      <td>0.00</td>\n",
       "      <td>0.00</td>\n",
       "    </tr>\n",
       "    <tr>\n",
       "      <th>25%</th>\n",
       "      <td>0.00</td>\n",
       "      <td>45.00</td>\n",
       "      <td>0.00</td>\n",
       "      <td>0.00</td>\n",
       "      <td>0.00</td>\n",
       "      <td>0.00</td>\n",
       "      <td>0.00</td>\n",
       "      <td>0.00</td>\n",
       "      <td>0.00</td>\n",
       "      <td>0.00</td>\n",
       "      <td>...</td>\n",
       "      <td>255.00</td>\n",
       "      <td>49.00</td>\n",
       "      <td>0.41</td>\n",
       "      <td>0.00</td>\n",
       "      <td>0.00</td>\n",
       "      <td>0.00</td>\n",
       "      <td>0.00</td>\n",
       "      <td>0.00</td>\n",
       "      <td>0.00</td>\n",
       "      <td>0.00</td>\n",
       "    </tr>\n",
       "    <tr>\n",
       "      <th>50%</th>\n",
       "      <td>0.00</td>\n",
       "      <td>520.00</td>\n",
       "      <td>0.00</td>\n",
       "      <td>0.00</td>\n",
       "      <td>0.00</td>\n",
       "      <td>0.00</td>\n",
       "      <td>0.00</td>\n",
       "      <td>0.00</td>\n",
       "      <td>0.00</td>\n",
       "      <td>0.00</td>\n",
       "      <td>...</td>\n",
       "      <td>255.00</td>\n",
       "      <td>255.00</td>\n",
       "      <td>1.00</td>\n",
       "      <td>0.00</td>\n",
       "      <td>1.00</td>\n",
       "      <td>0.00</td>\n",
       "      <td>0.00</td>\n",
       "      <td>0.00</td>\n",
       "      <td>0.00</td>\n",
       "      <td>0.00</td>\n",
       "    </tr>\n",
       "    <tr>\n",
       "      <th>75%</th>\n",
       "      <td>0.00</td>\n",
       "      <td>1032.00</td>\n",
       "      <td>0.00</td>\n",
       "      <td>0.00</td>\n",
       "      <td>0.00</td>\n",
       "      <td>0.00</td>\n",
       "      <td>0.00</td>\n",
       "      <td>0.00</td>\n",
       "      <td>0.00</td>\n",
       "      <td>0.00</td>\n",
       "      <td>...</td>\n",
       "      <td>255.00</td>\n",
       "      <td>255.00</td>\n",
       "      <td>1.00</td>\n",
       "      <td>0.04</td>\n",
       "      <td>1.00</td>\n",
       "      <td>0.00</td>\n",
       "      <td>0.00</td>\n",
       "      <td>0.00</td>\n",
       "      <td>0.00</td>\n",
       "      <td>0.00</td>\n",
       "    </tr>\n",
       "    <tr>\n",
       "      <th>max</th>\n",
       "      <td>58329.00</td>\n",
       "      <td>1379963888.00</td>\n",
       "      <td>1309937401.00</td>\n",
       "      <td>1.00</td>\n",
       "      <td>3.00</td>\n",
       "      <td>14.00</td>\n",
       "      <td>77.00</td>\n",
       "      <td>5.00</td>\n",
       "      <td>1.00</td>\n",
       "      <td>7479.00</td>\n",
       "      <td>...</td>\n",
       "      <td>255.00</td>\n",
       "      <td>255.00</td>\n",
       "      <td>1.00</td>\n",
       "      <td>1.00</td>\n",
       "      <td>1.00</td>\n",
       "      <td>1.00</td>\n",
       "      <td>1.00</td>\n",
       "      <td>1.00</td>\n",
       "      <td>1.00</td>\n",
       "      <td>1.00</td>\n",
       "    </tr>\n",
       "  </tbody>\n",
       "</table>\n",
       "<p>8 rows × 38 columns</p>\n",
       "</div>"
      ],
      "text/plain": [
       "        duration     src_bytes     dst_bytes       land  wrong_fragment  \\\n",
       "count 4898431.00    4898431.00    4898431.00 4898431.00      4898431.00   \n",
       "mean       48.34       1834.62       1093.62       0.00            0.00   \n",
       "std       723.33     941431.07     645012.33       0.00            0.04   \n",
       "min         0.00          0.00          0.00       0.00            0.00   \n",
       "25%         0.00         45.00          0.00       0.00            0.00   \n",
       "50%         0.00        520.00          0.00       0.00            0.00   \n",
       "75%         0.00       1032.00          0.00       0.00            0.00   \n",
       "max     58329.00 1379963888.00 1309937401.00       1.00            3.00   \n",
       "\n",
       "          urgent        hot  num_failed_logins  logged_in  num_compromised  \\\n",
       "count 4898431.00 4898431.00         4898431.00 4898431.00       4898431.00   \n",
       "mean        0.00       0.01               0.00       0.14             0.01   \n",
       "std         0.01       0.47               0.01       0.35             3.86   \n",
       "min         0.00       0.00               0.00       0.00             0.00   \n",
       "25%         0.00       0.00               0.00       0.00             0.00   \n",
       "50%         0.00       0.00               0.00       0.00             0.00   \n",
       "75%         0.00       0.00               0.00       0.00             0.00   \n",
       "max        14.00      77.00               5.00       1.00          7479.00   \n",
       "\n",
       "       ...  dst_host_count  dst_host_srv_count  dst_host_same_srv_rate  \\\n",
       "count  ...      4898431.00          4898431.00              4898431.00   \n",
       "mean   ...          232.98              189.21                    0.75   \n",
       "std    ...           64.02              105.91                    0.41   \n",
       "min    ...            0.00                0.00                    0.00   \n",
       "25%    ...          255.00               49.00                    0.41   \n",
       "50%    ...          255.00              255.00                    1.00   \n",
       "75%    ...          255.00              255.00                    1.00   \n",
       "max    ...          255.00              255.00                    1.00   \n",
       "\n",
       "       dst_host_diff_srv_rate  dst_host_same_src_port_rate  \\\n",
       "count              4898431.00                   4898431.00   \n",
       "mean                     0.03                         0.61   \n",
       "std                      0.11                         0.48   \n",
       "min                      0.00                         0.00   \n",
       "25%                      0.00                         0.00   \n",
       "50%                      0.00                         1.00   \n",
       "75%                      0.04                         1.00   \n",
       "max                      1.00                         1.00   \n",
       "\n",
       "       dst_host_srv_diff_host_rate  dst_host_serror_rate  \\\n",
       "count                   4898431.00            4898431.00   \n",
       "mean                          0.01                  0.18   \n",
       "std                           0.04                  0.38   \n",
       "min                           0.00                  0.00   \n",
       "25%                           0.00                  0.00   \n",
       "50%                           0.00                  0.00   \n",
       "75%                           0.00                  0.00   \n",
       "max                           1.00                  1.00   \n",
       "\n",
       "       dst_host_srv_serror_rate  dst_host_rerror_rate  \\\n",
       "count                4898431.00            4898431.00   \n",
       "mean                       0.18                  0.06   \n",
       "std                        0.38                  0.23   \n",
       "min                        0.00                  0.00   \n",
       "25%                        0.00                  0.00   \n",
       "50%                        0.00                  0.00   \n",
       "75%                        0.00                  0.00   \n",
       "max                        1.00                  1.00   \n",
       "\n",
       "       dst_host_srv_rerror_rate  \n",
       "count                4898431.00  \n",
       "mean                       0.06  \n",
       "std                        0.23  \n",
       "min                        0.00  \n",
       "25%                        0.00  \n",
       "50%                        0.00  \n",
       "75%                        0.00  \n",
       "max                        1.00  \n",
       "\n",
       "[8 rows x 38 columns]"
      ]
     },
     "execution_count": 7,
     "metadata": {},
     "output_type": "execute_result"
    }
   ],
   "source": [
    "df_load.describe()"
   ]
  },
  {
   "cell_type": "code",
   "execution_count": 8,
   "id": "3d7333c3",
   "metadata": {},
   "outputs": [
    {
     "data": {
      "text/plain": [
       "(4898431, 42)"
      ]
     },
     "execution_count": 8,
     "metadata": {},
     "output_type": "execute_result"
    }
   ],
   "source": [
    "df_load.shape"
   ]
  },
  {
   "cell_type": "markdown",
   "id": "85e26f13",
   "metadata": {},
   "source": [
    "##  Analyse Services"
   ]
  },
  {
   "cell_type": "code",
   "execution_count": 9,
   "id": "5282dc48",
   "metadata": {},
   "outputs": [
    {
     "data": {
      "text/plain": [
       "ecr_i        2811660\n",
       "private      1100831\n",
       "http          623091\n",
       "smtp           96554\n",
       "other          72653\n",
       "              ...   \n",
       "tftp_u             3\n",
       "harvest            2\n",
       "aol                2\n",
       "http_8001          2\n",
       "http_2784          1\n",
       "Name: service, Length: 70, dtype: int64"
      ]
     },
     "execution_count": 9,
     "metadata": {},
     "output_type": "execute_result"
    }
   ],
   "source": [
    "df_load['service'].value_counts()"
   ]
  },
  {
   "cell_type": "code",
   "execution_count": 10,
   "id": "75d8e077",
   "metadata": {},
   "outputs": [],
   "source": [
    "top_services = df_load['service'].value_counts()[:10].rename_axis('service').reset_index(name='counts')"
   ]
  },
  {
   "cell_type": "code",
   "execution_count": 11,
   "id": "de020048",
   "metadata": {},
   "outputs": [],
   "source": [
    "# sns.boxplot(data=top_services, x='counts')"
   ]
  },
  {
   "cell_type": "code",
   "execution_count": 12,
   "id": "1fededb6",
   "metadata": {},
   "outputs": [
    {
     "data": {
      "text/html": [
       "<div>\n",
       "<style scoped>\n",
       "    .dataframe tbody tr th:only-of-type {\n",
       "        vertical-align: middle;\n",
       "    }\n",
       "\n",
       "    .dataframe tbody tr th {\n",
       "        vertical-align: top;\n",
       "    }\n",
       "\n",
       "    .dataframe thead th {\n",
       "        text-align: right;\n",
       "    }\n",
       "</style>\n",
       "<table border=\"1\" class=\"dataframe\">\n",
       "  <thead>\n",
       "    <tr style=\"text-align: right;\">\n",
       "      <th></th>\n",
       "      <th>counts</th>\n",
       "    </tr>\n",
       "  </thead>\n",
       "  <tbody>\n",
       "    <tr>\n",
       "      <th>count</th>\n",
       "      <td>10.00</td>\n",
       "    </tr>\n",
       "    <tr>\n",
       "      <th>mean</th>\n",
       "      <td>483187.50</td>\n",
       "    </tr>\n",
       "    <tr>\n",
       "      <th>std</th>\n",
       "      <td>893851.91</td>\n",
       "    </tr>\n",
       "    <tr>\n",
       "      <th>min</th>\n",
       "      <td>5378.00</td>\n",
       "    </tr>\n",
       "    <tr>\n",
       "      <th>25%</th>\n",
       "      <td>22427.75</td>\n",
       "    </tr>\n",
       "    <tr>\n",
       "      <th>50%</th>\n",
       "      <td>65217.50</td>\n",
       "    </tr>\n",
       "    <tr>\n",
       "      <th>75%</th>\n",
       "      <td>491456.75</td>\n",
       "    </tr>\n",
       "    <tr>\n",
       "      <th>max</th>\n",
       "      <td>2811660.00</td>\n",
       "    </tr>\n",
       "  </tbody>\n",
       "</table>\n",
       "</div>"
      ],
      "text/plain": [
       "          counts\n",
       "count      10.00\n",
       "mean   483187.50\n",
       "std    893851.91\n",
       "min      5378.00\n",
       "25%     22427.75\n",
       "50%     65217.50\n",
       "75%    491456.75\n",
       "max   2811660.00"
      ]
     },
     "execution_count": 12,
     "metadata": {},
     "output_type": "execute_result"
    }
   ],
   "source": [
    "top_services.describe()"
   ]
  },
  {
   "cell_type": "code",
   "execution_count": 13,
   "id": "0925310d",
   "metadata": {},
   "outputs": [
    {
     "data": {
      "image/png": "[encoded data removed]",
      "text/plain": [
       "<Figure size 1600x800 with 1 Axes>"
      ]
     },
     "metadata": {},
     "output_type": "display_data"
    }
   ],
   "source": [
    "# top_services.plot(x='service', y='counts',kind='hist')\n",
    "plt.figure(figsize=(16,8))\n",
    "plt.tight_layout()\n",
    "\n",
    "ax = sns.barplot(data=top_services, x='service', y='counts',)\n",
    "\n",
    "for i in ax.containers:\n",
    "    ax.bar_label(i,)"
   ]
  },
  {
   "cell_type": "markdown",
   "id": "b88c26a0",
   "metadata": {},
   "source": [
    "## Select Normal for only http service Data for OC-SVM"
   ]
  },
  {
   "cell_type": "code",
   "execution_count": 14,
   "id": "a36db8c2",
   "metadata": {},
   "outputs": [],
   "source": [
    "df = df_load[df_load['service']=='http'].copy()"
   ]
  },
  {
   "cell_type": "code",
   "execution_count": 15,
   "id": "2da45d1e",
   "metadata": {},
   "outputs": [
    {
     "data": {
      "text/plain": [
       "http    623091\n",
       "Name: service, dtype: int64"
      ]
     },
     "execution_count": 15,
     "metadata": {},
     "output_type": "execute_result"
    }
   ],
   "source": [
    "df['service'].value_counts()"
   ]
  },
  {
   "cell_type": "code",
   "execution_count": 16,
   "id": "c10c52cf",
   "metadata": {},
   "outputs": [],
   "source": [
    "# As you see above, there is only one service type, so you may drop the service column.\n",
    "df.drop('service', axis=1, inplace=True)"
   ]
  },
  {
   "cell_type": "markdown",
   "id": "00998c60",
   "metadata": {},
   "source": [
    "## Analys Labels"
   ]
  },
  {
   "cell_type": "code",
   "execution_count": 17,
   "id": "b79676e4",
   "metadata": {
    "scrolled": true
   },
   "outputs": [
    {
     "data": {
      "text/plain": [
       "normal.       619046\n",
       "back.           2203\n",
       "neptune.        1801\n",
       "portsweep.        16\n",
       "ipsweep.          13\n",
       "satan.             7\n",
       "phf.               4\n",
       "nmap.              1\n",
       "Name: label, dtype: int64"
      ]
     },
     "execution_count": 17,
     "metadata": {},
     "output_type": "execute_result"
    }
   ],
   "source": [
    "df['label'].value_counts()"
   ]
  },
  {
   "cell_type": "code",
   "execution_count": 18,
   "id": "57874ea5",
   "metadata": {
    "scrolled": false
   },
   "outputs": [
    {
     "data": {
      "image/png": "[encoded data removed]",
      "text/plain": [
       "<Figure size 1200x600 with 1 Axes>"
      ]
     },
     "metadata": {},
     "output_type": "display_data"
    }
   ],
   "source": [
    "plt.figure(figsize=(12, 6))\n",
    "plt.tight_layout()\n",
    "ax = sns.countplot(data=df, x='label')\n",
    "\n",
    "for i in ax.containers:\n",
    "    ax.bar_label(i,)"
   ]
  },
  {
   "cell_type": "markdown",
   "id": "29011bf0",
   "metadata": {},
   "source": [
    "### Create a mix dataframe with normal and anomalous data for validation"
   ]
  },
  {
   "cell_type": "code",
   "execution_count": 19,
   "id": "4d146b85",
   "metadata": {},
   "outputs": [],
   "source": [
    "abnormals = df[df['label'] != 'normal.'].copy()"
   ]
  },
  {
   "cell_type": "code",
   "execution_count": 20,
   "id": "fe03ed86",
   "metadata": {},
   "outputs": [
    {
     "data": {
      "text/plain": [
       "back.         2203\n",
       "neptune.      1801\n",
       "portsweep.      16\n",
       "ipsweep.        13\n",
       "satan.           7\n",
       "phf.             4\n",
       "nmap.            1\n",
       "Name: label, dtype: int64"
      ]
     },
     "execution_count": 20,
     "metadata": {},
     "output_type": "execute_result"
    }
   ],
   "source": [
    "abnormals['label'].value_counts()"
   ]
  },
  {
   "cell_type": "code",
   "execution_count": 21,
   "id": "8c00189b",
   "metadata": {},
   "outputs": [
    {
     "name": "stdout",
     "output_type": "stream",
     "text": [
      "[7 8 9]\n",
      "[0 1 2 3 4 5 6]\n"
     ]
    }
   ],
   "source": [
    "# List Slicing sample\n",
    "lst = np.arange(0,10) #lst = [0,1,2,3,4,5,6,7,8,9]\n",
    "print(lst[-3:])\n",
    "print(lst[:-3])\n"
   ]
  },
  {
   "cell_type": "code",
   "execution_count": 22,
   "id": "c7032cde",
   "metadata": {},
   "outputs": [],
   "source": [
    "normal_samples = df[df['label'] == 'normal.'][:-len(abnormals)].copy()\n",
    "# novelties_normal = df[150000:154045]\n",
    "novelties_normal = df[df['label'] == 'normal.'][-len(abnormals):]"
   ]
  },
  {
   "cell_type": "code",
   "execution_count": 23,
   "id": "2c1d4311",
   "metadata": {},
   "outputs": [
    {
     "data": {
      "text/plain": [
       "normal.    4045\n",
       "Name: label, dtype: int64"
      ]
     },
     "execution_count": 23,
     "metadata": {},
     "output_type": "execute_result"
    }
   ],
   "source": [
    "novelties_normal['label'].value_counts()"
   ]
  },
  {
   "cell_type": "code",
   "execution_count": 24,
   "id": "283d4ada",
   "metadata": {},
   "outputs": [],
   "source": [
    "novelties = pd.concat([abnormals, novelties_normal])"
   ]
  },
  {
   "cell_type": "code",
   "execution_count": 25,
   "id": "893edb82",
   "metadata": {},
   "outputs": [
    {
     "data": {
      "text/plain": [
       "normal.       4045\n",
       "back.         2203\n",
       "neptune.      1801\n",
       "portsweep.      16\n",
       "ipsweep.        13\n",
       "satan.           7\n",
       "phf.             4\n",
       "nmap.            1\n",
       "Name: label, dtype: int64"
      ]
     },
     "execution_count": 25,
     "metadata": {},
     "output_type": "execute_result"
    }
   ],
   "source": [
    "novelties['label'].value_counts()"
   ]
  },
  {
   "cell_type": "code",
   "execution_count": 26,
   "id": "6a2cb07a",
   "metadata": {},
   "outputs": [
    {
     "name": "stdout",
     "output_type": "stream",
     "text": [
      "(8090, 41)\n",
      "(615001, 41)\n"
     ]
    }
   ],
   "source": [
    "print(novelties.shape)\n",
    "print(normal_samples.shape)"
   ]
  },
  {
   "cell_type": "markdown",
   "id": "54292297",
   "metadata": {},
   "source": [
    "## Handle Categorical column with Label Encoder"
   ]
  },
  {
   "cell_type": "code",
   "execution_count": 27,
   "id": "d2982971",
   "metadata": {},
   "outputs": [
    {
     "name": "stdout",
     "output_type": "stream",
     "text": [
      "Categorical column: 'protocol_type' has encoded.\n",
      "Categorical column: 'flag' has encoded.\n",
      "Categorical column: 'label' has encoded.\n"
     ]
    }
   ],
   "source": [
    "for col in normal_samples.columns:\n",
    "    if normal_samples[col].dtype == 'object':\n",
    "        print(f'Categorical column: \\'{col}\\' has encoded.')\n",
    "    "
   ]
  },
  {
   "cell_type": "code",
   "execution_count": 28,
   "id": "1336baf8",
   "metadata": {},
   "outputs": [],
   "source": [
    "# encoder = LabelEncoder()\n",
    "# encoder.fit(normal_samples['flag'])\n",
    "# enc = encoder.transform(normal_samples['flag'])"
   ]
  },
  {
   "cell_type": "code",
   "execution_count": 29,
   "id": "8ad29a63",
   "metadata": {},
   "outputs": [],
   "source": [
    "# np.unique(enc, return_counts=True)"
   ]
  },
  {
   "cell_type": "code",
   "execution_count": 30,
   "id": "e26a28b2",
   "metadata": {},
   "outputs": [],
   "source": [
    "def column_encoder(df):\n",
    "    # Apply label encoder on dataframe categorical columns\n",
    "    # and inplace update\n",
    "    for col in df.columns:\n",
    "        if df[col].dtype == 'object':\n",
    "            encoder = LabelEncoder()\n",
    "            encoder.fit(df[col])\n",
    "            df[col] = encoder.transform(df[col])\n",
    "#             print(f'dataframe \\'{df}\\' , column: \\'{col}\\' has encoded.')\n",
    "        \n",
    "        "
   ]
  },
  {
   "cell_type": "code",
   "execution_count": 31,
   "id": "c15db1a0",
   "metadata": {},
   "outputs": [
    {
     "data": {
      "text/plain": [
       "SF      560624\n",
       "REJ      53297\n",
       "S0         322\n",
       "RSTO       318\n",
       "S1         295\n",
       "S2         118\n",
       "S3          18\n",
       "OTH          5\n",
       "RSTR         4\n",
       "Name: flag, dtype: int64"
      ]
     },
     "execution_count": 31,
     "metadata": {},
     "output_type": "execute_result"
    }
   ],
   "source": [
    "# flag Column values before apply label encoder\n",
    "normal_samples['flag'].value_counts()"
   ]
  },
  {
   "cell_type": "code",
   "execution_count": 32,
   "id": "77b08dd6",
   "metadata": {
    "scrolled": false
   },
   "outputs": [],
   "source": [
    "# Apply label encode on normals and abnormals dataframe\n",
    "column_encoder(normal_samples)\n",
    "column_encoder(abnormals)\n"
   ]
  },
  {
   "cell_type": "code",
   "execution_count": 33,
   "id": "4b92fec1",
   "metadata": {},
   "outputs": [
    {
     "data": {
      "text/plain": [
       "8    560624\n",
       "1     53297\n",
       "4       322\n",
       "2       318\n",
       "5       295\n",
       "6       118\n",
       "7        18\n",
       "0         5\n",
       "3         4\n",
       "Name: flag, dtype: int64"
      ]
     },
     "execution_count": 33,
     "metadata": {},
     "output_type": "execute_result"
    }
   ],
   "source": [
    "# flag Column values after apply label encoder\n",
    "normal_samples['flag'].value_counts()"
   ]
  },
  {
   "cell_type": "code",
   "execution_count": 34,
   "id": "ff3bad37",
   "metadata": {},
   "outputs": [
    {
     "name": "stdout",
     "output_type": "stream",
     "text": [
      "615001\n"
     ]
    }
   ],
   "source": [
    "print(len(normal_samples))"
   ]
  },
  {
   "cell_type": "code",
   "execution_count": 35,
   "id": "eb007e8b",
   "metadata": {},
   "outputs": [
    {
     "name": "stdout",
     "output_type": "stream",
     "text": [
      "(615001,)\n"
     ]
    }
   ],
   "source": [
    "rnd = np.random.permutation(len(normal_samples))\n",
    "print(rnd.shape)"
   ]
  },
  {
   "cell_type": "code",
   "execution_count": 36,
   "id": "882efdf9",
   "metadata": {},
   "outputs": [
    {
     "name": "stdout",
     "output_type": "stream",
     "text": [
      "[9 4 2 5 6 0 8 7 3 1]\n",
      "[5 8 4 9 7 2 0 3 6 1]\n",
      "[4 5 1 9 2 7 6 0 3 8]\n",
      "[9 8 4 3 2 5 7 1 0 6]\n",
      "[0 7 2 5 4 6 8 1 9 3]\n",
      "[4 7 2 1 3 0 6 8 5 9]\n",
      "[0 4 3 1 5 6 9 2 7 8]\n",
      "[2 0 8 3 5 6 4 9 1 7]\n",
      "[5 3 2 4 8 0 6 9 7 1]\n",
      "[1 5 4 2 8 0 3 7 9 6]\n"
     ]
    }
   ],
   "source": [
    "# random shuffle data\n",
    "for i in range(0,10):\n",
    "    rnd = lst[np.random.permutation(len(lst))]\n",
    "    print(rnd)"
   ]
  },
  {
   "cell_type": "code",
   "execution_count": 37,
   "id": "abae719b",
   "metadata": {},
   "outputs": [],
   "source": [
    "# shuffle data before split\n",
    "for i in range(0,10):\n",
    "    normal_samples = normal_samples.iloc[np.random.permutation(len(normal_samples))]\n"
   ]
  },
  {
   "cell_type": "code",
   "execution_count": 38,
   "id": "2b366d93",
   "metadata": {},
   "outputs": [],
   "source": [
    "df_train = pd.concat([normal_samples[:100000], normal_samples[200000:250000]])\n",
    "df_validate = normal_samples[100000:150000]"
   ]
  },
  {
   "cell_type": "code",
   "execution_count": 39,
   "id": "2bcb7ffa",
   "metadata": {},
   "outputs": [],
   "source": [
    "X_train, X_test = train_test_split(df_train, test_size=0.2, random_state=101)"
   ]
  },
  {
   "cell_type": "code",
   "execution_count": 40,
   "id": "7d4f77f3",
   "metadata": {},
   "outputs": [],
   "source": [
    "x_val = df_validate"
   ]
  },
  {
   "cell_type": "code",
   "execution_count": 41,
   "id": "594e61dc",
   "metadata": {
    "scrolled": false
   },
   "outputs": [
    {
     "name": "stdout",
     "output_type": "stream",
     "text": [
      "X_train shape: (120000, 41)\n",
      "x_test  shape: (30000, 41)\n",
      "x_val   shape: (50000, 41)\n"
     ]
    }
   ],
   "source": [
    "print(f'X_train shape: {X_train.shape}')\n",
    "print(f'x_test  shape: {X_test.shape}')\n",
    "print(f'x_val   shape: {x_val.shape}')"
   ]
  },
  {
   "cell_type": "code",
   "execution_count": 42,
   "id": "5ba5eae1",
   "metadata": {},
   "outputs": [],
   "source": [
    "model = OneClassSVM(kernel='rbf', gamma=0.0005, nu=0.1)"
   ]
  },
  {
   "cell_type": "code",
   "execution_count": 43,
   "id": "cf724347",
   "metadata": {},
   "outputs": [
    {
     "name": "stdout",
     "output_type": "stream",
     "text": [
      "CPU times: total: 16min 18s\n",
      "Wall time: 16min 27s\n"
     ]
    }
   ],
   "source": [
    "%%time\n",
    "# Wall time: 16min 37s\n",
    "hist = model.fit(X_train)"
   ]
  },
  {
   "cell_type": "code",
   "execution_count": 54,
   "id": "aeee5a50",
   "metadata": {},
   "outputs": [
    {
     "name": "stdout",
     "output_type": "stream",
     "text": [
      "CPU times: total: 49.6 s\n",
      "Wall time: 50.6 s\n"
     ]
    }
   ],
   "source": [
    "%%time\n",
    "preds_test = model.predict(X_test)"
   ]
  },
  {
   "cell_type": "code",
   "execution_count": 55,
   "id": "982b4ffa",
   "metadata": {},
   "outputs": [
    {
     "name": "stdout",
     "output_type": "stream",
     "text": [
      "Test Data Accuracy: 81.8200%\n"
     ]
    }
   ],
   "source": [
    "score = 0\n",
    "for f in range(0, X_test.shape[0]):\n",
    "    if(preds_test[f] == 1):\n",
    "        score = score + 1\n",
    "\n",
    "accuracy = score / X_test.shape[0]\n",
    "print(f'Test Data Accuracy: {accuracy:.4%}')"
   ]
  },
  {
   "cell_type": "code",
   "execution_count": 56,
   "id": "47bd1ca1",
   "metadata": {},
   "outputs": [
    {
     "name": "stdout",
     "output_type": "stream",
     "text": [
      "CPU times: total: 1min 39s\n",
      "Wall time: 1min 40s\n"
     ]
    }
   ],
   "source": [
    "%%time\n",
    "preds_val = model.predict(x_val)"
   ]
  },
  {
   "cell_type": "code",
   "execution_count": 57,
   "id": "557de90b",
   "metadata": {},
   "outputs": [
    {
     "name": "stdout",
     "output_type": "stream",
     "text": [
      "Val Data Accuracy: 81.7580%\n"
     ]
    }
   ],
   "source": [
    "score = 0\n",
    "for f in range(0, x_val.shape[0]):\n",
    "    if(preds_val[f] == 1):\n",
    "        score = score + 1\n",
    "\n",
    "accuracy = score / x_val.shape[0]\n",
    "print(f'Val Data Accuracy: {accuracy:.4%}')"
   ]
  },
  {
   "cell_type": "code",
   "execution_count": 59,
   "id": "374c0a84",
   "metadata": {},
   "outputs": [],
   "source": [
    "column_encoder(novelties)"
   ]
  },
  {
   "cell_type": "code",
   "execution_count": 60,
   "id": "54f8e65e",
   "metadata": {},
   "outputs": [
    {
     "name": "stdout",
     "output_type": "stream",
     "text": [
      "CPU times: total: 12.5 s\n",
      "Wall time: 12.8 s\n"
     ]
    }
   ],
   "source": [
    "%%time\n",
    "preds_novelty = model.predict(novelties)"
   ]
  },
  {
   "cell_type": "code",
   "execution_count": 58,
   "id": "d7f66e99",
   "metadata": {},
   "outputs": [],
   "source": [
    "from sklearn.metrics import roc_auc_score"
   ]
  },
  {
   "cell_type": "code",
   "execution_count": 61,
   "id": "0f04cc1d",
   "metadata": {},
   "outputs": [
    {
     "name": "stdout",
     "output_type": "stream",
     "text": [
      "AUC: 90.1643%\n"
     ]
    }
   ],
   "source": [
    "matches = novelties['label'] == 4 #???\n",
    "auc = roc_auc_score(preds_novelty, matches)\n",
    "\n",
    "print(f'AUC: {auc:.4%}')"
   ]
  },
  {
   "cell_type": "code",
   "execution_count": 75,
   "id": "254a5cd4",
   "metadata": {},
   "outputs": [
    {
     "data": {
      "text/plain": [
       "(array([-1,  1], dtype=int64), array([4949, 3141], dtype=int64))"
      ]
     },
     "execution_count": 75,
     "metadata": {},
     "output_type": "execute_result"
    }
   ],
   "source": [
    "np.unique(preds_novelty, return_counts=True)"
   ]
  },
  {
   "cell_type": "code",
   "execution_count": 69,
   "id": "6590704d",
   "metadata": {},
   "outputs": [
    {
     "data": {
      "image/png": "[encoded data removed]",
      "text/plain": [
       "<Figure size 640x480 with 1 Axes>"
      ]
     },
     "metadata": {},
     "output_type": "display_data"
    }
   ],
   "source": [
    "# plt.hist(preds_novelty, bins=[-1.5, -0.5] + [0.5, 1.5], align='mid');\n",
    "# plt.xticks([-1, 1])"
   ]
  },
  {
   "cell_type": "code",
   "execution_count": 95,
   "id": "37e1eebb",
   "metadata": {},
   "outputs": [
    {
     "name": "stdout",
     "output_type": "stream",
     "text": [
      "              precision    recall  f1-score   support\n",
      "\n",
      "          -1       0.00      0.00      0.00         0\n",
      "           0       0.00      0.00      0.00      4045\n",
      "           1       0.99      0.77      0.87      4045\n",
      "\n",
      "    accuracy                           0.38      8090\n",
      "   macro avg       0.33      0.26      0.29      8090\n",
      "weighted avg       0.50      0.38      0.43      8090\n",
      "\n"
     ]
    },
    {
     "name": "stderr",
     "output_type": "stream",
     "text": [
      "C:\\Users\\104974068\\AppData\\Local\\anaconda3\\lib\\site-packages\\sklearn\\metrics\\_classification.py:1344: UndefinedMetricWarning: Precision and F-score are ill-defined and being set to 0.0 in labels with no predicted samples. Use `zero_division` parameter to control this behavior.\n",
      "  _warn_prf(average, modifier, msg_start, len(result))\n",
      "C:\\Users\\104974068\\AppData\\Local\\anaconda3\\lib\\site-packages\\sklearn\\metrics\\_classification.py:1344: UndefinedMetricWarning: Recall and F-score are ill-defined and being set to 0.0 in labels with no true samples. Use `zero_division` parameter to control this behavior.\n",
      "  _warn_prf(average, modifier, msg_start, len(result))\n",
      "C:\\Users\\104974068\\AppData\\Local\\anaconda3\\lib\\site-packages\\sklearn\\metrics\\_classification.py:1344: UndefinedMetricWarning: Precision and F-score are ill-defined and being set to 0.0 in labels with no predicted samples. Use `zero_division` parameter to control this behavior.\n",
      "  _warn_prf(average, modifier, msg_start, len(result))\n",
      "C:\\Users\\104974068\\AppData\\Local\\anaconda3\\lib\\site-packages\\sklearn\\metrics\\_classification.py:1344: UndefinedMetricWarning: Recall and F-score are ill-defined and being set to 0.0 in labels with no true samples. Use `zero_division` parameter to control this behavior.\n",
      "  _warn_prf(average, modifier, msg_start, len(result))\n",
      "C:\\Users\\104974068\\AppData\\Local\\anaconda3\\lib\\site-packages\\sklearn\\metrics\\_classification.py:1344: UndefinedMetricWarning: Precision and F-score are ill-defined and being set to 0.0 in labels with no predicted samples. Use `zero_division` parameter to control this behavior.\n",
      "  _warn_prf(average, modifier, msg_start, len(result))\n",
      "C:\\Users\\104974068\\AppData\\Local\\anaconda3\\lib\\site-packages\\sklearn\\metrics\\_classification.py:1344: UndefinedMetricWarning: Recall and F-score are ill-defined and being set to 0.0 in labels with no true samples. Use `zero_division` parameter to control this behavior.\n",
      "  _warn_prf(average, modifier, msg_start, len(result))\n"
     ]
    }
   ],
   "source": [
    "from sklearn.metrics import confusion_matrix, classification_report\n",
    "# confusion_matrix(preds_novelty, matches)\n",
    "print(classification_report(matches, preds_novelty))\n"
   ]
  },
  {
   "cell_type": "code",
   "execution_count": 94,
   "id": "6635acfd",
   "metadata": {},
   "outputs": [
    {
     "data": {
      "text/plain": [
       "{-1}"
      ]
     },
     "execution_count": 94,
     "metadata": {},
     "output_type": "execute_result"
    }
   ],
   "source": [
    "set(preds_novelty) - set(matches)"
   ]
  },
  {
   "cell_type": "markdown",
   "id": "464522b5",
   "metadata": {},
   "source": [
    "## Save model into pickl|e"
   ]
  },
  {
   "cell_type": "code",
   "execution_count": 80,
   "id": "8559d43b",
   "metadata": {},
   "outputs": [],
   "source": [
    "import pickle\n",
    "model_export = 'oc-svm.pkl'\n",
    "with open(model_export, 'wb') as file:\n",
    "    pickle.dump(model, file)"
   ]
  },
  {
   "cell_type": "code",
   "execution_count": null,
   "id": "96a38b90",
   "metadata": {},
   "outputs": [],
   "source": []
  },
  {
   "cell_type": "code",
   "execution_count": null,
   "id": "69f1e324",
   "metadata": {},
   "outputs": [],
   "source": []
  }
 ],
 "metadata": {
  "kernelspec": {
   "display_name": "Python 3 (ipykernel)",
   "language": "python",
   "name": "python3"
  },
  "language_info": {
   "codemirror_mode": {
    "name": "ipython",
    "version": 3
   },
   "file_extension": ".py",
   "mimetype": "text/x-python",
   "name": "python",
   "nbconvert_exporter": "python",
   "pygments_lexer": "ipython3",
   "version": "3.10.9"
  }
 },
 "nbformat": 4,
 "nbformat_minor": 5
}
