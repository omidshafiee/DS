{
 "cells": [
  {
   "cell_type": "markdown",
   "id": "1de6b345-2973-4220-afc0-9dac8d7754e6",
   "metadata": {},
   "source": [
    "## Main steps to prepare data for machine learning algorithms\n",
    "**Note: data must be in 2-D matrix shape (alrady is, while its loaded as table)**\n",
    "\n",
    "* 1- <a href='#nullvalues'>Dealing with null Values</a>: The data must be clear from any null values.\n",
    "* 2- <a href='#numvalues'>Convert all to Numerical Values</a>: The data type must be/convert in/to numerical which uses in arithmatic operations.\n",
    "* 3- <a href='#scaling'> Data Scaling</a>: The data columns must be/convert in/to a simmilar range."
   ]
  },
  {
   "cell_type": "code",
   "execution_count": 1,
   "id": "e8c9c1de-6d9d-4922-906c-56a003501aae",
   "metadata": {},
   "outputs": [
    {
     "name": "stderr",
     "output_type": "stream",
     "text": [
      "C:\\Anaconda3\\lib\\site-packages\\scipy\\__init__.py:146: UserWarning: A NumPy version >=1.16.5 and <1.23.0 is required for this version of SciPy (detected version 1.26.4\n",
      "  warnings.warn(f\"A NumPy version >={np_minversion} and <{np_maxversion}\"\n"
     ]
    }
   ],
   "source": [
    "import numpy as np\n",
    "import pandas as pd\n",
    "import os\n",
    "from scipy import stats\n",
    "\n",
    "import matplotlib.pyplot as plt\n",
    "import seaborn as sns\n",
    "\n",
    "%matplotlib inline"
   ]
  },
  {
   "cell_type": "code",
   "execution_count": 2,
   "id": "dd7a91ec-cee0-40e6-87dc-2a33a4a91787",
   "metadata": {},
   "outputs": [
    {
     "data": {
      "text/plain": [
       "'D:\\\\prg\\\\Datasets\\\\general\\\\Sample_Preprocessing.csv'"
      ]
     },
     "execution_count": 2,
     "metadata": {},
     "output_type": "execute_result"
    }
   ],
   "source": [
    "data_file = data_file = os.path.join('D:', os.path.sep, 'prg',  'Datasets', 'general', 'Sample_Preprocessing.csv')\n",
    "data_file"
   ]
  },
  {
   "cell_type": "code",
   "execution_count": 3,
   "id": "56d01247-df3f-4812-99a3-af99da5e5270",
   "metadata": {},
   "outputs": [
    {
     "data": {
      "text/html": [
       "<div>\n",
       "<style scoped>\n",
       "    .dataframe tbody tr th:only-of-type {\n",
       "        vertical-align: middle;\n",
       "    }\n",
       "\n",
       "    .dataframe tbody tr th {\n",
       "        vertical-align: top;\n",
       "    }\n",
       "\n",
       "    .dataframe thead th {\n",
       "        text-align: right;\n",
       "    }\n",
       "</style>\n",
       "<table border=\"1\" class=\"dataframe\">\n",
       "  <thead>\n",
       "    <tr style=\"text-align: right;\">\n",
       "      <th></th>\n",
       "      <th>Country</th>\n",
       "      <th>Age</th>\n",
       "      <th>Salary</th>\n",
       "      <th>Purchased</th>\n",
       "    </tr>\n",
       "  </thead>\n",
       "  <tbody>\n",
       "    <tr>\n",
       "      <th>0</th>\n",
       "      <td>India</td>\n",
       "      <td>34.0</td>\n",
       "      <td>92000.0</td>\n",
       "      <td>Yes</td>\n",
       "    </tr>\n",
       "    <tr>\n",
       "      <th>1</th>\n",
       "      <td>Sri lanka</td>\n",
       "      <td>22.0</td>\n",
       "      <td>25000.0</td>\n",
       "      <td>Yes</td>\n",
       "    </tr>\n",
       "    <tr>\n",
       "      <th>2</th>\n",
       "      <td>China</td>\n",
       "      <td>31.0</td>\n",
       "      <td>74000.0</td>\n",
       "      <td>Yes</td>\n",
       "    </tr>\n",
       "    <tr>\n",
       "      <th>3</th>\n",
       "      <td>Sri lanka</td>\n",
       "      <td>29.0</td>\n",
       "      <td>NaN</td>\n",
       "      <td>No</td>\n",
       "    </tr>\n",
       "    <tr>\n",
       "      <th>4</th>\n",
       "      <td>China</td>\n",
       "      <td>55.0</td>\n",
       "      <td>98000.0</td>\n",
       "      <td>Yes</td>\n",
       "    </tr>\n",
       "  </tbody>\n",
       "</table>\n",
       "</div>"
      ],
      "text/plain": [
       "     Country   Age   Salary Purchased\n",
       "0      India  34.0  92000.0       Yes\n",
       "1  Sri lanka  22.0  25000.0       Yes\n",
       "2      China  31.0  74000.0       Yes\n",
       "3  Sri lanka  29.0      NaN        No\n",
       "4      China  55.0  98000.0       Yes"
      ]
     },
     "execution_count": 3,
     "metadata": {},
     "output_type": "execute_result"
    }
   ],
   "source": [
    "df = pd.read_csv(data_file)\n",
    "df.head()"
   ]
  },
  {
   "cell_type": "code",
   "execution_count": 4,
   "id": "ed90907d-3280-41b3-8f5d-5e958ed97527",
   "metadata": {},
   "outputs": [
    {
     "name": "stdout",
     "output_type": "stream",
     "text": [
      "<class 'pandas.core.frame.DataFrame'>\n",
      "RangeIndex: 16 entries, 0 to 15\n",
      "Data columns (total 4 columns):\n",
      " #   Column     Non-Null Count  Dtype  \n",
      "---  ------     --------------  -----  \n",
      " 0   Country    15 non-null     object \n",
      " 1   Age        15 non-null     float64\n",
      " 2   Salary     15 non-null     float64\n",
      " 3   Purchased  16 non-null     object \n",
      "dtypes: float64(2), object(2)\n",
      "memory usage: 640.0+ bytes\n"
     ]
    }
   ],
   "source": [
    "df.info()"
   ]
  },
  {
   "cell_type": "markdown",
   "id": "b759ed4b-c35c-49ea-a692-00f00b904e5c",
   "metadata": {},
   "source": [
    "<div id='nullvalues'></div>\n",
    "\n",
    "# 1- Dealing with null Values\n",
    "<ol>\n",
    "<li><a href=\"#drop_na\">Remove</a> rows with null values.</li> \n",
    "<li>Fill null values of data column based on <a href=\"#st_moment\">statistical momentums</a> (Mean/Median/Mode/Trimmed Mean).</li>\n",
    "     <ul>\n",
    "         <li>based on normallity of data, <u>mean is the most probabble</u> choice which happens in a set (Columns)</li>\n",
    "         <li>May affect or corrupt data distribution, especially if null values have enoumous count</li>\n",
    "         <li>e.g: Kurtosis may increse.</li>\n",
    "     </ul>\n",
    "<li>Fill null values of data column with <a href=\"#fill_random\">RANDOM values in data range or column value</a></li>\n",
    "<li>Fill null values of data column with <a href=\"#fill_na\">fixed value</a> (like 0).</li>\n",
    "<li>Using <a href=\"#knn_imputer\">KNN Imputer</a></li>\n",
    "    \n",
    "</ol>\n",
    "\n"
   ]
  },
  {
   "cell_type": "code",
   "execution_count": 5,
   "id": "819a0d2c-446b-490e-b5ec-cb1687e7c106",
   "metadata": {},
   "outputs": [
    {
     "data": {
      "text/plain": [
       "Country       True\n",
       "Age           True\n",
       "Salary        True\n",
       "Purchased    False\n",
       "dtype: bool"
      ]
     },
     "execution_count": 5,
     "metadata": {},
     "output_type": "execute_result"
    }
   ],
   "source": [
    "df.isnull().any()"
   ]
  },
  {
   "cell_type": "code",
   "execution_count": 6,
   "id": "4a50fb40-da67-4d78-9c17-7ffc17872985",
   "metadata": {},
   "outputs": [
    {
     "data": {
      "text/plain": [
       "3"
      ]
     },
     "execution_count": 6,
     "metadata": {},
     "output_type": "execute_result"
    }
   ],
   "source": [
    "# Total null values\n",
    "df.isnull().any().sum()"
   ]
  },
  {
   "cell_type": "code",
   "execution_count": 7,
   "id": "8c50b890-4b16-43b4-b5f3-21d9b3dc3f44",
   "metadata": {},
   "outputs": [
    {
     "data": {
      "text/html": [
       "<div>\n",
       "<style scoped>\n",
       "    .dataframe tbody tr th:only-of-type {\n",
       "        vertical-align: middle;\n",
       "    }\n",
       "\n",
       "    .dataframe tbody tr th {\n",
       "        vertical-align: top;\n",
       "    }\n",
       "\n",
       "    .dataframe thead th {\n",
       "        text-align: right;\n",
       "    }\n",
       "</style>\n",
       "<table border=\"1\" class=\"dataframe\">\n",
       "  <thead>\n",
       "    <tr style=\"text-align: right;\">\n",
       "      <th></th>\n",
       "      <th>Country</th>\n",
       "      <th>Age</th>\n",
       "      <th>Salary</th>\n",
       "      <th>Purchased</th>\n",
       "    </tr>\n",
       "  </thead>\n",
       "  <tbody>\n",
       "    <tr>\n",
       "      <th>3</th>\n",
       "      <td>Sri lanka</td>\n",
       "      <td>29.0</td>\n",
       "      <td>NaN</td>\n",
       "      <td>No</td>\n",
       "    </tr>\n",
       "    <tr>\n",
       "      <th>6</th>\n",
       "      <td>NaN</td>\n",
       "      <td>43.0</td>\n",
       "      <td>70000.0</td>\n",
       "      <td>Yes</td>\n",
       "    </tr>\n",
       "    <tr>\n",
       "      <th>8</th>\n",
       "      <td>India</td>\n",
       "      <td>NaN</td>\n",
       "      <td>60000.0</td>\n",
       "      <td>No</td>\n",
       "    </tr>\n",
       "  </tbody>\n",
       "</table>\n",
       "</div>"
      ],
      "text/plain": [
       "     Country   Age   Salary Purchased\n",
       "3  Sri lanka  29.0      NaN        No\n",
       "6        NaN  43.0  70000.0       Yes\n",
       "8      India   NaN  60000.0        No"
      ]
     },
     "execution_count": 7,
     "metadata": {},
     "output_type": "execute_result"
    }
   ],
   "source": [
    "# Show rows which contains null values\n",
    "df[df.isna().any(axis=1)]"
   ]
  },
  {
   "cell_type": "markdown",
   "id": "98b8a62b-cda8-4f03-a3af-0482121c4fd9",
   "metadata": {},
   "source": [
    "---------------\n",
    "<div id='drop_na'></div>\n",
    "\n",
    "### 1-1 Delete rows with null values:"
   ]
  },
  {
   "cell_type": "code",
   "execution_count": 8,
   "id": "745cef2d-7bdb-4d99-a916-7fee242e529f",
   "metadata": {},
   "outputs": [
    {
     "data": {
      "text/html": [
       "<div>\n",
       "<style scoped>\n",
       "    .dataframe tbody tr th:only-of-type {\n",
       "        vertical-align: middle;\n",
       "    }\n",
       "\n",
       "    .dataframe tbody tr th {\n",
       "        vertical-align: top;\n",
       "    }\n",
       "\n",
       "    .dataframe thead th {\n",
       "        text-align: right;\n",
       "    }\n",
       "</style>\n",
       "<table border=\"1\" class=\"dataframe\">\n",
       "  <thead>\n",
       "    <tr style=\"text-align: right;\">\n",
       "      <th></th>\n",
       "      <th>Country</th>\n",
       "      <th>Age</th>\n",
       "      <th>Salary</th>\n",
       "      <th>Purchased</th>\n",
       "    </tr>\n",
       "  </thead>\n",
       "  <tbody>\n",
       "    <tr>\n",
       "      <th>0</th>\n",
       "      <td>India</td>\n",
       "      <td>34.0</td>\n",
       "      <td>92000.0</td>\n",
       "      <td>Yes</td>\n",
       "    </tr>\n",
       "    <tr>\n",
       "      <th>1</th>\n",
       "      <td>Sri lanka</td>\n",
       "      <td>22.0</td>\n",
       "      <td>25000.0</td>\n",
       "      <td>Yes</td>\n",
       "    </tr>\n",
       "    <tr>\n",
       "      <th>2</th>\n",
       "      <td>China</td>\n",
       "      <td>31.0</td>\n",
       "      <td>74000.0</td>\n",
       "      <td>Yes</td>\n",
       "    </tr>\n",
       "    <tr>\n",
       "      <th>4</th>\n",
       "      <td>China</td>\n",
       "      <td>55.0</td>\n",
       "      <td>98000.0</td>\n",
       "      <td>Yes</td>\n",
       "    </tr>\n",
       "    <tr>\n",
       "      <th>5</th>\n",
       "      <td>India</td>\n",
       "      <td>24.0</td>\n",
       "      <td>30000.0</td>\n",
       "      <td>No</td>\n",
       "    </tr>\n",
       "    <tr>\n",
       "      <th>7</th>\n",
       "      <td>Sri lanka</td>\n",
       "      <td>28.0</td>\n",
       "      <td>40000.0</td>\n",
       "      <td>No</td>\n",
       "    </tr>\n",
       "    <tr>\n",
       "      <th>9</th>\n",
       "      <td>China</td>\n",
       "      <td>51.0</td>\n",
       "      <td>89000.0</td>\n",
       "      <td>Yes</td>\n",
       "    </tr>\n",
       "    <tr>\n",
       "      <th>10</th>\n",
       "      <td>India</td>\n",
       "      <td>44.0</td>\n",
       "      <td>78000.0</td>\n",
       "      <td>Yes</td>\n",
       "    </tr>\n",
       "    <tr>\n",
       "      <th>11</th>\n",
       "      <td>Sri lanka</td>\n",
       "      <td>21.0</td>\n",
       "      <td>20000.0</td>\n",
       "      <td>No</td>\n",
       "    </tr>\n",
       "    <tr>\n",
       "      <th>12</th>\n",
       "      <td>China</td>\n",
       "      <td>25.0</td>\n",
       "      <td>30000.0</td>\n",
       "      <td>Yes</td>\n",
       "    </tr>\n",
       "    <tr>\n",
       "      <th>13</th>\n",
       "      <td>India</td>\n",
       "      <td>33.0</td>\n",
       "      <td>45000.0</td>\n",
       "      <td>Yes</td>\n",
       "    </tr>\n",
       "    <tr>\n",
       "      <th>14</th>\n",
       "      <td>India</td>\n",
       "      <td>42.0</td>\n",
       "      <td>65000.0</td>\n",
       "      <td>Yes</td>\n",
       "    </tr>\n",
       "    <tr>\n",
       "      <th>15</th>\n",
       "      <td>Sri lanka</td>\n",
       "      <td>33.0</td>\n",
       "      <td>22000.0</td>\n",
       "      <td>No</td>\n",
       "    </tr>\n",
       "  </tbody>\n",
       "</table>\n",
       "</div>"
      ],
      "text/plain": [
       "      Country   Age   Salary Purchased\n",
       "0       India  34.0  92000.0       Yes\n",
       "1   Sri lanka  22.0  25000.0       Yes\n",
       "2       China  31.0  74000.0       Yes\n",
       "4       China  55.0  98000.0       Yes\n",
       "5       India  24.0  30000.0        No\n",
       "7   Sri lanka  28.0  40000.0        No\n",
       "9       China  51.0  89000.0       Yes\n",
       "10      India  44.0  78000.0       Yes\n",
       "11  Sri lanka  21.0  20000.0        No\n",
       "12      China  25.0  30000.0       Yes\n",
       "13      India  33.0  45000.0       Yes\n",
       "14      India  42.0  65000.0       Yes\n",
       "15  Sri lanka  33.0  22000.0        No"
      ]
     },
     "execution_count": 8,
     "metadata": {},
     "output_type": "execute_result"
    }
   ],
   "source": [
    "df.dropna() # inplace=True"
   ]
  },
  {
   "cell_type": "code",
   "execution_count": 9,
   "id": "955ece70-ec10-48c0-8074-cc9d5bcad666",
   "metadata": {},
   "outputs": [
    {
     "data": {
      "text/html": [
       "<div>\n",
       "<style scoped>\n",
       "    .dataframe tbody tr th:only-of-type {\n",
       "        vertical-align: middle;\n",
       "    }\n",
       "\n",
       "    .dataframe tbody tr th {\n",
       "        vertical-align: top;\n",
       "    }\n",
       "\n",
       "    .dataframe thead th {\n",
       "        text-align: right;\n",
       "    }\n",
       "</style>\n",
       "<table border=\"1\" class=\"dataframe\">\n",
       "  <thead>\n",
       "    <tr style=\"text-align: right;\">\n",
       "      <th></th>\n",
       "      <th>Country</th>\n",
       "      <th>Age</th>\n",
       "      <th>Salary</th>\n",
       "      <th>Purchased</th>\n",
       "    </tr>\n",
       "  </thead>\n",
       "  <tbody>\n",
       "    <tr>\n",
       "      <th>0</th>\n",
       "      <td>India</td>\n",
       "      <td>34.0</td>\n",
       "      <td>92000.0</td>\n",
       "      <td>Yes</td>\n",
       "    </tr>\n",
       "    <tr>\n",
       "      <th>1</th>\n",
       "      <td>Sri lanka</td>\n",
       "      <td>22.0</td>\n",
       "      <td>25000.0</td>\n",
       "      <td>Yes</td>\n",
       "    </tr>\n",
       "    <tr>\n",
       "      <th>2</th>\n",
       "      <td>China</td>\n",
       "      <td>31.0</td>\n",
       "      <td>74000.0</td>\n",
       "      <td>Yes</td>\n",
       "    </tr>\n",
       "    <tr>\n",
       "      <th>4</th>\n",
       "      <td>China</td>\n",
       "      <td>55.0</td>\n",
       "      <td>98000.0</td>\n",
       "      <td>Yes</td>\n",
       "    </tr>\n",
       "    <tr>\n",
       "      <th>5</th>\n",
       "      <td>India</td>\n",
       "      <td>24.0</td>\n",
       "      <td>30000.0</td>\n",
       "      <td>No</td>\n",
       "    </tr>\n",
       "    <tr>\n",
       "      <th>7</th>\n",
       "      <td>Sri lanka</td>\n",
       "      <td>28.0</td>\n",
       "      <td>40000.0</td>\n",
       "      <td>No</td>\n",
       "    </tr>\n",
       "    <tr>\n",
       "      <th>9</th>\n",
       "      <td>China</td>\n",
       "      <td>51.0</td>\n",
       "      <td>89000.0</td>\n",
       "      <td>Yes</td>\n",
       "    </tr>\n",
       "    <tr>\n",
       "      <th>10</th>\n",
       "      <td>India</td>\n",
       "      <td>44.0</td>\n",
       "      <td>78000.0</td>\n",
       "      <td>Yes</td>\n",
       "    </tr>\n",
       "    <tr>\n",
       "      <th>11</th>\n",
       "      <td>Sri lanka</td>\n",
       "      <td>21.0</td>\n",
       "      <td>20000.0</td>\n",
       "      <td>No</td>\n",
       "    </tr>\n",
       "    <tr>\n",
       "      <th>12</th>\n",
       "      <td>China</td>\n",
       "      <td>25.0</td>\n",
       "      <td>30000.0</td>\n",
       "      <td>Yes</td>\n",
       "    </tr>\n",
       "    <tr>\n",
       "      <th>13</th>\n",
       "      <td>India</td>\n",
       "      <td>33.0</td>\n",
       "      <td>45000.0</td>\n",
       "      <td>Yes</td>\n",
       "    </tr>\n",
       "    <tr>\n",
       "      <th>14</th>\n",
       "      <td>India</td>\n",
       "      <td>42.0</td>\n",
       "      <td>65000.0</td>\n",
       "      <td>Yes</td>\n",
       "    </tr>\n",
       "    <tr>\n",
       "      <th>15</th>\n",
       "      <td>Sri lanka</td>\n",
       "      <td>33.0</td>\n",
       "      <td>22000.0</td>\n",
       "      <td>No</td>\n",
       "    </tr>\n",
       "  </tbody>\n",
       "</table>\n",
       "</div>"
      ],
      "text/plain": [
       "      Country   Age   Salary Purchased\n",
       "0       India  34.0  92000.0       Yes\n",
       "1   Sri lanka  22.0  25000.0       Yes\n",
       "2       China  31.0  74000.0       Yes\n",
       "4       China  55.0  98000.0       Yes\n",
       "5       India  24.0  30000.0        No\n",
       "7   Sri lanka  28.0  40000.0        No\n",
       "9       China  51.0  89000.0       Yes\n",
       "10      India  44.0  78000.0       Yes\n",
       "11  Sri lanka  21.0  20000.0        No\n",
       "12      China  25.0  30000.0       Yes\n",
       "13      India  33.0  45000.0       Yes\n",
       "14      India  42.0  65000.0       Yes\n",
       "15  Sri lanka  33.0  22000.0        No"
      ]
     },
     "execution_count": 9,
     "metadata": {},
     "output_type": "execute_result"
    }
   ],
   "source": [
    "# Show NOT NULL rows\n",
    "# new_df = df[df.notna().all(axis=1)]\n",
    "df[df.notna().all(axis=1)]\n"
   ]
  },
  {
   "cell_type": "markdown",
   "id": "f8026886-4276-414b-9677-2e602beeb612",
   "metadata": {},
   "source": [
    "---------------\n",
    "<div id='st_moment'></div>\n",
    "\n",
    "### 1-2 Fill with statistical momentums:"
   ]
  },
  {
   "cell_type": "code",
   "execution_count": 10,
   "id": "b212a3ba-56bc-4a6e-9743-806c94e0c874",
   "metadata": {},
   "outputs": [
    {
     "data": {
      "text/html": [
       "<div>\n",
       "<style scoped>\n",
       "    .dataframe tbody tr th:only-of-type {\n",
       "        vertical-align: middle;\n",
       "    }\n",
       "\n",
       "    .dataframe tbody tr th {\n",
       "        vertical-align: top;\n",
       "    }\n",
       "\n",
       "    .dataframe thead th {\n",
       "        text-align: right;\n",
       "    }\n",
       "</style>\n",
       "<table border=\"1\" class=\"dataframe\">\n",
       "  <thead>\n",
       "    <tr style=\"text-align: right;\">\n",
       "      <th></th>\n",
       "      <th>Country</th>\n",
       "      <th>Age</th>\n",
       "      <th>Salary</th>\n",
       "      <th>Purchased</th>\n",
       "    </tr>\n",
       "  </thead>\n",
       "  <tbody>\n",
       "    <tr>\n",
       "      <th>8</th>\n",
       "      <td>India</td>\n",
       "      <td>NaN</td>\n",
       "      <td>60000.0</td>\n",
       "      <td>No</td>\n",
       "    </tr>\n",
       "  </tbody>\n",
       "</table>\n",
       "</div>"
      ],
      "text/plain": [
       "  Country  Age   Salary Purchased\n",
       "8   India  NaN  60000.0        No"
      ]
     },
     "execution_count": 10,
     "metadata": {},
     "output_type": "execute_result"
    }
   ],
   "source": [
    "df[df['Age'].isna()]"
   ]
  },
  {
   "cell_type": "code",
   "execution_count": 11,
   "id": "f17259fc-2e87-4f6a-9f4f-123368ee02e2",
   "metadata": {},
   "outputs": [],
   "source": [
    "df['Age'].fillna(int(df['Age'].mean()), inplace=True)"
   ]
  },
  {
   "cell_type": "code",
   "execution_count": 12,
   "id": "4d793d07-0b52-4f79-9c5e-36989918d2c3",
   "metadata": {},
   "outputs": [
    {
     "data": {
      "text/html": [
       "<div>\n",
       "<style scoped>\n",
       "    .dataframe tbody tr th:only-of-type {\n",
       "        vertical-align: middle;\n",
       "    }\n",
       "\n",
       "    .dataframe tbody tr th {\n",
       "        vertical-align: top;\n",
       "    }\n",
       "\n",
       "    .dataframe thead th {\n",
       "        text-align: right;\n",
       "    }\n",
       "</style>\n",
       "<table border=\"1\" class=\"dataframe\">\n",
       "  <thead>\n",
       "    <tr style=\"text-align: right;\">\n",
       "      <th></th>\n",
       "      <th>Country</th>\n",
       "      <th>Age</th>\n",
       "      <th>Salary</th>\n",
       "      <th>Purchased</th>\n",
       "    </tr>\n",
       "  </thead>\n",
       "  <tbody>\n",
       "    <tr>\n",
       "      <th>3</th>\n",
       "      <td>Sri lanka</td>\n",
       "      <td>29.0</td>\n",
       "      <td>NaN</td>\n",
       "      <td>No</td>\n",
       "    </tr>\n",
       "  </tbody>\n",
       "</table>\n",
       "</div>"
      ],
      "text/plain": [
       "     Country   Age  Salary Purchased\n",
       "3  Sri lanka  29.0     NaN        No"
      ]
     },
     "execution_count": 12,
     "metadata": {},
     "output_type": "execute_result"
    }
   ],
   "source": [
    "df[df['Salary'].isna()]"
   ]
  },
  {
   "cell_type": "code",
   "execution_count": 13,
   "id": "5ac75cc3-b79e-4df7-bc64-948389553e3b",
   "metadata": {},
   "outputs": [],
   "source": [
    "df['Salary'].fillna(int(df['Salary'].median()), inplace=True)"
   ]
  },
  {
   "cell_type": "code",
   "execution_count": 14,
   "id": "02c9d25f-42bc-441e-ac67-b393ba3809bd",
   "metadata": {},
   "outputs": [],
   "source": [
    "df['Country'].fillna(df['Country'].mode(), inplace=True)"
   ]
  },
  {
   "cell_type": "markdown",
   "id": "2f692570-4723-4b89-893d-ac544530a41b",
   "metadata": {},
   "source": [
    "---------------\n",
    "<div id='fill_random'></div>\n",
    "\n",
    "### 1-3 Fill wih random values:"
   ]
  },
  {
   "cell_type": "code",
   "execution_count": 15,
   "id": "ad64a06f-3402-4ba7-927a-8c321b64db97",
   "metadata": {},
   "outputs": [
    {
     "data": {
      "text/plain": [
       "0     34.0\n",
       "1     22.0\n",
       "2     31.0\n",
       "3     29.0\n",
       "4     55.0\n",
       "5     24.0\n",
       "6     43.0\n",
       "7     28.0\n",
       "8     34.0\n",
       "9     51.0\n",
       "10    44.0\n",
       "11    21.0\n",
       "12    25.0\n",
       "13    33.0\n",
       "14    42.0\n",
       "15    33.0\n",
       "Name: Age, dtype: float64"
      ]
     },
     "execution_count": 15,
     "metadata": {},
     "output_type": "execute_result"
    }
   ],
   "source": [
    "df['Age'].fillna(np.random.randint(low=df['Age'].min(), high=df['Age'].max()), inplace=False)"
   ]
  },
  {
   "cell_type": "markdown",
   "id": "54e2e373-f91a-4c62-9ffe-472bf76b9222",
   "metadata": {},
   "source": [
    "---------------\n",
    "<div id='fill_na'></div>\n",
    "\n",
    "### 1-4 Fill with fixed value\n"
   ]
  },
  {
   "cell_type": "code",
   "execution_count": 16,
   "id": "c8fbb06d-bdcb-4864-93f3-e7d7aa946f1a",
   "metadata": {},
   "outputs": [
    {
     "data": {
      "text/plain": [
       "0     92000.0\n",
       "1     25000.0\n",
       "2     74000.0\n",
       "3     60000.0\n",
       "4     98000.0\n",
       "5     30000.0\n",
       "6     70000.0\n",
       "7     40000.0\n",
       "8     60000.0\n",
       "9     89000.0\n",
       "10    78000.0\n",
       "11    20000.0\n",
       "12    30000.0\n",
       "13    45000.0\n",
       "14    65000.0\n",
       "15    22000.0\n",
       "Name: Salary, dtype: float64"
      ]
     },
     "execution_count": 16,
     "metadata": {},
     "output_type": "execute_result"
    }
   ],
   "source": [
    "df['Salary'].fillna(0)"
   ]
  },
  {
   "cell_type": "markdown",
   "id": "32b600ff-3241-468f-94f8-5ef3896728b0",
   "metadata": {},
   "source": [
    "---------------\n",
    "<div id='knn_imputer'></div>\n",
    "\n",
    "### 1-5 Using KNN Imputer"
   ]
  },
  {
   "cell_type": "markdown",
   "id": "2d73c0ac-20b2-47c2-9143-7a02849f98fc",
   "metadata": {},
   "source": [
    "#### Split Independent variables [X], and dependent variable or label [Y]"
   ]
  },
  {
   "cell_type": "code",
   "execution_count": 17,
   "id": "c864a04e-d96c-44d6-a209-71d75f20a0c1",
   "metadata": {},
   "outputs": [],
   "source": [
    "X = df.iloc[:, :-1].values\n",
    "y = df.iloc[:, -1].values"
   ]
  },
  {
   "cell_type": "code",
   "execution_count": 18,
   "id": "08ce4884-9bc1-4da3-8f02-fd77f42bd626",
   "metadata": {},
   "outputs": [
    {
     "data": {
      "text/plain": [
       "array([[34.0, 92000.0],\n",
       "       [22.0, 25000.0],\n",
       "       [31.0, 74000.0],\n",
       "       [29.0, 60000.0],\n",
       "       [55.0, 98000.0],\n",
       "       [24.0, 30000.0],\n",
       "       [43.0, 70000.0],\n",
       "       [28.0, 40000.0],\n",
       "       [34.0, 60000.0],\n",
       "       [51.0, 89000.0],\n",
       "       [44.0, 78000.0],\n",
       "       [21.0, 20000.0],\n",
       "       [25.0, 30000.0],\n",
       "       [33.0, 45000.0],\n",
       "       [42.0, 65000.0],\n",
       "       [33.0, 22000.0]], dtype=object)"
      ]
     },
     "execution_count": 18,
     "metadata": {},
     "output_type": "execute_result"
    }
   ],
   "source": [
    "# choose age, salary column\n",
    "X[:, 1:]"
   ]
  },
  {
   "cell_type": "code",
   "execution_count": 19,
   "id": "d18f0796-9c96-4c43-befb-a35409fa9d3f",
   "metadata": {},
   "outputs": [],
   "source": [
    "from sklearn.impute import SimpleImputer"
   ]
  },
  {
   "cell_type": "code",
   "execution_count": 20,
   "id": "120becaa-4462-4764-8e25-ecaa1d09f21f",
   "metadata": {},
   "outputs": [],
   "source": [
    "\"\"\"\n",
    "Separate fit and transform in case of process new data,\n",
    "to fit(traind) data with training data set\n",
    "but transform test (new) data based on training set.\n",
    "\n",
    "strategy= mean/ median/ most_frequent (mode)/ constant.\n",
    "for string values may use mode or constant\n",
    "\n",
    "\"\"\"\n",
    "\n",
    "\n",
    "si = SimpleImputer(missing_values=np.nan, strategy='mean')\n",
    "\n",
    "si.fit(X[:, 1:])\n",
    "\n",
    "X[:, 1:] = si.transform(X[:, 1:])"
   ]
  },
  {
   "cell_type": "code",
   "execution_count": 21,
   "id": "e0be9330-830f-4442-95ef-4b99bdc76e41",
   "metadata": {},
   "outputs": [
    {
     "data": {
      "text/plain": [
       "array([['India', 34.0, 92000.0],\n",
       "       ['Sri lanka', 22.0, 25000.0],\n",
       "       ['China', 31.0, 74000.0],\n",
       "       ['Sri lanka', 29.0, 60000.0],\n",
       "       ['China', 55.0, 98000.0],\n",
       "       ['India', 24.0, 30000.0],\n",
       "       [nan, 43.0, 70000.0],\n",
       "       ['Sri lanka', 28.0, 40000.0],\n",
       "       ['India', 34.0, 60000.0],\n",
       "       ['China', 51.0, 89000.0],\n",
       "       ['India', 44.0, 78000.0],\n",
       "       ['Sri lanka', 21.0, 20000.0],\n",
       "       ['China', 25.0, 30000.0],\n",
       "       ['India', 33.0, 45000.0],\n",
       "       ['India', 42.0, 65000.0],\n",
       "       ['Sri lanka', 33.0, 22000.0]], dtype=object)"
      ]
     },
     "execution_count": 21,
     "metadata": {},
     "output_type": "execute_result"
    }
   ],
   "source": [
    "X"
   ]
  },
  {
   "cell_type": "code",
   "execution_count": 22,
   "id": "ea419efb-2690-41c5-acf6-8370c59307dd",
   "metadata": {},
   "outputs": [
    {
     "data": {
      "text/plain": [
       "{'add_indicator': False,\n",
       " 'copy': True,\n",
       " 'fill_value': None,\n",
       " 'missing_values': nan,\n",
       " 'strategy': 'mean',\n",
       " 'verbose': 0}"
      ]
     },
     "execution_count": 22,
     "metadata": {},
     "output_type": "execute_result"
    }
   ],
   "source": [
    "si.get_params()"
   ]
  },
  {
   "cell_type": "markdown",
   "id": "3b27e3a9-e950-4da7-a011-94dd4ef6d3f1",
   "metadata": {},
   "source": [
    "**Save Imputer (Model) for furthure use**"
   ]
  },
  {
   "cell_type": "code",
   "execution_count": 23,
   "id": "92e0a67a-00de-4ba5-8373-e844228eb57d",
   "metadata": {},
   "outputs": [],
   "source": [
    "import pickle"
   ]
  },
  {
   "cell_type": "code",
   "execution_count": 24,
   "id": "d25eb30b-1431-4197-bcf3-6d2db98e0b4b",
   "metadata": {},
   "outputs": [],
   "source": [
    "with open(file='0-1 simple_imputer.imp', mode='wb') as file:\n",
    "    pickle.dump(si, file)"
   ]
  },
  {
   "cell_type": "markdown",
   "id": "c7acb49e-2e3f-4cdd-9790-c7c03e2f854b",
   "metadata": {},
   "source": [
    "**Load Imputer (Model) for furthure use**"
   ]
  },
  {
   "cell_type": "code",
   "execution_count": 25,
   "id": "4c73a4e8-b7ff-4cb4-a4a3-b943201bc3e9",
   "metadata": {},
   "outputs": [],
   "source": [
    "with open(file='0-1 simple_imputer.imp', mode='rb') as file:\n",
    "    si_new = pickle.load(file)"
   ]
  },
  {
   "cell_type": "code",
   "execution_count": 26,
   "id": "aa5d3153-5192-4b9a-b614-3a8a8e7c356f",
   "metadata": {},
   "outputs": [
    {
     "data": {
      "text/plain": [
       "SimpleImputer()"
      ]
     },
     "execution_count": 26,
     "metadata": {},
     "output_type": "execute_result"
    }
   ],
   "source": [
    "si_new"
   ]
  },
  {
   "cell_type": "code",
   "execution_count": 27,
   "id": "d31d1250-32bf-4c62-9bc0-9c7ac52f3a6c",
   "metadata": {},
   "outputs": [],
   "source": [
    "test_data = np.array([['USA', np.nan, 100000]])"
   ]
  },
  {
   "cell_type": "code",
   "execution_count": 28,
   "id": "bfdf09f0-5abe-4aaf-b800-93dd59a2b44e",
   "metadata": {},
   "outputs": [
    {
     "data": {
      "text/plain": [
       "array([['nan', '100000']], dtype='<U32')"
      ]
     },
     "execution_count": 28,
     "metadata": {},
     "output_type": "execute_result"
    }
   ],
   "source": [
    "# Must pass columns same as fited before \n",
    "test_data[:, 1:]"
   ]
  },
  {
   "cell_type": "code",
   "execution_count": 29,
   "id": "d89733e9-67e1-4c3b-9761-ff3f08170eb8",
   "metadata": {},
   "outputs": [
    {
     "data": {
      "text/plain": [
       "array([[3.43125e+01, 1.00000e+05]])"
      ]
     },
     "execution_count": 29,
     "metadata": {},
     "output_type": "execute_result"
    }
   ],
   "source": [
    "si_new.transform(test_data[:, 1:])"
   ]
  },
  {
   "cell_type": "markdown",
   "id": "30c25580-3a0d-40a4-b151-c0dbc02a5708",
   "metadata": {},
   "source": [
    "--------------------\n",
    "<div id='numvalues'></div>\n",
    "\n",
    "# 2- Convert all data to Numerical \n",
    "\n",
    "**All variables must be numeric and gain abbility to map into $\\mathbb{R}^{N}$ space, and prticipate in mathematic operations**\n",
    "<br/><br/>\n",
    "**NOTE: Numerical data like National id, zip code, or Alocate a number to a catogory is LABELING, and has no numerical value.**\n",
    "\n",
    "<ol>\n",
    "    <li>Label Encoder</li>\n",
    "    <li>One Hot Encoder</li>\n",
    "    <li>Dummy Variable</li>\n",
    "    \n",
    "</ol>\n"
   ]
  },
  {
   "cell_type": "markdown",
   "id": "97e49c86-ffaa-4e08-b1a9-cad6b261bf7d",
   "metadata": {},
   "source": [
    "## 2-1 Label Encoding (LE)\n",
    "\n",
    "* 1- Determine column cardinality (unique values)\n",
    "* 2- Allocate a label to each distinct value.\n",
    "\n",
    "<b>\n",
    "Cons: <br/>\n",
    "</b>"
   ]
  },
  {
   "cell_type": "code",
   "execution_count": 30,
   "id": "8221de72-a258-46df-8bfe-0fda4b3f2f82",
   "metadata": {},
   "outputs": [],
   "source": [
    "from sklearn.preprocessing import LabelEncoder"
   ]
  },
  {
   "cell_type": "code",
   "execution_count": 31,
   "id": "42332968-313c-4c3e-95f8-64a8c91fd152",
   "metadata": {},
   "outputs": [
    {
     "data": {
      "text/plain": [
       "array(['India', 'Sri lanka', 'China', 'Sri lanka', 'China', 'India', nan,\n",
       "       'Sri lanka', 'India', 'China', 'India', 'Sri lanka', 'China',\n",
       "       'India', 'India', 'Sri lanka'], dtype=object)"
      ]
     },
     "execution_count": 31,
     "metadata": {},
     "output_type": "execute_result"
    }
   ],
   "source": [
    "X[:, 0]"
   ]
  },
  {
   "cell_type": "code",
   "execution_count": 32,
   "id": "f89c2485-d353-42a7-a603-f2acec151808",
   "metadata": {},
   "outputs": [
    {
     "data": {
      "text/plain": [
       "array([1, 2, 0, 2, 0, 1, 3, 2, 1, 0, 1, 2, 0, 1, 1, 2])"
      ]
     },
     "execution_count": 32,
     "metadata": {},
     "output_type": "execute_result"
    }
   ],
   "source": [
    "label_encoder = LabelEncoder()\n",
    "label_encoder.fit_transform(X[:, 0])"
   ]
  },
  {
   "cell_type": "code",
   "execution_count": 33,
   "id": "f9f5171b-bf4d-4d80-bb34-013a8f3c84ae",
   "metadata": {},
   "outputs": [
    {
     "data": {
      "text/plain": [
       "array([[1, 34.0, 92000.0],\n",
       "       [2, 22.0, 25000.0],\n",
       "       [0, 31.0, 74000.0],\n",
       "       [2, 29.0, 60000.0],\n",
       "       [0, 55.0, 98000.0],\n",
       "       [1, 24.0, 30000.0],\n",
       "       [3, 43.0, 70000.0],\n",
       "       [2, 28.0, 40000.0],\n",
       "       [1, 34.0, 60000.0],\n",
       "       [0, 51.0, 89000.0],\n",
       "       [1, 44.0, 78000.0],\n",
       "       [2, 21.0, 20000.0],\n",
       "       [0, 25.0, 30000.0],\n",
       "       [1, 33.0, 45000.0],\n",
       "       [1, 42.0, 65000.0],\n",
       "       [2, 33.0, 22000.0]], dtype=object)"
      ]
     },
     "execution_count": 33,
     "metadata": {},
     "output_type": "execute_result"
    }
   ],
   "source": [
    "X_le = X\n",
    "X_le[:, 0] = label_encoder.fit_transform(X_le[:, 0])\n",
    "X_le"
   ]
  },
  {
   "cell_type": "markdown",
   "id": "a81fa078-20f4-44a4-bdac-390104530aca",
   "metadata": {},
   "source": [
    "## 2-2 One Hot Encoding (OHE)\n",
    "\n",
    "* 1- Determine column cardinality (unique values)\n",
    "* 2- Allocate a label to each distinct value.\n",
    "* 3- Create an individual column for each unique value\n",
    "* 4- Allocate values (0 or 1) to new column based on main desired column\n",
    "\n",
    "<b>\n",
    "Cons: <br/>\n",
    "\n",
    "* 1- Increase data dimension (number of columns) if cardinality getting high.\n",
    "* 2- Sparse Matrix\n",
    "    \n",
    "</b>"
   ]
  },
  {
   "cell_type": "code",
   "execution_count": 34,
   "id": "90cf85af-6196-428b-b5e6-4074bb0d1388",
   "metadata": {},
   "outputs": [],
   "source": [
    "from sklearn.preprocessing import OneHotEncoder\n",
    "from sklearn.compose import ColumnTransformer"
   ]
  },
  {
   "cell_type": "code",
   "execution_count": 35,
   "id": "f8b1f3c1-2373-4bd5-afbf-35688012c562",
   "metadata": {
    "scrolled": true
   },
   "outputs": [],
   "source": [
    "# Transformers[('arbitrar name for col', Desired function, Column Index)]\n",
    "col_transformer = ColumnTransformer(transformers=[('Country', OneHotEncoder(), [0])], remainder='passthrough')\n"
   ]
  },
  {
   "cell_type": "code",
   "execution_count": 36,
   "id": "2d80326b-e52c-49fd-aeec-42b16c77de27",
   "metadata": {},
   "outputs": [
    {
     "data": {
      "text/plain": [
       "array([[0.0, 1.0, 0.0, 0.0, 34.0, 92000.0],\n",
       "       [0.0, 0.0, 1.0, 0.0, 22.0, 25000.0],\n",
       "       [1.0, 0.0, 0.0, 0.0, 31.0, 74000.0],\n",
       "       [0.0, 0.0, 1.0, 0.0, 29.0, 60000.0],\n",
       "       [1.0, 0.0, 0.0, 0.0, 55.0, 98000.0],\n",
       "       [0.0, 1.0, 0.0, 0.0, 24.0, 30000.0],\n",
       "       [0.0, 0.0, 0.0, 1.0, 43.0, 70000.0],\n",
       "       [0.0, 0.0, 1.0, 0.0, 28.0, 40000.0],\n",
       "       [0.0, 1.0, 0.0, 0.0, 34.0, 60000.0],\n",
       "       [1.0, 0.0, 0.0, 0.0, 51.0, 89000.0],\n",
       "       [0.0, 1.0, 0.0, 0.0, 44.0, 78000.0],\n",
       "       [0.0, 0.0, 1.0, 0.0, 21.0, 20000.0],\n",
       "       [1.0, 0.0, 0.0, 0.0, 25.0, 30000.0],\n",
       "       [0.0, 1.0, 0.0, 0.0, 33.0, 45000.0],\n",
       "       [0.0, 1.0, 0.0, 0.0, 42.0, 65000.0],\n",
       "       [0.0, 0.0, 1.0, 0.0, 33.0, 22000.0]], dtype=object)"
      ]
     },
     "execution_count": 36,
     "metadata": {},
     "output_type": "execute_result"
    }
   ],
   "source": [
    "X_ohe = X_le\n",
    "\n",
    "X_ohe = col_transformer.fit_transform(X_ohe)\n",
    "\n",
    "X_ohe"
   ]
  },
  {
   "cell_type": "markdown",
   "id": "62116a0b-fc6a-4805-9260-a5d2e3445e2f",
   "metadata": {},
   "source": [
    "## 2-3 Dummy Variable"
   ]
  },
  {
   "cell_type": "code",
   "execution_count": 37,
   "id": "cd6d8665-1d1c-47b9-8e63-18508c1b8e45",
   "metadata": {},
   "outputs": [
    {
     "data": {
      "text/html": [
       "<div>\n",
       "<style scoped>\n",
       "    .dataframe tbody tr th:only-of-type {\n",
       "        vertical-align: middle;\n",
       "    }\n",
       "\n",
       "    .dataframe tbody tr th {\n",
       "        vertical-align: top;\n",
       "    }\n",
       "\n",
       "    .dataframe thead th {\n",
       "        text-align: right;\n",
       "    }\n",
       "</style>\n",
       "<table border=\"1\" class=\"dataframe\">\n",
       "  <thead>\n",
       "    <tr style=\"text-align: right;\">\n",
       "      <th></th>\n",
       "      <th>Country</th>\n",
       "      <th>Age</th>\n",
       "      <th>Salary</th>\n",
       "      <th>Purchased</th>\n",
       "    </tr>\n",
       "  </thead>\n",
       "  <tbody>\n",
       "    <tr>\n",
       "      <th>0</th>\n",
       "      <td>India</td>\n",
       "      <td>34.0</td>\n",
       "      <td>92000.0</td>\n",
       "      <td>Yes</td>\n",
       "    </tr>\n",
       "    <tr>\n",
       "      <th>1</th>\n",
       "      <td>Sri lanka</td>\n",
       "      <td>22.0</td>\n",
       "      <td>25000.0</td>\n",
       "      <td>Yes</td>\n",
       "    </tr>\n",
       "    <tr>\n",
       "      <th>2</th>\n",
       "      <td>China</td>\n",
       "      <td>31.0</td>\n",
       "      <td>74000.0</td>\n",
       "      <td>Yes</td>\n",
       "    </tr>\n",
       "    <tr>\n",
       "      <th>3</th>\n",
       "      <td>Sri lanka</td>\n",
       "      <td>29.0</td>\n",
       "      <td>60000.0</td>\n",
       "      <td>No</td>\n",
       "    </tr>\n",
       "    <tr>\n",
       "      <th>4</th>\n",
       "      <td>China</td>\n",
       "      <td>55.0</td>\n",
       "      <td>98000.0</td>\n",
       "      <td>Yes</td>\n",
       "    </tr>\n",
       "    <tr>\n",
       "      <th>5</th>\n",
       "      <td>India</td>\n",
       "      <td>24.0</td>\n",
       "      <td>30000.0</td>\n",
       "      <td>No</td>\n",
       "    </tr>\n",
       "    <tr>\n",
       "      <th>6</th>\n",
       "      <td>NaN</td>\n",
       "      <td>43.0</td>\n",
       "      <td>70000.0</td>\n",
       "      <td>Yes</td>\n",
       "    </tr>\n",
       "    <tr>\n",
       "      <th>7</th>\n",
       "      <td>Sri lanka</td>\n",
       "      <td>28.0</td>\n",
       "      <td>40000.0</td>\n",
       "      <td>No</td>\n",
       "    </tr>\n",
       "    <tr>\n",
       "      <th>8</th>\n",
       "      <td>India</td>\n",
       "      <td>34.0</td>\n",
       "      <td>60000.0</td>\n",
       "      <td>No</td>\n",
       "    </tr>\n",
       "    <tr>\n",
       "      <th>9</th>\n",
       "      <td>China</td>\n",
       "      <td>51.0</td>\n",
       "      <td>89000.0</td>\n",
       "      <td>Yes</td>\n",
       "    </tr>\n",
       "    <tr>\n",
       "      <th>10</th>\n",
       "      <td>India</td>\n",
       "      <td>44.0</td>\n",
       "      <td>78000.0</td>\n",
       "      <td>Yes</td>\n",
       "    </tr>\n",
       "    <tr>\n",
       "      <th>11</th>\n",
       "      <td>Sri lanka</td>\n",
       "      <td>21.0</td>\n",
       "      <td>20000.0</td>\n",
       "      <td>No</td>\n",
       "    </tr>\n",
       "    <tr>\n",
       "      <th>12</th>\n",
       "      <td>China</td>\n",
       "      <td>25.0</td>\n",
       "      <td>30000.0</td>\n",
       "      <td>Yes</td>\n",
       "    </tr>\n",
       "    <tr>\n",
       "      <th>13</th>\n",
       "      <td>India</td>\n",
       "      <td>33.0</td>\n",
       "      <td>45000.0</td>\n",
       "      <td>Yes</td>\n",
       "    </tr>\n",
       "    <tr>\n",
       "      <th>14</th>\n",
       "      <td>India</td>\n",
       "      <td>42.0</td>\n",
       "      <td>65000.0</td>\n",
       "      <td>Yes</td>\n",
       "    </tr>\n",
       "    <tr>\n",
       "      <th>15</th>\n",
       "      <td>Sri lanka</td>\n",
       "      <td>33.0</td>\n",
       "      <td>22000.0</td>\n",
       "      <td>No</td>\n",
       "    </tr>\n",
       "  </tbody>\n",
       "</table>\n",
       "</div>"
      ],
      "text/plain": [
       "      Country   Age   Salary Purchased\n",
       "0       India  34.0  92000.0       Yes\n",
       "1   Sri lanka  22.0  25000.0       Yes\n",
       "2       China  31.0  74000.0       Yes\n",
       "3   Sri lanka  29.0  60000.0        No\n",
       "4       China  55.0  98000.0       Yes\n",
       "5       India  24.0  30000.0        No\n",
       "6         NaN  43.0  70000.0       Yes\n",
       "7   Sri lanka  28.0  40000.0        No\n",
       "8       India  34.0  60000.0        No\n",
       "9       China  51.0  89000.0       Yes\n",
       "10      India  44.0  78000.0       Yes\n",
       "11  Sri lanka  21.0  20000.0        No\n",
       "12      China  25.0  30000.0       Yes\n",
       "13      India  33.0  45000.0       Yes\n",
       "14      India  42.0  65000.0       Yes\n",
       "15  Sri lanka  33.0  22000.0        No"
      ]
     },
     "execution_count": 37,
     "metadata": {},
     "output_type": "execute_result"
    }
   ],
   "source": [
    "df_dummy = df.copy()\n",
    "df_dummy"
   ]
  },
  {
   "cell_type": "code",
   "execution_count": 38,
   "id": "c9479be2-88aa-4246-9f3e-efc3c561cd00",
   "metadata": {},
   "outputs": [
    {
     "data": {
      "text/html": [
       "<div>\n",
       "<style scoped>\n",
       "    .dataframe tbody tr th:only-of-type {\n",
       "        vertical-align: middle;\n",
       "    }\n",
       "\n",
       "    .dataframe tbody tr th {\n",
       "        vertical-align: top;\n",
       "    }\n",
       "\n",
       "    .dataframe thead th {\n",
       "        text-align: right;\n",
       "    }\n",
       "</style>\n",
       "<table border=\"1\" class=\"dataframe\">\n",
       "  <thead>\n",
       "    <tr style=\"text-align: right;\">\n",
       "      <th></th>\n",
       "      <th>Country</th>\n",
       "      <th>Age</th>\n",
       "      <th>Salary</th>\n",
       "      <th>Purchased</th>\n",
       "      <th>China</th>\n",
       "      <th>India</th>\n",
       "      <th>Sri lanka</th>\n",
       "    </tr>\n",
       "  </thead>\n",
       "  <tbody>\n",
       "    <tr>\n",
       "      <th>0</th>\n",
       "      <td>India</td>\n",
       "      <td>34.0</td>\n",
       "      <td>92000.0</td>\n",
       "      <td>Yes</td>\n",
       "      <td>0</td>\n",
       "      <td>1</td>\n",
       "      <td>0</td>\n",
       "    </tr>\n",
       "    <tr>\n",
       "      <th>1</th>\n",
       "      <td>Sri lanka</td>\n",
       "      <td>22.0</td>\n",
       "      <td>25000.0</td>\n",
       "      <td>Yes</td>\n",
       "      <td>0</td>\n",
       "      <td>0</td>\n",
       "      <td>1</td>\n",
       "    </tr>\n",
       "    <tr>\n",
       "      <th>2</th>\n",
       "      <td>China</td>\n",
       "      <td>31.0</td>\n",
       "      <td>74000.0</td>\n",
       "      <td>Yes</td>\n",
       "      <td>1</td>\n",
       "      <td>0</td>\n",
       "      <td>0</td>\n",
       "    </tr>\n",
       "    <tr>\n",
       "      <th>3</th>\n",
       "      <td>Sri lanka</td>\n",
       "      <td>29.0</td>\n",
       "      <td>60000.0</td>\n",
       "      <td>No</td>\n",
       "      <td>0</td>\n",
       "      <td>0</td>\n",
       "      <td>1</td>\n",
       "    </tr>\n",
       "    <tr>\n",
       "      <th>4</th>\n",
       "      <td>China</td>\n",
       "      <td>55.0</td>\n",
       "      <td>98000.0</td>\n",
       "      <td>Yes</td>\n",
       "      <td>1</td>\n",
       "      <td>0</td>\n",
       "      <td>0</td>\n",
       "    </tr>\n",
       "    <tr>\n",
       "      <th>5</th>\n",
       "      <td>India</td>\n",
       "      <td>24.0</td>\n",
       "      <td>30000.0</td>\n",
       "      <td>No</td>\n",
       "      <td>0</td>\n",
       "      <td>1</td>\n",
       "      <td>0</td>\n",
       "    </tr>\n",
       "    <tr>\n",
       "      <th>6</th>\n",
       "      <td>NaN</td>\n",
       "      <td>43.0</td>\n",
       "      <td>70000.0</td>\n",
       "      <td>Yes</td>\n",
       "      <td>0</td>\n",
       "      <td>0</td>\n",
       "      <td>0</td>\n",
       "    </tr>\n",
       "    <tr>\n",
       "      <th>7</th>\n",
       "      <td>Sri lanka</td>\n",
       "      <td>28.0</td>\n",
       "      <td>40000.0</td>\n",
       "      <td>No</td>\n",
       "      <td>0</td>\n",
       "      <td>0</td>\n",
       "      <td>1</td>\n",
       "    </tr>\n",
       "    <tr>\n",
       "      <th>8</th>\n",
       "      <td>India</td>\n",
       "      <td>34.0</td>\n",
       "      <td>60000.0</td>\n",
       "      <td>No</td>\n",
       "      <td>0</td>\n",
       "      <td>1</td>\n",
       "      <td>0</td>\n",
       "    </tr>\n",
       "    <tr>\n",
       "      <th>9</th>\n",
       "      <td>China</td>\n",
       "      <td>51.0</td>\n",
       "      <td>89000.0</td>\n",
       "      <td>Yes</td>\n",
       "      <td>1</td>\n",
       "      <td>0</td>\n",
       "      <td>0</td>\n",
       "    </tr>\n",
       "    <tr>\n",
       "      <th>10</th>\n",
       "      <td>India</td>\n",
       "      <td>44.0</td>\n",
       "      <td>78000.0</td>\n",
       "      <td>Yes</td>\n",
       "      <td>0</td>\n",
       "      <td>1</td>\n",
       "      <td>0</td>\n",
       "    </tr>\n",
       "    <tr>\n",
       "      <th>11</th>\n",
       "      <td>Sri lanka</td>\n",
       "      <td>21.0</td>\n",
       "      <td>20000.0</td>\n",
       "      <td>No</td>\n",
       "      <td>0</td>\n",
       "      <td>0</td>\n",
       "      <td>1</td>\n",
       "    </tr>\n",
       "    <tr>\n",
       "      <th>12</th>\n",
       "      <td>China</td>\n",
       "      <td>25.0</td>\n",
       "      <td>30000.0</td>\n",
       "      <td>Yes</td>\n",
       "      <td>1</td>\n",
       "      <td>0</td>\n",
       "      <td>0</td>\n",
       "    </tr>\n",
       "    <tr>\n",
       "      <th>13</th>\n",
       "      <td>India</td>\n",
       "      <td>33.0</td>\n",
       "      <td>45000.0</td>\n",
       "      <td>Yes</td>\n",
       "      <td>0</td>\n",
       "      <td>1</td>\n",
       "      <td>0</td>\n",
       "    </tr>\n",
       "    <tr>\n",
       "      <th>14</th>\n",
       "      <td>India</td>\n",
       "      <td>42.0</td>\n",
       "      <td>65000.0</td>\n",
       "      <td>Yes</td>\n",
       "      <td>0</td>\n",
       "      <td>1</td>\n",
       "      <td>0</td>\n",
       "    </tr>\n",
       "    <tr>\n",
       "      <th>15</th>\n",
       "      <td>Sri lanka</td>\n",
       "      <td>33.0</td>\n",
       "      <td>22000.0</td>\n",
       "      <td>No</td>\n",
       "      <td>0</td>\n",
       "      <td>0</td>\n",
       "      <td>1</td>\n",
       "    </tr>\n",
       "  </tbody>\n",
       "</table>\n",
       "</div>"
      ],
      "text/plain": [
       "      Country   Age   Salary Purchased  China  India  Sri lanka\n",
       "0       India  34.0  92000.0       Yes      0      1          0\n",
       "1   Sri lanka  22.0  25000.0       Yes      0      0          1\n",
       "2       China  31.0  74000.0       Yes      1      0          0\n",
       "3   Sri lanka  29.0  60000.0        No      0      0          1\n",
       "4       China  55.0  98000.0       Yes      1      0          0\n",
       "5       India  24.0  30000.0        No      0      1          0\n",
       "6         NaN  43.0  70000.0       Yes      0      0          0\n",
       "7   Sri lanka  28.0  40000.0        No      0      0          1\n",
       "8       India  34.0  60000.0        No      0      1          0\n",
       "9       China  51.0  89000.0       Yes      1      0          0\n",
       "10      India  44.0  78000.0       Yes      0      1          0\n",
       "11  Sri lanka  21.0  20000.0        No      0      0          1\n",
       "12      China  25.0  30000.0       Yes      1      0          0\n",
       "13      India  33.0  45000.0       Yes      0      1          0\n",
       "14      India  42.0  65000.0       Yes      0      1          0\n",
       "15  Sri lanka  33.0  22000.0        No      0      0          1"
      ]
     },
     "execution_count": 38,
     "metadata": {},
     "output_type": "execute_result"
    }
   ],
   "source": [
    "pd.concat([df_dummy,\n",
    "          pd.get_dummies(df_dummy['Country'], dummy_na=False, drop_first=False)], axis=1)"
   ]
  },
  {
   "cell_type": "code",
   "execution_count": 39,
   "id": "02222ce3-cbf0-4c0f-8f46-7431f135cb72",
   "metadata": {},
   "outputs": [
    {
     "data": {
      "text/html": [
       "<div>\n",
       "<style scoped>\n",
       "    .dataframe tbody tr th:only-of-type {\n",
       "        vertical-align: middle;\n",
       "    }\n",
       "\n",
       "    .dataframe tbody tr th {\n",
       "        vertical-align: top;\n",
       "    }\n",
       "\n",
       "    .dataframe thead th {\n",
       "        text-align: right;\n",
       "    }\n",
       "</style>\n",
       "<table border=\"1\" class=\"dataframe\">\n",
       "  <thead>\n",
       "    <tr style=\"text-align: right;\">\n",
       "      <th></th>\n",
       "      <th>Country</th>\n",
       "      <th>Age</th>\n",
       "      <th>Salary</th>\n",
       "      <th>Purchased</th>\n",
       "    </tr>\n",
       "  </thead>\n",
       "  <tbody>\n",
       "    <tr>\n",
       "      <th>0</th>\n",
       "      <td>India</td>\n",
       "      <td>34.0</td>\n",
       "      <td>92000.0</td>\n",
       "      <td>Yes</td>\n",
       "    </tr>\n",
       "    <tr>\n",
       "      <th>1</th>\n",
       "      <td>Sri lanka</td>\n",
       "      <td>22.0</td>\n",
       "      <td>25000.0</td>\n",
       "      <td>Yes</td>\n",
       "    </tr>\n",
       "    <tr>\n",
       "      <th>2</th>\n",
       "      <td>China</td>\n",
       "      <td>31.0</td>\n",
       "      <td>74000.0</td>\n",
       "      <td>Yes</td>\n",
       "    </tr>\n",
       "    <tr>\n",
       "      <th>3</th>\n",
       "      <td>Sri lanka</td>\n",
       "      <td>29.0</td>\n",
       "      <td>60000.0</td>\n",
       "      <td>No</td>\n",
       "    </tr>\n",
       "    <tr>\n",
       "      <th>4</th>\n",
       "      <td>China</td>\n",
       "      <td>55.0</td>\n",
       "      <td>98000.0</td>\n",
       "      <td>Yes</td>\n",
       "    </tr>\n",
       "    <tr>\n",
       "      <th>5</th>\n",
       "      <td>India</td>\n",
       "      <td>24.0</td>\n",
       "      <td>30000.0</td>\n",
       "      <td>No</td>\n",
       "    </tr>\n",
       "    <tr>\n",
       "      <th>6</th>\n",
       "      <td>NaN</td>\n",
       "      <td>43.0</td>\n",
       "      <td>70000.0</td>\n",
       "      <td>Yes</td>\n",
       "    </tr>\n",
       "    <tr>\n",
       "      <th>7</th>\n",
       "      <td>Sri lanka</td>\n",
       "      <td>28.0</td>\n",
       "      <td>40000.0</td>\n",
       "      <td>No</td>\n",
       "    </tr>\n",
       "    <tr>\n",
       "      <th>8</th>\n",
       "      <td>India</td>\n",
       "      <td>34.0</td>\n",
       "      <td>60000.0</td>\n",
       "      <td>No</td>\n",
       "    </tr>\n",
       "    <tr>\n",
       "      <th>9</th>\n",
       "      <td>China</td>\n",
       "      <td>51.0</td>\n",
       "      <td>89000.0</td>\n",
       "      <td>Yes</td>\n",
       "    </tr>\n",
       "    <tr>\n",
       "      <th>10</th>\n",
       "      <td>India</td>\n",
       "      <td>44.0</td>\n",
       "      <td>78000.0</td>\n",
       "      <td>Yes</td>\n",
       "    </tr>\n",
       "    <tr>\n",
       "      <th>11</th>\n",
       "      <td>Sri lanka</td>\n",
       "      <td>21.0</td>\n",
       "      <td>20000.0</td>\n",
       "      <td>No</td>\n",
       "    </tr>\n",
       "    <tr>\n",
       "      <th>12</th>\n",
       "      <td>China</td>\n",
       "      <td>25.0</td>\n",
       "      <td>30000.0</td>\n",
       "      <td>Yes</td>\n",
       "    </tr>\n",
       "    <tr>\n",
       "      <th>13</th>\n",
       "      <td>India</td>\n",
       "      <td>33.0</td>\n",
       "      <td>45000.0</td>\n",
       "      <td>Yes</td>\n",
       "    </tr>\n",
       "    <tr>\n",
       "      <th>14</th>\n",
       "      <td>India</td>\n",
       "      <td>42.0</td>\n",
       "      <td>65000.0</td>\n",
       "      <td>Yes</td>\n",
       "    </tr>\n",
       "    <tr>\n",
       "      <th>15</th>\n",
       "      <td>Sri lanka</td>\n",
       "      <td>33.0</td>\n",
       "      <td>22000.0</td>\n",
       "      <td>No</td>\n",
       "    </tr>\n",
       "  </tbody>\n",
       "</table>\n",
       "</div>"
      ],
      "text/plain": [
       "      Country   Age   Salary Purchased\n",
       "0       India  34.0  92000.0       Yes\n",
       "1   Sri lanka  22.0  25000.0       Yes\n",
       "2       China  31.0  74000.0       Yes\n",
       "3   Sri lanka  29.0  60000.0        No\n",
       "4       China  55.0  98000.0       Yes\n",
       "5       India  24.0  30000.0        No\n",
       "6         NaN  43.0  70000.0       Yes\n",
       "7   Sri lanka  28.0  40000.0        No\n",
       "8       India  34.0  60000.0        No\n",
       "9       China  51.0  89000.0       Yes\n",
       "10      India  44.0  78000.0       Yes\n",
       "11  Sri lanka  21.0  20000.0        No\n",
       "12      China  25.0  30000.0       Yes\n",
       "13      India  33.0  45000.0       Yes\n",
       "14      India  42.0  65000.0       Yes\n",
       "15  Sri lanka  33.0  22000.0        No"
      ]
     },
     "execution_count": 39,
     "metadata": {},
     "output_type": "execute_result"
    }
   ],
   "source": [
    "df_dummy"
   ]
  },
  {
   "cell_type": "markdown",
   "id": "0ab54980-bb21-44e6-b0d3-f4ba1bae441c",
   "metadata": {},
   "source": [
    "--------------------\n",
    "<div id='numvalues'></div>\n",
    "\n",
    "# 3- Scale all data into Same range\n",
    "\n",
    "**All variables must get normalize and be in same range**\n",
    "<br/><br/>\n",
    "\n",
    "<ol>\n",
    "    <li>Max Norm</li>\n",
    "    <li>Min Max (Norm) Scaler</li>\n",
    "    <li>Standard Scaler (Z-Score)</li>\n",
    "    \n",
    "</ol>"
   ]
  },
  {
   "cell_type": "markdown",
   "id": "f8e4510b-aca2-460c-96f7-86ebcd3a33f0",
   "metadata": {},
   "source": [
    "## 3-1 Max Norm\n",
    "$$ \\text{Max Norm (x) = }\\text{x - Min(column)} $$\n",
    "$$ -1 \\le  \\text{Max Norm (x)} \\le 1$$"
   ]
  },
  {
   "cell_type": "code",
   "execution_count": 40,
   "id": "bcd2a2ea-dd33-47ac-b69e-547f06c1af47",
   "metadata": {},
   "outputs": [],
   "source": [
    "from sklearn.preprocessing import MaxAbsScaler"
   ]
  },
  {
   "cell_type": "code",
   "execution_count": 41,
   "id": "9a819236-33fa-4d75-ae16-2f9caf3341de",
   "metadata": {},
   "outputs": [
    {
     "data": {
      "text/plain": [
       "0     0.618182\n",
       "1     0.400000\n",
       "2     0.563636\n",
       "3     0.527273\n",
       "4     1.000000\n",
       "5     0.436364\n",
       "6     0.781818\n",
       "7     0.509091\n",
       "8     0.618182\n",
       "9     0.927273\n",
       "10    0.800000\n",
       "11    0.381818\n",
       "12    0.454545\n",
       "13    0.600000\n",
       "14    0.763636\n",
       "15    0.600000\n",
       "Name: Age, dtype: float64"
      ]
     },
     "execution_count": 41,
     "metadata": {},
     "output_type": "execute_result"
    }
   ],
   "source": [
    "Age_scaled = df['Age'] / df['Age'].max()\n",
    "Age_scaled"
   ]
  },
  {
   "cell_type": "code",
   "execution_count": 42,
   "id": "b9bd69c5-6563-4937-9264-8ace98df1ea7",
   "metadata": {},
   "outputs": [],
   "source": [
    "max_scaler = MaxAbsScaler()"
   ]
  },
  {
   "cell_type": "code",
   "execution_count": 43,
   "id": "7ccc3c5a-c059-4d66-bcf6-02420e482cdc",
   "metadata": {},
   "outputs": [
    {
     "data": {
      "text/plain": [
       "array([[0.61818182],\n",
       "       [0.4       ],\n",
       "       [0.56363636],\n",
       "       [0.52727273],\n",
       "       [1.        ],\n",
       "       [0.43636364],\n",
       "       [0.78181818],\n",
       "       [0.50909091],\n",
       "       [0.61818182],\n",
       "       [0.92727273],\n",
       "       [0.8       ],\n",
       "       [0.38181818],\n",
       "       [0.45454545],\n",
       "       [0.6       ],\n",
       "       [0.76363636],\n",
       "       [0.6       ]])"
      ]
     },
     "execution_count": 43,
     "metadata": {},
     "output_type": "execute_result"
    }
   ],
   "source": [
    "max_scaler.fit_transform(df['Age'].values.reshape(-1, 1))"
   ]
  },
  {
   "cell_type": "markdown",
   "id": "89a30b7c-4586-4add-bb75-bfd8a2625acd",
   "metadata": {},
   "source": [
    "## 3-2 Min/Max Norm\n",
    "\n",
    "$$\\text{Min Max Norm (x) = }\\frac{x - Min(column)}{Max - Min}$$\n",
    "<br/>\n",
    "$$0 \\le  \\text{Min Max Norm (x)} \\le 1$$"
   ]
  },
  {
   "cell_type": "code",
   "execution_count": 44,
   "id": "cf09afb3-4437-4b4f-8edc-7449e1bf94db",
   "metadata": {},
   "outputs": [],
   "source": [
    "from sklearn.preprocessing import MinMaxScaler"
   ]
  },
  {
   "cell_type": "code",
   "execution_count": 45,
   "id": "0c1f650a-82de-43c5-8dc9-75981dead8c8",
   "metadata": {},
   "outputs": [
    {
     "data": {
      "text/plain": [
       "0     0.382353\n",
       "1     0.029412\n",
       "2     0.294118\n",
       "3     0.235294\n",
       "4     1.000000\n",
       "5     0.088235\n",
       "6     0.647059\n",
       "7     0.205882\n",
       "8     0.382353\n",
       "9     0.882353\n",
       "10    0.676471\n",
       "11    0.000000\n",
       "12    0.117647\n",
       "13    0.352941\n",
       "14    0.617647\n",
       "15    0.352941\n",
       "Name: Age, dtype: float64"
      ]
     },
     "execution_count": 45,
     "metadata": {},
     "output_type": "execute_result"
    }
   ],
   "source": [
    "Age_scaled = (df['Age'] - df['Age'].min()) / (df['Age'].max() - df['Age'].min())\n",
    "Age_scaled"
   ]
  },
  {
   "cell_type": "code",
   "execution_count": 46,
   "id": "dae99e49-71d8-4448-9d69-4813e2a8a42f",
   "metadata": {},
   "outputs": [],
   "source": [
    "min_max_scaler = MinMaxScaler()"
   ]
  },
  {
   "cell_type": "code",
   "execution_count": 47,
   "id": "637e4e39-5f11-42ef-8d92-2fdc7c0d1bc9",
   "metadata": {},
   "outputs": [
    {
     "data": {
      "text/plain": [
       "array([[0.38235294],\n",
       "       [0.02941176],\n",
       "       [0.29411765],\n",
       "       [0.23529412],\n",
       "       [1.        ],\n",
       "       [0.08823529],\n",
       "       [0.64705882],\n",
       "       [0.20588235],\n",
       "       [0.38235294],\n",
       "       [0.88235294],\n",
       "       [0.67647059],\n",
       "       [0.        ],\n",
       "       [0.11764706],\n",
       "       [0.35294118],\n",
       "       [0.61764706],\n",
       "       [0.35294118]])"
      ]
     },
     "execution_count": 47,
     "metadata": {},
     "output_type": "execute_result"
    }
   ],
   "source": [
    "min_max_scaler.fit_transform(df['Age'].values.reshape(-1, 1))"
   ]
  },
  {
   "cell_type": "markdown",
   "id": "7bb5e082-f4d9-4d4d-a6f8-05e624df4298",
   "metadata": {},
   "source": [
    "## 3-3 Standard Scaler (Z-Score)\n",
    "**Note: USE FOR NORMAL DATA**\n",
    "\n",
    "$$Z = \\frac{x - \\mu}{\\sigma}$$\n",
    "$$ \\mu = Mean$$\n",
    "$$ \\sigma = Standard Deviation$$\n",
    "\n",
    "<br/>\n",
    "$$ -3 \\le  \\text{Min Max Norm (x)} \\le 3 $$ \n",
    "$$ \\text{Based on 3 Sigma rule (Normal Dist)}$$\n"
   ]
  },
  {
   "cell_type": "code",
   "execution_count": 48,
   "id": "61e6c526-cbd5-4264-87a4-87e3aa448cda",
   "metadata": {},
   "outputs": [
    {
     "name": "stdout",
     "output_type": "stream",
     "text": [
      "mean:  34.3125\n",
      " std:  10.130605444230204\n"
     ]
    }
   ],
   "source": [
    "mean = np.mean(df['Age']) # df['Age'].mean()\n",
    "print('mean: ', mean)\n",
    "\n",
    "std =  df['Age'].std()\n",
    "#np.std(df['Age']) #9.80891654 # # \n",
    "print(' std: ', std)"
   ]
  },
  {
   "cell_type": "code",
   "execution_count": 49,
   "id": "15626b1d-ff0f-4743-b2e5-5a174564e950",
   "metadata": {},
   "outputs": [
    {
     "data": {
      "text/plain": [
       "9.808916543125443"
      ]
     },
     "execution_count": 49,
     "metadata": {},
     "output_type": "execute_result"
    }
   ],
   "source": [
    "# Calculate Standard deviation manually:\n",
    "a = (df['Age'].values - df['Age'].mean()) ** 2\n",
    "np.sqrt(np.sum(a)/len(df))"
   ]
  },
  {
   "cell_type": "code",
   "execution_count": 50,
   "id": "21677e21-1d7f-496d-bda5-734568f559fb",
   "metadata": {},
   "outputs": [
    {
     "data": {
      "text/plain": [
       "0    -0.030847\n",
       "1    -1.215377\n",
       "2    -0.326979\n",
       "3    -0.524401\n",
       "4     2.042079\n",
       "5    -1.017955\n",
       "6     0.857550\n",
       "7    -0.623112\n",
       "8    -0.030847\n",
       "9     1.647236\n",
       "10    0.956261\n",
       "11   -1.314087\n",
       "12   -0.919244\n",
       "13   -0.129558\n",
       "14    0.758839\n",
       "15   -0.129558\n",
       "Name: Age, dtype: float64"
      ]
     },
     "execution_count": 50,
     "metadata": {},
     "output_type": "execute_result"
    }
   ],
   "source": [
    "Age_scaled = (df['Age'] - mean) / (std)\n",
    "Age_scaled"
   ]
  },
  {
   "cell_type": "code",
   "execution_count": 51,
   "id": "6858e8bb-d8df-425d-9b83-92e6adf2101b",
   "metadata": {},
   "outputs": [],
   "source": [
    "import statistics"
   ]
  },
  {
   "cell_type": "code",
   "execution_count": 52,
   "id": "f80a40c4-1762-4ef1-94ec-9cf9438e10de",
   "metadata": {},
   "outputs": [
    {
     "data": {
      "text/plain": [
       "0    -0.030847\n",
       "1    -1.215377\n",
       "2    -0.326979\n",
       "3    -0.524401\n",
       "4     2.042079\n",
       "5    -1.017955\n",
       "6     0.857550\n",
       "7    -0.623112\n",
       "8    -0.030847\n",
       "9     1.647236\n",
       "10    0.956261\n",
       "11   -1.314087\n",
       "12   -0.919244\n",
       "13   -0.129558\n",
       "14    0.758839\n",
       "15   -0.129558\n",
       "Name: Age, dtype: float64"
      ]
     },
     "execution_count": 52,
     "metadata": {},
     "output_type": "execute_result"
    }
   ],
   "source": [
    "statistics.NormalDist(mean, std).zscore(df['Age'])"
   ]
  },
  {
   "cell_type": "code",
   "execution_count": 53,
   "id": "167746fe-b7d3-4a59-aed7-367997cb2eeb",
   "metadata": {},
   "outputs": [
    {
     "data": {
      "text/plain": [
       "array([[-0.03185877],\n",
       "       [-1.25523547],\n",
       "       [-0.33770294],\n",
       "       [-0.54159906],\n",
       "       [ 2.10905047],\n",
       "       [-1.05133936],\n",
       "       [ 0.88567376],\n",
       "       [-0.64354712],\n",
       "       [-0.03185877],\n",
       "       [ 1.70125823],\n",
       "       [ 0.98762182],\n",
       "       [-1.35718353],\n",
       "       [-0.9493913 ],\n",
       "       [-0.13380683],\n",
       "       [ 0.7837257 ],\n",
       "       [-0.13380683]])"
      ]
     },
     "execution_count": 53,
     "metadata": {},
     "output_type": "execute_result"
    }
   ],
   "source": [
    "stats.zscore(df['Age'].values.reshape(-1, 1))"
   ]
  },
  {
   "cell_type": "code",
   "execution_count": 54,
   "id": "ba11ed91-7b79-4f9f-83e7-6e2caa61ad50",
   "metadata": {},
   "outputs": [],
   "source": [
    "from sklearn.preprocessing import StandardScaler"
   ]
  },
  {
   "cell_type": "code",
   "execution_count": 55,
   "id": "7e8feb2a-dc3b-4f84-a75c-44512cd38c7f",
   "metadata": {},
   "outputs": [],
   "source": [
    "standard_scaler = StandardScaler()"
   ]
  },
  {
   "cell_type": "code",
   "execution_count": 56,
   "id": "eda9cd96-a88b-4a44-b67e-c9b2d1b2580f",
   "metadata": {},
   "outputs": [
    {
     "data": {
      "text/plain": [
       "array([[-0.03185877],\n",
       "       [-1.25523547],\n",
       "       [-0.33770294],\n",
       "       [-0.54159906],\n",
       "       [ 2.10905047],\n",
       "       [-1.05133936],\n",
       "       [ 0.88567376],\n",
       "       [-0.64354712],\n",
       "       [-0.03185877],\n",
       "       [ 1.70125823],\n",
       "       [ 0.98762182],\n",
       "       [-1.35718353],\n",
       "       [-0.9493913 ],\n",
       "       [-0.13380683],\n",
       "       [ 0.7837257 ],\n",
       "       [-0.13380683]])"
      ]
     },
     "execution_count": 56,
     "metadata": {},
     "output_type": "execute_result"
    }
   ],
   "source": [
    "standard_scaler.fit_transform(df['Age'].values.reshape(-1, 1))"
   ]
  },
  {
   "cell_type": "code",
   "execution_count": 57,
   "id": "5e100ff6-622d-423f-bbae-6d7922f6122f",
   "metadata": {},
   "outputs": [],
   "source": [
    "# standard_scaler.fit_transform(X)"
   ]
  },
  {
   "cell_type": "code",
   "execution_count": 58,
   "id": "6e4af59a-6fa6-4c3b-baf1-41d63057b908",
   "metadata": {},
   "outputs": [
    {
     "data": {
      "text/plain": [
       "array([34.3125])"
      ]
     },
     "execution_count": 58,
     "metadata": {},
     "output_type": "execute_result"
    }
   ],
   "source": [
    "standard_scaler.mean_"
   ]
  },
  {
   "cell_type": "code",
   "execution_count": 59,
   "id": "277f9a40-6f4c-4178-b608-442c52e27142",
   "metadata": {},
   "outputs": [
    {
     "data": {
      "text/plain": [
       "array([9.80891654])"
      ]
     },
     "execution_count": 59,
     "metadata": {},
     "output_type": "execute_result"
    }
   ],
   "source": [
    "standard_scaler.scale_"
   ]
  },
  {
   "cell_type": "code",
   "execution_count": 60,
   "id": "b1a66b6e-5fac-4f81-ba8c-c14caab40671",
   "metadata": {},
   "outputs": [
    {
     "data": {
      "text/plain": [
       "array([9.80891654])"
      ]
     },
     "execution_count": 60,
     "metadata": {},
     "output_type": "execute_result"
    }
   ],
   "source": [
    "np.sqrt(standard_scaler.var_)"
   ]
  }
 ],
 "metadata": {
  "kernelspec": {
   "display_name": "Python 3 (ipykernel)",
   "language": "python",
   "name": "python3"
  },
  "language_info": {
   "codemirror_mode": {
    "name": "ipython",
    "version": 3
   },
   "file_extension": ".py",
   "mimetype": "text/x-python",
   "name": "python",
   "nbconvert_exporter": "python",
   "pygments_lexer": "ipython3",
   "version": "3.9.7"
  }
 },
 "nbformat": 4,
 "nbformat_minor": 5
}
