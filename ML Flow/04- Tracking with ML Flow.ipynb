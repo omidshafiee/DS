{
 "cells": [
  {
   "cell_type": "markdown",
   "id": "b72250e2-255d-4452-8121-ea606841c09e",
   "metadata": {},
   "source": [
    "mlflow server --host 127.0.0.1 --port 8080"
   ]
  },
  {
   "cell_type": "markdown",
   "id": "3a16e4bd-f32e-493d-bbce-03869cfd7140",
   "metadata": {},
   "source": [
    "mlflow server --backend-store-uri sqlite:///mlflow.db --default-artifact-root ./artifact --host 0.0.0.0 --port 8080\n",
    "\n",
    "mlflow server --backend-store-uri sqlite:///mlflow.db --default-artifact-root \"D:/prg/DS/ML Flow/mlruns/models/\" --host 0.0.0.0 --port 8080\n",
    "\n",
    "mlflow server --default-artifact-root \"D:/prg/DS/ML Flow/mlruns/models\" --host 0.0.0.0 --port 8080\n"
   ]
  },
  {
   "cell_type": "code",
   "execution_count": 1,
   "id": "ea9da25f-0ef6-40fd-9161-5ce495d583da",
   "metadata": {},
   "outputs": [],
   "source": [
    "import numpy as np\n",
    "import pandas as pd\n",
    "import os\n",
    "import sys\n",
    "\n",
    "from sklearn.metrics import average_precision_score\n",
    "from sklearn.utils import shuffle\n",
    "\n",
    "import pycaret\n",
    "from pycaret.classification import *\n",
    "\n",
    "import mlflow\n",
    "from mlflow.models import infer_signature\n",
    "\n",
    "\n",
    "\n",
    "from infra_utils import get_raw_data"
   ]
  },
  {
   "cell_type": "code",
   "execution_count": 2,
   "id": "ea619b4b-5f55-4f67-8d47-3c4c225bb52a",
   "metadata": {},
   "outputs": [
    {
     "data": {
      "text/plain": [
       "'dataset\\\\creditcard.csv'"
      ]
     },
     "execution_count": 2,
     "metadata": {},
     "output_type": "execute_result"
    }
   ],
   "source": [
    "data_file = ('dataset' +  os.path.sep +  'creditcard.csv')\n",
    "data_file"
   ]
  },
  {
   "cell_type": "code",
   "execution_count": 3,
   "id": "a8bcb74f-21de-4264-9929-53a004b16863",
   "metadata": {},
   "outputs": [],
   "source": [
    "df = pd.read_csv(data_file)"
   ]
  },
  {
   "cell_type": "code",
   "execution_count": 4,
   "id": "971ccfa4-7bf6-460c-bd62-e9e0dfba0f66",
   "metadata": {},
   "outputs": [],
   "source": [
    "df_train, df_test = get_raw_data(df)"
   ]
  },
  {
   "cell_type": "code",
   "execution_count": 11,
   "id": "283482e5-6b68-4b3e-a9c5-b308a6091634",
   "metadata": {},
   "outputs": [
    {
     "data": {
      "text/html": [
       "<style type=\"text/css\">\n",
       "#T_8f90f_row8_col1, #T_8f90f_row12_col1, #T_8f90f_row14_col1 {\n",
       "  background-color: lightgreen;\n",
       "}\n",
       "</style>\n",
       "<table id=\"T_8f90f\">\n",
       "  <thead>\n",
       "    <tr>\n",
       "      <th class=\"blank level0\" >&nbsp;</th>\n",
       "      <th id=\"T_8f90f_level0_col0\" class=\"col_heading level0 col0\" >Description</th>\n",
       "      <th id=\"T_8f90f_level0_col1\" class=\"col_heading level0 col1\" >Value</th>\n",
       "    </tr>\n",
       "  </thead>\n",
       "  <tbody>\n",
       "    <tr>\n",
       "      <th id=\"T_8f90f_level0_row0\" class=\"row_heading level0 row0\" >0</th>\n",
       "      <td id=\"T_8f90f_row0_col0\" class=\"data row0 col0\" >Session id</td>\n",
       "      <td id=\"T_8f90f_row0_col1\" class=\"data row0 col1\" >4462</td>\n",
       "    </tr>\n",
       "    <tr>\n",
       "      <th id=\"T_8f90f_level0_row1\" class=\"row_heading level0 row1\" >1</th>\n",
       "      <td id=\"T_8f90f_row1_col0\" class=\"data row1 col0\" >Target</td>\n",
       "      <td id=\"T_8f90f_row1_col1\" class=\"data row1 col1\" >target</td>\n",
       "    </tr>\n",
       "    <tr>\n",
       "      <th id=\"T_8f90f_level0_row2\" class=\"row_heading level0 row2\" >2</th>\n",
       "      <td id=\"T_8f90f_row2_col0\" class=\"data row2 col0\" >Target type</td>\n",
       "      <td id=\"T_8f90f_row2_col1\" class=\"data row2 col1\" >Binary</td>\n",
       "    </tr>\n",
       "    <tr>\n",
       "      <th id=\"T_8f90f_level0_row3\" class=\"row_heading level0 row3\" >3</th>\n",
       "      <td id=\"T_8f90f_row3_col0\" class=\"data row3 col0\" >Original data shape</td>\n",
       "      <td id=\"T_8f90f_row3_col1\" class=\"data row3 col1\" >(2237, 31)</td>\n",
       "    </tr>\n",
       "    <tr>\n",
       "      <th id=\"T_8f90f_level0_row4\" class=\"row_heading level0 row4\" >4</th>\n",
       "      <td id=\"T_8f90f_row4_col0\" class=\"data row4 col0\" >Transformed data shape</td>\n",
       "      <td id=\"T_8f90f_row4_col1\" class=\"data row4 col1\" >(3352, 496)</td>\n",
       "    </tr>\n",
       "    <tr>\n",
       "      <th id=\"T_8f90f_level0_row5\" class=\"row_heading level0 row5\" >5</th>\n",
       "      <td id=\"T_8f90f_row5_col0\" class=\"data row5 col0\" >Transformed train set shape</td>\n",
       "      <td id=\"T_8f90f_row5_col1\" class=\"data row5 col1\" >(2680, 496)</td>\n",
       "    </tr>\n",
       "    <tr>\n",
       "      <th id=\"T_8f90f_level0_row6\" class=\"row_heading level0 row6\" >6</th>\n",
       "      <td id=\"T_8f90f_row6_col0\" class=\"data row6 col0\" >Transformed test set shape</td>\n",
       "      <td id=\"T_8f90f_row6_col1\" class=\"data row6 col1\" >(672, 496)</td>\n",
       "    </tr>\n",
       "    <tr>\n",
       "      <th id=\"T_8f90f_level0_row7\" class=\"row_heading level0 row7\" >7</th>\n",
       "      <td id=\"T_8f90f_row7_col0\" class=\"data row7 col0\" >Numeric features</td>\n",
       "      <td id=\"T_8f90f_row7_col1\" class=\"data row7 col1\" >30</td>\n",
       "    </tr>\n",
       "    <tr>\n",
       "      <th id=\"T_8f90f_level0_row8\" class=\"row_heading level0 row8\" >8</th>\n",
       "      <td id=\"T_8f90f_row8_col0\" class=\"data row8 col0\" >Preprocess</td>\n",
       "      <td id=\"T_8f90f_row8_col1\" class=\"data row8 col1\" >True</td>\n",
       "    </tr>\n",
       "    <tr>\n",
       "      <th id=\"T_8f90f_level0_row9\" class=\"row_heading level0 row9\" >9</th>\n",
       "      <td id=\"T_8f90f_row9_col0\" class=\"data row9 col0\" >Imputation type</td>\n",
       "      <td id=\"T_8f90f_row9_col1\" class=\"data row9 col1\" >simple</td>\n",
       "    </tr>\n",
       "    <tr>\n",
       "      <th id=\"T_8f90f_level0_row10\" class=\"row_heading level0 row10\" >10</th>\n",
       "      <td id=\"T_8f90f_row10_col0\" class=\"data row10 col0\" >Numeric imputation</td>\n",
       "      <td id=\"T_8f90f_row10_col1\" class=\"data row10 col1\" >mean</td>\n",
       "    </tr>\n",
       "    <tr>\n",
       "      <th id=\"T_8f90f_level0_row11\" class=\"row_heading level0 row11\" >11</th>\n",
       "      <td id=\"T_8f90f_row11_col0\" class=\"data row11 col0\" >Categorical imputation</td>\n",
       "      <td id=\"T_8f90f_row11_col1\" class=\"data row11 col1\" >mode</td>\n",
       "    </tr>\n",
       "    <tr>\n",
       "      <th id=\"T_8f90f_level0_row12\" class=\"row_heading level0 row12\" >12</th>\n",
       "      <td id=\"T_8f90f_row12_col0\" class=\"data row12 col0\" >Polynomial features</td>\n",
       "      <td id=\"T_8f90f_row12_col1\" class=\"data row12 col1\" >True</td>\n",
       "    </tr>\n",
       "    <tr>\n",
       "      <th id=\"T_8f90f_level0_row13\" class=\"row_heading level0 row13\" >13</th>\n",
       "      <td id=\"T_8f90f_row13_col0\" class=\"data row13 col0\" >Polynomial degree</td>\n",
       "      <td id=\"T_8f90f_row13_col1\" class=\"data row13 col1\" >2</td>\n",
       "    </tr>\n",
       "    <tr>\n",
       "      <th id=\"T_8f90f_level0_row14\" class=\"row_heading level0 row14\" >14</th>\n",
       "      <td id=\"T_8f90f_row14_col0\" class=\"data row14 col0\" >Fix imbalance</td>\n",
       "      <td id=\"T_8f90f_row14_col1\" class=\"data row14 col1\" >True</td>\n",
       "    </tr>\n",
       "    <tr>\n",
       "      <th id=\"T_8f90f_level0_row15\" class=\"row_heading level0 row15\" >15</th>\n",
       "      <td id=\"T_8f90f_row15_col0\" class=\"data row15 col0\" >Fix imbalance method</td>\n",
       "      <td id=\"T_8f90f_row15_col1\" class=\"data row15 col1\" >SMOTE</td>\n",
       "    </tr>\n",
       "    <tr>\n",
       "      <th id=\"T_8f90f_level0_row16\" class=\"row_heading level0 row16\" >16</th>\n",
       "      <td id=\"T_8f90f_row16_col0\" class=\"data row16 col0\" >Fold Generator</td>\n",
       "      <td id=\"T_8f90f_row16_col1\" class=\"data row16 col1\" >StratifiedKFold</td>\n",
       "    </tr>\n",
       "    <tr>\n",
       "      <th id=\"T_8f90f_level0_row17\" class=\"row_heading level0 row17\" >17</th>\n",
       "      <td id=\"T_8f90f_row17_col0\" class=\"data row17 col0\" >Fold Number</td>\n",
       "      <td id=\"T_8f90f_row17_col1\" class=\"data row17 col1\" >10</td>\n",
       "    </tr>\n",
       "    <tr>\n",
       "      <th id=\"T_8f90f_level0_row18\" class=\"row_heading level0 row18\" >18</th>\n",
       "      <td id=\"T_8f90f_row18_col0\" class=\"data row18 col0\" >CPU Jobs</td>\n",
       "      <td id=\"T_8f90f_row18_col1\" class=\"data row18 col1\" >-1</td>\n",
       "    </tr>\n",
       "    <tr>\n",
       "      <th id=\"T_8f90f_level0_row19\" class=\"row_heading level0 row19\" >19</th>\n",
       "      <td id=\"T_8f90f_row19_col0\" class=\"data row19 col0\" >Use GPU</td>\n",
       "      <td id=\"T_8f90f_row19_col1\" class=\"data row19 col1\" >False</td>\n",
       "    </tr>\n",
       "    <tr>\n",
       "      <th id=\"T_8f90f_level0_row20\" class=\"row_heading level0 row20\" >20</th>\n",
       "      <td id=\"T_8f90f_row20_col0\" class=\"data row20 col0\" >Log Experiment</td>\n",
       "      <td id=\"T_8f90f_row20_col1\" class=\"data row20 col1\" >MlflowLogger</td>\n",
       "    </tr>\n",
       "    <tr>\n",
       "      <th id=\"T_8f90f_level0_row21\" class=\"row_heading level0 row21\" >21</th>\n",
       "      <td id=\"T_8f90f_row21_col0\" class=\"data row21 col0\" >Experiment Name</td>\n",
       "      <td id=\"T_8f90f_row21_col1\" class=\"data row21 col1\" >baseline_01</td>\n",
       "    </tr>\n",
       "    <tr>\n",
       "      <th id=\"T_8f90f_level0_row22\" class=\"row_heading level0 row22\" >22</th>\n",
       "      <td id=\"T_8f90f_row22_col0\" class=\"data row22 col0\" >USI</td>\n",
       "      <td id=\"T_8f90f_row22_col1\" class=\"data row22 col1\" >5beb</td>\n",
       "    </tr>\n",
       "  </tbody>\n",
       "</table>\n"
      ],
      "text/plain": [
       "<pandas.io.formats.style.Styler at 0x16c73e52e50>"
      ]
     },
     "metadata": {},
     "output_type": "display_data"
    },
    {
     "data": {
      "text/html": [],
      "text/plain": [
       "<IPython.core.display.HTML object>"
      ]
     },
     "metadata": {},
     "output_type": "display_data"
    },
    {
     "data": {
      "text/html": [
       "<style type=\"text/css\">\n",
       "#T_440fb th {\n",
       "  text-align: left;\n",
       "}\n",
       "#T_440fb_row0_col0, #T_440fb_row0_col3, #T_440fb_row1_col0, #T_440fb_row1_col1, #T_440fb_row1_col2, #T_440fb_row1_col3, #T_440fb_row1_col4, #T_440fb_row1_col5, #T_440fb_row1_col6, #T_440fb_row1_col7, #T_440fb_row1_col8, #T_440fb_row2_col0, #T_440fb_row2_col1, #T_440fb_row2_col2, #T_440fb_row2_col4, #T_440fb_row2_col5, #T_440fb_row2_col6, #T_440fb_row2_col7, #T_440fb_row2_col8 {\n",
       "  text-align: left;\n",
       "}\n",
       "#T_440fb_row0_col1, #T_440fb_row0_col2, #T_440fb_row0_col4, #T_440fb_row0_col5, #T_440fb_row0_col6, #T_440fb_row0_col7, #T_440fb_row0_col8, #T_440fb_row2_col3 {\n",
       "  text-align: left;\n",
       "  background-color: yellow;\n",
       "}\n",
       "#T_440fb_row0_col9 {\n",
       "  text-align: left;\n",
       "  background-color: yellow;\n",
       "  background-color: lightgrey;\n",
       "}\n",
       "#T_440fb_row1_col9, #T_440fb_row2_col9 {\n",
       "  text-align: left;\n",
       "  background-color: lightgrey;\n",
       "}\n",
       "</style>\n",
       "<table id=\"T_440fb\">\n",
       "  <thead>\n",
       "    <tr>\n",
       "      <th class=\"blank level0\" >&nbsp;</th>\n",
       "      <th id=\"T_440fb_level0_col0\" class=\"col_heading level0 col0\" >Model</th>\n",
       "      <th id=\"T_440fb_level0_col1\" class=\"col_heading level0 col1\" >Accuracy</th>\n",
       "      <th id=\"T_440fb_level0_col2\" class=\"col_heading level0 col2\" >AUC</th>\n",
       "      <th id=\"T_440fb_level0_col3\" class=\"col_heading level0 col3\" >Recall</th>\n",
       "      <th id=\"T_440fb_level0_col4\" class=\"col_heading level0 col4\" >Prec.</th>\n",
       "      <th id=\"T_440fb_level0_col5\" class=\"col_heading level0 col5\" >F1</th>\n",
       "      <th id=\"T_440fb_level0_col6\" class=\"col_heading level0 col6\" >Kappa</th>\n",
       "      <th id=\"T_440fb_level0_col7\" class=\"col_heading level0 col7\" >MCC</th>\n",
       "      <th id=\"T_440fb_level0_col8\" class=\"col_heading level0 col8\" >APC</th>\n",
       "      <th id=\"T_440fb_level0_col9\" class=\"col_heading level0 col9\" >TT (Sec)</th>\n",
       "    </tr>\n",
       "  </thead>\n",
       "  <tbody>\n",
       "    <tr>\n",
       "      <th id=\"T_440fb_level0_row0\" class=\"row_heading level0 row0\" >et</th>\n",
       "      <td id=\"T_440fb_row0_col0\" class=\"data row0 col0\" >Extra Trees Classifier</td>\n",
       "      <td id=\"T_440fb_row0_col1\" class=\"data row0 col1\" >0.9757</td>\n",
       "      <td id=\"T_440fb_row0_col2\" class=\"data row0 col2\" >0.9805</td>\n",
       "      <td id=\"T_440fb_row0_col3\" class=\"data row0 col3\" >0.8607</td>\n",
       "      <td id=\"T_440fb_row0_col4\" class=\"data row0 col4\" >0.9648</td>\n",
       "      <td id=\"T_440fb_row0_col5\" class=\"data row0 col5\" >0.9079</td>\n",
       "      <td id=\"T_440fb_row0_col6\" class=\"data row0 col6\" >0.8940</td>\n",
       "      <td id=\"T_440fb_row0_col7\" class=\"data row0 col7\" >0.8971</td>\n",
       "      <td id=\"T_440fb_row0_col8\" class=\"data row0 col8\" >0.9554</td>\n",
       "      <td id=\"T_440fb_row0_col9\" class=\"data row0 col9\" >0.2260</td>\n",
       "    </tr>\n",
       "    <tr>\n",
       "      <th id=\"T_440fb_level0_row1\" class=\"row_heading level0 row1\" >rf</th>\n",
       "      <td id=\"T_440fb_row1_col0\" class=\"data row1 col0\" >Random Forest Classifier</td>\n",
       "      <td id=\"T_440fb_row1_col1\" class=\"data row1 col1\" >0.9738</td>\n",
       "      <td id=\"T_440fb_row1_col2\" class=\"data row1 col2\" >0.9766</td>\n",
       "      <td id=\"T_440fb_row1_col3\" class=\"data row1 col3\" >0.8607</td>\n",
       "      <td id=\"T_440fb_row1_col4\" class=\"data row1 col4\" >0.9498</td>\n",
       "      <td id=\"T_440fb_row1_col5\" class=\"data row1 col5\" >0.9011</td>\n",
       "      <td id=\"T_440fb_row1_col6\" class=\"data row1 col6\" >0.8862</td>\n",
       "      <td id=\"T_440fb_row1_col7\" class=\"data row1 col7\" >0.8888</td>\n",
       "      <td id=\"T_440fb_row1_col8\" class=\"data row1 col8\" >0.9472</td>\n",
       "      <td id=\"T_440fb_row1_col9\" class=\"data row1 col9\" >2.3000</td>\n",
       "    </tr>\n",
       "    <tr>\n",
       "      <th id=\"T_440fb_level0_row2\" class=\"row_heading level0 row2\" >lr</th>\n",
       "      <td id=\"T_440fb_row2_col0\" class=\"data row2 col0\" >Logistic Regression</td>\n",
       "      <td id=\"T_440fb_row2_col1\" class=\"data row2 col1\" >0.9610</td>\n",
       "      <td id=\"T_440fb_row2_col2\" class=\"data row2 col2\" >0.9639</td>\n",
       "      <td id=\"T_440fb_row2_col3\" class=\"data row2 col3\" >0.8870</td>\n",
       "      <td id=\"T_440fb_row2_col4\" class=\"data row2 col4\" >0.8515</td>\n",
       "      <td id=\"T_440fb_row2_col5\" class=\"data row2 col5\" >0.8648</td>\n",
       "      <td id=\"T_440fb_row2_col6\" class=\"data row2 col6\" >0.8421</td>\n",
       "      <td id=\"T_440fb_row2_col7\" class=\"data row2 col7\" >0.8451</td>\n",
       "      <td id=\"T_440fb_row2_col8\" class=\"data row2 col8\" >0.9297</td>\n",
       "      <td id=\"T_440fb_row2_col9\" class=\"data row2 col9\" >1.4320</td>\n",
       "    </tr>\n",
       "  </tbody>\n",
       "</table>\n"
      ],
      "text/plain": [
       "<pandas.io.formats.style.Styler at 0x16c741fbbd0>"
      ]
     },
     "metadata": {},
     "output_type": "display_data"
    },
    {
     "data": {
      "text/html": [],
      "text/plain": [
       "<IPython.core.display.HTML object>"
      ]
     },
     "metadata": {},
     "output_type": "display_data"
    },
    {
     "name": "stdout",
     "output_type": "stream",
     "text": [
      "CPU times: total: 4.12 s\n",
      "Wall time: 45.6 s\n"
     ]
    }
   ],
   "source": [
    "%%time\n",
    "clf1 = pycaret.classification.setup(data=df_train,\n",
    "                                    target='target',\n",
    "                                    # verbose=True,\n",
    "                                    log_experiment=True,\n",
    "                                    use_gpu=False,\n",
    "                                    experiment_name='baseline_01',\n",
    "                                    fix_imbalance=True,\n",
    "                                    #transformation=True,\n",
    "                                    polynomial_features=True\n",
    "                                    )\n",
    "\n",
    "\n",
    "pycaret.classification.add_metric('apc', 'APC', average_precision_score, target='pred_proba')\n",
    "\n",
    "best_model = pycaret.classification.compare_models(sort='APC',\n",
    "                                                   # include=['lightgbm', 'et', 'rf', 'lr', 'gbc'],\n",
    "                                                   # include=['rf', 'lr'],\n",
    "                                                   include=['rf', 'lr', 'et'],\n",
    "                                                   probability_threshold=0.5\n",
    "                                                  )"
   ]
  },
  {
   "cell_type": "code",
   "execution_count": null,
   "id": "061c80df-9fc6-4d44-b502-edbcf3b3a38c",
   "metadata": {},
   "outputs": [],
   "source": []
  },
  {
   "cell_type": "code",
   "execution_count": 6,
   "id": "52a1e968-cea4-410d-9c97-1b489fb57e66",
   "metadata": {},
   "outputs": [],
   "source": [
    "# mlflow.set_tracking_uri('http://127.0.0.1:8080')\n",
    "mlflow.set_tracking_uri('http://127.0.0.1:5000')\n"
   ]
  },
  {
   "cell_type": "code",
   "execution_count": 7,
   "id": "940218c5-29a4-494f-b5ca-955d6b77bba7",
   "metadata": {},
   "outputs": [
    {
     "data": {
      "text/plain": [
       "'d:\\\\prg\\\\DS\\\\ML Flow'"
      ]
     },
     "execution_count": 7,
     "metadata": {},
     "output_type": "execute_result"
    }
   ],
   "source": [
    "os.getcwd()"
   ]
  },
  {
   "cell_type": "code",
   "execution_count": 8,
   "id": "f29411df-faec-491c-9656-24258c8aa370",
   "metadata": {},
   "outputs": [],
   "source": [
    "# sys.path"
   ]
  },
  {
   "cell_type": "code",
   "execution_count": 9,
   "id": "7f7fa292-4cfb-4d24-a29c-7edb46e052d6",
   "metadata": {},
   "outputs": [
    {
     "data": {
      "text/plain": [
       "'d:\\\\prg\\\\DS\\\\ML Flow\\\\mlruns'"
      ]
     },
     "execution_count": 9,
     "metadata": {},
     "output_type": "execute_result"
    }
   ],
   "source": [
    "model_path = os.path.join(os.getcwd(), 'mlruns')\n",
    "# model_path = os.path.join('C:', os.path.sep, 'mlruns')\n",
    "model_path"
   ]
  },
  {
   "cell_type": "code",
   "execution_count": null,
   "id": "ffd22575-119a-42ff-a73e-e6fa42750edf",
   "metadata": {},
   "outputs": [],
   "source": [
    "pd.read_csv('./mlruns/')"
   ]
  },
  {
   "cell_type": "code",
   "execution_count": 10,
   "id": "bcaa48ac-56cb-458f-9374-ae1cef23c9a8",
   "metadata": {},
   "outputs": [
    {
     "name": "stderr",
     "output_type": "stream",
     "text": [
      "2024/08/03 11:10:21 INFO mlflow.tracking.fluent: Experiment with name './mlruns/' does not exist. Creating a new experiment.\n"
     ]
    },
    {
     "data": {
      "text/plain": [
       "<Experiment: artifact_location='mlflow-artifacts:/440676661219561071', creation_time=1722670821161, experiment_id='440676661219561071', last_update_time=1722670821161, lifecycle_stage='active', name='./mlruns/', tags={}>"
      ]
     },
     "execution_count": 10,
     "metadata": {},
     "output_type": "execute_result"
    }
   ],
   "source": [
    "# mlflow.set_experiment(model_path)\n",
    "# mlflow.set_experiment('./baseline_01')\n",
    "mlflow.set_experiment('./mlruns/')\n"
   ]
  },
  {
   "cell_type": "code",
   "execution_count": null,
   "id": "01e468c3-7a68-47e2-bd10-ae9edf0489ee",
   "metadata": {},
   "outputs": [],
   "source": [
    "with mlflow.start_run():\n",
    "    mlflow.log_param(\"a\", 1)\n",
    "    mlflow.log_metric(\"b\", 2)"
   ]
  },
  {
   "cell_type": "code",
   "execution_count": 9,
   "id": "24b90e09-a3be-4402-98bf-9bbbe5bd601f",
   "metadata": {},
   "outputs": [
    {
     "data": {
      "text/plain": [
       "<ActiveRun: >"
      ]
     },
     "execution_count": 9,
     "metadata": {},
     "output_type": "execute_result"
    }
   ],
   "source": [
    "mlflow.start_run()"
   ]
  },
  {
   "cell_type": "code",
   "execution_count": 10,
   "id": "f32fb1b8-3c75-46e8-92e6-fce5ec01a6db",
   "metadata": {},
   "outputs": [],
   "source": [
    "mlflow.end_run()"
   ]
  },
  {
   "cell_type": "code",
   "execution_count": null,
   "id": "84f9e4d5-86ea-417b-a9f7-3a0649ff1404",
   "metadata": {},
   "outputs": [],
   "source": [
    "!mlflow ui"
   ]
  },
  {
   "cell_type": "code",
   "execution_count": null,
   "id": "4ba6ec6c-5a34-471e-98ed-164cde189f15",
   "metadata": {},
   "outputs": [],
   "source": []
  }
 ],
 "metadata": {
  "kernelspec": {
   "display_name": "Python 3 (ipykernel)",
   "language": "python",
   "name": "python3"
  },
  "language_info": {
   "codemirror_mode": {
    "name": "ipython",
    "version": 3
   },
   "file_extension": ".py",
   "mimetype": "text/x-python",
   "name": "python",
   "nbconvert_exporter": "python",
   "pygments_lexer": "ipython3",
   "version": "3.11.7"
  }
 },
 "nbformat": 4,
 "nbformat_minor": 5
}
