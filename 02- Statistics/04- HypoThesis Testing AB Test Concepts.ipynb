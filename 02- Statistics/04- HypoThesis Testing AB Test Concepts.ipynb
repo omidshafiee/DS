{
 "cells": [
  {
   "cell_type": "code",
   "execution_count": 1,
   "id": "d28a71e3",
   "metadata": {},
   "outputs": [],
   "source": [
    "import numpy as np\n",
    "import pandas as pd\n",
    "import statistics as st\n",
    "from scipy import stats\n",
    "\n",
    "import matplotlib.pyplot as plt\n",
    "import seaborn as sns\n",
    "\n",
    "%matplotlib inline"
   ]
  },
  {
   "cell_type": "markdown",
   "id": "1801b8a2",
   "metadata": {},
   "source": [
    "## Generate 2 random test data group"
   ]
  },
  {
   "cell_type": "code",
   "execution_count": 2,
   "id": "17f7b1c2",
   "metadata": {},
   "outputs": [],
   "source": [
    "np.random.seed=101\n",
    "n = 100"
   ]
  },
  {
   "cell_type": "code",
   "execution_count": 3,
   "id": "0d929e25",
   "metadata": {},
   "outputs": [],
   "source": [
    "# H0\n",
    "a = np.array([23, 21, 19, 24, 35, 17, 18, 24, 33, 27, 21, 23])\n",
    "# H1\n",
    "b = np.array([31, 28, 19, 24, 32, 27, 16, 41, 23, 32, 29, 33])"
   ]
  },
  {
   "cell_type": "code",
   "execution_count": 47,
   "id": "997b633f",
   "metadata": {},
   "outputs": [],
   "source": [
    "# a = np.random.randint(low=0, high=10, size=n)\n",
    "# b = np.random.randint(low=0, high=10, size=n)"
   ]
  },
  {
   "cell_type": "code",
   "execution_count": 48,
   "id": "daf67002",
   "metadata": {},
   "outputs": [],
   "source": [
    "# a = np.random.normal(loc=10, scale=0.2, size=n)\n",
    "# b = np.random.normal(loc=10, scale=0.1, size=n)"
   ]
  },
  {
   "cell_type": "code",
   "execution_count": 4,
   "id": "4f8a57aa",
   "metadata": {},
   "outputs": [
    {
     "name": "stdout",
     "output_type": "stream",
     "text": [
      "[23 21 19 24 35 17 18 24 33 27 21 23]\n",
      "(12,)\n",
      "\n",
      "[31 28 19 24 32 27 16 41 23 32 29 33]\n",
      "(12,)\n"
     ]
    }
   ],
   "source": [
    "print(a)\n",
    "print(a.shape)\n",
    "\n",
    "print()\n",
    "\n",
    "print(b)\n",
    "print(b.shape)\n"
   ]
  },
  {
   "cell_type": "code",
   "execution_count": 50,
   "id": "07014c91",
   "metadata": {},
   "outputs": [],
   "source": [
    "# rng = np.random.Generator(np.random.PCG64())\n",
    "# rng = np.random.default_rng()\n",
    "\n",
    "# a = rng.standard_normal(n)\n",
    "# b = rng.standard_normal(n)\n"
   ]
  },
  {
   "cell_type": "code",
   "execution_count": 51,
   "id": "5a996b04",
   "metadata": {},
   "outputs": [],
   "source": [
    "# a = np.random.normal(0.0, 0.1, 10000)\n",
    "# b = np.random.normal(0.06, 0.1, 10000)"
   ]
  },
  {
   "cell_type": "code",
   "execution_count": 5,
   "id": "0662f397",
   "metadata": {},
   "outputs": [
    {
     "data": {
      "text/plain": [
       "<matplotlib.lines.Line2D at 0x2d2363951c0>"
      ]
     },
     "execution_count": 5,
     "metadata": {},
     "output_type": "execute_result"
    },
    {
     "data": {
      "image/png": "[encoded data removed]",
      "text/plain": [
       "<Figure size 432x288 with 1 Axes>"
      ]
     },
     "metadata": {
      "needs_background": "light"
     },
     "output_type": "display_data"
    }
   ],
   "source": [
    "sns.histplot(a, kde=True, color='red',alpha=0.3)\n",
    "plt.axvline(np.mean(a), color='red')\n",
    "\n",
    "sns.histplot(b, kde=True, color='gray', alpha=0.4)\n",
    "plt.axvline(np.mean(b), color='gray')\n",
    "\n"
   ]
  },
  {
   "cell_type": "code",
   "execution_count": 6,
   "id": "4dbf1c14",
   "metadata": {},
   "outputs": [
    {
     "name": "stdout",
     "output_type": "stream",
     "text": [
      "mean a: 23.750, mean b: 27.917\n",
      "median a: 23.000, median b: 28.500\n",
      "mode a: 23.000,  mode b: 32.000\n"
     ]
    }
   ],
   "source": [
    "print(f\"mean a: {np.mean(a):.3f}, mean b: {np.mean(b):.3f}\")\n",
    "print(f\"median a: {np.median(a):.3f}, median b: {np.median(b):.3f}\")\n",
    "print(f\"mode a: {st.mode(a):.3f},  mode b: {st.mode(b):.3f}\")"
   ]
  },
  {
   "cell_type": "markdown",
   "id": "acfca7dc",
   "metadata": {},
   "source": [
    "### check the mean diffrentiation of 2 groups"
   ]
  },
  {
   "cell_type": "code",
   "execution_count": 7,
   "id": "36e21809",
   "metadata": {},
   "outputs": [
    {
     "data": {
      "text/plain": [
       "4.166666666666668"
      ]
     },
     "execution_count": 7,
     "metadata": {},
     "output_type": "execute_result"
    }
   ],
   "source": [
    "mean_dif = np.mean(b) - np.mean(a)\n",
    "mean_dif"
   ]
  },
  {
   "cell_type": "markdown",
   "id": "c6c636f0",
   "metadata": {},
   "source": [
    "## Test"
   ]
  },
  {
   "cell_type": "code",
   "execution_count": 55,
   "id": "219cbc02",
   "metadata": {},
   "outputs": [],
   "source": [
    "a_1 = np.array([np.zeros(len(a)), a])\n",
    "b_1 = np.array([np.ones(len(b)), b])"
   ]
  },
  {
   "cell_type": "code",
   "execution_count": 16,
   "id": "03eb0b90",
   "metadata": {
    "scrolled": false
   },
   "outputs": [],
   "source": [
    "result = np.append(a_1, b_1, axis=1)\n",
    "result_t = result.T\n",
    "# result_t"
   ]
  },
  {
   "cell_type": "markdown",
   "id": "097573b8",
   "metadata": {},
   "source": [
    "-----------------\n",
    "## Determine if the means differ significantly"
   ]
  },
  {
   "cell_type": "code",
   "execution_count": 17,
   "id": "c73eb2fb",
   "metadata": {},
   "outputs": [],
   "source": [
    "# Shuffle results rows\n",
    "np.random.shuffle(result_t)\n",
    "# result_t"
   ]
  },
  {
   "cell_type": "code",
   "execution_count": 18,
   "id": "05159da6",
   "metadata": {},
   "outputs": [
    {
     "data": {
      "text/plain": [
       "array([1, 0, 0, 1, 0, 0, 1, 1, 1, 0, 1, 1, 0, 0, 1, 1, 0, 0, 0, 0, 0, 1,\n",
       "       0, 1, 0, 1, 1, 0, 0, 1, 0, 0, 0, 1, 1, 1, 1, 1, 1, 0, 1, 1, 1, 0,\n",
       "       0, 1, 1, 0, 0, 1, 1, 0, 0, 0, 1, 0, 0, 1, 1, 1, 1, 1, 0, 1, 1, 1,\n",
       "       0, 0, 1, 1, 1, 0, 1, 0, 1, 1, 1, 0, 0, 0, 0, 1, 1, 0, 0, 1, 0, 0,\n",
       "       0, 0, 0, 1, 1, 0, 0, 0, 0, 0, 1, 1, 1, 1, 1, 1, 1, 0, 1, 1, 0, 1,\n",
       "       1, 1, 0, 1, 0, 0, 1, 0, 1, 0, 0, 1, 0, 0, 0, 0, 0, 1, 1, 0, 1, 1,\n",
       "       0, 0, 1, 0, 1, 0, 0, 0, 1, 0, 0, 0, 0, 0, 0, 0, 1, 0, 1, 1, 1, 1,\n",
       "       1, 0, 0, 0, 1, 0, 1, 0, 0, 0, 1, 1, 0, 0, 0, 0, 0, 0, 1, 1, 0, 0,\n",
       "       0, 1, 1, 1, 0, 1, 0, 0, 1, 1, 0, 1, 1, 0, 0, 0, 0, 0, 1, 1, 1, 0,\n",
       "       1, 0])"
      ]
     },
     "execution_count": 18,
     "metadata": {},
     "output_type": "execute_result"
    }
   ],
   "source": [
    "# Generate experiment labels to fully randomize groups\n",
    "experiment_labels = np.random.randint(0, 2, len(result_t))\n",
    "experiment_labels"
   ]
  },
  {
   "cell_type": "code",
   "execution_count": 20,
   "id": "e7fcd725",
   "metadata": {},
   "outputs": [],
   "source": [
    "# Allocate random labels to experiment data values\n",
    "# so neither 0 does not indicate group A nor 1 for Group B\n",
    "\n",
    "experiment_data = np.array([experiment_labels, result_t[:, 1]])\n",
    "experiment_data_t = experiment_data.T\n",
    "# experiment_data_t"
   ]
  },
  {
   "cell_type": "code",
   "execution_count": 21,
   "id": "fa470be6",
   "metadata": {},
   "outputs": [
    {
     "data": {
      "text/plain": [
       "array([7., 6., 7., 5., 3., 3., 1., 5., 2., 9., 1., 5., 1., 0., 1., 1., 4.,\n",
       "       4., 2., 9., 0., 1., 0., 7., 3., 1., 8., 4., 8., 1., 0., 6., 5., 0.,\n",
       "       6., 7., 2., 6., 5., 3., 9., 1., 3., 2., 3., 6., 8., 0., 1., 3., 5.,\n",
       "       8., 8., 3., 3., 6., 4., 3., 3., 1., 0., 9., 6., 8., 3., 1., 4., 6.,\n",
       "       5., 7., 1., 1., 0., 2., 0., 9., 6., 5., 6., 6., 2., 5., 1., 4., 9.,\n",
       "       4., 3., 5., 3., 5., 4., 9., 2., 9., 0., 1., 5., 4., 5., 0., 3., 8.,\n",
       "       5., 5., 0.])"
      ]
     },
     "execution_count": 21,
     "metadata": {},
     "output_type": "execute_result"
    }
   ],
   "source": [
    "# Now separate shuffeled 0 and 1 group\n",
    "new_a = experiment_data_t[experiment_data_t[:, 0] == 0][:, 1]\n",
    "new_a"
   ]
  },
  {
   "cell_type": "code",
   "execution_count": 22,
   "id": "6c7322bd",
   "metadata": {},
   "outputs": [
    {
     "data": {
      "text/plain": [
       "array([4., 9., 8., 9., 0., 7., 7., 5., 2., 3., 6., 7., 2., 9., 6., 7., 4.,\n",
       "       7., 3., 1., 4., 6., 2., 8., 0., 0., 9., 9., 8., 7., 0., 8., 9., 0.,\n",
       "       9., 4., 0., 0., 9., 7., 5., 0., 3., 0., 9., 4., 3., 1., 4., 5., 6.,\n",
       "       4., 1., 7., 2., 0., 4., 7., 2., 7., 9., 2., 5., 7., 5., 7., 4., 8.,\n",
       "       9., 3., 9., 2., 5., 7., 8., 8., 7., 9., 2., 4., 6., 7., 4., 8., 6.,\n",
       "       5., 0., 3., 8., 8., 5., 0., 5., 9., 3.])"
      ]
     },
     "execution_count": 22,
     "metadata": {},
     "output_type": "execute_result"
    }
   ],
   "source": [
    "new_b = experiment_data_t[experiment_data_t[:, 0] == 1][:, 1]\n",
    "new_b"
   ]
  },
  {
   "cell_type": "code",
   "execution_count": 23,
   "id": "423e44b1",
   "metadata": {},
   "outputs": [
    {
     "name": "stdout",
     "output_type": "stream",
     "text": [
      "3.9523809523809526\n",
      "5.010526315789473\n"
     ]
    }
   ],
   "source": [
    "print(new_a.mean())\n",
    "print(new_b.mean())"
   ]
  },
  {
   "cell_type": "markdown",
   "id": "74cdf270",
   "metadata": {},
   "source": [
    "### p-value"
   ]
  },
  {
   "cell_type": "code",
   "execution_count": 24,
   "id": "2cc1bad3",
   "metadata": {},
   "outputs": [
    {
     "name": "stdout",
     "output_type": "stream",
     "text": [
      "1.0581453634085207\n"
     ]
    }
   ],
   "source": [
    "# Now calculat p-value\n",
    "new_sets_mean_diff = new_b.mean() - new_a.mean()\n",
    "print(new_sets_mean_diff)"
   ]
  },
  {
   "cell_type": "markdown",
   "id": "f1c64eb3",
   "metadata": {},
   "source": [
    "## Repeate more times"
   ]
  },
  {
   "cell_type": "code",
   "execution_count": 8,
   "id": "5778106e",
   "metadata": {},
   "outputs": [],
   "source": [
    "def ab_test(R): # reapet times\n",
    "    \n",
    "    raw_data = np.append(a,b)\n",
    "    \n",
    "    \n",
    "    # generate an empty array in shape (T, 1)\n",
    "    experiment_diff_mean = np.empty([R, 1])\n",
    "    \n",
    "    for times in np.arange(R):\n",
    "        \n",
    "        # randomize labels\n",
    "        experiment_labels = np.random.randint(0, 2, len(raw_data))\n",
    "\n",
    "        # randomize groups data\n",
    "        np.random.shuffle(raw_data)\n",
    "        \n",
    "        experiment_data = np.array([experiment_labels, raw_data]).T\n",
    "        \n",
    "        new_a = experiment_data[experiment_data[:, 0] == 0][:, 1]\n",
    "#         print(new_a)\n",
    "#         print(np.mean(new_a))\n",
    "        \n",
    "        new_b = experiment_data[experiment_data[:, 0] == 1][:, 1]\n",
    "#         print(new_b)\n",
    "#         print(np.mean(new_b))\n",
    "        \n",
    "        experiment_diff_mean[times] = new_b.mean() - new_a.mean()\n",
    "#         print(experiment_diff_mean[times])\n",
    "#         print('=' * 100)\n",
    "    \n",
    "    return experiment_diff_mean\n",
    "        "
   ]
  },
  {
   "cell_type": "code",
   "execution_count": 9,
   "id": "1c25ccf6",
   "metadata": {
    "scrolled": false
   },
   "outputs": [],
   "source": [
    "test_times = 1000\n",
    "test_result = ab_test(test_times)"
   ]
  },
  {
   "cell_type": "markdown",
   "id": "82e6aff5",
   "metadata": {},
   "source": [
    "## P-Value Thresholding"
   ]
  },
  {
   "cell_type": "code",
   "execution_count": 10,
   "id": "3405aa15",
   "metadata": {
    "scrolled": true
   },
   "outputs": [],
   "source": [
    "# test_result"
   ]
  },
  {
   "cell_type": "code",
   "execution_count": 11,
   "id": "83fdd098",
   "metadata": {
    "scrolled": true
   },
   "outputs": [
    {
     "data": {
      "text/plain": [
       "70"
      ]
     },
     "execution_count": 11,
     "metadata": {},
     "output_type": "execute_result"
    }
   ],
   "source": [
    "# How many values are more than mean dif\n",
    "len(test_result[test_result >= mean_dif])"
   ]
  },
  {
   "cell_type": "markdown",
   "id": "9eb9c387",
   "metadata": {},
   "source": [
    "## Chance quata"
   ]
  },
  {
   "cell_type": "code",
   "execution_count": 13,
   "id": "e750bf41",
   "metadata": {},
   "outputs": [
    {
     "data": {
      "text/plain": [
       "7.000000000000001"
      ]
     },
     "execution_count": 13,
     "metadata": {},
     "output_type": "execute_result"
    }
   ],
   "source": [
    "chance_ratio = (len(test_result[test_result >= mean_dif]) / test_times) * 100\n",
    "chance_ratio"
   ]
  },
  {
   "cell_type": "markdown",
   "id": "ad00c106",
   "metadata": {},
   "source": [
    "## Ratio to show the test is true significant"
   ]
  },
  {
   "cell_type": "code",
   "execution_count": 14,
   "id": "96fbc721",
   "metadata": {},
   "outputs": [
    {
     "data": {
      "text/plain": [
       "93.0"
      ]
     },
     "execution_count": 14,
     "metadata": {},
     "output_type": "execute_result"
    }
   ],
   "source": [
    "100 - chance_ratio"
   ]
  },
  {
   "cell_type": "code",
   "execution_count": 82,
   "id": "b4c0d29e",
   "metadata": {},
   "outputs": [
    {
     "data": {
      "text/plain": [
       "<seaborn.axisgrid.FacetGrid at 0x286b44af5b0>"
      ]
     },
     "execution_count": 82,
     "metadata": {},
     "output_type": "execute_result"
    },
    {
     "data": {
      "image/png": "[encoded data removed]",
      "text/plain": [
       "<Figure size 402.375x360 with 1 Axes>"
      ]
     },
     "metadata": {
      "needs_background": "light"
     },
     "output_type": "display_data"
    }
   ],
   "source": [
    "# Test Mean diff histogram\n",
    "sns.displot(test_result, bins=10, kde=True)"
   ]
  },
  {
   "cell_type": "code",
   "execution_count": null,
   "id": "ff391355",
   "metadata": {},
   "outputs": [],
   "source": []
  }
 ],
 "metadata": {
  "kernelspec": {
   "display_name": "Python 3 (ipykernel)",
   "language": "python",
   "name": "python3"
  },
  "language_info": {
   "codemirror_mode": {
    "name": "ipython",
    "version": 3
   },
   "file_extension": ".py",
   "mimetype": "text/x-python",
   "name": "python",
   "nbconvert_exporter": "python",
   "pygments_lexer": "ipython3",
   "version": "3.9.7"
  }
 },
 "nbformat": 4,
 "nbformat_minor": 5
}
