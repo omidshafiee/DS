{
 "cells": [
  {
   "cell_type": "code",
   "execution_count": 1,
   "id": "6a350774",
   "metadata": {},
   "outputs": [],
   "source": [
    "import numpy as np\n",
    "import pandas as pd\n",
    "import scipy.stats as st\n",
    "\n",
    "import matplotlib.pyplot as plt\n",
    "import seaborn as sns\n",
    "\n",
    "%matplotlib inline"
   ]
  },
  {
   "cell_type": "code",
   "execution_count": 2,
   "id": "7972e460",
   "metadata": {},
   "outputs": [
    {
     "data": {
      "text/plain": [
       "array([60, 61, 61, 63, 63, 64, 64, 64, 64, 64, 65, 65, 66, 66, 66, 66, 67,\n",
       "       68, 68, 68, 69, 70, 70, 70, 71, 72, 72, 72, 73, 73, 73, 73, 73, 74,\n",
       "       74, 74, 74, 74, 75, 75, 75, 75, 77, 77, 77, 78, 78, 79, 79, 79, 80,\n",
       "       80, 81, 81, 81, 82, 82, 82, 82, 83, 84, 84, 84, 85, 85, 85, 86, 87,\n",
       "       87, 87, 87, 88, 89, 90, 91, 91, 92, 93, 93, 93, 93, 94, 94, 94, 94,\n",
       "       95, 95, 95, 95, 96, 96, 96, 96, 97, 98, 98, 98, 98, 99, 99])"
      ]
     },
     "execution_count": 2,
     "metadata": {},
     "output_type": "execute_result"
    }
   ],
   "source": [
    "x = np.random.randint(60, 100, 100)\n",
    "np.sort(x)"
   ]
  },
  {
   "cell_type": "code",
   "execution_count": 3,
   "id": "bd4e3526",
   "metadata": {},
   "outputs": [
    {
     "data": {
      "text/plain": [
       "60"
      ]
     },
     "execution_count": 3,
     "metadata": {},
     "output_type": "execute_result"
    }
   ],
   "source": [
    "x.min()"
   ]
  },
  {
   "cell_type": "code",
   "execution_count": 4,
   "id": "07f7f2a7",
   "metadata": {},
   "outputs": [
    {
     "data": {
      "text/plain": [
       "99"
      ]
     },
     "execution_count": 4,
     "metadata": {},
     "output_type": "execute_result"
    }
   ],
   "source": [
    "x.max()"
   ]
  },
  {
   "cell_type": "markdown",
   "id": "d530fb87",
   "metadata": {},
   "source": [
    "-----------\n",
    "# Momentumes\n",
    "\n",
    "## 1) First Momentumes\n",
    "**Indicates concentration points (center) of data (Where is the data approximately located?)**<br/>\n",
    "**Obstacle of mean: Sensitivity to noise and outliers**"
   ]
  },
  {
   "cell_type": "markdown",
   "id": "2e96426f",
   "metadata": {},
   "source": [
    "**1-1) Mean (arithmatic mean)**"
   ]
  },
  {
   "cell_type": "code",
   "execution_count": 5,
   "id": "d1099b34",
   "metadata": {},
   "outputs": [
    {
     "data": {
      "text/plain": [
       "80.13"
      ]
     },
     "execution_count": 5,
     "metadata": {},
     "output_type": "execute_result"
    }
   ],
   "source": [
    "mean = np.mean(x)\n",
    "mean"
   ]
  },
  {
   "cell_type": "markdown",
   "id": "3e63f974",
   "metadata": {},
   "source": [
    "**1-2) Trimmed Mean**"
   ]
  },
  {
   "cell_type": "code",
   "execution_count": 6,
   "id": "2d0dc8cd",
   "metadata": {
    "scrolled": false
   },
   "outputs": [
    {
     "data": {
      "text/plain": [
       "81.8921568627451"
      ]
     },
     "execution_count": 6,
     "metadata": {},
     "output_type": "execute_result"
    }
   ],
   "source": [
    "x = np.append(x, [40, 300])\n",
    "mean = np.mean(x)\n",
    "mean"
   ]
  },
  {
   "cell_type": "code",
   "execution_count": 7,
   "id": "002fa2db",
   "metadata": {},
   "outputs": [
    {
     "data": {
      "text/plain": [
       "80.1219512195122"
      ]
     },
     "execution_count": 7,
     "metadata": {},
     "output_type": "execute_result"
    }
   ],
   "source": [
    "trimmed_mean = st.trim_mean(x, 0.1)\n",
    "trimmed_mean"
   ]
  },
  {
   "cell_type": "markdown",
   "id": "87af4cee",
   "metadata": {},
   "source": [
    "**1-3) Median**"
   ]
  },
  {
   "cell_type": "code",
   "execution_count": 8,
   "id": "0a4d7ac0",
   "metadata": {},
   "outputs": [
    {
     "data": {
      "text/plain": [
       "79.5"
      ]
     },
     "execution_count": 8,
     "metadata": {},
     "output_type": "execute_result"
    }
   ],
   "source": [
    "median = np.median(x)\n",
    "median"
   ]
  },
  {
   "cell_type": "markdown",
   "id": "18386a32",
   "metadata": {},
   "source": [
    "**1-4) Mode**"
   ]
  },
  {
   "cell_type": "code",
   "execution_count": 9,
   "id": "9e8eb832",
   "metadata": {},
   "outputs": [
    {
     "data": {
      "text/plain": [
       "ModeResult(mode=array([64]), count=array([5]))"
      ]
     },
     "execution_count": 9,
     "metadata": {},
     "output_type": "execute_result"
    }
   ],
   "source": [
    "mode = st.mode(x)#, keepdims=False)\n",
    "mode"
   ]
  },
  {
   "cell_type": "code",
   "execution_count": 10,
   "id": "a36ec555",
   "metadata": {},
   "outputs": [
    {
     "name": "stderr",
     "output_type": "stream",
     "text": [
      "C:\\ProgramData\\Anaconda3\\lib\\site-packages\\seaborn\\_decorators.py:36: FutureWarning: Pass the following variable as a keyword arg: x. From version 0.12, the only valid positional argument will be `data`, and passing other arguments without an explicit keyword will result in an error or misinterpretation.\n",
      "  warnings.warn(\n"
     ]
    },
    {
     "data": {
      "text/plain": [
       "<matplotlib.legend.Legend at 0x257b29e29a0>"
      ]
     },
     "execution_count": 10,
     "metadata": {},
     "output_type": "execute_result"
    },
    {
     "data": {
      "image/png": "[encoded data removed]",
      "text/plain": [
       "<Figure size 432x288 with 1 Axes>"
      ]
     },
     "metadata": {
      "needs_background": "light"
     },
     "output_type": "display_data"
    }
   ],
   "source": [
    "sns.boxplot(x, color='pink', orient='h')\n",
    "# plt.hist(x)\n",
    "\n",
    "plt.axvline(x=mean, linestyle='-',  color='b',label='Mean')\n",
    "plt.axvline(x=trimmed_mean, linestyle='-',  color='g',label='Trimmed Mean')\n",
    "plt.axvline(x=median, linestyle='--', color='b',label='Median')\n",
    "plt.axvline(x=mode[0], color='r', label='mode')\n",
    "plt.title(\"outlier effect on data!\")\n",
    "\n",
    "plt.legend()"
   ]
  },
  {
   "cell_type": "code",
   "execution_count": 11,
   "id": "cbdbb86f",
   "metadata": {},
   "outputs": [],
   "source": [
    "x = np.delete(x, np.where(x == x.max()))"
   ]
  },
  {
   "cell_type": "code",
   "execution_count": 12,
   "id": "4e4dee5c",
   "metadata": {},
   "outputs": [
    {
     "name": "stderr",
     "output_type": "stream",
     "text": [
      "C:\\ProgramData\\Anaconda3\\lib\\site-packages\\seaborn\\_decorators.py:36: FutureWarning: Pass the following variable as a keyword arg: x. From version 0.12, the only valid positional argument will be `data`, and passing other arguments without an explicit keyword will result in an error or misinterpretation.\n",
      "  warnings.warn(\n"
     ]
    },
    {
     "data": {
      "text/plain": [
       "<matplotlib.legend.Legend at 0x257b2af5bb0>"
      ]
     },
     "execution_count": 12,
     "metadata": {},
     "output_type": "execute_result"
    },
    {
     "data": {
      "image/png": "[encoded data removed]",
      "text/plain": [
       "<Figure size 432x288 with 1 Axes>"
      ]
     },
     "metadata": {
      "needs_background": "light"
     },
     "output_type": "display_data"
    }
   ],
   "source": [
    "sns.boxplot(x, color='pink', orient='h')\n",
    "# plt.hist(x)\n",
    "\n",
    "plt.axvline(x=mean, linestyle='-',  color='b',label='Mean')\n",
    "plt.axvline(x=trimmed_mean, linestyle='-',  color='g',label='Trimmed Mean')\n",
    "plt.axvline(x=median, linestyle='--', color='b',label='Median')\n",
    "plt.axvline(x=mode[0], color='r', label='mode')\n",
    "plt.title(\"without outlier effect on data!\")\n",
    "\n",
    "plt.legend()"
   ]
  },
  {
   "cell_type": "markdown",
   "id": "8a01179d",
   "metadata": {},
   "source": [
    "----------------\n",
    "## 2) Second Momentumes\n"
   ]
  },
  {
   "cell_type": "markdown",
   "id": "aca5ac1b",
   "metadata": {},
   "source": [
    "### 2-1) Variance\n",
    "The term variance refers to a statistical measurement of the spread between numbers in a data set. More specifically, variance measures how far each number in the set is from the mean (average), and thus from every other number in the set. Variance is often depicted by this symbol: σ2.<br/>\n",
    "\n",
    "https://www.investopedia.com/terms/v/variance.asp#:~:text=The%20term%20variance%20refers%20to,by%20this%20symbol%3A%20%CF%832.\n",
    "\n",
    "\n",
    "\\begin{equation}\n",
    "\\sigma^2 = \\frac{\\displaystyle\\sum_{i=1}^{n}(x_i - \\mu)^2} {n -1} \\\\\n",
    "\\sigma^2\t=\t\\text{sample variance}\\\\\n",
    "x_i\t=\t\\text{the value of the one observation} \\\\\n",
    "{\\mu}\t=\t\\text{the mean value of all observations} \\\\\n",
    "n\t=\t\\text{the number of observations}\\\\\n",
    "\\end{equation}\n",
    "\n",
    "**Obstacle: the variance can not interprete as unit measure because, it is not same type as data, and only can show as a measure of how variation is big**"
   ]
  },
  {
   "cell_type": "code",
   "execution_count": 15,
   "id": "d054acef",
   "metadata": {},
   "outputs": [
    {
     "data": {
      "text/plain": [
       "142.2750710714636"
      ]
     },
     "execution_count": 15,
     "metadata": {},
     "output_type": "execute_result"
    }
   ],
   "source": [
    "np.var(x)"
   ]
  },
  {
   "cell_type": "code",
   "execution_count": 25,
   "id": "ae3e5dd8",
   "metadata": {},
   "outputs": [
    {
     "data": {
      "text/plain": [
       "633.2136649408284"
      ]
     },
     "execution_count": 25,
     "metadata": {},
     "output_type": "execute_result"
    }
   ],
   "source": [
    "x = np.append(x, [40, 300])\n",
    "np.var(x)"
   ]
  },
  {
   "cell_type": "code",
   "execution_count": 26,
   "id": "b4364455",
   "metadata": {},
   "outputs": [],
   "source": [
    "x = np.delete(x, np.where(x == x.max()))"
   ]
  },
  {
   "cell_type": "markdown",
   "id": "03ae5902",
   "metadata": {},
   "source": [
    "**2-2) Standard Deviation**<br/>\n",
    "**Used interprate dispersal, as a measure unit. eg: data has scattered <u><i>n</i></u> unit from center of data**\n",
    "\n",
    "\n"
   ]
  },
  {
   "cell_type": "markdown",
   "id": "c0d1e01e",
   "metadata": {},
   "source": [
    "\\begin{equation}\n",
    "\\sigma = \\sqrt{\\frac{\\displaystyle\\sum(x_i - \\mu)^2} {N}} \\\\\n",
    "\\sigma\t=\t\\text{population standard deviation}\\\\\n",
    "x_i\t=\t\\text{each value from the population} \\\\\n",
    "{\\mu}\t=\t\\text{the population mean} \\\\\n",
    "n\t=\t\\text{the size of the population}\\\\\n",
    "\\end{equation}"
   ]
  },
  {
   "cell_type": "code",
   "execution_count": 27,
   "id": "84472c5d",
   "metadata": {},
   "outputs": [
    {
     "data": {
      "text/plain": [
       "13.021954821781788"
      ]
     },
     "execution_count": 27,
     "metadata": {},
     "output_type": "execute_result"
    }
   ],
   "source": [
    "np.std(x)"
   ]
  },
  {
   "cell_type": "markdown",
   "id": "f0dd9e7f",
   "metadata": {},
   "source": [
    "--------------\n",
    "# Histogram"
   ]
  },
  {
   "cell_type": "code",
   "execution_count": 32,
   "id": "4b72b9ed",
   "metadata": {},
   "outputs": [
    {
     "data": {
      "text/html": [
       "<div>\n",
       "<style scoped>\n",
       "    .dataframe tbody tr th:only-of-type {\n",
       "        vertical-align: middle;\n",
       "    }\n",
       "\n",
       "    .dataframe tbody tr th {\n",
       "        vertical-align: top;\n",
       "    }\n",
       "\n",
       "    .dataframe thead th {\n",
       "        text-align: right;\n",
       "    }\n",
       "</style>\n",
       "<table border=\"1\" class=\"dataframe\">\n",
       "  <thead>\n",
       "    <tr style=\"text-align: right;\">\n",
       "      <th></th>\n",
       "      <th>Event</th>\n",
       "      <th>Occurance</th>\n",
       "    </tr>\n",
       "  </thead>\n",
       "  <tbody>\n",
       "    <tr>\n",
       "      <th>4</th>\n",
       "      <td>64</td>\n",
       "      <td>5</td>\n",
       "    </tr>\n",
       "    <tr>\n",
       "      <th>13</th>\n",
       "      <td>73</td>\n",
       "      <td>5</td>\n",
       "    </tr>\n",
       "    <tr>\n",
       "      <th>14</th>\n",
       "      <td>74</td>\n",
       "      <td>5</td>\n",
       "    </tr>\n",
       "    <tr>\n",
       "      <th>21</th>\n",
       "      <td>82</td>\n",
       "      <td>4</td>\n",
       "    </tr>\n",
       "    <tr>\n",
       "      <th>37</th>\n",
       "      <td>98</td>\n",
       "      <td>4</td>\n",
       "    </tr>\n",
       "    <tr>\n",
       "      <th>35</th>\n",
       "      <td>96</td>\n",
       "      <td>4</td>\n",
       "    </tr>\n",
       "    <tr>\n",
       "      <th>34</th>\n",
       "      <td>95</td>\n",
       "      <td>4</td>\n",
       "    </tr>\n",
       "    <tr>\n",
       "      <th>6</th>\n",
       "      <td>66</td>\n",
       "      <td>4</td>\n",
       "    </tr>\n",
       "    <tr>\n",
       "      <th>33</th>\n",
       "      <td>94</td>\n",
       "      <td>4</td>\n",
       "    </tr>\n",
       "    <tr>\n",
       "      <th>32</th>\n",
       "      <td>93</td>\n",
       "      <td>4</td>\n",
       "    </tr>\n",
       "  </tbody>\n",
       "</table>\n",
       "</div>"
      ],
      "text/plain": [
       "    Event  Occurance\n",
       "4      64          5\n",
       "13     73          5\n",
       "14     74          5\n",
       "21     82          4\n",
       "37     98          4\n",
       "35     96          4\n",
       "34     95          4\n",
       "6      66          4\n",
       "33     94          4\n",
       "32     93          4"
      ]
     },
     "execution_count": 32,
     "metadata": {},
     "output_type": "execute_result"
    }
   ],
   "source": [
    "counts = np.array(np.unique(x, return_counts=True))\n",
    "frequency = pd.DataFrame(counts.T, columns=['Event', 'Occurance'])\n",
    "frequency.sort_values(['Occurance'], ascending=False)[:10]"
   ]
  },
  {
   "cell_type": "code",
   "execution_count": 33,
   "id": "6b4377f6",
   "metadata": {},
   "outputs": [
    {
     "data": {
      "text/plain": [
       "ModeResult(mode=array([64]), count=array([5]))"
      ]
     },
     "execution_count": 33,
     "metadata": {},
     "output_type": "execute_result"
    }
   ],
   "source": [
    "mode"
   ]
  },
  {
   "cell_type": "code",
   "execution_count": 57,
   "id": "12facaad",
   "metadata": {},
   "outputs": [
    {
     "data": {
      "text/plain": [
       "<matplotlib.legend.Legend at 0x257b427b820>"
      ]
     },
     "execution_count": 57,
     "metadata": {},
     "output_type": "execute_result"
    },
    {
     "data": {
      "image/png": "[encoded data removed]",
      "text/plain": [
       "<Figure size 432x288 with 1 Axes>"
      ]
     },
     "metadata": {
      "needs_background": "light"
     },
     "output_type": "display_data"
    }
   ],
   "source": [
    "sns.histplot(x, bins=10, kde=True)\n",
    "plt.axvline(x=mode[0], color='green', label='mode')\n",
    "plt.axhline(y=mode[1], linestyle='--' , color='green', label='mode count')\n",
    "# plt.ylim(top=10)\n",
    "plt.legend()"
   ]
  },
  {
   "cell_type": "markdown",
   "id": "7cff124a",
   "metadata": {},
   "source": [
    "----------------\n",
    "## 3) Third Momentumes"
   ]
  },
  {
   "cell_type": "markdown",
   "id": "bd948101",
   "metadata": {},
   "source": [
    "### 3-1) Skewness\n",
    "Skewness is a measurement of the distortion of symmetrical distribution or asymmetry in a data set. in other word Skewness is a statistical measure that is used to show whether a distribution is distorted or asymmetrical.\n",
    "\n",
    "https://www.investopedia.com/terms/s/skewness.asp#:~:text=Skewness%20is%20a%20statistical%20measure,values%20are%20more%20than%20zero."
   ]
  },
  {
   "cell_type": "markdown",
   "id": "2e0bc668",
   "metadata": {},
   "source": [
    "### Skewness types:\n",
    "#### 1- Symetric: Mode = Median = Mean (Calculated value = 0)\n",
    " \n",
    "#### 2- Positive (Right) Skewness: Mode < Median < Mean\n",
    "\n",
    "#### 3- Negative (Left) Skewness: Mode > Median > Mean\n",
    "\n",
    "<img src=\"https://upload.wikimedia.org/wikipedia/commons/c/cc/Relationship_between_mean_and_median_under_different_skewness.png\">\n",
    "[image from wikipedia]"
   ]
  },
  {
   "cell_type": "code",
   "execution_count": 55,
   "id": "db694818",
   "metadata": {},
   "outputs": [
    {
     "data": {
      "text/plain": [
       "-0.5457239000855915"
      ]
     },
     "execution_count": 55,
     "metadata": {},
     "output_type": "execute_result"
    }
   ],
   "source": [
    "st.skew(x)"
   ]
  },
  {
   "cell_type": "markdown",
   "id": "e56e31cd",
   "metadata": {},
   "source": [
    "----------------\n",
    "## 4) Fourth Momentumes"
   ]
  },
  {
   "cell_type": "markdown",
   "id": "b0c4370f",
   "metadata": {},
   "source": [
    "**4-1) Kurtousis**\n",
    "\n",
    "Kurtosis is a measure of the tailedness of a distribution. Tailedness is how often outliers occur. Excess kurtosis is the tailedness of a distribution relative to a normal distribution.\n",
    "\n",
    "* 1- Distributions with **medium** kurtosis (medium tails) are **mesokurtic.**\n",
    "* 2- Distributions with **low** kurtosis (thin tails) are **platykurtic.**\n",
    "* 3- Distributions with **high** kurtosis (fat tails) are **leptokurtic.**\n",
    "\n",
    "**Tails** are the tapering ends on either side of a distribution. They represent the probability or frequency of values that are extremely high or low compared to the mean. In other words, tails **represent how often outliers occur.**\n",
    "\n",
    "\n",
    "\n",
    "<img src=\"https://www.scribbr.com/wp-content/uploads/2022/07/The-difference-between-skewness-and-kurtosis.webp\">\n",
    "[image from scribbr.com]\n",
    "\n",
    "\n",
    "https://www.scribbr.com/statistics/kurtosis/#:~:text=Kurtosis%20is%20a%20measure%20of,(medium%20tails)%20are%20mesokurtic."
   ]
  },
  {
   "cell_type": "code",
   "execution_count": 58,
   "id": "06f2961f",
   "metadata": {},
   "outputs": [
    {
     "data": {
      "text/plain": [
       "0.3689417272990858"
      ]
     },
     "execution_count": 58,
     "metadata": {},
     "output_type": "execute_result"
    }
   ],
   "source": [
    "st.kurtosis(x)"
   ]
  },
  {
   "cell_type": "markdown",
   "id": "d53dcb78",
   "metadata": {},
   "source": [
    "-----------\n",
    "# Correlation"
   ]
  },
  {
   "cell_type": "markdown",
   "id": "11c838dd",
   "metadata": {},
   "source": [
    "------------\n",
    "### Description:\n",
    "<p>\n",
    "year: Year.<br/>\n",
    "month: Month.<br/>\n",
    "day: Day.<br/>\n",
    "dep_time: Departure time, in Eastern time zone.<br/>\n",
    "dep_delay: Departure delay, in minutes.<br/>\n",
    "arr_time: Arrival time, in the local time zone.<br/>\n",
    "arr_delay: Arrival delay, in minutes.<br/>\n",
    "carrier: Carrier, abbreviated.<br/>\n",
    "tailnum: Tail number of the airplane.<br/>\n",
    "flight: Flight number.<br/>\n",
    "origin: Flight origin, airport code.<br/>\n",
    "dest: Flight destination, airport code.<br/>\n",
    "air_time: Time in the air, in minutes.<br/>\n",
    "distance: Distance between the departure and arrival airports, in miles.<br/>\n",
    "hour: Scheduled departure hour.<br/>\n",
    "minute: Scheduled departure minute.<br/>\n",
    "</p>\n",
    "\n",
    "---------------"
   ]
  },
  {
   "cell_type": "code",
   "execution_count": 35,
   "id": "230144ef",
   "metadata": {},
   "outputs": [],
   "source": [
    "df = pd.read_csv('../../Datasets/general/nycflights.csv')"
   ]
  },
  {
   "cell_type": "code",
   "execution_count": 36,
   "id": "4b1cfe84",
   "metadata": {},
   "outputs": [
    {
     "data": {
      "text/html": [
       "<div>\n",
       "<style scoped>\n",
       "    .dataframe tbody tr th:only-of-type {\n",
       "        vertical-align: middle;\n",
       "    }\n",
       "\n",
       "    .dataframe tbody tr th {\n",
       "        vertical-align: top;\n",
       "    }\n",
       "\n",
       "    .dataframe thead th {\n",
       "        text-align: right;\n",
       "    }\n",
       "</style>\n",
       "<table border=\"1\" class=\"dataframe\">\n",
       "  <thead>\n",
       "    <tr style=\"text-align: right;\">\n",
       "      <th></th>\n",
       "      <th>year</th>\n",
       "      <th>month</th>\n",
       "      <th>day</th>\n",
       "      <th>dep_time</th>\n",
       "      <th>sched_dep_time</th>\n",
       "      <th>dep_delay</th>\n",
       "      <th>arr_time</th>\n",
       "      <th>sched_arr_time</th>\n",
       "      <th>arr_delay</th>\n",
       "      <th>carrier</th>\n",
       "      <th>flight</th>\n",
       "      <th>tailnum</th>\n",
       "      <th>origin</th>\n",
       "      <th>dest</th>\n",
       "      <th>air_time</th>\n",
       "      <th>distance</th>\n",
       "      <th>hour</th>\n",
       "      <th>minute</th>\n",
       "      <th>time_hour</th>\n",
       "    </tr>\n",
       "  </thead>\n",
       "  <tbody>\n",
       "    <tr>\n",
       "      <th>0</th>\n",
       "      <td>2013</td>\n",
       "      <td>1</td>\n",
       "      <td>1</td>\n",
       "      <td>517.0</td>\n",
       "      <td>515</td>\n",
       "      <td>2.0</td>\n",
       "      <td>830.0</td>\n",
       "      <td>819</td>\n",
       "      <td>11.0</td>\n",
       "      <td>UA</td>\n",
       "      <td>1545</td>\n",
       "      <td>N14228</td>\n",
       "      <td>EWR</td>\n",
       "      <td>IAH</td>\n",
       "      <td>227.0</td>\n",
       "      <td>1400</td>\n",
       "      <td>5</td>\n",
       "      <td>15</td>\n",
       "      <td>1/1/2013 5:00</td>\n",
       "    </tr>\n",
       "    <tr>\n",
       "      <th>1</th>\n",
       "      <td>2013</td>\n",
       "      <td>1</td>\n",
       "      <td>1</td>\n",
       "      <td>533.0</td>\n",
       "      <td>529</td>\n",
       "      <td>4.0</td>\n",
       "      <td>850.0</td>\n",
       "      <td>830</td>\n",
       "      <td>20.0</td>\n",
       "      <td>UA</td>\n",
       "      <td>1714</td>\n",
       "      <td>N24211</td>\n",
       "      <td>LGA</td>\n",
       "      <td>IAH</td>\n",
       "      <td>227.0</td>\n",
       "      <td>1416</td>\n",
       "      <td>5</td>\n",
       "      <td>29</td>\n",
       "      <td>1/1/2013 5:00</td>\n",
       "    </tr>\n",
       "    <tr>\n",
       "      <th>2</th>\n",
       "      <td>2013</td>\n",
       "      <td>1</td>\n",
       "      <td>1</td>\n",
       "      <td>542.0</td>\n",
       "      <td>540</td>\n",
       "      <td>2.0</td>\n",
       "      <td>923.0</td>\n",
       "      <td>850</td>\n",
       "      <td>33.0</td>\n",
       "      <td>AA</td>\n",
       "      <td>1141</td>\n",
       "      <td>N619AA</td>\n",
       "      <td>JFK</td>\n",
       "      <td>MIA</td>\n",
       "      <td>160.0</td>\n",
       "      <td>1089</td>\n",
       "      <td>5</td>\n",
       "      <td>40</td>\n",
       "      <td>1/1/2013 5:00</td>\n",
       "    </tr>\n",
       "    <tr>\n",
       "      <th>3</th>\n",
       "      <td>2013</td>\n",
       "      <td>1</td>\n",
       "      <td>1</td>\n",
       "      <td>544.0</td>\n",
       "      <td>545</td>\n",
       "      <td>-1.0</td>\n",
       "      <td>1004.0</td>\n",
       "      <td>1022</td>\n",
       "      <td>-18.0</td>\n",
       "      <td>B6</td>\n",
       "      <td>725</td>\n",
       "      <td>N804JB</td>\n",
       "      <td>JFK</td>\n",
       "      <td>BQN</td>\n",
       "      <td>183.0</td>\n",
       "      <td>1576</td>\n",
       "      <td>5</td>\n",
       "      <td>45</td>\n",
       "      <td>1/1/2013 5:00</td>\n",
       "    </tr>\n",
       "    <tr>\n",
       "      <th>4</th>\n",
       "      <td>2013</td>\n",
       "      <td>1</td>\n",
       "      <td>1</td>\n",
       "      <td>554.0</td>\n",
       "      <td>600</td>\n",
       "      <td>-6.0</td>\n",
       "      <td>812.0</td>\n",
       "      <td>837</td>\n",
       "      <td>-25.0</td>\n",
       "      <td>DL</td>\n",
       "      <td>461</td>\n",
       "      <td>N668DN</td>\n",
       "      <td>LGA</td>\n",
       "      <td>ATL</td>\n",
       "      <td>116.0</td>\n",
       "      <td>762</td>\n",
       "      <td>6</td>\n",
       "      <td>0</td>\n",
       "      <td>1/1/2013 6:00</td>\n",
       "    </tr>\n",
       "  </tbody>\n",
       "</table>\n",
       "</div>"
      ],
      "text/plain": [
       "   year  month  day  dep_time  sched_dep_time  dep_delay  arr_time  \\\n",
       "0  2013      1    1     517.0             515        2.0     830.0   \n",
       "1  2013      1    1     533.0             529        4.0     850.0   \n",
       "2  2013      1    1     542.0             540        2.0     923.0   \n",
       "3  2013      1    1     544.0             545       -1.0    1004.0   \n",
       "4  2013      1    1     554.0             600       -6.0     812.0   \n",
       "\n",
       "   sched_arr_time  arr_delay carrier  flight tailnum origin dest  air_time  \\\n",
       "0             819       11.0      UA    1545  N14228    EWR  IAH     227.0   \n",
       "1             830       20.0      UA    1714  N24211    LGA  IAH     227.0   \n",
       "2             850       33.0      AA    1141  N619AA    JFK  MIA     160.0   \n",
       "3            1022      -18.0      B6     725  N804JB    JFK  BQN     183.0   \n",
       "4             837      -25.0      DL     461  N668DN    LGA  ATL     116.0   \n",
       "\n",
       "   distance  hour  minute      time_hour  \n",
       "0      1400     5      15  1/1/2013 5:00  \n",
       "1      1416     5      29  1/1/2013 5:00  \n",
       "2      1089     5      40  1/1/2013 5:00  \n",
       "3      1576     5      45  1/1/2013 5:00  \n",
       "4       762     6       0  1/1/2013 6:00  "
      ]
     },
     "execution_count": 36,
     "metadata": {},
     "output_type": "execute_result"
    }
   ],
   "source": [
    "df.head()"
   ]
  },
  {
   "cell_type": "code",
   "execution_count": 37,
   "id": "569f1ed6",
   "metadata": {},
   "outputs": [
    {
     "data": {
      "text/plain": [
       "2013    336776\n",
       "Name: year, dtype: int64"
      ]
     },
     "execution_count": 37,
     "metadata": {},
     "output_type": "execute_result"
    }
   ],
   "source": [
    "df['year'].value_counts()"
   ]
  },
  {
   "cell_type": "code",
   "execution_count": 38,
   "id": "18ec6d14",
   "metadata": {},
   "outputs": [],
   "source": [
    "df.drop(columns=['year', 'flight'], axis=1, inplace=True)"
   ]
  },
  {
   "cell_type": "code",
   "execution_count": 39,
   "id": "e42ab554",
   "metadata": {},
   "outputs": [
    {
     "data": {
      "text/html": [
       "<div>\n",
       "<style scoped>\n",
       "    .dataframe tbody tr th:only-of-type {\n",
       "        vertical-align: middle;\n",
       "    }\n",
       "\n",
       "    .dataframe tbody tr th {\n",
       "        vertical-align: top;\n",
       "    }\n",
       "\n",
       "    .dataframe thead th {\n",
       "        text-align: right;\n",
       "    }\n",
       "</style>\n",
       "<table border=\"1\" class=\"dataframe\">\n",
       "  <thead>\n",
       "    <tr style=\"text-align: right;\">\n",
       "      <th></th>\n",
       "      <th>month</th>\n",
       "      <th>day</th>\n",
       "      <th>dep_time</th>\n",
       "      <th>sched_dep_time</th>\n",
       "      <th>dep_delay</th>\n",
       "      <th>arr_time</th>\n",
       "      <th>sched_arr_time</th>\n",
       "      <th>arr_delay</th>\n",
       "      <th>air_time</th>\n",
       "      <th>distance</th>\n",
       "      <th>hour</th>\n",
       "      <th>minute</th>\n",
       "    </tr>\n",
       "  </thead>\n",
       "  <tbody>\n",
       "    <tr>\n",
       "      <th>month</th>\n",
       "      <td>1.000000</td>\n",
       "      <td>0.002942</td>\n",
       "      <td>-0.003932</td>\n",
       "      <td>-0.004573</td>\n",
       "      <td>-0.020057</td>\n",
       "      <td>-0.002520</td>\n",
       "      <td>-0.004173</td>\n",
       "      <td>-0.017382</td>\n",
       "      <td>0.010924</td>\n",
       "      <td>0.021636</td>\n",
       "      <td>-0.005227</td>\n",
       "      <td>0.015528</td>\n",
       "    </tr>\n",
       "    <tr>\n",
       "      <th>day</th>\n",
       "      <td>0.002942</td>\n",
       "      <td>1.000000</td>\n",
       "      <td>-0.000467</td>\n",
       "      <td>-0.000014</td>\n",
       "      <td>0.000420</td>\n",
       "      <td>-0.005537</td>\n",
       "      <td>-0.002403</td>\n",
       "      <td>-0.000319</td>\n",
       "      <td>0.002236</td>\n",
       "      <td>0.003041</td>\n",
       "      <td>-0.000055</td>\n",
       "      <td>0.000987</td>\n",
       "    </tr>\n",
       "    <tr>\n",
       "      <th>dep_time</th>\n",
       "      <td>-0.003932</td>\n",
       "      <td>-0.000467</td>\n",
       "      <td>1.000000</td>\n",
       "      <td>0.954617</td>\n",
       "      <td>0.260231</td>\n",
       "      <td>0.660779</td>\n",
       "      <td>0.784682</td>\n",
       "      <td>0.232306</td>\n",
       "      <td>-0.014619</td>\n",
       "      <td>-0.013998</td>\n",
       "      <td>0.953306</td>\n",
       "      <td>0.091577</td>\n",
       "    </tr>\n",
       "    <tr>\n",
       "      <th>sched_dep_time</th>\n",
       "      <td>-0.004573</td>\n",
       "      <td>-0.000014</td>\n",
       "      <td>0.954617</td>\n",
       "      <td>1.000000</td>\n",
       "      <td>0.198887</td>\n",
       "      <td>0.642680</td>\n",
       "      <td>0.783342</td>\n",
       "      <td>0.173896</td>\n",
       "      <td>-0.015532</td>\n",
       "      <td>-0.017995</td>\n",
       "      <td>0.999148</td>\n",
       "      <td>0.082960</td>\n",
       "    </tr>\n",
       "    <tr>\n",
       "      <th>dep_delay</th>\n",
       "      <td>-0.020057</td>\n",
       "      <td>0.000420</td>\n",
       "      <td>0.260231</td>\n",
       "      <td>0.198887</td>\n",
       "      <td>1.000000</td>\n",
       "      <td>0.028729</td>\n",
       "      <td>0.160488</td>\n",
       "      <td>0.914803</td>\n",
       "      <td>-0.022405</td>\n",
       "      <td>-0.021671</td>\n",
       "      <td>0.198226</td>\n",
       "      <td>0.028441</td>\n",
       "    </tr>\n",
       "    <tr>\n",
       "      <th>arr_time</th>\n",
       "      <td>-0.002520</td>\n",
       "      <td>-0.005537</td>\n",
       "      <td>0.660779</td>\n",
       "      <td>0.642680</td>\n",
       "      <td>0.028729</td>\n",
       "      <td>1.000000</td>\n",
       "      <td>0.788997</td>\n",
       "      <td>0.024482</td>\n",
       "      <td>0.054296</td>\n",
       "      <td>0.046991</td>\n",
       "      <td>0.642651</td>\n",
       "      <td>0.040969</td>\n",
       "    </tr>\n",
       "    <tr>\n",
       "      <th>sched_arr_time</th>\n",
       "      <td>-0.004173</td>\n",
       "      <td>-0.002403</td>\n",
       "      <td>0.784682</td>\n",
       "      <td>0.783342</td>\n",
       "      <td>0.160488</td>\n",
       "      <td>0.788997</td>\n",
       "      <td>1.000000</td>\n",
       "      <td>0.133261</td>\n",
       "      <td>0.078918</td>\n",
       "      <td>0.068726</td>\n",
       "      <td>0.783283</td>\n",
       "      <td>0.050321</td>\n",
       "    </tr>\n",
       "    <tr>\n",
       "      <th>arr_delay</th>\n",
       "      <td>-0.017382</td>\n",
       "      <td>-0.000319</td>\n",
       "      <td>0.232306</td>\n",
       "      <td>0.173896</td>\n",
       "      <td>0.914803</td>\n",
       "      <td>0.024482</td>\n",
       "      <td>0.133261</td>\n",
       "      <td>1.000000</td>\n",
       "      <td>-0.035297</td>\n",
       "      <td>-0.061868</td>\n",
       "      <td>0.173456</td>\n",
       "      <td>0.021522</td>\n",
       "    </tr>\n",
       "    <tr>\n",
       "      <th>air_time</th>\n",
       "      <td>0.010924</td>\n",
       "      <td>0.002236</td>\n",
       "      <td>-0.014619</td>\n",
       "      <td>-0.015532</td>\n",
       "      <td>-0.022405</td>\n",
       "      <td>0.054296</td>\n",
       "      <td>0.078918</td>\n",
       "      <td>-0.035297</td>\n",
       "      <td>1.000000</td>\n",
       "      <td>0.990650</td>\n",
       "      <td>-0.016277</td>\n",
       "      <td>0.017032</td>\n",
       "    </tr>\n",
       "    <tr>\n",
       "      <th>distance</th>\n",
       "      <td>0.021636</td>\n",
       "      <td>0.003041</td>\n",
       "      <td>-0.013998</td>\n",
       "      <td>-0.017995</td>\n",
       "      <td>-0.021671</td>\n",
       "      <td>0.046991</td>\n",
       "      <td>0.068726</td>\n",
       "      <td>-0.061868</td>\n",
       "      <td>0.990650</td>\n",
       "      <td>1.000000</td>\n",
       "      <td>-0.018860</td>\n",
       "      <td>0.019780</td>\n",
       "    </tr>\n",
       "    <tr>\n",
       "      <th>hour</th>\n",
       "      <td>-0.005227</td>\n",
       "      <td>-0.000055</td>\n",
       "      <td>0.953306</td>\n",
       "      <td>0.999148</td>\n",
       "      <td>0.198226</td>\n",
       "      <td>0.642651</td>\n",
       "      <td>0.783283</td>\n",
       "      <td>0.173456</td>\n",
       "      <td>-0.016277</td>\n",
       "      <td>-0.018860</td>\n",
       "      <td>1.000000</td>\n",
       "      <td>0.041768</td>\n",
       "    </tr>\n",
       "    <tr>\n",
       "      <th>minute</th>\n",
       "      <td>0.015528</td>\n",
       "      <td>0.000987</td>\n",
       "      <td>0.091577</td>\n",
       "      <td>0.082960</td>\n",
       "      <td>0.028441</td>\n",
       "      <td>0.040969</td>\n",
       "      <td>0.050321</td>\n",
       "      <td>0.021522</td>\n",
       "      <td>0.017032</td>\n",
       "      <td>0.019780</td>\n",
       "      <td>0.041768</td>\n",
       "      <td>1.000000</td>\n",
       "    </tr>\n",
       "  </tbody>\n",
       "</table>\n",
       "</div>"
      ],
      "text/plain": [
       "                   month       day  dep_time  sched_dep_time  dep_delay  \\\n",
       "month           1.000000  0.002942 -0.003932       -0.004573  -0.020057   \n",
       "day             0.002942  1.000000 -0.000467       -0.000014   0.000420   \n",
       "dep_time       -0.003932 -0.000467  1.000000        0.954617   0.260231   \n",
       "sched_dep_time -0.004573 -0.000014  0.954617        1.000000   0.198887   \n",
       "dep_delay      -0.020057  0.000420  0.260231        0.198887   1.000000   \n",
       "arr_time       -0.002520 -0.005537  0.660779        0.642680   0.028729   \n",
       "sched_arr_time -0.004173 -0.002403  0.784682        0.783342   0.160488   \n",
       "arr_delay      -0.017382 -0.000319  0.232306        0.173896   0.914803   \n",
       "air_time        0.010924  0.002236 -0.014619       -0.015532  -0.022405   \n",
       "distance        0.021636  0.003041 -0.013998       -0.017995  -0.021671   \n",
       "hour           -0.005227 -0.000055  0.953306        0.999148   0.198226   \n",
       "minute          0.015528  0.000987  0.091577        0.082960   0.028441   \n",
       "\n",
       "                arr_time  sched_arr_time  arr_delay  air_time  distance  \\\n",
       "month          -0.002520       -0.004173  -0.017382  0.010924  0.021636   \n",
       "day            -0.005537       -0.002403  -0.000319  0.002236  0.003041   \n",
       "dep_time        0.660779        0.784682   0.232306 -0.014619 -0.013998   \n",
       "sched_dep_time  0.642680        0.783342   0.173896 -0.015532 -0.017995   \n",
       "dep_delay       0.028729        0.160488   0.914803 -0.022405 -0.021671   \n",
       "arr_time        1.000000        0.788997   0.024482  0.054296  0.046991   \n",
       "sched_arr_time  0.788997        1.000000   0.133261  0.078918  0.068726   \n",
       "arr_delay       0.024482        0.133261   1.000000 -0.035297 -0.061868   \n",
       "air_time        0.054296        0.078918  -0.035297  1.000000  0.990650   \n",
       "distance        0.046991        0.068726  -0.061868  0.990650  1.000000   \n",
       "hour            0.642651        0.783283   0.173456 -0.016277 -0.018860   \n",
       "minute          0.040969        0.050321   0.021522  0.017032  0.019780   \n",
       "\n",
       "                    hour    minute  \n",
       "month          -0.005227  0.015528  \n",
       "day            -0.000055  0.000987  \n",
       "dep_time        0.953306  0.091577  \n",
       "sched_dep_time  0.999148  0.082960  \n",
       "dep_delay       0.198226  0.028441  \n",
       "arr_time        0.642651  0.040969  \n",
       "sched_arr_time  0.783283  0.050321  \n",
       "arr_delay       0.173456  0.021522  \n",
       "air_time       -0.016277  0.017032  \n",
       "distance       -0.018860  0.019780  \n",
       "hour            1.000000  0.041768  \n",
       "minute          0.041768  1.000000  "
      ]
     },
     "execution_count": 39,
     "metadata": {},
     "output_type": "execute_result"
    }
   ],
   "source": [
    "df.corr()# numeric_only=True)"
   ]
  },
  {
   "cell_type": "code",
   "execution_count": 40,
   "id": "d10f3a87",
   "metadata": {},
   "outputs": [
    {
     "data": {
      "text/plain": [
       "<AxesSubplot:>"
      ]
     },
     "execution_count": 40,
     "metadata": {},
     "output_type": "execute_result"
    },
    {
     "data": {
      "image/png": "[encoded data removed]",
      "text/plain": [
       "<Figure size 1008x504 with 2 Axes>"
      ]
     },
     "metadata": {
      "needs_background": "light"
     },
     "output_type": "display_data"
    }
   ],
   "source": [
    "plt.figure(figsize=(14,7))\n",
    "sns.heatmap(df.corr(),#numeric_only=True),\n",
    "            cmap='magma_r',\n",
    "            linewidths=0.7,\n",
    "            square=True, annot=True, fmt='.2f')"
   ]
  },
  {
   "cell_type": "code",
   "execution_count": null,
   "id": "7abe791c",
   "metadata": {},
   "outputs": [],
   "source": []
  }
 ],
 "metadata": {
  "kernelspec": {
   "display_name": "Python 3 (ipykernel)",
   "language": "python",
   "name": "python3"
  },
  "language_info": {
   "codemirror_mode": {
    "name": "ipython",
    "version": 3
   },
   "file_extension": ".py",
   "mimetype": "text/x-python",
   "name": "python",
   "nbconvert_exporter": "python",
   "pygments_lexer": "ipython3",
   "version": "3.9.7"
  }
 },
 "nbformat": 4,
 "nbformat_minor": 5
}
