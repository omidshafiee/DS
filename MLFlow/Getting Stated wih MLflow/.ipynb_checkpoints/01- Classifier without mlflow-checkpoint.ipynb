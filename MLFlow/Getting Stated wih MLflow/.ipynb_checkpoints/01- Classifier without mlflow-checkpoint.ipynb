{
 "cells": [
  {
   "cell_type": "code",
   "execution_count": 1,
   "id": "d42822e0-c55c-4413-b918-af6f54d83be1",
   "metadata": {},
   "outputs": [],
   "source": [
    "import numpy as np\n",
    "import pandas as pd\n",
    "\n",
    "from sklearn import linear_model\n",
    "from sklearn.metrics import mean_squared_error\n",
    "from sklearn.model_selection import train_test_split\n"
   ]
  },
  {
   "cell_type": "code",
   "execution_count": 9,
   "id": "f3898340-51c3-4ac4-b2da-d47301ab00a9",
   "metadata": {},
   "outputs": [
    {
     "data": {
      "text/html": [
       "<div>\n",
       "<style scoped>\n",
       "    .dataframe tbody tr th:only-of-type {\n",
       "        vertical-align: middle;\n",
       "    }\n",
       "\n",
       "    .dataframe tbody tr th {\n",
       "        vertical-align: top;\n",
       "    }\n",
       "\n",
       "    .dataframe thead th {\n",
       "        text-align: right;\n",
       "    }\n",
       "</style>\n",
       "<table border=\"1\" class=\"dataframe\">\n",
       "  <thead>\n",
       "    <tr style=\"text-align: right;\">\n",
       "      <th></th>\n",
       "      <th>Order</th>\n",
       "      <th>PID</th>\n",
       "      <th>MS SubClass</th>\n",
       "      <th>MS Zoning</th>\n",
       "      <th>Lot Frontage</th>\n",
       "      <th>Lot Area</th>\n",
       "      <th>Street</th>\n",
       "      <th>Alley</th>\n",
       "      <th>Lot Shape</th>\n",
       "      <th>Land Contour</th>\n",
       "      <th>...</th>\n",
       "      <th>Pool Area</th>\n",
       "      <th>Pool QC</th>\n",
       "      <th>Fence</th>\n",
       "      <th>Misc Feature</th>\n",
       "      <th>Misc Val</th>\n",
       "      <th>Mo Sold</th>\n",
       "      <th>Yr Sold</th>\n",
       "      <th>Sale Type</th>\n",
       "      <th>Sale Condition</th>\n",
       "      <th>SalePrice</th>\n",
       "    </tr>\n",
       "  </thead>\n",
       "  <tbody>\n",
       "    <tr>\n",
       "      <th>0</th>\n",
       "      <td>1</td>\n",
       "      <td>526301100</td>\n",
       "      <td>20</td>\n",
       "      <td>RL</td>\n",
       "      <td>141.0</td>\n",
       "      <td>31770</td>\n",
       "      <td>Pave</td>\n",
       "      <td>NaN</td>\n",
       "      <td>IR1</td>\n",
       "      <td>Lvl</td>\n",
       "      <td>...</td>\n",
       "      <td>0</td>\n",
       "      <td>NaN</td>\n",
       "      <td>NaN</td>\n",
       "      <td>NaN</td>\n",
       "      <td>0</td>\n",
       "      <td>5</td>\n",
       "      <td>2010</td>\n",
       "      <td>WD</td>\n",
       "      <td>Normal</td>\n",
       "      <td>215000</td>\n",
       "    </tr>\n",
       "    <tr>\n",
       "      <th>1</th>\n",
       "      <td>2</td>\n",
       "      <td>526350040</td>\n",
       "      <td>20</td>\n",
       "      <td>RH</td>\n",
       "      <td>80.0</td>\n",
       "      <td>11622</td>\n",
       "      <td>Pave</td>\n",
       "      <td>NaN</td>\n",
       "      <td>Reg</td>\n",
       "      <td>Lvl</td>\n",
       "      <td>...</td>\n",
       "      <td>0</td>\n",
       "      <td>NaN</td>\n",
       "      <td>MnPrv</td>\n",
       "      <td>NaN</td>\n",
       "      <td>0</td>\n",
       "      <td>6</td>\n",
       "      <td>2010</td>\n",
       "      <td>WD</td>\n",
       "      <td>Normal</td>\n",
       "      <td>105000</td>\n",
       "    </tr>\n",
       "  </tbody>\n",
       "</table>\n",
       "<p>2 rows × 82 columns</p>\n",
       "</div>"
      ],
      "text/plain": [
       "   Order        PID  MS SubClass MS Zoning  Lot Frontage  Lot Area Street  \\\n",
       "0      1  526301100           20        RL         141.0     31770   Pave   \n",
       "1      2  526350040           20        RH          80.0     11622   Pave   \n",
       "\n",
       "  Alley Lot Shape Land Contour  ... Pool Area Pool QC  Fence Misc Feature  \\\n",
       "0   NaN       IR1          Lvl  ...         0     NaN    NaN          NaN   \n",
       "1   NaN       Reg          Lvl  ...         0     NaN  MnPrv          NaN   \n",
       "\n",
       "  Misc Val Mo Sold Yr Sold Sale Type  Sale Condition  SalePrice  \n",
       "0        0       5    2010       WD           Normal     215000  \n",
       "1        0       6    2010       WD           Normal     105000  \n",
       "\n",
       "[2 rows x 82 columns]"
      ]
     },
     "execution_count": 9,
     "metadata": {},
     "output_type": "execute_result"
    }
   ],
   "source": [
    "# Load the dataset\n",
    "df = pd.read_csv('ames_housing.csv')\n",
    "df.head(2)"
   ]
  },
  {
   "cell_type": "code",
   "execution_count": 10,
   "id": "2f33bd0c-61c5-4561-8e1c-d8ded3b897cd",
   "metadata": {},
   "outputs": [
    {
     "data": {
      "text/html": [
       "<div>\n",
       "<style scoped>\n",
       "    .dataframe tbody tr th:only-of-type {\n",
       "        vertical-align: middle;\n",
       "    }\n",
       "\n",
       "    .dataframe tbody tr th {\n",
       "        vertical-align: top;\n",
       "    }\n",
       "\n",
       "    .dataframe thead th {\n",
       "        text-align: right;\n",
       "    }\n",
       "</style>\n",
       "<table border=\"1\" class=\"dataframe\">\n",
       "  <thead>\n",
       "    <tr style=\"text-align: right;\">\n",
       "      <th></th>\n",
       "      <th>Lot Area</th>\n",
       "      <th>Gr Liv Area</th>\n",
       "      <th>Garage Area</th>\n",
       "      <th>Bldg Type</th>\n",
       "      <th>SalePrice</th>\n",
       "    </tr>\n",
       "  </thead>\n",
       "  <tbody>\n",
       "    <tr>\n",
       "      <th>0</th>\n",
       "      <td>31770</td>\n",
       "      <td>1656</td>\n",
       "      <td>528.0</td>\n",
       "      <td>1Fam</td>\n",
       "      <td>215000</td>\n",
       "    </tr>\n",
       "    <tr>\n",
       "      <th>1</th>\n",
       "      <td>11622</td>\n",
       "      <td>896</td>\n",
       "      <td>730.0</td>\n",
       "      <td>1Fam</td>\n",
       "      <td>105000</td>\n",
       "    </tr>\n",
       "  </tbody>\n",
       "</table>\n",
       "</div>"
      ],
      "text/plain": [
       "   Lot Area  Gr Liv Area  Garage Area Bldg Type  SalePrice\n",
       "0     31770         1656        528.0      1Fam     215000\n",
       "1     11622          896        730.0      1Fam     105000"
      ]
     },
     "execution_count": 10,
     "metadata": {},
     "output_type": "execute_result"
    }
   ],
   "source": [
    "feature_columns = ['Lot Area', 'Gr Liv Area', 'Garage Area', 'Bldg Type']\n",
    "selected = df.loc[:, feature_columns + ['SalePrice']]\n",
    "selected.head(2)"
   ]
  },
  {
   "cell_type": "code",
   "execution_count": 11,
   "id": "61ac1325-4880-4d9a-9349-ea9c2eaa045e",
   "metadata": {},
   "outputs": [],
   "source": [
    "# Categorized feature needs to be handle\n",
    "cat_feature = ['Bldg Type']"
   ]
  },
  {
   "cell_type": "code",
   "execution_count": 19,
   "id": "caa2308e-f130-46b8-85e1-220688233337",
   "metadata": {},
   "outputs": [],
   "source": [
    "def prepare_data(target_df):\n",
    "    df = target_df\n",
    "    for col in df.columns:\n",
    "        if col in cat_feature:\n",
    "            # One hot encoding\n",
    "            dummies = pd.get_dummies(df[col])\n",
    "            # drop original column\n",
    "            df = pd.concat([df.drop([col], axis=1), dummies], axis=1)\n",
    "    \n",
    "    # Fill missing value with 0\n",
    "    df = df.fillna(0)\n",
    "    \n",
    "    return df"
   ]
  },
  {
   "cell_type": "code",
   "execution_count": 23,
   "id": "6a51d209-7d5d-44c0-bf9f-77fe03cf3625",
   "metadata": {},
   "outputs": [],
   "source": [
    "def train_and_evaluate(df_prc):\n",
    "    # Remove target feature and convert other to numpy format\n",
    "    faetures = df_prc.drop('SalePrice', axis=1).to_numpy()\n",
    "    target = df_prc.drop('SalePrice', axis=1).to_numpy()\n",
    "\n",
    "    # Split data into train and test\n",
    "    X_train, X_test, y_train, y_test = train_test_split(faetures, target, test_size=0.33, random_state=105)\n",
    "\n",
    "    # Train the model\n",
    "    model = linear_model.LinearRegression()\n",
    "    model.fit(X_train, y_train)\n",
    "\n",
    "    # Evaluate the model\n",
    "    y_pred = model.predict(X_test)\n",
    "    err = mean_squared_error(y_test, y_pred)\n",
    "    print(f'MSE: {err}\\n')\n",
    "    "
   ]
  },
  {
   "cell_type": "markdown",
   "id": "12f79370-8f8a-46ae-9196-0b772944cf15",
   "metadata": {},
   "source": [
    "### Here is the place we want to try model with different feature combination"
   ]
  },
  {
   "cell_type": "code",
   "execution_count": 24,
   "id": "44b6f338-4ec4-4aff-b9c6-70f865fc96f9",
   "metadata": {},
   "outputs": [
    {
     "name": "stdout",
     "output_type": "stream",
     "text": [
      "Dropping Lot Area\n",
      "MSE: 3.2679353132775813e-25\n",
      "\n",
      "Dropping Gr Liv Area\n",
      "MSE: 9.55447781095485e-25\n",
      "\n",
      "Dropping Garage Area\n",
      "MSE: 3.54298716808135e-24\n",
      "\n",
      "Dropping Bldg Type\n",
      "MSE: 6.791457176884717e-23\n",
      "\n",
      "Dropping None\n",
      "MSE: 3.4843232332456673e-25\n",
      "\n"
     ]
    }
   ],
   "source": [
    "# at first step to train model with all columns, add None to target dataframe\n",
    "col_to_drop = feature_columns + [None]\n",
    "\n",
    "for to_drop in col_to_drop:\n",
    "    if to_drop:\n",
    "        dropped = selected.drop(to_drop, axis=1)\n",
    "    else:\n",
    "        dropped = selected\n",
    "        \n",
    "    print(f'Dropping {to_drop}')\n",
    "    prepared = prepare_data(dropped)\n",
    "    train_and_evaluate(prepared)"
   ]
  },
  {
   "cell_type": "code",
   "execution_count": null,
   "id": "8b81b75a-e0c9-4aa4-a34d-617cb5a63738",
   "metadata": {},
   "outputs": [],
   "source": []
  }
 ],
 "metadata": {
  "kernelspec": {
   "display_name": "Python 3 (ipykernel)",
   "language": "python",
   "name": "python3"
  },
  "language_info": {
   "codemirror_mode": {
    "name": "ipython",
    "version": 3
   },
   "file_extension": ".py",
   "mimetype": "text/x-python",
   "name": "python",
   "nbconvert_exporter": "python",
   "pygments_lexer": "ipython3",
   "version": "3.11.7"
  }
 },
 "nbformat": 4,
 "nbformat_minor": 5
}
