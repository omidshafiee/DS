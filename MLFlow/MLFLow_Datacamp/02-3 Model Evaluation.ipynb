{
 "cells": [
  {
   "cell_type": "code",
   "execution_count": 2,
   "id": "ab801742-a03f-45f8-9033-947e6dbf2d21",
   "metadata": {},
   "outputs": [],
   "source": [
    "import pandas as pd\n",
    "import sklearn\n",
    "from sklearn.linear_model import LogisticRegression\n",
    "from sklearn.model_selection import train_test_split\n",
    "\n",
    "import mlflow\n",
    "import mlflow.sklearn"
   ]
  },
  {
   "cell_type": "code",
   "execution_count": 3,
   "id": "913540eb-2938-4855-ba15-fff8472c2bc1",
   "metadata": {},
   "outputs": [],
   "source": [
    "# Preprocessing \n",
    "df = pd.read_csv(\"datasets/insurance.csv\")\n",
    "df = df.drop(columns=['region'])\n",
    "df['sex']=df['sex'].map({'female':0,'male':1}).astype(int)\n",
    "df['smoker']=df['smoker'].map({'yes':0,'no':1}).astype(int)"
   ]
  },
  {
   "cell_type": "code",
   "execution_count": 4,
   "id": "df059734-657f-4261-a805-911c041433c9",
   "metadata": {},
   "outputs": [],
   "source": [
    "# Training Data\n",
    "X = df[[\"age\", \"bmi\", \"children\", \"smoker\", \"charges\"]]\n",
    "y = df[[\"sex\"]]\n",
    "X_train, X_test, y_train, y_test = train_test_split(X, y, test_size=0.25, random_state=42)"
   ]
  },
  {
   "cell_type": "code",
   "execution_count": 5,
   "id": "f8755f32-b170-4ceb-8b2c-f9aef6ea73e8",
   "metadata": {},
   "outputs": [],
   "source": [
    "# Eval Data\n",
    "eval_data = X_test\n",
    "eval_data[\"sex\"] = y_test"
   ]
  },
  {
   "cell_type": "code",
   "execution_count": 6,
   "id": "3b4080f1-8b99-4df3-ad0e-7baec1130518",
   "metadata": {},
   "outputs": [
    {
     "name": "stderr",
     "output_type": "stream",
     "text": [
      "C:\\ProgramData\\anaconda3\\Lib\\site-packages\\sklearn\\utils\\validation.py:1300: DataConversionWarning: A column-vector y was passed when a 1d array was expected. Please change the shape of y to (n_samples, ), for example using ravel().\n",
      "  y = column_or_1d(y, warn=True)\n",
      "C:\\ProgramData\\anaconda3\\Lib\\site-packages\\sklearn\\linear_model\\_logistic.py:469: ConvergenceWarning: lbfgs failed to converge (status=1):\n",
      "STOP: TOTAL NO. of ITERATIONS REACHED LIMIT.\n",
      "\n",
      "Increase the number of iterations (max_iter) or scale the data as shown in:\n",
      "    https://scikit-learn.org/stable/modules/preprocessing.html\n",
      "Please also refer to the documentation for alternative solver options:\n",
      "    https://scikit-learn.org/stable/modules/linear_model.html#logistic-regression\n",
      "  n_iter_i = _check_optimize_result(\n"
     ]
    }
   ],
   "source": [
    "# Model\n",
    "lr_class = LogisticRegression().fit(X_train, y_train)"
   ]
  },
  {
   "cell_type": "code",
   "execution_count": 7,
   "id": "9db7dd20-6852-481f-9a67-84957496432a",
   "metadata": {},
   "outputs": [
    {
     "name": "stderr",
     "output_type": "stream",
     "text": [
      "C:\\ProgramData\\anaconda3\\Lib\\site-packages\\_distutils_hack\\__init__.py:33: UserWarning: Setuptools is replacing distutils.\n",
      "  warnings.warn(\"Setuptools is replacing distutils.\")\n",
      "2024/08/07 19:10:20 WARNING mlflow.models.model: Input example should be provided to infer model signature if the model signature is not provided when logging the model.\n"
     ]
    },
    {
     "data": {
      "text/plain": [
       "<mlflow.models.model.ModelInfo at 0x1e1e9086a10>"
      ]
     },
     "execution_count": 7,
     "metadata": {},
     "output_type": "execute_result"
    }
   ],
   "source": [
    "# Log the model using Scikit-Learn Flavor\n",
    "mlflow.sklearn.log_model(lr_class, \"model\")"
   ]
  },
  {
   "cell_type": "code",
   "execution_count": 8,
   "id": "66234fd7-c8ad-4705-987c-4f4ae5d36a38",
   "metadata": {},
   "outputs": [
    {
     "data": {
      "text/plain": [
       "'aa1a55e6db784f8e897de8aba06a47f9'"
      ]
     },
     "execution_count": 8,
     "metadata": {},
     "output_type": "execute_result"
    }
   ],
   "source": [
    "# Get run id\n",
    "run = mlflow.last_active_run()\n",
    "run_id = run.info.run_id\n",
    "run_id"
   ]
  },
  {
   "cell_type": "code",
   "execution_count": 9,
   "id": "ce0cde1b-9b00-4db9-9216-ed86f0d70d2f",
   "metadata": {},
   "outputs": [
    {
     "name": "stderr",
     "output_type": "stream",
     "text": [
      "C:\\ProgramData\\anaconda3\\Lib\\site-packages\\mlflow\\types\\utils.py:406: UserWarning: Hint: Inferred schema contains integer column(s). Integer columns in Python cannot represent missing values. If your input data contains missing values at inference time, it will be encoded as floats and will cause a schema enforcement error. The best way to avoid this problem is to infer the model schema based on a realistic data sample (training dataset) that includes missing values. Alternatively, you can declare integer columns as doubles (float64) whenever these columns may have missing values. See `Handling Integers With Missing Values <https://www.mlflow.org/docs/latest/models.html#handling-integers-with-missing-values>`_ for more details.\n",
      "  warnings.warn(\n",
      "2024/08/07 19:10:22 INFO mlflow.models.evaluation.default_evaluator: Computing model predictions.\n",
      "2024/08/07 19:10:22 INFO mlflow.models.evaluation.default_evaluator: The evaluation dataset is inferred as binary dataset, positive label is 1, negative label is 0.\n",
      "2024/08/07 19:10:22 INFO mlflow.models.evaluation.default_evaluator: Testing metrics on first row...\n",
      "2024/08/07 19:10:25 INFO mlflow.models.evaluation.default_evaluator: Shap explainer LinearExplainer is used.\n",
      "Unable to serialize underlying model using MLflow, will use SHAP serialization\n",
      "2024/08/07 19:10:25 WARNING mlflow.models.evaluation.default_evaluator: Logging explainer failed. Reason: AttributeError(\"'LogisticRegression' object has no attribute 'save'\"). Set logging level to DEBUG to see the full traceback.\n"
     ]
    },
    {
     "data": {
      "text/plain": [
       "<mlflow.models.evaluation.base.EvaluationResult at 0x1e1ebc92d10>"
      ]
     },
     "execution_count": 9,
     "metadata": {},
     "output_type": "execute_result"
    }
   ],
   "source": [
    "mlflow.evaluate(f\"runs:/{run_id}/model\", \n",
    "                data=eval_data, \n",
    "                targets=\"sex\",\n",
    "\t\t\t\tmodel_type=\"classifier\"\n",
    ")"
   ]
  },
  {
   "cell_type": "code",
   "execution_count": null,
   "id": "bcea151a-8cfe-4ef4-94cb-b770d27926f1",
   "metadata": {},
   "outputs": [],
   "source": []
  }
 ],
 "metadata": {
  "kernelspec": {
   "display_name": "Python 3 (ipykernel)",
   "language": "python",
   "name": "python3"
  },
  "language_info": {
   "codemirror_mode": {
    "name": "ipython",
    "version": 3
   },
   "file_extension": ".py",
   "mimetype": "text/x-python",
   "name": "python",
   "nbconvert_exporter": "python",
   "pygments_lexer": "ipython3",
   "version": "3.11.7"
  }
 },
 "nbformat": 4,
 "nbformat_minor": 5
}
