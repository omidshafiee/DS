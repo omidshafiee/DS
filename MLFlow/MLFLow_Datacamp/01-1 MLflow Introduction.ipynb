{
 "cells": [
  {
   "cell_type": "markdown",
   "id": "a508ad4c-d6df-45af-9c4c-63846e6c792c",
   "metadata": {},
   "source": [
    "### Import the MLflow module."
   ]
  },
  {
   "cell_type": "code",
   "execution_count": 1,
   "id": "a68cedaa-85b4-49c5-85e5-53c3685d0bf0",
   "metadata": {},
   "outputs": [],
   "source": [
    "import mlflow"
   ]
  },
  {
   "cell_type": "markdown",
   "id": "78fbdd70-c72b-4e1c-bb6c-4ac6f94b4e36",
   "metadata": {},
   "source": [
    "- Create a new experiment called `\"Unicorn Model\"`."
   ]
  },
  {
   "cell_type": "code",
   "execution_count": 4,
   "id": "85931b9f-9552-40b9-be56-7772f56b4ed1",
   "metadata": {},
   "outputs": [],
   "source": [
    "# mlflow.create_experiment('Unicorn Model')"
   ]
  },
  {
   "cell_type": "markdown",
   "id": "12d2b8dd-6303-4182-85e9-a87d6d2df127",
   "metadata": {},
   "source": [
    "- On the `Unicorn Model`, set the set the tags as `\"version\"` and `\"1.0\"`."
   ]
  },
  {
   "cell_type": "code",
   "execution_count": 3,
   "id": "6edb8c39-6ade-4898-8352-bbdeb49bbe53",
   "metadata": {},
   "outputs": [],
   "source": [
    "# mlflow.set_experiment_tag('Version', '1.0')"
   ]
  },
  {
   "cell_type": "markdown",
   "id": "47e1d82e-f093-4388-a94d-5bc16b66a949",
   "metadata": {},
   "source": [
    "- Set the experiment `\"Unicorn Model\"` as the current experiment for tracking."
   ]
  },
  {
   "cell_type": "code",
   "execution_count": 5,
   "id": "6f0672ab-b885-4db3-8bab-6be31c3dfcf3",
   "metadata": {},
   "outputs": [
    {
     "data": {
      "text/plain": [
       "<Experiment: artifact_location='file:///D:/Prg/DS/MLFlow/MLFLow_Datacamp/mlruns/693386743946054824', creation_time=1723014766052, experiment_id='693386743946054824', last_update_time=1723014766052, lifecycle_stage='active', name='Unicorn Model', tags={}>"
      ]
     },
     "execution_count": 5,
     "metadata": {},
     "output_type": "execute_result"
    }
   ],
   "source": [
    "mlflow.set_experiment('Unicorn Model')"
   ]
  },
  {
   "cell_type": "markdown",
   "id": "bcbaaba1-3a1f-44b7-9ebb-043855b81ca1",
   "metadata": {},
   "source": [
    "## Starting a new experimen"
   ]
  },
  {
   "cell_type": "code",
   "execution_count": 6,
   "id": "5e38c332-ae1d-4c9d-96cc-2b30560506e7",
   "metadata": {},
   "outputs": [
    {
     "data": {
      "text/plain": [
       "<Experiment: artifact_location='file:///D:/Prg/DS/MLFlow/MLFLow_Datacamp/mlruns/699240809277415353', creation_time=1723014851061, experiment_id='699240809277415353', last_update_time=1723014851061, lifecycle_stage='active', name='My Experiment', tags={}>"
      ]
     },
     "execution_count": 6,
     "metadata": {},
     "output_type": "execute_result"
    }
   ],
   "source": [
    "# Create new Experiment\n",
    "mlflow.create_experiment(\"My Experiment\")\n",
    "# Tag new experiment\n",
    "mlflow.set_experiment_tag(\"scikit-learn\", \"lr\")\n",
    "# Set the experiment\n",
    "mlflow.set_experiment(\"My Experiment\")"
   ]
  },
  {
   "cell_type": "code",
   "execution_count": 7,
   "id": "af66e347-f1e3-4483-9de5-7d4896a5eb0f",
   "metadata": {},
   "outputs": [
    {
     "data": {
      "text/plain": [
       "<ActiveRun: >"
      ]
     },
     "execution_count": 7,
     "metadata": {},
     "output_type": "execute_result"
    }
   ],
   "source": [
    "mlflow.start_run()"
   ]
  },
  {
   "cell_type": "code",
   "execution_count": 8,
   "id": "e2020310-1344-482f-b04a-ef41a9c6e9d4",
   "metadata": {},
   "outputs": [],
   "source": [
    "mlflow.end_run()"
   ]
  },
  {
   "cell_type": "code",
   "execution_count": 9,
   "id": "c4db80e4-a7bc-4b1d-b7d9-25f99edf03ef",
   "metadata": {},
   "outputs": [
    {
     "data": {
      "text/plain": [
       "<RunInfo: artifact_uri='file:///D:/Prg/DS/MLFlow/MLFLow_Datacamp/mlruns/699240809277415353/c7bfa06217144b80946d67515bfb0f9e/artifacts', end_time=None, experiment_id='699240809277415353', lifecycle_stage='active', run_id='c7bfa06217144b80946d67515bfb0f9e', run_name='calm-ray-213', run_uuid='c7bfa06217144b80946d67515bfb0f9e', start_time=1723014897610, status='RUNNING', user_id='Mehdi.Omidshafiee'>"
      ]
     },
     "execution_count": 9,
     "metadata": {},
     "output_type": "execute_result"
    }
   ],
   "source": [
    "# Start a run\n",
    "run = mlflow.start_run()\n",
    "# Print run info\n",
    "run.info"
   ]
  },
  {
   "cell_type": "code",
   "execution_count": 10,
   "id": "150bae66-e753-41ca-8618-5a9df92de7d4",
   "metadata": {},
   "outputs": [
    {
     "data": {
      "text/plain": [
       "'c7bfa06217144b80946d67515bfb0f9e'"
      ]
     },
     "execution_count": 10,
     "metadata": {},
     "output_type": "execute_result"
    }
   ],
   "source": [
    "run.info.run_id"
   ]
  },
  {
   "cell_type": "code",
   "execution_count": 11,
   "id": "212576bf-70e1-49f2-a89c-cce10b851661",
   "metadata": {},
   "outputs": [
    {
     "data": {
      "text/plain": [
       "<RunData: metrics={}, params={}, tags={'mlflow.runName': 'calm-ray-213',\n",
       " 'mlflow.source.name': 'C:\\\\ProgramData\\\\anaconda3\\\\Lib\\\\site-packages\\\\ipykernel_launcher.py',\n",
       " 'mlflow.source.type': 'LOCAL',\n",
       " 'mlflow.user': 'Mehdi.Omidshafiee'}>"
      ]
     },
     "execution_count": 11,
     "metadata": {},
     "output_type": "execute_result"
    }
   ],
   "source": [
    "run.data"
   ]
  },
  {
   "cell_type": "code",
   "execution_count": 23,
   "id": "44f04d4b-9cc9-4abf-9119-07491e712302",
   "metadata": {},
   "outputs": [],
   "source": [
    "mlflow.end_run()"
   ]
  },
  {
   "cell_type": "markdown",
   "id": "9e8acaa8-ab45-483e-9f51-b3fc7c020fe8",
   "metadata": {},
   "source": [
    "## Search (Querying) Runs"
   ]
  },
  {
   "cell_type": "code",
   "execution_count": 13,
   "id": "b79cd7cf-4466-4763-84d2-3241aff87356",
   "metadata": {},
   "outputs": [],
   "source": [
    "result = mlflow.search_runs()"
   ]
  },
  {
   "cell_type": "code",
   "execution_count": 15,
   "id": "02dfa6af-65e9-4dda-95ea-944b36472b75",
   "metadata": {},
   "outputs": [
    {
     "name": "stdout",
     "output_type": "stream",
     "text": [
      "<class 'pandas.core.frame.DataFrame'>\n",
      "RangeIndex: 2 entries, 0 to 1\n",
      "Data columns (total 10 columns):\n",
      " #   Column                   Non-Null Count  Dtype              \n",
      "---  ------                   --------------  -----              \n",
      " 0   run_id                   2 non-null      object             \n",
      " 1   experiment_id            2 non-null      object             \n",
      " 2   status                   2 non-null      object             \n",
      " 3   artifact_uri             2 non-null      object             \n",
      " 4   start_time               2 non-null      datetime64[ns, UTC]\n",
      " 5   end_time                 1 non-null      datetime64[ns, UTC]\n",
      " 6   tags.mlflow.source.name  2 non-null      object             \n",
      " 7   tags.mlflow.source.type  2 non-null      object             \n",
      " 8   tags.mlflow.user         2 non-null      object             \n",
      " 9   tags.mlflow.runName      2 non-null      object             \n",
      "dtypes: datetime64[ns, UTC](2), object(8)\n",
      "memory usage: 292.0+ bytes\n"
     ]
    }
   ],
   "source": [
    "result.info()"
   ]
  },
  {
   "cell_type": "code",
   "execution_count": 16,
   "id": "6075df01-df19-4b75-882a-3f7025ade889",
   "metadata": {},
   "outputs": [
    {
     "data": {
      "text/html": [
       "<div>\n",
       "<style scoped>\n",
       "    .dataframe tbody tr th:only-of-type {\n",
       "        vertical-align: middle;\n",
       "    }\n",
       "\n",
       "    .dataframe tbody tr th {\n",
       "        vertical-align: top;\n",
       "    }\n",
       "\n",
       "    .dataframe thead th {\n",
       "        text-align: right;\n",
       "    }\n",
       "</style>\n",
       "<table border=\"1\" class=\"dataframe\">\n",
       "  <thead>\n",
       "    <tr style=\"text-align: right;\">\n",
       "      <th></th>\n",
       "      <th>run_id</th>\n",
       "      <th>experiment_id</th>\n",
       "      <th>status</th>\n",
       "      <th>artifact_uri</th>\n",
       "      <th>start_time</th>\n",
       "      <th>end_time</th>\n",
       "      <th>tags.mlflow.source.name</th>\n",
       "      <th>tags.mlflow.source.type</th>\n",
       "      <th>tags.mlflow.user</th>\n",
       "      <th>tags.mlflow.runName</th>\n",
       "    </tr>\n",
       "  </thead>\n",
       "  <tbody>\n",
       "    <tr>\n",
       "      <th>0</th>\n",
       "      <td>c7bfa06217144b80946d67515bfb0f9e</td>\n",
       "      <td>699240809277415353</td>\n",
       "      <td>RUNNING</td>\n",
       "      <td>file:///D:/Prg/DS/MLFlow/MLFLow_Datacamp/mlrun...</td>\n",
       "      <td>2024-08-07 07:14:57.610000+00:00</td>\n",
       "      <td>NaT</td>\n",
       "      <td>C:\\ProgramData\\anaconda3\\Lib\\site-packages\\ipy...</td>\n",
       "      <td>LOCAL</td>\n",
       "      <td>Mehdi.Omidshafiee</td>\n",
       "      <td>calm-ray-213</td>\n",
       "    </tr>\n",
       "    <tr>\n",
       "      <th>1</th>\n",
       "      <td>db04649364864e3ea82c3dc17a1cc2bf</td>\n",
       "      <td>699240809277415353</td>\n",
       "      <td>FINISHED</td>\n",
       "      <td>file:///D:/Prg/DS/MLFlow/MLFLow_Datacamp/mlrun...</td>\n",
       "      <td>2024-08-07 07:14:26.152000+00:00</td>\n",
       "      <td>2024-08-07 07:14:39.141000+00:00</td>\n",
       "      <td>C:\\ProgramData\\anaconda3\\Lib\\site-packages\\ipy...</td>\n",
       "      <td>LOCAL</td>\n",
       "      <td>Mehdi.Omidshafiee</td>\n",
       "      <td>youthful-owl-81</td>\n",
       "    </tr>\n",
       "  </tbody>\n",
       "</table>\n",
       "</div>"
      ],
      "text/plain": [
       "                             run_id       experiment_id    status  \\\n",
       "0  c7bfa06217144b80946d67515bfb0f9e  699240809277415353   RUNNING   \n",
       "1  db04649364864e3ea82c3dc17a1cc2bf  699240809277415353  FINISHED   \n",
       "\n",
       "                                        artifact_uri  \\\n",
       "0  file:///D:/Prg/DS/MLFlow/MLFLow_Datacamp/mlrun...   \n",
       "1  file:///D:/Prg/DS/MLFlow/MLFLow_Datacamp/mlrun...   \n",
       "\n",
       "                        start_time                         end_time  \\\n",
       "0 2024-08-07 07:14:57.610000+00:00                              NaT   \n",
       "1 2024-08-07 07:14:26.152000+00:00 2024-08-07 07:14:39.141000+00:00   \n",
       "\n",
       "                             tags.mlflow.source.name tags.mlflow.source.type  \\\n",
       "0  C:\\ProgramData\\anaconda3\\Lib\\site-packages\\ipy...                   LOCAL   \n",
       "1  C:\\ProgramData\\anaconda3\\Lib\\site-packages\\ipy...                   LOCAL   \n",
       "\n",
       "    tags.mlflow.user tags.mlflow.runName  \n",
       "0  Mehdi.Omidshafiee        calm-ray-213  \n",
       "1  Mehdi.Omidshafiee     youthful-owl-81  "
      ]
     },
     "execution_count": 16,
     "metadata": {},
     "output_type": "execute_result"
    }
   ],
   "source": [
    "result"
   ]
  },
  {
   "cell_type": "markdown",
   "id": "ec772dbd-b18c-4a7c-aedd-6530794f67ed",
   "metadata": {},
   "source": [
    "## Search runs example"
   ]
  },
  {
   "cell_type": "code",
   "execution_count": null,
   "id": "ae35f7a4-075a-42e2-828c-e83b1b6a62f8",
   "metadata": {},
   "outputs": [],
   "source": [
    "# Filter string\n",
    "f1_score_filter = \"metrics.f1_score > 0.60\"\"\n",
    "# Search runs\n",
    "mlflow.search_runs(experiment_names=[\"Insurance Experiment\"],\n",
    "filter_string=f1_score_filter,\n",
    "order_by=[\"metrics.precision_score DESC\"])"
   ]
  }
 ],
 "metadata": {
  "kernelspec": {
   "display_name": "Python 3 (ipykernel)",
   "language": "python",
   "name": "python3"
  },
  "language_info": {
   "codemirror_mode": {
    "name": "ipython",
    "version": 3
   },
   "file_extension": ".py",
   "mimetype": "text/x-python",
   "name": "python",
   "nbconvert_exporter": "python",
   "pygments_lexer": "ipython3",
   "version": "3.11.7"
  }
 },
 "nbformat": 4,
 "nbformat_minor": 5
}
