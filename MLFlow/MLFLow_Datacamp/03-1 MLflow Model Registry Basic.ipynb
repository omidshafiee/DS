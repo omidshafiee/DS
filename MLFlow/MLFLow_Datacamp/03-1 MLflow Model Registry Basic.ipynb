{
 "cells": [
  {
   "cell_type": "markdown",
   "id": "af2c94eb-1587-4dae-b5ed-40e731fba2f2",
   "metadata": {},
   "source": [
    "# Model Regustry"
   ]
  },
  {
   "cell_type": "code",
   "execution_count": 1,
   "id": "1bc32eb5-c011-436c-b329-e4a5b1d55655",
   "metadata": {},
   "outputs": [
    {
     "name": "stdout",
     "output_type": "stream",
     "text": [
      "CPU times: total: 3.16 s\n",
      "Wall time: 3.72 s\n"
     ]
    }
   ],
   "source": [
    "%%time\n",
    "import pandas as pd\n",
    "import mlflow"
   ]
  },
  {
   "cell_type": "markdown",
   "id": "9d1a38d0-dbc6-44fd-8937-60ac274a6a86",
   "metadata": {},
   "source": [
    "## using MLflow client module"
   ]
  },
  {
   "cell_type": "code",
   "execution_count": 2,
   "id": "1fa50aa3-b58a-47d5-83de-d8e1575942a6",
   "metadata": {},
   "outputs": [],
   "source": [
    "\n",
    "from mlflow import MlflowClient"
   ]
  },
  {
   "cell_type": "code",
   "execution_count": 3,
   "id": "14e1b19c-d605-4b67-995b-9d3debdc594c",
   "metadata": {},
   "outputs": [],
   "source": [
    "client = MlflowClient()"
   ]
  },
  {
   "cell_type": "code",
   "execution_count": 4,
   "id": "d6c6ceb5-3829-4fa5-84a3-483c07f25f2e",
   "metadata": {},
   "outputs": [
    {
     "data": {
      "text/plain": [
       "<mlflow.tracking.client.MlflowClient at 0x23074189990>"
      ]
     },
     "execution_count": 4,
     "metadata": {},
     "output_type": "execute_result"
    }
   ],
   "source": [
    "client"
   ]
  },
  {
   "cell_type": "markdown",
   "id": "05bd5dda-f45b-401c-a80b-c064095a6dcb",
   "metadata": {},
   "source": [
    "### Create a  new Registry model"
   ]
  },
  {
   "cell_type": "code",
   "execution_count": 5,
   "id": "f1c1b1ce-89d8-46bc-827b-f2f2047902db",
   "metadata": {},
   "outputs": [
    {
     "data": {
      "text/plain": [
       "<RegisteredModel: aliases={}, creation_timestamp=1723196759779, description=None, last_updated_timestamp=1723196759779, latest_versions=[], name='Reg Model 01', tags={}>"
      ]
     },
     "execution_count": 5,
     "metadata": {},
     "output_type": "execute_result"
    }
   ],
   "source": [
    "# Create a new empty model\n",
    "client.create_registered_model(name='Reg Model 01')"
   ]
  },
  {
   "cell_type": "code",
   "execution_count": 9,
   "id": "aac719ac-e851-4881-bbf1-aea8b3cf4e8c",
   "metadata": {},
   "outputs": [],
   "source": [
    "# client.search_registered_models(filter_string='name LIKE \"reg%\" ')\n",
    "# client.search_registered_models()"
   ]
  },
  {
   "cell_type": "markdown",
   "id": "f1af29e9-293c-4f84-83c1-fb7dbe1563e9",
   "metadata": {},
   "source": [
    "## Search Registered Models"
   ]
  },
  {
   "cell_type": "code",
   "execution_count": 6,
   "id": "36ab1fde-d943-4757-b247-69ba0144f2a1",
   "metadata": {},
   "outputs": [],
   "source": [
    "insurance_filter_string = \"name LIKE 'Insurance%'\""
   ]
  },
  {
   "cell_type": "code",
   "execution_count": 16,
   "id": "bdaf9b85-caae-4ed6-bc4f-7b5e24b9035f",
   "metadata": {},
   "outputs": [],
   "source": [
    "import pprint"
   ]
  },
  {
   "cell_type": "code",
   "execution_count": 21,
   "id": "790d35d0-7538-420b-b70b-675b4ce64f44",
   "metadata": {},
   "outputs": [
    {
     "data": {
      "text/plain": [
       "\"[<RegisteredModel: aliases={}, creation_timestamp=1723196525571, description=None, last_updated_timestamp=1723196620448, latest_versions=[<ModelVersion: aliases=[], creation_timestamp=1723196620448, current_stage='None', description=None, last_updated_timestamp=1723196620448, name='Insurance', run_id='2c3aa77ce41445d5ad2500b98cb69d7e', run_link=None, source='file:///D:/Prg/DS/MLFlow/MLFLow_Datacamp/mlruns/0/2c3aa77ce41445d5ad2500b98cb69d7e/artifacts/model_2023', status='READY', status_message=None, tags={}, user_id=None, version=2>], name='Insurance', tags={}>]\""
      ]
     },
     "execution_count": 21,
     "metadata": {},
     "output_type": "execute_result"
    }
   ],
   "source": [
    "pprint.pformat(client.search_registered_models(filter_string=insurance_filter_string))\n",
    "# print(client.search_registered_models(filter_string=insurance_filter_string))\n"
   ]
  },
  {
   "cell_type": "code",
   "execution_count": 22,
   "id": "a7e42605-9551-414a-836e-206d69d3a649",
   "metadata": {},
   "outputs": [
    {
     "name": "stdout",
     "output_type": "stream",
     "text": [
      "[<RegisteredModel: aliases={}, creation_timestamp=1723196759779, description=None, last_updated_timestamp=1723196759779, latest_versions=[], name='Reg Model 01', tags={}>]\n"
     ]
    }
   ],
   "source": [
    "# Not Insurance filter string\n",
    "not_insurance_filter_string = \"name != 'Insurance'\"\n",
    "\n",
    "# Search for models that are not Insurance\n",
    "print(client.search_registered_models(filter_string=not_insurance_filter_string))"
   ]
  },
  {
   "cell_type": "code",
   "execution_count": null,
   "id": "dc2f49de-fc3a-422c-a12d-73b02539dbe7",
   "metadata": {},
   "outputs": [],
   "source": []
  }
 ],
 "metadata": {
  "kernelspec": {
   "display_name": "Python 3 (ipykernel)",
   "language": "python",
   "name": "python3"
  },
  "language_info": {
   "codemirror_mode": {
    "name": "ipython",
    "version": 3
   },
   "file_extension": ".py",
   "mimetype": "text/x-python",
   "name": "python",
   "nbconvert_exporter": "python",
   "pygments_lexer": "ipython3",
   "version": "3.11.7"
  }
 },
 "nbformat": 4,
 "nbformat_minor": 5
}
