{
 "cells": [
  {
   "cell_type": "code",
   "execution_count": 1,
   "id": "5edb7e48-353d-4727-a204-ae75121e1b1a",
   "metadata": {},
   "outputs": [],
   "source": [
    "import pandas as pd\n",
    "import mlflow\n",
    "\n",
    "from sklearn.model_selection import train_test_split\n",
    "\n",
    "import json\n",
    "import requests"
   ]
  },
  {
   "cell_type": "code",
   "execution_count": 2,
   "id": "13e8e791-07d7-45a6-9429-d3dafacdf7b8",
   "metadata": {},
   "outputs": [],
   "source": [
    "# Preprocessing \n",
    "df = pd.read_csv(\"datasets/insurance.csv\")\n",
    "df = df.drop(columns=['region'])\n",
    "df['sex']=df['sex'].map({'female':0,'male':1}).astype(int)\n",
    "df['smoker']=df['smoker'].map({'yes':0,'no':1}).astype(int)"
   ]
  },
  {
   "cell_type": "code",
   "execution_count": 3,
   "id": "55b384a1-3bff-4fa6-9ced-a6b3ba47228a",
   "metadata": {},
   "outputs": [],
   "source": [
    "# Training Data\n",
    "X = df[[\"age\", \"bmi\", \"children\", \"smoker\", \"charges\"]]\n",
    "y = df[[\"sex\"]]\n",
    "X_train, X_test, y_train, y_test = train_test_split(X, y, test_size=0.25, random_state=42)"
   ]
  },
  {
   "cell_type": "code",
   "execution_count": 50,
   "id": "ca287e17-83d6-42e5-aaec-24bf6eeb9b85",
   "metadata": {},
   "outputs": [
    {
     "data": {
      "text/plain": [
       "index           0.000\n",
       "age            19.000\n",
       "sex             0.000\n",
       "bmi            27.900\n",
       "children        0.000\n",
       "smoker          0.000\n",
       "charges     16884.924\n",
       "Name: 0, dtype: float64"
      ]
     },
     "execution_count": 50,
     "metadata": {},
     "output_type": "execute_result"
    }
   ],
   "source": [
    "df.iloc[0]"
   ]
  },
  {
   "cell_type": "code",
   "execution_count": 62,
   "id": "9d4c62c0-9070-4030-bf0a-afa62df65a08",
   "metadata": {},
   "outputs": [
    {
     "data": {
      "text/plain": [
       "{'dataframe_split': {'columns': ['age',\n",
       "   'bmi',\n",
       "   'children',\n",
       "   'smoker',\n",
       "   'charges'],\n",
       "  'data': [[45, 25.175, 2, 1, 9095.06825]]}}"
      ]
     },
     "execution_count": 62,
     "metadata": {},
     "output_type": "execute_result"
    }
   ],
   "source": [
    "d1 = {'dataframe_split': X_test.iloc[0:1].to_dict(orient='split', index=False)}\n",
    "# d1 = {'dataframe_split': X_test.iloc[0].to_dict(orient='split')}\n",
    "d1"
   ]
  },
  {
   "cell_type": "code",
   "execution_count": 55,
   "id": "03d8ec4f-ac84-4480-8e96-21f1a4228c75",
   "metadata": {},
   "outputs": [
    {
     "data": {
      "text/plain": [
       "'{\"dataframe_split\": {\"age\": 45.0, \"bmi\": 25.175, \"children\": 2.0, \"smoker\": 1.0, \"charges\": 9095.06825}}'"
      ]
     },
     "execution_count": 55,
     "metadata": {},
     "output_type": "execute_result"
    }
   ],
   "source": [
    "dt = json.dumps(d1)\n",
    "dt"
   ]
  },
  {
   "cell_type": "code",
   "execution_count": 56,
   "id": "9d257a3b-70b1-42fc-8c7f-98687e67a643",
   "metadata": {},
   "outputs": [],
   "source": [
    "response = requests.post(url='http://127.0.0.1:8080/invocations', data=dt, headers={\"Content-Type\": \"application/json\"})"
   ]
  },
  {
   "cell_type": "code",
   "execution_count": 57,
   "id": "9d414166-7fc0-410c-b9a0-7ee0a8c5c549",
   "metadata": {},
   "outputs": [
    {
     "name": "stdout",
     "output_type": "stream",
     "text": [
      "{'error_code': 'BAD_REQUEST', 'message': \"Invalid input. Dataframe split format must have 'data' field and optionally 'columns' and 'index' fields. Got {'age', 'smoker', 'bmi', 'children', 'charges'}.'\"}\n"
     ]
    }
   ],
   "source": [
    "print(response.json())"
   ]
  },
  {
   "cell_type": "code",
   "execution_count": 74,
   "id": "71cceca5-ac86-4887-8bb9-1ad2e2736561",
   "metadata": {},
   "outputs": [
    {
     "name": "stdout",
     "output_type": "stream",
     "text": [
      "{'predictions': [0]}\n"
     ]
    }
   ],
   "source": [
    "d2 = {'dataframe_records':X_test.iloc[5:6].to_dict(orient='records')}\n",
    "# d2 = {'dataframe_records':X_test.iloc[1].to_dict()}\n",
    "\n",
    "dt = json.dumps(d2)\n",
    "response = requests.post(url='http://127.0.0.1:8080/invocations', data=dt, headers={\"Content-Type\": \"application/json\"})\n",
    "print(response.json())"
   ]
  },
  {
   "cell_type": "markdown",
   "id": "7e60af8c-0629-4124-8ce9-aa53dc816384",
   "metadata": {},
   "source": [
    "## CSV"
   ]
  },
  {
   "cell_type": "code",
   "execution_count": 32,
   "id": "2585cfeb-ce0e-422d-835a-265c8ac8e10e",
   "metadata": {},
   "outputs": [
    {
     "data": {
      "text/plain": [
       "age           45.00000\n",
       "bmi           25.17500\n",
       "children       2.00000\n",
       "smoker         1.00000\n",
       "charges     9095.06825\n",
       "Name: 764, dtype: float64"
      ]
     },
     "execution_count": 32,
     "metadata": {},
     "output_type": "execute_result"
    }
   ],
   "source": [
    "# c1 = \n",
    "X_test.iloc[0]"
   ]
  },
  {
   "cell_type": "code",
   "execution_count": 38,
   "id": "580d3612-7970-4b8d-a599-a8b5a1fef677",
   "metadata": {},
   "outputs": [
    {
     "data": {
      "text/plain": [
       "['45,25.175,2,1,9095.06825\\r']"
      ]
     },
     "execution_count": 38,
     "metadata": {},
     "output_type": "execute_result"
    }
   ],
   "source": [
    "# X_test.iloc[0].to_csv(header=False, index=False,)\n",
    "X_test.iloc[0:1].to_csv(header=False, index=False).strip('\\n').split('\\n')"
   ]
  },
  {
   "cell_type": "code",
   "execution_count": 57,
   "id": "ad61f44c-21a9-43ff-98b9-9c239e1d5907",
   "metadata": {},
   "outputs": [
    {
     "data": {
      "text/plain": [
       "('36.0', '30.02', '0.0', '1.0', '5272.1758')"
      ]
     },
     "execution_count": 57,
     "metadata": {},
     "output_type": "execute_result"
    }
   ],
   "source": [
    "c1 = tuple(X_test.iloc[1].astype(str).values.flatten())\n",
    "c1"
   ]
  },
  {
   "cell_type": "code",
   "execution_count": 58,
   "id": "5403f965-6cbf-4512-951e-d034b6bd4f8c",
   "metadata": {},
   "outputs": [
    {
     "data": {
      "text/plain": [
       "tuple"
      ]
     },
     "execution_count": 58,
     "metadata": {},
     "output_type": "execute_result"
    }
   ],
   "source": [
    "type(c1)"
   ]
  },
  {
   "cell_type": "code",
   "execution_count": 38,
   "id": "aaee5c3f-afa5-4a6d-b0f5-3ab1c0aa2c66",
   "metadata": {},
   "outputs": [],
   "source": [
    "# response = requests.post(url='http://127.0.0.1:8080/invocations', data=c1, headers={\"Content-Type\": \"application/csv\"})"
   ]
  },
  {
   "cell_type": "code",
   "execution_count": null,
   "id": "8c75b55b-d564-4767-b54a-a301413194c0",
   "metadata": {},
   "outputs": [],
   "source": []
  },
  {
   "cell_type": "markdown",
   "id": "aea10256-2a45-4396-a1a5-697cc0b70e89",
   "metadata": {},
   "source": [
    "## Run Service"
   ]
  },
  {
   "cell_type": "code",
   "execution_count": 6,
   "id": "9422da2f-195c-4f6c-8e9b-22b1d3006970",
   "metadata": {},
   "outputs": [],
   "source": [
    "run_id = 'aa1a55e6db784f8e897de8aba06a47f9'"
   ]
  },
  {
   "cell_type": "code",
   "execution_count": 8,
   "id": "592c8935-c845-4f57-b82f-cdf8a6c01bc5",
   "metadata": {},
   "outputs": [
    {
     "data": {
      "text/plain": [
       "'runs:/aa1a55e6db784f8e897de8aba06a47f9/model'"
      ]
     },
     "execution_count": 8,
     "metadata": {},
     "output_type": "execute_result"
    }
   ],
   "source": [
    "local_serve_uri = ''\n",
    "\n",
    "run_id_serve_uri = f\"runs:/{run_id}/model\"\n",
    "run_id_serve_uri\n"
   ]
  },
  {
   "cell_type": "markdown",
   "id": "9be254b6-814b-41d9-9ef9-2149174dc89b",
   "metadata": {},
   "source": [
    "run in bash :"
   ]
  },
  {
   "cell_type": "markdown",
   "id": "a7aea6ce-bc82-4d9e-a68e-0620e4e516ed",
   "metadata": {},
   "source": [
    "mlflow models serve -m runs:/aa1a55e6db784f8e897de8aba06a47f9/model"
   ]
  },
  {
   "cell_type": "markdown",
   "id": "b874e9ef-7f69-456c-9b35-a2e269570a32",
   "metadata": {},
   "source": [
    "mlflow models serve -m file:///D:/Prg/DS/MLFlow/MLFLow_Datacamp/mlruns/0/aa1a55e6db784f8e897de8aba06a47f9/artifacts/model -p 8080 --no-conda"
   ]
  },
  {
   "cell_type": "code",
   "execution_count": null,
   "id": "b2a50f60-364f-4148-9fa0-f37c97298aa9",
   "metadata": {},
   "outputs": [],
   "source": [
    "mlflow models serve -m file:///D:/Prg/DS/MLFlow/MLFLow_Datacamp/mlruns/0/aa1a55e6db784f8e897de8aba06a47f9/artifacts/model \\\n",
    "-p 8080 --no-conda --enable-mlserver"
   ]
  },
  {
   "cell_type": "code",
   "execution_count": null,
   "id": "114fbb2e-b412-432f-9195-37feefda858b",
   "metadata": {},
   "outputs": [],
   "source": []
  },
  {
   "cell_type": "code",
   "execution_count": null,
   "id": "8b82dc0e-b0fd-45d8-b5d0-c02fa2e5d473",
   "metadata": {},
   "outputs": [],
   "source": []
  },
  {
   "cell_type": "code",
   "execution_count": null,
   "id": "a317d0e3-18e5-4a52-9cdb-3c3f37c997a0",
   "metadata": {},
   "outputs": [],
   "source": []
  },
  {
   "cell_type": "code",
   "execution_count": 47,
   "id": "7e03148d-b38f-415f-9939-e158eff92ef3",
   "metadata": {},
   "outputs": [
    {
     "name": "stdout",
     "output_type": "stream",
     "text": [
      "This predictor only supports the following content types: Types: ['text/csv', 'application/json']. Got 'application/x-www-form-urlencoded'.\n"
     ]
    },
    {
     "name": "stderr",
     "output_type": "stream",
     "text": [
      "  % Total    % Received % Xferd  Average Speed   Time    Time     Time  Current\n",
      "                                 Dload  Upload   Total   Spent    Left  Speed\n",
      "\n",
      "  0     0    0     0    0     0      0      0 --:--:-- --:--:-- --:--:--     0\n",
      "100   166  100   139  100    27  32116   6238 --:--:-- --:--:-- --:--:-- 41500\n",
      "curl: (3) bad range in URL position 2:\n",
      "[age,\n",
      " ^\n"
     ]
    }
   ],
   "source": [
    "!curl http://127.0.0.1:5000/invocations -H 'Content-Type:application/json' \\\n",
    "-d '{\"dataframe_split\":{\"columns\": [\"age\", \"bmi\", \"children\", \"smoker\", \"charges\"],\\\n",
    " \"data\": [[19, 27.9, 0, 0, 16884.924]]}}'"
   ]
  },
  {
   "cell_type": "code",
   "execution_count": 50,
   "id": "9eb47cd4-64ba-4d95-811f-f8efab7c41b9",
   "metadata": {},
   "outputs": [
    {
     "name": "stderr",
     "output_type": "stream",
     "text": [
      "  % Total    % Received % Xferd  Average Speed   Time    Time     Time  Current\n",
      "                                 Dload  Upload   Total   Spent    Left  Speed\n",
      "\n",
      "  0     0    0     0    0     0      0      0 --:--:-- --:--:-- --:--:--     0\n",
      "  0     0    0     0    0     0      0      0 --:--:--  0:00:01 --:--:--     0\n",
      "  0     0    0     0    0     0      0      0 --:--:--  0:00:02 --:--:--     0\n",
      "curl: (7) Failed to connect to 127.0.0.1 port 50000 after 2025 ms: Couldn't connect to server\n",
      "  % Total    % Received % Xferd  Average Speed   Time    Time     Time  Current\n",
      "                                 Dload  Upload   Total   Spent    Left  Speed\n",
      "\n",
      "  0     0    0     0    0     0      0      0 --:--:-- --:--:-- --:--:--     0\n",
      "  0     0    0     0    0     0      0      0 --:--:--  0:00:01 --:--:--     0\n",
      "  0     0    0     0    0     0      0      0 --:--:--  0:00:01 --:--:--     0curl: (6) Could not resolve host: application\n",
      "curl: (3) bad range in URL position 2:\n",
      "[age,\n",
      " ^\n"
     ]
    }
   ],
   "source": [
    "!curl -X POST \\\n",
    "  http://127.0.0.1:50000/invocations \\\n",
    "  -H 'Content-Type: application/json' \\\n",
    "  -d '{\"dataframe_split\":{\"columns\": [\"age\", \"bmi\", \"children\", \"smoker\", \"charges\"],\\\n",
    " \"data\": [[19, 27.9, 0, 0, 16884.924]]}}'"
   ]
  },
  {
   "cell_type": "code",
   "execution_count": null,
   "id": "8cfb67c5-d222-4dc4-b6b9-74d76e9a921a",
   "metadata": {},
   "outputs": [],
   "source": []
  }
 ],
 "metadata": {
  "kernelspec": {
   "display_name": "Python 3 (ipykernel)",
   "language": "python",
   "name": "python3"
  },
  "language_info": {
   "codemirror_mode": {
    "name": "ipython",
    "version": 3
   },
   "file_extension": ".py",
   "mimetype": "text/x-python",
   "name": "python",
   "nbconvert_exporter": "python",
   "pygments_lexer": "ipython3",
   "version": "3.11.7"
  }
 },
 "nbformat": 4,
 "nbformat_minor": 5
}
