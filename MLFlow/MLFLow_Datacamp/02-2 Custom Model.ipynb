{
 "cells": [
  {
   "cell_type": "code",
   "execution_count": 5,
   "id": "f2805613-afc4-4eb2-93b6-4d6df93bc4cb",
   "metadata": {},
   "outputs": [],
   "source": [
    "import mlflow\n",
    "import mlflow.sklearn\n",
    "import pandas as pd\n",
    "\n",
    "from sklearn.linear_model import LogisticRegression\n",
    "from sklearn.model_selection import train_test_split"
   ]
  },
  {
   "cell_type": "code",
   "execution_count": 2,
   "id": "056140d9-41f3-46a3-a10e-428e3a8a4c50",
   "metadata": {},
   "outputs": [],
   "source": [
    "# Preprocessing \n",
    "df = pd.read_csv(\"datasets/insurance.csv\")\n",
    "df = df.drop(columns=['region'])\n",
    "df['sex']=df['sex'].map({'female':0,'male':1}).astype(int)\n",
    "df['smoker']=df['smoker'].map({'yes':0,'no':1}).astype(int)"
   ]
  },
  {
   "cell_type": "code",
   "execution_count": 3,
   "id": "0b2352f7-a50e-4325-8131-e4eb1467d82d",
   "metadata": {},
   "outputs": [],
   "source": [
    "# Training Data\n",
    "X = df[[\"age\", \"bmi\", \"children\", \"smoker\", \"charges\"]]\n",
    "y = df[[\"sex\"]]\n",
    "X_train, X_test, y_train, y_test = train_test_split(X, y, test_size=0.25, random_state=42)"
   ]
  },
  {
   "cell_type": "code",
   "execution_count": 6,
   "id": "9f3e3a27-b4db-4324-b89d-13349fa87bd7",
   "metadata": {},
   "outputs": [
    {
     "name": "stderr",
     "output_type": "stream",
     "text": [
      "C:\\ProgramData\\anaconda3\\Lib\\site-packages\\sklearn\\utils\\validation.py:1300: DataConversionWarning: A column-vector y was passed when a 1d array was expected. Please change the shape of y to (n_samples, ), for example using ravel().\n",
      "  y = column_or_1d(y, warn=True)\n",
      "C:\\ProgramData\\anaconda3\\Lib\\site-packages\\sklearn\\linear_model\\_logistic.py:469: ConvergenceWarning: lbfgs failed to converge (status=1):\n",
      "STOP: TOTAL NO. of ITERATIONS REACHED LIMIT.\n",
      "\n",
      "Increase the number of iterations (max_iter) or scale the data as shown in:\n",
      "    https://scikit-learn.org/stable/modules/preprocessing.html\n",
      "Please also refer to the documentation for alternative solver options:\n",
      "    https://scikit-learn.org/stable/modules/linear_model.html#logistic-regression\n",
      "  n_iter_i = _check_optimize_result(\n",
      "C:\\ProgramData\\anaconda3\\Lib\\site-packages\\_distutils_hack\\__init__.py:33: UserWarning: Setuptools is replacing distutils.\n",
      "  warnings.warn(\"Setuptools is replacing distutils.\")\n"
     ]
    }
   ],
   "source": [
    "# Save the trained model locally first\n",
    "lr_model = LogisticRegression().fit(X_train, y_train)\n",
    "lr_model_path = \"lr_model\"\n",
    "\n",
    "mlflow.sklearn.save_model(sk_model=lr_model, path=lr_model_path)"
   ]
  },
  {
   "cell_type": "code",
   "execution_count": 7,
   "id": "8ca5f7ed-3da9-4c2e-8c04-2b26c4e2f7a8",
   "metadata": {},
   "outputs": [],
   "source": [
    "# Create Python Class\n",
    "class CustomPredict(mlflow.pyfunc.PythonModel):\n",
    "    \n",
    "    # Method for loading model\n",
    "    def load_context(self, context):\n",
    "        self.model = mlflow.sklearn.load_model(\"./lr_model/\")\n",
    "        \n",
    "    # Method for custom inference    \n",
    "    def predict(self, context, model_input):\n",
    "        predictions = self.model.predict(model_input)\n",
    "    \n",
    "        decoded_predictions = []  \n",
    "        for prediction in predictions:\n",
    "            if prediction == 0:\n",
    "                decoded_predictions.append(\"female\")\n",
    "            else:\n",
    "                decoded_predictions.append(\"male\")\n",
    "        \n",
    "        return decoded_predictions"
   ]
  },
  {
   "cell_type": "code",
   "execution_count": 10,
   "id": "a3eaf825-0eba-4967-98c5-5aa6b1165c89",
   "metadata": {},
   "outputs": [
    {
     "data": {
      "application/vnd.jupyter.widget-view+json": {
       "model_id": "ccbfbd08eab247cea4a5740f5d4f3cea",
       "version_major": 2,
       "version_minor": 0
      },
      "text/plain": [
       "Downloading artifacts:   0%|          | 0/5 [00:00<?, ?it/s]"
      ]
     },
     "metadata": {},
     "output_type": "display_data"
    },
    {
     "name": "stderr",
     "output_type": "stream",
     "text": [
      "2024/08/07 14:29:33 WARNING mlflow.models.model: Input example should be provided to infer model signature if the model signature is not provided when logging the model.\n"
     ]
    },
    {
     "data": {
      "text/plain": [
       "<mlflow.models.model.ModelInfo at 0x22d79a38a90>"
      ]
     },
     "execution_count": 10,
     "metadata": {},
     "output_type": "execute_result"
    }
   ],
   "source": [
    "# Log the pyfunc model \n",
    "mlflow.pyfunc.log_model(\n",
    "\tartifact_path=\"lr_pyfunc\", \n",
    "  \t# Set model to use CustomPredict Class\n",
    "\tpython_model=CustomPredict(), \n",
    "\tartifacts={\"lr_model\": \"lr_model\"}\n",
    ")"
   ]
  },
  {
   "cell_type": "code",
   "execution_count": 20,
   "id": "a7db56d7-9847-4bc7-86a8-b752ef638a22",
   "metadata": {},
   "outputs": [],
   "source": [
    "mlflow.pyfunc.save_model(path='custome_model', python_model=CustomPredict())"
   ]
  },
  {
   "cell_type": "code",
   "execution_count": 21,
   "id": "ad9f6f4c-750c-4271-8251-f1d6a2c90150",
   "metadata": {},
   "outputs": [],
   "source": [
    "run = mlflow.last_active_run()\n",
    "run_id = run.info.run_id\n",
    "\n",
    "# Load the model in python_function format\n",
    "loaded_model = mlflow.pyfunc.load_model(f\"runs:/{run_id}/lr_pyfunc\")"
   ]
  },
  {
   "cell_type": "code",
   "execution_count": 22,
   "id": "5d1f22c1-6c0c-4808-96e1-49b7accf68ca",
   "metadata": {},
   "outputs": [
    {
     "data": {
      "text/plain": [
       "mlflow.pyfunc.loaded_model:\n",
       "  artifact_path: lr_pyfunc\n",
       "  flavor: mlflow.pyfunc.model\n",
       "  run_id: f335d0c15bd34348822391c9652626a2"
      ]
     },
     "execution_count": 22,
     "metadata": {},
     "output_type": "execute_result"
    }
   ],
   "source": [
    "loaded_model"
   ]
  },
  {
   "cell_type": "code",
   "execution_count": 23,
   "id": "08e2fdb7-0fa9-4606-a95a-2fd4bd324e5b",
   "metadata": {},
   "outputs": [],
   "source": [
    "# loaded_model.predict(X_test.iloc[10])"
   ]
  },
  {
   "cell_type": "code",
   "execution_count": 8,
   "id": "dffe353a-43bb-4f74-b842-9409a87fa132",
   "metadata": {},
   "outputs": [],
   "source": [
    "my_pred = CustomPredict()"
   ]
  },
  {
   "cell_type": "code",
   "execution_count": 30,
   "id": "549ce570-45e3-43eb-a7a8-c089fb3dfb85",
   "metadata": {},
   "outputs": [],
   "source": [
    "# my_pred.predict()"
   ]
  },
  {
   "cell_type": "code",
   "execution_count": null,
   "id": "1c2fb2cd-5a2c-48cc-b8d5-14e93d88965e",
   "metadata": {},
   "outputs": [],
   "source": []
  }
 ],
 "metadata": {
  "kernelspec": {
   "display_name": "Python 3 (ipykernel)",
   "language": "python",
   "name": "python3"
  },
  "language_info": {
   "codemirror_mode": {
    "name": "ipython",
    "version": 3
   },
   "file_extension": ".py",
   "mimetype": "text/x-python",
   "name": "python",
   "nbconvert_exporter": "python",
   "pygments_lexer": "ipython3",
   "version": "3.11.7"
  }
 },
 "nbformat": 4,
 "nbformat_minor": 5
}
