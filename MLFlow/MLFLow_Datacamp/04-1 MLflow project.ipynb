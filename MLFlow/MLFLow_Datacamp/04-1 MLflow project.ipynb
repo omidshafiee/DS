{
 "cells": [
  {
   "cell_type": "code",
   "execution_count": 1,
   "id": "6f04e919-aa2c-4318-a97b-0cf98fb2f37f",
   "metadata": {},
   "outputs": [],
   "source": [
    "import pandas as pd\n",
    "import sklearn\n",
    "from sklearn.linear_model import LogisticRegression\n",
    "from sklearn.model_selection import train_test_split\n",
    "from mlflow import MlflowClient\n",
    "\n",
    "import mlflow\n",
    "import mlflow.sklearn"
   ]
  },
  {
   "cell_type": "code",
   "execution_count": 3,
   "id": "0722d017-717b-40f6-8fcc-c3c078737185",
   "metadata": {},
   "outputs": [],
   "source": [
    "# Preprocessing \n",
    "df = pd.read_csv(\"datasets/insurance.csv\")\n",
    "df = df.drop(columns=['region'])\n",
    "df['sex']=df['sex'].map({'female':0,'male':1}).astype(int)\n",
    "df['smoker']=df['smoker'].map({'yes':0,'no':1}).astype(int)"
   ]
  },
  {
   "cell_type": "code",
   "execution_count": 11,
   "id": "bbc2cc02-2cf7-4987-a42a-71223b50d56a",
   "metadata": {},
   "outputs": [],
   "source": [
    "# Training Data\n",
    "X = df[[\"age\", \"bmi\", \"children\", \"smoker\", \"charges\"]]\n",
    "y = df[\"sex\"].values\n",
    "X_train, X_test, y_train, y_test = train_test_split(X, y, test_size=0.25, random_state=42)"
   ]
  },
  {
   "cell_type": "code",
   "execution_count": 12,
   "id": "b3a3ea83-4884-49d2-9dec-d143ec247ac8",
   "metadata": {},
   "outputs": [
    {
     "data": {
      "text/plain": [
       "array([0, 1, 1, ..., 0, 0, 0])"
      ]
     },
     "execution_count": 12,
     "metadata": {},
     "output_type": "execute_result"
    }
   ],
   "source": [
    "y"
   ]
  },
  {
   "cell_type": "code",
   "execution_count": 13,
   "id": "fb7a991e-ec0d-46e4-8618-118b658149dd",
   "metadata": {},
   "outputs": [],
   "source": [
    "# Set autolog\n",
    "mlflow.sklearn.autolog()"
   ]
  },
  {
   "cell_type": "code",
   "execution_count": null,
   "id": "a6030bf1-3b13-40be-a1ec-78e4263c9dfd",
   "metadata": {},
   "outputs": [],
   "source": [
    "# Predict Sex of Insurance charges\n",
    "model = LogisticRegression().fit(X_train, y_train)"
   ]
  },
  {
   "cell_type": "code",
   "execution_count": 15,
   "id": "7bc7e161-fe33-4838-8fc0-07916bd8bbec",
   "metadata": {},
   "outputs": [
    {
     "name": "stdout",
     "output_type": "stream",
     "text": [
      "LogisticRegression()\n"
     ]
    }
   ],
   "source": [
    "print(model)"
   ]
  },
  {
   "cell_type": "code",
   "execution_count": null,
   "id": "cbeda686-0e7c-4511-9008-d24c490a57b6",
   "metadata": {},
   "outputs": [],
   "source": []
  }
 ],
 "metadata": {
  "kernelspec": {
   "display_name": "Python 3 (ipykernel)",
   "language": "python",
   "name": "python3"
  },
  "language_info": {
   "codemirror_mode": {
    "name": "ipython",
    "version": 3
   },
   "file_extension": ".py",
   "mimetype": "text/x-python",
   "name": "python",
   "nbconvert_exporter": "python",
   "pygments_lexer": "ipython3",
   "version": "3.11.7"
  }
 },
 "nbformat": 4,
 "nbformat_minor": 5
}
