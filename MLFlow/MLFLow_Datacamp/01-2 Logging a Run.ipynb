{
 "cells": [
  {
   "cell_type": "code",
   "execution_count": 1,
   "id": "69941bc4-fcd0-49a9-99f5-d5670e9e9f0a",
   "metadata": {},
   "outputs": [],
   "source": [
    "import mlflow\n",
    "import mlflow.sklearn\n",
    "import pandas as pd\n",
    "from sklearn.linear_model import LinearRegression\n",
    "from sklearn.model_selection import train_test_split\n",
    "from sklearn.metrics import r2_score"
   ]
  },
  {
   "cell_type": "code",
   "execution_count": 2,
   "id": "bcb012e6-9518-4571-b3af-a8590604c756",
   "metadata": {},
   "outputs": [],
   "source": [
    "# create a fake file\n",
    "f = open(\"train.py\", \"a\")\n",
    "f.write(\"Now the file has more content!\")\n",
    "f.close()\n",
    "    "
   ]
  },
  {
   "cell_type": "code",
   "execution_count": 3,
   "id": "ce2d3842-8521-41db-9421-7ea317ef030e",
   "metadata": {},
   "outputs": [
    {
     "data": {
      "text/html": [
       "<div>\n",
       "<style scoped>\n",
       "    .dataframe tbody tr th:only-of-type {\n",
       "        vertical-align: middle;\n",
       "    }\n",
       "\n",
       "    .dataframe tbody tr th {\n",
       "        vertical-align: top;\n",
       "    }\n",
       "\n",
       "    .dataframe thead th {\n",
       "        text-align: right;\n",
       "    }\n",
       "</style>\n",
       "<table border=\"1\" class=\"dataframe\">\n",
       "  <thead>\n",
       "    <tr style=\"text-align: right;\">\n",
       "      <th></th>\n",
       "      <th>R&amp;D Spend</th>\n",
       "      <th>Administration</th>\n",
       "      <th>Marketing Spend</th>\n",
       "      <th>State</th>\n",
       "      <th>Profit</th>\n",
       "    </tr>\n",
       "  </thead>\n",
       "  <tbody>\n",
       "    <tr>\n",
       "      <th>0</th>\n",
       "      <td>165349.2</td>\n",
       "      <td>136897.80</td>\n",
       "      <td>471784.10</td>\n",
       "      <td>New York</td>\n",
       "      <td>192261.83</td>\n",
       "    </tr>\n",
       "    <tr>\n",
       "      <th>1</th>\n",
       "      <td>162597.7</td>\n",
       "      <td>151377.59</td>\n",
       "      <td>443898.53</td>\n",
       "      <td>California</td>\n",
       "      <td>191792.06</td>\n",
       "    </tr>\n",
       "  </tbody>\n",
       "</table>\n",
       "</div>"
      ],
      "text/plain": [
       "   R&D Spend  Administration  Marketing Spend       State     Profit\n",
       "0   165349.2       136897.80        471784.10    New York  192261.83\n",
       "1   162597.7       151377.59        443898.53  California  191792.06"
      ]
     },
     "execution_count": 3,
     "metadata": {},
     "output_type": "execute_result"
    }
   ],
   "source": [
    "df = pd.read_csv('datasets/50_Startups.csv')\n",
    "df.head(2)"
   ]
  },
  {
   "cell_type": "code",
   "execution_count": 4,
   "id": "d318388b-8fc6-423e-8d09-41d6c64437ed",
   "metadata": {},
   "outputs": [],
   "source": [
    "# set parameters and load training data\n",
    "n_jobs = 10\n",
    "\n",
    "df['State']=df['State'].map({'New York':0,'Florida':1, 'California': 2}).astype(int)"
   ]
  },
  {
   "cell_type": "code",
   "execution_count": 5,
   "id": "4c25a54c-ac07-41cd-8413-d9bfe78cf0d4",
   "metadata": {},
   "outputs": [
    {
     "data": {
      "text/html": [
       "<div>\n",
       "<style scoped>\n",
       "    .dataframe tbody tr th:only-of-type {\n",
       "        vertical-align: middle;\n",
       "    }\n",
       "\n",
       "    .dataframe tbody tr th {\n",
       "        vertical-align: top;\n",
       "    }\n",
       "\n",
       "    .dataframe thead th {\n",
       "        text-align: right;\n",
       "    }\n",
       "</style>\n",
       "<table border=\"1\" class=\"dataframe\">\n",
       "  <thead>\n",
       "    <tr style=\"text-align: right;\">\n",
       "      <th></th>\n",
       "      <th>R&amp;D Spend</th>\n",
       "      <th>Administration</th>\n",
       "      <th>Marketing Spend</th>\n",
       "      <th>State</th>\n",
       "      <th>Profit</th>\n",
       "    </tr>\n",
       "  </thead>\n",
       "  <tbody>\n",
       "    <tr>\n",
       "      <th>0</th>\n",
       "      <td>165349.2</td>\n",
       "      <td>136897.80</td>\n",
       "      <td>471784.10</td>\n",
       "      <td>0</td>\n",
       "      <td>192261.83</td>\n",
       "    </tr>\n",
       "    <tr>\n",
       "      <th>1</th>\n",
       "      <td>162597.7</td>\n",
       "      <td>151377.59</td>\n",
       "      <td>443898.53</td>\n",
       "      <td>2</td>\n",
       "      <td>191792.06</td>\n",
       "    </tr>\n",
       "  </tbody>\n",
       "</table>\n",
       "</div>"
      ],
      "text/plain": [
       "   R&D Spend  Administration  Marketing Spend  State     Profit\n",
       "0   165349.2       136897.80        471784.10      0  192261.83\n",
       "1   162597.7       151377.59        443898.53      2  191792.06"
      ]
     },
     "execution_count": 5,
     "metadata": {},
     "output_type": "execute_result"
    }
   ],
   "source": [
    "df.head(2)"
   ]
  },
  {
   "cell_type": "code",
   "execution_count": 6,
   "id": "07eaba51-8abd-4026-bbf2-06fb81bdcd63",
   "metadata": {},
   "outputs": [],
   "source": [
    "# Training Data\n",
    "X = df[[\"R&D Spend\", \"Administration\", \"Marketing Spend\", \"State\"]]\n",
    "y = df[[\"Profit\"]]\n",
    "\n",
    "\n",
    "X_train, X_test, y_train, y_test = train_test_split(X, y, train_size=0.7,random_state=0)"
   ]
  },
  {
   "cell_type": "code",
   "execution_count": 7,
   "id": "84db610b-40ea-4860-8e74-55fe8ddec5f0",
   "metadata": {},
   "outputs": [
    {
     "name": "stdout",
     "output_type": "stream",
     "text": [
      "CPU times: total: 31.2 ms\n",
      "Wall time: 34.8 ms\n"
     ]
    }
   ],
   "source": [
    "%%time\n",
    "# Prebuild a model here\n",
    "lr = LinearRegression(n_jobs=n_jobs)\n",
    "lr.fit(X_train, y_train)\n",
    "\n",
    "y_pred = lr.predict(X_test)\n",
    "\n",
    "score = lr.score(X, y)"
   ]
  },
  {
   "cell_type": "code",
   "execution_count": 9,
   "id": "a8dbb121-da19-4efb-8304-7682d672badd",
   "metadata": {},
   "outputs": [],
   "source": [
    "# Create the experiment\n",
    "mlflow.create_experiment('50 Startups LR Experiment')\n",
    "mlflow.set_experiment_tag('ScikitLearn', 'LR')"
   ]
  },
  {
   "cell_type": "code",
   "execution_count": 10,
   "id": "19e7a1f3-75fa-4cfc-b9d5-c66c81f0c4b1",
   "metadata": {},
   "outputs": [],
   "source": [
    "# Set the experiment\n",
    "mlflow.set_experiment('50 Startups LR Experiment')\n",
    "\n",
    "# Start a run\n",
    "run = mlflow.start_run()"
   ]
  },
  {
   "cell_type": "code",
   "execution_count": 11,
   "id": "2ea99563-392e-4ceb-99cd-affb1d1bf98f",
   "metadata": {},
   "outputs": [
    {
     "data": {
      "text/plain": [
       "<RunInfo: artifact_uri='file:///D:/Prg/DS/MLFlow/MLFLow_Datacamp/mlruns/681201772556970240/4fe5516c80a340428b298b7c69ec0d51/artifacts', end_time=None, experiment_id='681201772556970240', lifecycle_stage='active', run_id='4fe5516c80a340428b298b7c69ec0d51', run_name='honorable-vole-303', run_uuid='4fe5516c80a340428b298b7c69ec0d51', start_time=1723014647935, status='RUNNING', user_id='Mehdi.Omidshafiee'>"
      ]
     },
     "execution_count": 11,
     "metadata": {},
     "output_type": "execute_result"
    }
   ],
   "source": [
    "run.info"
   ]
  },
  {
   "cell_type": "code",
   "execution_count": 12,
   "id": "c5968ef6-de8e-435a-b9a5-6a6f5e53a48c",
   "metadata": {},
   "outputs": [],
   "source": [
    "# Log a metric\n",
    "# mlflow.log_metric('score', score)\n",
    "mlflow.log_metrics({'score': score,\n",
    "                    'r2score':r2_score(y_test, y_pred)})\n",
    "\n",
    "# Log a parameter\n",
    "mlflow.log_param('n_jobs', n_jobs)\n",
    "\n",
    "# Log an artifact\n",
    "mlflow.log_artifact('train.py')\n",
    "\n"
   ]
  },
  {
   "cell_type": "code",
   "execution_count": 14,
   "id": "43d855ac-18aa-4fc2-ba33-d63c9125db46",
   "metadata": {},
   "outputs": [
    {
     "data": {
      "text/plain": [
       "<RunData: metrics={}, params={}, tags={'mlflow.runName': 'honorable-vole-303',\n",
       " 'mlflow.source.name': 'C:\\\\ProgramData\\\\anaconda3\\\\Lib\\\\site-packages\\\\ipykernel_launcher.py',\n",
       " 'mlflow.source.type': 'LOCAL',\n",
       " 'mlflow.user': 'Mehdi.Omidshafiee'}>"
      ]
     },
     "execution_count": 14,
     "metadata": {},
     "output_type": "execute_result"
    }
   ],
   "source": [
    "run.data"
   ]
  },
  {
   "cell_type": "code",
   "execution_count": 15,
   "id": "fb731d28-6b75-4d83-8125-eccbed53e7e6",
   "metadata": {},
   "outputs": [],
   "source": [
    "# mlflow.end_run()"
   ]
  },
  {
   "cell_type": "markdown",
   "id": "d927a55e-bdbc-4940-ae81-849551720890",
   "metadata": {},
   "source": [
    "## Search Runs"
   ]
  },
  {
   "cell_type": "code",
   "execution_count": 46,
   "id": "2f9ae493-ba40-4d00-a46e-f547c57d9071",
   "metadata": {},
   "outputs": [
    {
     "data": {
      "text/plain": [
       "[<Experiment: artifact_location='file:///D:/Prg/DS/MLFlow/MLFLow_Datacamp/mlruns/681201772556970240', creation_time=1723014645339, experiment_id='681201772556970240', last_update_time=1723014645339, lifecycle_stage='active', name='50 Startups LR Experiment', tags={}>]"
      ]
     },
     "execution_count": 46,
     "metadata": {},
     "output_type": "execute_result"
    }
   ],
   "source": [
    "mlflow.search_experiments(filter_string=\"name LIKE '50%' \")"
   ]
  },
  {
   "cell_type": "code",
   "execution_count": 35,
   "id": "71ae27b9-1be0-4a10-9983-39f961d6a7b6",
   "metadata": {},
   "outputs": [
    {
     "data": {
      "text/html": [
       "<div>\n",
       "<style scoped>\n",
       "    .dataframe tbody tr th:only-of-type {\n",
       "        vertical-align: middle;\n",
       "    }\n",
       "\n",
       "    .dataframe tbody tr th {\n",
       "        vertical-align: top;\n",
       "    }\n",
       "\n",
       "    .dataframe thead th {\n",
       "        text-align: right;\n",
       "    }\n",
       "</style>\n",
       "<table border=\"1\" class=\"dataframe\">\n",
       "  <thead>\n",
       "    <tr style=\"text-align: right;\">\n",
       "      <th></th>\n",
       "      <th>run_id</th>\n",
       "      <th>experiment_id</th>\n",
       "      <th>status</th>\n",
       "      <th>artifact_uri</th>\n",
       "      <th>start_time</th>\n",
       "      <th>end_time</th>\n",
       "      <th>metrics.score</th>\n",
       "      <th>metrics.r2score</th>\n",
       "      <th>params.n_jobs</th>\n",
       "      <th>tags.mlflow.user</th>\n",
       "      <th>tags.mlflow.runName</th>\n",
       "      <th>tags.mlflow.source.type</th>\n",
       "      <th>tags.mlflow.source.name</th>\n",
       "    </tr>\n",
       "  </thead>\n",
       "  <tbody>\n",
       "    <tr>\n",
       "      <th>0</th>\n",
       "      <td>4fe5516c80a340428b298b7c69ec0d51</td>\n",
       "      <td>681201772556970240</td>\n",
       "      <td>RUNNING</td>\n",
       "      <td>file:///D:/Prg/DS/MLFlow/MLFLow_Datacamp/mlrun...</td>\n",
       "      <td>2024-08-07 07:10:47.935000+00:00</td>\n",
       "      <td>None</td>\n",
       "      <td>0.94886</td>\n",
       "      <td>0.935514</td>\n",
       "      <td>10</td>\n",
       "      <td>Mehdi.Omidshafiee</td>\n",
       "      <td>honorable-vole-303</td>\n",
       "      <td>LOCAL</td>\n",
       "      <td>C:\\ProgramData\\anaconda3\\Lib\\site-packages\\ipy...</td>\n",
       "    </tr>\n",
       "  </tbody>\n",
       "</table>\n",
       "</div>"
      ],
      "text/plain": [
       "                             run_id       experiment_id   status  \\\n",
       "0  4fe5516c80a340428b298b7c69ec0d51  681201772556970240  RUNNING   \n",
       "\n",
       "                                        artifact_uri  \\\n",
       "0  file:///D:/Prg/DS/MLFlow/MLFLow_Datacamp/mlrun...   \n",
       "\n",
       "                        start_time end_time  metrics.score  metrics.r2score  \\\n",
       "0 2024-08-07 07:10:47.935000+00:00     None        0.94886         0.935514   \n",
       "\n",
       "  params.n_jobs   tags.mlflow.user tags.mlflow.runName  \\\n",
       "0            10  Mehdi.Omidshafiee  honorable-vole-303   \n",
       "\n",
       "  tags.mlflow.source.type                            tags.mlflow.source.name  \n",
       "0                   LOCAL  C:\\ProgramData\\anaconda3\\Lib\\site-packages\\ipy...  "
      ]
     },
     "execution_count": 35,
     "metadata": {},
     "output_type": "execute_result"
    }
   ],
   "source": [
    "mlflow.search_runs()"
   ]
  },
  {
   "cell_type": "code",
   "execution_count": 48,
   "id": "461aad98-38c2-4f81-80f4-ee5d319006b9",
   "metadata": {},
   "outputs": [
    {
     "data": {
      "text/html": [
       "<div>\n",
       "<style scoped>\n",
       "    .dataframe tbody tr th:only-of-type {\n",
       "        vertical-align: middle;\n",
       "    }\n",
       "\n",
       "    .dataframe tbody tr th {\n",
       "        vertical-align: top;\n",
       "    }\n",
       "\n",
       "    .dataframe thead th {\n",
       "        text-align: right;\n",
       "    }\n",
       "</style>\n",
       "<table border=\"1\" class=\"dataframe\">\n",
       "  <thead>\n",
       "    <tr style=\"text-align: right;\">\n",
       "      <th></th>\n",
       "      <th>run_id</th>\n",
       "      <th>experiment_id</th>\n",
       "      <th>status</th>\n",
       "      <th>artifact_uri</th>\n",
       "      <th>start_time</th>\n",
       "      <th>end_time</th>\n",
       "    </tr>\n",
       "  </thead>\n",
       "  <tbody>\n",
       "  </tbody>\n",
       "</table>\n",
       "</div>"
      ],
      "text/plain": [
       "Empty DataFrame\n",
       "Columns: [run_id, experiment_id, status, artifact_uri, start_time, end_time]\n",
       "Index: []"
      ]
     },
     "execution_count": 48,
     "metadata": {},
     "output_type": "execute_result"
    }
   ],
   "source": [
    "# Filter string\n",
    "r2_score_filter = \"metrics.r2score > 0.95\"\n",
    "# Search runs\n",
    "expr_name = '50 Startups LR Experiment'\n",
    "mlflow.search_runs(experiment_names=[expr_name],\n",
    "                   filter_string=r2_score_filter,\n",
    "                   order_by=[\"metrics.r2score DESC\"])"
   ]
  },
  {
   "cell_type": "code",
   "execution_count": null,
   "id": "af4452b8-09c5-45a9-a5e0-8d1a9715e5b1",
   "metadata": {},
   "outputs": [],
   "source": []
  }
 ],
 "metadata": {
  "kernelspec": {
   "display_name": "Python 3 (ipykernel)",
   "language": "python",
   "name": "python3"
  },
  "language_info": {
   "codemirror_mode": {
    "name": "ipython",
    "version": 3
   },
   "file_extension": ".py",
   "mimetype": "text/x-python",
   "name": "python",
   "nbconvert_exporter": "python",
   "pygments_lexer": "ipython3",
   "version": "3.11.7"
  }
 },
 "nbformat": 4,
 "nbformat_minor": 5
}
