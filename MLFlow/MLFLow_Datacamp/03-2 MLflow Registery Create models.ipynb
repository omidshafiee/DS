{
 "cells": [
  {
   "cell_type": "code",
   "execution_count": 1,
   "id": "977e2736-484e-4a08-b37b-d4c74549814e",
   "metadata": {},
   "outputs": [],
   "source": [
    "import pandas as pd\n",
    "import sklearn\n",
    "from sklearn.linear_model import LogisticRegression\n",
    "from sklearn.model_selection import train_test_split\n",
    "from mlflow import MlflowClient\n",
    "\n",
    "import mlflow\n",
    "import mlflow.sklearn"
   ]
  },
  {
   "cell_type": "code",
   "execution_count": 2,
   "id": "d3c468ff-c09c-4407-8f42-2322520fb171",
   "metadata": {},
   "outputs": [],
   "source": [
    "# Preprocessing \n",
    "df = pd.read_csv(\"datasets/insurance.csv\")\n",
    "df = df.drop(columns=['region'])\n",
    "df['sex']=df['sex'].map({'female':0,'male':1}).astype(int)\n",
    "df['smoker']=df['smoker'].map({'yes':0,'no':1}).astype(int)"
   ]
  },
  {
   "cell_type": "code",
   "execution_count": 3,
   "id": "c43d00b8-e692-448f-95ed-a0eb0506cc3c",
   "metadata": {},
   "outputs": [],
   "source": [
    "# Training Data\n",
    "X = df[[\"age\", \"bmi\", \"children\", \"smoker\", \"charges\"]]\n",
    "y = df[\"sex\"]\n",
    "X_train, X_test, y_train, y_test = train_test_split(X, y, test_size=0.25, random_state=42)"
   ]
  },
  {
   "cell_type": "code",
   "execution_count": 4,
   "id": "c43f2d0c-6385-4d0f-bf51-9b61fbad4bda",
   "metadata": {},
   "outputs": [],
   "source": [
    "# mlflow.create_experiment(\"Reg Check\")\n",
    "# mlflow.search_experiments(\"Reg Check\")"
   ]
  },
  {
   "cell_type": "code",
   "execution_count": 5,
   "id": "631c5f9c-d5e9-4cb1-9c65-1ac725a03a4e",
   "metadata": {},
   "outputs": [],
   "source": [
    "# Predict Sex of Insurance charges\n",
    "model_1 = LogisticRegression(n_jobs=5).fit(X_train.values, y_train)"
   ]
  },
  {
   "cell_type": "code",
   "execution_count": 7,
   "id": "dccb52de-0e61-4505-9a98-ed425669af9d",
   "metadata": {},
   "outputs": [
    {
     "name": "stderr",
     "output_type": "stream",
     "text": [
      "C:\\ProgramData\\anaconda3\\Lib\\site-packages\\_distutils_hack\\__init__.py:33: UserWarning: Setuptools is replacing distutils.\n",
      "  warnings.warn(\"Setuptools is replacing distutils.\")\n"
     ]
    }
   ],
   "source": [
    "# Save model\n",
    "mlflow.sklearn.save_model(model_1, \"mlruns/model_2022\")"
   ]
  },
  {
   "cell_type": "markdown",
   "id": "de6bb7b7-468d-45c3-9127-184deebb9c70",
   "metadata": {},
   "source": [
    "## Regirter created models\n",
    "* Existing MLflow Models:\n",
    "   * mlflow.register_model(model_uri, name)\n",
    "* During training run:\n",
    "    * mlflow.FLAVOR.log_model(name, <br/>\n",
    "        artifact_uri, <br/>\n",
    "        registered_model_name=\"MODEL_NAME\")"
   ]
  },
  {
   "cell_type": "code",
   "execution_count": 8,
   "id": "6db1ce22-918d-4496-b810-3e63473af60d",
   "metadata": {},
   "outputs": [],
   "source": [
    "# Create an instance of MLflow Client Class name client\n",
    "client = mlflow.MlflowClient()"
   ]
  },
  {
   "cell_type": "code",
   "execution_count": 9,
   "id": "1634ae65-5e22-443d-9191-eb23df7cc5de",
   "metadata": {},
   "outputs": [
    {
     "data": {
      "text/plain": [
       "<RegisteredModel: aliases={}, creation_timestamp=1723199805527, description=None, last_updated_timestamp=1723199805527, latest_versions=[], name='Insurance', tags={}>"
      ]
     },
     "execution_count": 9,
     "metadata": {},
     "output_type": "execute_result"
    }
   ],
   "source": [
    "# Create new model\n",
    "client.create_registered_model(\"Insurance\")"
   ]
  },
  {
   "cell_type": "code",
   "execution_count": 10,
   "id": "94f90432-81d9-4279-b802-f4091dbb8be0",
   "metadata": {},
   "outputs": [],
   "source": [
    "#### Second model\n",
    "model_2 = LogisticRegression(n_jobs=5).fit(X_train.values, y_train)"
   ]
  },
  {
   "cell_type": "code",
   "execution_count": 11,
   "id": "1584ac56-7bb1-4ef2-b188-9c937a93d2dd",
   "metadata": {},
   "outputs": [
    {
     "name": "stderr",
     "output_type": "stream",
     "text": [
      "2024/08/09 14:07:03 WARNING mlflow.models.model: Input example should be provided to infer model signature if the model signature is not provided when logging the model.\n"
     ]
    },
    {
     "data": {
      "text/plain": [
       "<mlflow.models.model.ModelInfo at 0x21710cbe310>"
      ]
     },
     "execution_count": 11,
     "metadata": {},
     "output_type": "execute_result"
    }
   ],
   "source": [
    "mlflow.sklearn.log_model(model_2, \"model_2023\")"
   ]
  },
  {
   "cell_type": "code",
   "execution_count": 12,
   "id": "9ead23e9-2cbf-4a40-a229-c6402c658202",
   "metadata": {},
   "outputs": [],
   "source": [
    "# Get the last run\n",
    "run = mlflow.last_active_run()"
   ]
  },
  {
   "cell_type": "code",
   "execution_count": 13,
   "id": "6df0b42d-08f7-4aae-9bd8-dcef7cdb5578",
   "metadata": {},
   "outputs": [
    {
     "data": {
      "text/plain": [
       "'a647ff7b6c854059a5d16b366f05e278'"
      ]
     },
     "execution_count": 13,
     "metadata": {},
     "output_type": "execute_result"
    }
   ],
   "source": [
    "# Get the run_id of the above run\n",
    "run_id = run.info.run_id\n",
    "run_id"
   ]
  },
  {
   "cell_type": "code",
   "execution_count": 14,
   "id": "a16e15cd-7faf-4cd5-b89a-ed6e5e6e1cb8",
   "metadata": {},
   "outputs": [
    {
     "name": "stderr",
     "output_type": "stream",
     "text": [
      "Registered model 'Insurance' already exists. Creating a new version of this model...\n",
      "Created version '1' of model 'Insurance'.\n"
     ]
    },
    {
     "data": {
      "text/plain": [
       "<ModelVersion: aliases=[], creation_timestamp=1723199831348, current_stage='None', description=None, last_updated_timestamp=1723199831348, name='Insurance', run_id=None, run_link=None, source='model_2022', status='READY', status_message=None, tags={}, user_id=None, version=1>"
      ]
     },
     "execution_count": 14,
     "metadata": {},
     "output_type": "execute_result"
    }
   ],
   "source": [
    "# Register the first model\n",
    "mlflow.register_model(\"model_2022\", \"Insurance\")"
   ]
  },
  {
   "cell_type": "code",
   "execution_count": 15,
   "id": "89df277f-cd9e-4e78-9ea2-d740251454b1",
   "metadata": {},
   "outputs": [
    {
     "name": "stderr",
     "output_type": "stream",
     "text": [
      "Registered model 'Insurance' already exists. Creating a new version of this model...\n",
      "Created version '2' of model 'Insurance'.\n"
     ]
    },
    {
     "data": {
      "text/plain": [
       "<ModelVersion: aliases=[], creation_timestamp=1723199834640, current_stage='None', description=None, last_updated_timestamp=1723199834640, name='Insurance', run_id='a647ff7b6c854059a5d16b366f05e278', run_link=None, source='file:///D:/Prg/DS/MLFlow/MLFLow_Datacamp/mlruns/0/a647ff7b6c854059a5d16b366f05e278/artifacts/model_2023', status='READY', status_message=None, tags={}, user_id=None, version=2>"
      ]
     },
     "execution_count": 15,
     "metadata": {},
     "output_type": "execute_result"
    }
   ],
   "source": [
    "# Register the second model\n",
    "mlflow.register_model(f\"runs:/{run_id}/model_2023\", \"Insurance\")"
   ]
  },
  {
   "cell_type": "markdown",
   "id": "a6a3f348-5414-43cf-bdce-a2f38549e135",
   "metadata": {},
   "source": [
    "## Transitioning models\n",
    "\n",
    "* Transition to Staging\n",
    "  * client.transition_model_version_stage( <br/>\n",
    "    name=\"Insurance\", <br/>\n",
    "    version=2, <br/>\n",
    "    stage=\"Staging\")"
   ]
  },
  {
   "cell_type": "code",
   "execution_count": 16,
   "id": "34dfd491-d84f-44da-b1fb-b71251114424",
   "metadata": {},
   "outputs": [
    {
     "name": "stderr",
     "output_type": "stream",
     "text": [
      "C:\\Users\\Mehdi.Omidshafiee\\AppData\\Local\\Temp\\ipykernel_18324\\3032761964.py:1: FutureWarning: ``mlflow.tracking.client.MlflowClient.transition_model_version_stage`` is deprecated since 2.9.0. Model registry stages will be removed in a future major release. To learn more about the deprecation of model registry stages, see our migration guide here: https://mlflow.org/docs/latest/model-registry.html#migrating-from-stages\n",
      "  client.transition_model_version_stage(name=\"Insurance\",\n"
     ]
    },
    {
     "data": {
      "text/plain": [
       "<ModelVersion: aliases=[], creation_timestamp=1723199834640, current_stage='Staging', description=None, last_updated_timestamp=1723199837609, name='Insurance', run_id='a647ff7b6c854059a5d16b366f05e278', run_link=None, source='file:///D:/Prg/DS/MLFlow/MLFLow_Datacamp/mlruns/0/a647ff7b6c854059a5d16b366f05e278/artifacts/model_2023', status='READY', status_message=None, tags={}, user_id=None, version=2>"
      ]
     },
     "execution_count": 16,
     "metadata": {},
     "output_type": "execute_result"
    }
   ],
   "source": [
    "client.transition_model_version_stage(name=\"Insurance\",\n",
    "                                      version=2,\n",
    "                                      stage=\"Staging\"\n",
    "                                     )"
   ]
  },
  {
   "cell_type": "code",
   "execution_count": 17,
   "id": "7fe6b974-753f-45eb-8d64-a7591193010f",
   "metadata": {},
   "outputs": [
    {
     "name": "stderr",
     "output_type": "stream",
     "text": [
      "C:\\Users\\Mehdi.Omidshafiee\\AppData\\Local\\Temp\\ipykernel_18324\\4217388275.py:1: FutureWarning: ``mlflow.tracking.client.MlflowClient.transition_model_version_stage`` is deprecated since 2.9.0. Model registry stages will be removed in a future major release. To learn more about the deprecation of model registry stages, see our migration guide here: https://mlflow.org/docs/latest/model-registry.html#migrating-from-stages\n",
      "  client.transition_model_version_stage(name=\"Insurance\",\n"
     ]
    },
    {
     "data": {
      "text/plain": [
       "<ModelVersion: aliases=[], creation_timestamp=1723199834640, current_stage='Production', description=None, last_updated_timestamp=1723199838089, name='Insurance', run_id='a647ff7b6c854059a5d16b366f05e278', run_link=None, source='file:///D:/Prg/DS/MLFlow/MLFLow_Datacamp/mlruns/0/a647ff7b6c854059a5d16b366f05e278/artifacts/model_2023', status='READY', status_message=None, tags={}, user_id=None, version=2>"
      ]
     },
     "execution_count": 17,
     "metadata": {},
     "output_type": "execute_result"
    }
   ],
   "source": [
    "client.transition_model_version_stage(name=\"Insurance\",\n",
    "                                      version=2,\n",
    "                                      stage=\"Production\"\n",
    "                                     )"
   ]
  },
  {
   "cell_type": "code",
   "execution_count": null,
   "id": "5de03c7b-c5e2-4063-9180-f2193ec46d0f",
   "metadata": {},
   "outputs": [],
   "source": []
  }
 ],
 "metadata": {
  "kernelspec": {
   "display_name": "Python 3 (ipykernel)",
   "language": "python",
   "name": "python3"
  },
  "language_info": {
   "codemirror_mode": {
    "name": "ipython",
    "version": 3
   },
   "file_extension": ".py",
   "mimetype": "text/x-python",
   "name": "python",
   "nbconvert_exporter": "python",
   "pygments_lexer": "ipython3",
   "version": "3.11.7"
  }
 },
 "nbformat": 4,
 "nbformat_minor": 5
}
