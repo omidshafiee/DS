{
 "cells": [
  {
   "cell_type": "code",
   "execution_count": 1,
   "id": "1322668f-6a2b-4223-bafa-dfa01ecbe10a",
   "metadata": {},
   "outputs": [],
   "source": [
    "import numpy as np"
   ]
  },
  {
   "cell_type": "code",
   "execution_count": 2,
   "id": "ad537315-7436-4002-800e-3a0b494257d6",
   "metadata": {},
   "outputs": [
    {
     "name": "stdout",
     "output_type": "stream",
     "text": [
      "a:  [0 4 9 4 6 8 7 5 4 6]\n",
      "b:  [9 4 1 9 8 7 5 3 8 7]\n"
     ]
    }
   ],
   "source": [
    "# a = np.arange(0,10)\n",
    "a = np.random.randint(low=0, high=10, size=10)\n",
    "b = np.random.randint(low=0, high=10, size=10)\n",
    "\n",
    "print('a: ', a)\n",
    "print('b: ' ,b)\n"
   ]
  },
  {
   "cell_type": "markdown",
   "id": "08a0cc46-f7a8-4e91-9916-ecb8d96f5b87",
   "metadata": {},
   "source": [
    "### Return Indices of desired values\n",
    "\n",
    "**numpy.where(criteria, values or formulas based on conditions met, else values)**"
   ]
  },
  {
   "cell_type": "code",
   "execution_count": 3,
   "id": "cc3ee239-11b0-4923-8f35-9414f3d05797",
   "metadata": {},
   "outputs": [
    {
     "data": {
      "text/plain": [
       "(array([2, 5, 6], dtype=int64),)"
      ]
     },
     "execution_count": 3,
     "metadata": {},
     "output_type": "execute_result"
    }
   ],
   "source": [
    "np.where(a > 6)"
   ]
  },
  {
   "cell_type": "code",
   "execution_count": 4,
   "id": "5c565b70-fafa-4757-abf8-0c4980285b47",
   "metadata": {},
   "outputs": [
    {
     "data": {
      "text/plain": [
       "(array([0, 3, 4, 5, 8, 9], dtype=int64),)"
      ]
     },
     "execution_count": 4,
     "metadata": {},
     "output_type": "execute_result"
    }
   ],
   "source": [
    "np.where(b > 6)"
   ]
  },
  {
   "cell_type": "markdown",
   "id": "14d9dd9a-8c47-44c1-a6f4-1febe1b4d946",
   "metadata": {},
   "source": [
    "### Return desired values"
   ]
  },
  {
   "cell_type": "code",
   "execution_count": 5,
   "id": "723b7b10-5c03-46be-a4b0-74343dd55f15",
   "metadata": {},
   "outputs": [
    {
     "data": {
      "text/plain": [
       "array([9, 8, 7])"
      ]
     },
     "execution_count": 5,
     "metadata": {},
     "output_type": "execute_result"
    }
   ],
   "source": [
    "a[np.where(a > 6)]"
   ]
  },
  {
   "cell_type": "code",
   "execution_count": 6,
   "id": "f7971b5e-441b-466f-8f5e-fb3c5e97a2ec",
   "metadata": {},
   "outputs": [
    {
     "data": {
      "text/plain": [
       "array([9, 9, 8, 7, 8, 7])"
      ]
     },
     "execution_count": 6,
     "metadata": {},
     "output_type": "execute_result"
    }
   ],
   "source": [
    "b[np.where(b > 6)]"
   ]
  },
  {
   "cell_type": "code",
   "execution_count": 7,
   "id": "884d1f91-829a-402d-9077-70c15a097fd9",
   "metadata": {},
   "outputs": [
    {
     "data": {
      "text/plain": [
       "53"
      ]
     },
     "execution_count": 7,
     "metadata": {},
     "output_type": "execute_result"
    }
   ],
   "source": [
    "np.sum(a)"
   ]
  },
  {
   "cell_type": "code",
   "execution_count": 8,
   "id": "59c67c55-0a35-4795-bd59-e3240d10e6d1",
   "metadata": {},
   "outputs": [
    {
     "data": {
      "text/plain": [
       "13"
      ]
     },
     "execution_count": 8,
     "metadata": {},
     "output_type": "execute_result"
    }
   ],
   "source": [
    "np.sum(np.where(a > 6)) # sum indices rather than values"
   ]
  },
  {
   "cell_type": "code",
   "execution_count": 9,
   "id": "3a75df45-e9a5-4f45-bbf9-c31a58af80aa",
   "metadata": {},
   "outputs": [
    {
     "data": {
      "text/plain": [
       "24"
      ]
     },
     "execution_count": 9,
     "metadata": {},
     "output_type": "execute_result"
    }
   ],
   "source": [
    "np.sum(a[np.where(a > 6)]) # sum values"
   ]
  },
  {
   "cell_type": "code",
   "execution_count": 10,
   "id": "37a180e0-337d-4f16-bf25-0891e76d3eeb",
   "metadata": {},
   "outputs": [
    {
     "data": {
      "text/plain": [
       "24"
      ]
     },
     "execution_count": 10,
     "metadata": {},
     "output_type": "execute_result"
    }
   ],
   "source": [
    "np.sum(a, where=(a > 6))"
   ]
  },
  {
   "cell_type": "code",
   "execution_count": 39,
   "id": "a554710c-cf61-4f7b-93d8-51190955919b",
   "metadata": {},
   "outputs": [
    {
     "data": {
      "text/plain": [
       "array([0, 0, 9, 0, 0, 8, 7, 0, 0, 0])"
      ]
     },
     "execution_count": 39,
     "metadata": {},
     "output_type": "execute_result"
    }
   ],
   "source": [
    "# can use formula instead variable a \n",
    "np.where(a > 6 ,a, 0)"
   ]
  },
  {
   "cell_type": "code",
   "execution_count": 35,
   "id": "72cea819-4553-4b81-90e9-33bddc560cb1",
   "metadata": {},
   "outputs": [
    {
     "data": {
      "text/plain": [
       "24"
      ]
     },
     "execution_count": 35,
     "metadata": {},
     "output_type": "execute_result"
    }
   ],
   "source": [
    "np.sum(np.where(a > 6 ,a, 0))"
   ]
  },
  {
   "cell_type": "code",
   "execution_count": null,
   "id": "101ba84b-7114-4003-b7e1-018f69bccdd7",
   "metadata": {},
   "outputs": [],
   "source": []
  }
 ],
 "metadata": {
  "kernelspec": {
   "display_name": "Python 3 (ipykernel)",
   "language": "python",
   "name": "python3"
  },
  "language_info": {
   "codemirror_mode": {
    "name": "ipython",
    "version": 3
   },
   "file_extension": ".py",
   "mimetype": "text/x-python",
   "name": "python",
   "nbconvert_exporter": "python",
   "pygments_lexer": "ipython3",
   "version": "3.10.9"
  }
 },
 "nbformat": 4,
 "nbformat_minor": 5
}
